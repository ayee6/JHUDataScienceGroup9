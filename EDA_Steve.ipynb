{
 "cells": [
  {
   "cell_type": "code",
   "execution_count": 1,
   "id": "860152c4",
   "metadata": {},
   "outputs": [],
   "source": [
    "import pandas as pd\n",
    "import numpy as np\n",
    "import matplotlib.pyplot as plt\n",
    "import sqlite3\n",
    "import copy"
   ]
  },
  {
   "cell_type": "code",
   "execution_count": 2,
   "id": "146959a8",
   "metadata": {},
   "outputs": [],
   "source": [
    "pd.options.display.float_format = '{:20,.4f}'.format"
   ]
  },
  {
   "cell_type": "markdown",
   "id": "430bc22a",
   "metadata": {},
   "source": [
    "## Load"
   ]
  },
  {
   "cell_type": "code",
   "execution_count": 3,
   "id": "895da21d",
   "metadata": {},
   "outputs": [],
   "source": [
    "connection = sqlite3.connect('airbnb.db')\n",
    "cursor = connection.cursor()"
   ]
  },
  {
   "cell_type": "code",
   "execution_count": 4,
   "id": "0d275211",
   "metadata": {},
   "outputs": [],
   "source": [
    "ldf = pd.read_sql_query(\"SELECT * from most_recent_listings\", connection)"
   ]
  },
  {
   "cell_type": "markdown",
   "id": "22853247",
   "metadata": {},
   "source": [
    "## Transform"
   ]
  },
  {
   "cell_type": "code",
   "execution_count": 5,
   "id": "781d0f75",
   "metadata": {},
   "outputs": [],
   "source": [
    "def price_to_numeric(df):\n",
    "    df['price'] = df['price'].str.replace(',','',regex=False)\n",
    "    df['price'] = df['price'].str.strip('$').astype('float')"
   ]
  },
  {
   "cell_type": "code",
   "execution_count": 6,
   "id": "fc751e70",
   "metadata": {},
   "outputs": [],
   "source": [
    "price_to_numeric(ldf)"
   ]
  },
  {
   "cell_type": "code",
   "execution_count": 7,
   "id": "0176913b",
   "metadata": {},
   "outputs": [],
   "source": [
    "ldf['has_availability'] = ldf['has_availability'].replace({'t':1, 'f':0})"
   ]
  },
  {
   "cell_type": "code",
   "execution_count": 8,
   "id": "5870e15c",
   "metadata": {},
   "outputs": [],
   "source": [
    "ldf['first_review'] = pd.to_datetime(ldf['first_review'])\n",
    "ldf['last_review'] = pd.to_datetime(ldf['last_review'])\n",
    "ldf['host_since'] = pd.to_datetime(ldf['host_since'])"
   ]
  },
  {
   "cell_type": "markdown",
   "id": "8eb8c577",
   "metadata": {},
   "source": [
    "## Single Variable"
   ]
  },
  {
   "cell_type": "markdown",
   "id": "4a2cba16",
   "metadata": {},
   "source": [
    "### property_type"
   ]
  },
  {
   "cell_type": "code",
   "execution_count": 9,
   "id": "5201a03e",
   "metadata": {},
   "outputs": [],
   "source": [
    "pt = ldf['property_type']"
   ]
  },
  {
   "cell_type": "markdown",
   "id": "c5c9b035",
   "metadata": {},
   "source": [
    "We first look at a description of <b><i>property_type</i></b>:"
   ]
  },
  {
   "cell_type": "code",
   "execution_count": 10,
   "id": "390f8fcb",
   "metadata": {},
   "outputs": [
    {
     "data": {
      "text/html": [
       "<div>\n",
       "<style scoped>\n",
       "    .dataframe tbody tr th:only-of-type {\n",
       "        vertical-align: middle;\n",
       "    }\n",
       "\n",
       "    .dataframe tbody tr th {\n",
       "        vertical-align: top;\n",
       "    }\n",
       "\n",
       "    .dataframe thead th {\n",
       "        text-align: right;\n",
       "    }\n",
       "</style>\n",
       "<table border=\"1\" class=\"dataframe\">\n",
       "  <thead>\n",
       "    <tr style=\"text-align: right;\">\n",
       "      <th></th>\n",
       "      <th>property_type</th>\n",
       "    </tr>\n",
       "  </thead>\n",
       "  <tbody>\n",
       "    <tr>\n",
       "      <th>count</th>\n",
       "      <td>8628</td>\n",
       "    </tr>\n",
       "    <tr>\n",
       "      <th>unique</th>\n",
       "      <td>53</td>\n",
       "    </tr>\n",
       "    <tr>\n",
       "      <th>top</th>\n",
       "      <td>Entire rental unit</td>\n",
       "    </tr>\n",
       "    <tr>\n",
       "      <th>freq</th>\n",
       "      <td>2819</td>\n",
       "    </tr>\n",
       "  </tbody>\n",
       "</table>\n",
       "</div>"
      ],
      "text/plain": [
       "             property_type\n",
       "count                 8628\n",
       "unique                  53\n",
       "top     Entire rental unit\n",
       "freq                  2819"
      ]
     },
     "execution_count": 10,
     "metadata": {},
     "output_type": "execute_result"
    }
   ],
   "source": [
    "pd.DataFrame(pt.describe())"
   ]
  },
  {
   "cell_type": "markdown",
   "id": "3bad85b0",
   "metadata": {},
   "source": [
    "There are 53 unique property types. We take a closer look at the values and their counts:"
   ]
  },
  {
   "cell_type": "code",
   "execution_count": 11,
   "id": "d34439f9",
   "metadata": {},
   "outputs": [
    {
     "data": {
      "text/html": [
       "<div>\n",
       "<style scoped>\n",
       "    .dataframe tbody tr th:only-of-type {\n",
       "        vertical-align: middle;\n",
       "    }\n",
       "\n",
       "    .dataframe tbody tr th {\n",
       "        vertical-align: top;\n",
       "    }\n",
       "\n",
       "    .dataframe thead th {\n",
       "        text-align: right;\n",
       "    }\n",
       "</style>\n",
       "<table border=\"1\" class=\"dataframe\">\n",
       "  <thead>\n",
       "    <tr style=\"text-align: right;\">\n",
       "      <th></th>\n",
       "      <th>property_type</th>\n",
       "    </tr>\n",
       "  </thead>\n",
       "  <tbody>\n",
       "    <tr>\n",
       "      <th>Entire rental unit</th>\n",
       "      <td>0.3267</td>\n",
       "    </tr>\n",
       "    <tr>\n",
       "      <th>Entire home</th>\n",
       "      <td>0.1084</td>\n",
       "    </tr>\n",
       "    <tr>\n",
       "      <th>Private room in home</th>\n",
       "      <td>0.0865</td>\n",
       "    </tr>\n",
       "    <tr>\n",
       "      <th>Entire condo</th>\n",
       "      <td>0.0780</td>\n",
       "    </tr>\n",
       "    <tr>\n",
       "      <th>Entire serviced apartment</th>\n",
       "      <td>0.0759</td>\n",
       "    </tr>\n",
       "    <tr>\n",
       "      <th>Entire townhouse</th>\n",
       "      <td>0.0730</td>\n",
       "    </tr>\n",
       "    <tr>\n",
       "      <th>Entire guest suite</th>\n",
       "      <td>0.0640</td>\n",
       "    </tr>\n",
       "    <tr>\n",
       "      <th>Private room in rental unit</th>\n",
       "      <td>0.0586</td>\n",
       "    </tr>\n",
       "    <tr>\n",
       "      <th>Private room in townhouse</th>\n",
       "      <td>0.0410</td>\n",
       "    </tr>\n",
       "    <tr>\n",
       "      <th>Room in boutique hotel</th>\n",
       "      <td>0.0139</td>\n",
       "    </tr>\n",
       "    <tr>\n",
       "      <th>Room in hotel</th>\n",
       "      <td>0.0114</td>\n",
       "    </tr>\n",
       "    <tr>\n",
       "      <th>Private room in condo</th>\n",
       "      <td>0.0095</td>\n",
       "    </tr>\n",
       "    <tr>\n",
       "      <th>Entire guesthouse</th>\n",
       "      <td>0.0092</td>\n",
       "    </tr>\n",
       "    <tr>\n",
       "      <th>Shared room in rental unit</th>\n",
       "      <td>0.0058</td>\n",
       "    </tr>\n",
       "    <tr>\n",
       "      <th>Private room in bed and breakfast</th>\n",
       "      <td>0.0052</td>\n",
       "    </tr>\n",
       "    <tr>\n",
       "      <th>Private room in guest suite</th>\n",
       "      <td>0.0049</td>\n",
       "    </tr>\n",
       "    <tr>\n",
       "      <th>Entire loft</th>\n",
       "      <td>0.0043</td>\n",
       "    </tr>\n",
       "    <tr>\n",
       "      <th>Shared room in townhouse</th>\n",
       "      <td>0.0034</td>\n",
       "    </tr>\n",
       "    <tr>\n",
       "      <th>Shared room in home</th>\n",
       "      <td>0.0024</td>\n",
       "    </tr>\n",
       "    <tr>\n",
       "      <th>Room in aparthotel</th>\n",
       "      <td>0.0022</td>\n",
       "    </tr>\n",
       "    <tr>\n",
       "      <th>Entire vacation home</th>\n",
       "      <td>0.0020</td>\n",
       "    </tr>\n",
       "    <tr>\n",
       "      <th>Shared room in hostel</th>\n",
       "      <td>0.0020</td>\n",
       "    </tr>\n",
       "    <tr>\n",
       "      <th>Entire bungalow</th>\n",
       "      <td>0.0013</td>\n",
       "    </tr>\n",
       "    <tr>\n",
       "      <th>Room in hostel</th>\n",
       "      <td>0.0013</td>\n",
       "    </tr>\n",
       "    <tr>\n",
       "      <th>Private room in guesthouse</th>\n",
       "      <td>0.0010</td>\n",
       "    </tr>\n",
       "    <tr>\n",
       "      <th>Private room in loft</th>\n",
       "      <td>0.0008</td>\n",
       "    </tr>\n",
       "    <tr>\n",
       "      <th>Entire place</th>\n",
       "      <td>0.0008</td>\n",
       "    </tr>\n",
       "    <tr>\n",
       "      <th>Room in bed and breakfast</th>\n",
       "      <td>0.0007</td>\n",
       "    </tr>\n",
       "    <tr>\n",
       "      <th>Private room in hostel</th>\n",
       "      <td>0.0006</td>\n",
       "    </tr>\n",
       "    <tr>\n",
       "      <th>Private room</th>\n",
       "      <td>0.0005</td>\n",
       "    </tr>\n",
       "    <tr>\n",
       "      <th>Private room in villa</th>\n",
       "      <td>0.0005</td>\n",
       "    </tr>\n",
       "    <tr>\n",
       "      <th>Private room in resort</th>\n",
       "      <td>0.0003</td>\n",
       "    </tr>\n",
       "    <tr>\n",
       "      <th>Tiny home</th>\n",
       "      <td>0.0003</td>\n",
       "    </tr>\n",
       "    <tr>\n",
       "      <th>Entire villa</th>\n",
       "      <td>0.0003</td>\n",
       "    </tr>\n",
       "    <tr>\n",
       "      <th>Casa particular</th>\n",
       "      <td>0.0003</td>\n",
       "    </tr>\n",
       "    <tr>\n",
       "      <th>Shared room in guesthouse</th>\n",
       "      <td>0.0002</td>\n",
       "    </tr>\n",
       "    <tr>\n",
       "      <th>Private room in serviced apartment</th>\n",
       "      <td>0.0002</td>\n",
       "    </tr>\n",
       "    <tr>\n",
       "      <th>Private room in casa particular</th>\n",
       "      <td>0.0002</td>\n",
       "    </tr>\n",
       "    <tr>\n",
       "      <th>Private room in bungalow</th>\n",
       "      <td>0.0002</td>\n",
       "    </tr>\n",
       "    <tr>\n",
       "      <th>Camper/RV</th>\n",
       "      <td>0.0002</td>\n",
       "    </tr>\n",
       "    <tr>\n",
       "      <th>Room in serviced apartment</th>\n",
       "      <td>0.0002</td>\n",
       "    </tr>\n",
       "    <tr>\n",
       "      <th>Entire cottage</th>\n",
       "      <td>0.0002</td>\n",
       "    </tr>\n",
       "    <tr>\n",
       "      <th>Castle</th>\n",
       "      <td>0.0002</td>\n",
       "    </tr>\n",
       "    <tr>\n",
       "      <th>Houseboat</th>\n",
       "      <td>0.0001</td>\n",
       "    </tr>\n",
       "    <tr>\n",
       "      <th>Shared room in loft</th>\n",
       "      <td>0.0001</td>\n",
       "    </tr>\n",
       "    <tr>\n",
       "      <th>Floor</th>\n",
       "      <td>0.0001</td>\n",
       "    </tr>\n",
       "    <tr>\n",
       "      <th>Shared room in hotel</th>\n",
       "      <td>0.0001</td>\n",
       "    </tr>\n",
       "    <tr>\n",
       "      <th>Tower</th>\n",
       "      <td>0.0001</td>\n",
       "    </tr>\n",
       "    <tr>\n",
       "      <th>Boat</th>\n",
       "      <td>0.0001</td>\n",
       "    </tr>\n",
       "    <tr>\n",
       "      <th>Shared room in serviced apartment</th>\n",
       "      <td>0.0001</td>\n",
       "    </tr>\n",
       "    <tr>\n",
       "      <th>Shared room in bed and breakfast</th>\n",
       "      <td>0.0001</td>\n",
       "    </tr>\n",
       "    <tr>\n",
       "      <th>Tent</th>\n",
       "      <td>0.0001</td>\n",
       "    </tr>\n",
       "    <tr>\n",
       "      <th>Campsite</th>\n",
       "      <td>0.0001</td>\n",
       "    </tr>\n",
       "  </tbody>\n",
       "</table>\n",
       "</div>"
      ],
      "text/plain": [
       "                                          property_type\n",
       "Entire rental unit                               0.3267\n",
       "Entire home                                      0.1084\n",
       "Private room in home                             0.0865\n",
       "Entire condo                                     0.0780\n",
       "Entire serviced apartment                        0.0759\n",
       "Entire townhouse                                 0.0730\n",
       "Entire guest suite                               0.0640\n",
       "Private room in rental unit                      0.0586\n",
       "Private room in townhouse                        0.0410\n",
       "Room in boutique hotel                           0.0139\n",
       "Room in hotel                                    0.0114\n",
       "Private room in condo                            0.0095\n",
       "Entire guesthouse                                0.0092\n",
       "Shared room in rental unit                       0.0058\n",
       "Private room in bed and breakfast                0.0052\n",
       "Private room in guest suite                      0.0049\n",
       "Entire loft                                      0.0043\n",
       "Shared room in townhouse                         0.0034\n",
       "Shared room in home                              0.0024\n",
       "Room in aparthotel                               0.0022\n",
       "Entire vacation home                             0.0020\n",
       "Shared room in hostel                            0.0020\n",
       "Entire bungalow                                  0.0013\n",
       "Room in hostel                                   0.0013\n",
       "Private room in guesthouse                       0.0010\n",
       "Private room in loft                             0.0008\n",
       "Entire place                                     0.0008\n",
       "Room in bed and breakfast                        0.0007\n",
       "Private room in hostel                           0.0006\n",
       "Private room                                     0.0005\n",
       "Private room in villa                            0.0005\n",
       "Private room in resort                           0.0003\n",
       "Tiny home                                        0.0003\n",
       "Entire villa                                     0.0003\n",
       "Casa particular                                  0.0003\n",
       "Shared room in guesthouse                        0.0002\n",
       "Private room in serviced apartment               0.0002\n",
       "Private room in casa particular                  0.0002\n",
       "Private room in bungalow                         0.0002\n",
       "Camper/RV                                        0.0002\n",
       "Room in serviced apartment                       0.0002\n",
       "Entire cottage                                   0.0002\n",
       "Castle                                           0.0002\n",
       "Houseboat                                        0.0001\n",
       "Shared room in loft                              0.0001\n",
       "Floor                                            0.0001\n",
       "Shared room in hotel                             0.0001\n",
       "Tower                                            0.0001\n",
       "Boat                                             0.0001\n",
       "Shared room in serviced apartment                0.0001\n",
       "Shared room in bed and breakfast                 0.0001\n",
       "Tent                                             0.0001\n",
       "Campsite                                         0.0001"
      ]
     },
     "execution_count": 11,
     "metadata": {},
     "output_type": "execute_result"
    }
   ],
   "source": [
    "pd.DataFrame(pt.value_counts(normalize=True))"
   ]
  },
  {
   "cell_type": "markdown",
   "id": "6e2b4d40",
   "metadata": {},
   "source": [
    "\"Entire rental unit\" is by far the most common value, comprising 32.7% of the data. \"Entire home\" is next with 10.8%, followed by \"Private room in home\" at 8.7%. \n",
    "\n",
    "We can see some clear groupings in these variables based on their first word:\n",
    "\n",
    "<ul>\n",
    "    <li>\"Entire\": \"Entire rental unit\", \"Entire home\", ... , \"Entire cottage\"</li>\n",
    "    <li>\"Private\": \"Private room in home\", \"Private room in rental unit\", ... , \"Private room in bungalow\"</li>\n",
    "    <li>\"Room\": \"Room in boutique hotel\", \"Room in hotel\", ... , \"Room in serviced apartment\"</li>\n",
    "    <li>\"Shared\": \"Shared room in rental unit\", \"Shared room in townhouse\", ... , \"Shared room in bed and breakfast\"</li>\n",
    "    <li>Other: \"Tiny home\", \"Camper/RV\", ... , \"Campsite\"</li>\n",
    "</ul>"
   ]
  },
  {
   "cell_type": "markdown",
   "id": "ec70be46",
   "metadata": {},
   "source": [
    "### room_type"
   ]
  },
  {
   "cell_type": "code",
   "execution_count": 12,
   "id": "27d7f8b8",
   "metadata": {},
   "outputs": [],
   "source": [
    "rt = ldf['room_type']"
   ]
  },
  {
   "cell_type": "markdown",
   "id": "41867f11",
   "metadata": {},
   "source": [
    "We first look at a description of <b><i>room_type</i></b>:"
   ]
  },
  {
   "cell_type": "code",
   "execution_count": 13,
   "id": "1131b66c",
   "metadata": {},
   "outputs": [
    {
     "data": {
      "text/html": [
       "<div>\n",
       "<style scoped>\n",
       "    .dataframe tbody tr th:only-of-type {\n",
       "        vertical-align: middle;\n",
       "    }\n",
       "\n",
       "    .dataframe tbody tr th {\n",
       "        vertical-align: top;\n",
       "    }\n",
       "\n",
       "    .dataframe thead th {\n",
       "        text-align: right;\n",
       "    }\n",
       "</style>\n",
       "<table border=\"1\" class=\"dataframe\">\n",
       "  <thead>\n",
       "    <tr style=\"text-align: right;\">\n",
       "      <th></th>\n",
       "      <th>room_type</th>\n",
       "    </tr>\n",
       "  </thead>\n",
       "  <tbody>\n",
       "    <tr>\n",
       "      <th>count</th>\n",
       "      <td>8628</td>\n",
       "    </tr>\n",
       "    <tr>\n",
       "      <th>unique</th>\n",
       "      <td>4</td>\n",
       "    </tr>\n",
       "    <tr>\n",
       "      <th>top</th>\n",
       "      <td>Entire home/apt</td>\n",
       "    </tr>\n",
       "    <tr>\n",
       "      <th>freq</th>\n",
       "      <td>6455</td>\n",
       "    </tr>\n",
       "  </tbody>\n",
       "</table>\n",
       "</div>"
      ],
      "text/plain": [
       "              room_type\n",
       "count              8628\n",
       "unique                4\n",
       "top     Entire home/apt\n",
       "freq               6455"
      ]
     },
     "execution_count": 13,
     "metadata": {},
     "output_type": "execute_result"
    }
   ],
   "source": [
    "pd.DataFrame(rt.describe())"
   ]
  },
  {
   "cell_type": "markdown",
   "id": "97715081",
   "metadata": {},
   "source": [
    "There are only 4 room types. We display the value counts:"
   ]
  },
  {
   "cell_type": "code",
   "execution_count": 14,
   "id": "d7eaac47",
   "metadata": {},
   "outputs": [
    {
     "data": {
      "text/html": [
       "<div>\n",
       "<style scoped>\n",
       "    .dataframe tbody tr th:only-of-type {\n",
       "        vertical-align: middle;\n",
       "    }\n",
       "\n",
       "    .dataframe tbody tr th {\n",
       "        vertical-align: top;\n",
       "    }\n",
       "\n",
       "    .dataframe thead th {\n",
       "        text-align: right;\n",
       "    }\n",
       "</style>\n",
       "<table border=\"1\" class=\"dataframe\">\n",
       "  <thead>\n",
       "    <tr style=\"text-align: right;\">\n",
       "      <th></th>\n",
       "      <th>room_type</th>\n",
       "    </tr>\n",
       "  </thead>\n",
       "  <tbody>\n",
       "    <tr>\n",
       "      <th>Entire home/apt</th>\n",
       "      <td>0.7481</td>\n",
       "    </tr>\n",
       "    <tr>\n",
       "      <th>Private room</th>\n",
       "      <td>0.2350</td>\n",
       "    </tr>\n",
       "    <tr>\n",
       "      <th>Shared room</th>\n",
       "      <td>0.0143</td>\n",
       "    </tr>\n",
       "    <tr>\n",
       "      <th>Hotel room</th>\n",
       "      <td>0.0025</td>\n",
       "    </tr>\n",
       "  </tbody>\n",
       "</table>\n",
       "</div>"
      ],
      "text/plain": [
       "                           room_type\n",
       "Entire home/apt               0.7481\n",
       "Private room                  0.2350\n",
       "Shared room                   0.0143\n",
       "Hotel room                    0.0025"
      ]
     },
     "execution_count": 14,
     "metadata": {},
     "output_type": "execute_result"
    }
   ],
   "source": [
    "pd.DataFrame(rt.value_counts(normalize=True))"
   ]
  },
  {
   "cell_type": "markdown",
   "id": "64f585da",
   "metadata": {},
   "source": [
    "\"Entire home/apt\" is by far the most common value, comprising 74.8% of the data. \"Private room\" is next, with 23.5% of the data. \"Shared room\" and \"Hotel room\" are pretty rare, with 1.4% and 0.2% of the data, respectively. These groups map on pretty well to the groups that were found in property_type, though the Other category has been distributed among the rest."
   ]
  },
  {
   "cell_type": "markdown",
   "id": "c2a8f547",
   "metadata": {},
   "source": [
    "### minimum_nights / maximum_nights"
   ]
  },
  {
   "cell_type": "code",
   "execution_count": 15,
   "id": "0f444b8c",
   "metadata": {},
   "outputs": [],
   "source": [
    "min_nt = ldf['minimum_nights']\n",
    "max_nt = copy.copy(ldf['maximum_nights'])"
   ]
  },
  {
   "cell_type": "markdown",
   "id": "0be0acf6",
   "metadata": {},
   "source": [
    "We print descriptive statistics for minimum_nights:"
   ]
  },
  {
   "cell_type": "code",
   "execution_count": 16,
   "id": "8328679d",
   "metadata": {},
   "outputs": [
    {
     "data": {
      "text/html": [
       "<div>\n",
       "<style scoped>\n",
       "    .dataframe tbody tr th:only-of-type {\n",
       "        vertical-align: middle;\n",
       "    }\n",
       "\n",
       "    .dataframe tbody tr th {\n",
       "        vertical-align: top;\n",
       "    }\n",
       "\n",
       "    .dataframe thead th {\n",
       "        text-align: right;\n",
       "    }\n",
       "</style>\n",
       "<table border=\"1\" class=\"dataframe\">\n",
       "  <thead>\n",
       "    <tr style=\"text-align: right;\">\n",
       "      <th></th>\n",
       "      <th>minimum_nights</th>\n",
       "    </tr>\n",
       "  </thead>\n",
       "  <tbody>\n",
       "    <tr>\n",
       "      <th>count</th>\n",
       "      <td>8,628.0000</td>\n",
       "    </tr>\n",
       "    <tr>\n",
       "      <th>mean</th>\n",
       "      <td>23.7386</td>\n",
       "    </tr>\n",
       "    <tr>\n",
       "      <th>std</th>\n",
       "      <td>41.9124</td>\n",
       "    </tr>\n",
       "    <tr>\n",
       "      <th>min</th>\n",
       "      <td>1.0000</td>\n",
       "    </tr>\n",
       "    <tr>\n",
       "      <th>25%</th>\n",
       "      <td>2.0000</td>\n",
       "    </tr>\n",
       "    <tr>\n",
       "      <th>50%</th>\n",
       "      <td>10.0000</td>\n",
       "    </tr>\n",
       "    <tr>\n",
       "      <th>75%</th>\n",
       "      <td>31.0000</td>\n",
       "    </tr>\n",
       "    <tr>\n",
       "      <th>max</th>\n",
       "      <td>1,125.0000</td>\n",
       "    </tr>\n",
       "  </tbody>\n",
       "</table>\n",
       "</div>"
      ],
      "text/plain": [
       "            minimum_nights\n",
       "count           8,628.0000\n",
       "mean               23.7386\n",
       "std                41.9124\n",
       "min                 1.0000\n",
       "25%                 2.0000\n",
       "50%                10.0000\n",
       "75%                31.0000\n",
       "max             1,125.0000"
      ]
     },
     "execution_count": 16,
     "metadata": {},
     "output_type": "execute_result"
    }
   ],
   "source": [
    "pd.DataFrame(min_nt.describe())"
   ]
  },
  {
   "cell_type": "markdown",
   "id": "4025e8df",
   "metadata": {},
   "source": [
    "minimum_nights ranges from 1 to 1125, with a mean of 23.7 nights and median of 10 nights. A mean so much larger than the median indicates a highly right-skewed distribution. The 75th percentile is 31, much closer to the minimum than the maximum. We take a closer look at the high end of the distribution:"
   ]
  },
  {
   "cell_type": "code",
   "execution_count": 17,
   "id": "b30e6e34",
   "metadata": {},
   "outputs": [
    {
     "data": {
      "text/html": [
       "<div>\n",
       "<style scoped>\n",
       "    .dataframe tbody tr th:only-of-type {\n",
       "        vertical-align: middle;\n",
       "    }\n",
       "\n",
       "    .dataframe tbody tr th {\n",
       "        vertical-align: top;\n",
       "    }\n",
       "\n",
       "    .dataframe thead th {\n",
       "        text-align: right;\n",
       "    }\n",
       "</style>\n",
       "<table border=\"1\" class=\"dataframe\">\n",
       "  <thead>\n",
       "    <tr style=\"text-align: right;\">\n",
       "      <th></th>\n",
       "      <th>minimum_nights</th>\n",
       "    </tr>\n",
       "  </thead>\n",
       "  <tbody>\n",
       "    <tr>\n",
       "      <th>1125</th>\n",
       "      <td>3</td>\n",
       "    </tr>\n",
       "    <tr>\n",
       "      <th>1111</th>\n",
       "      <td>1</td>\n",
       "    </tr>\n",
       "    <tr>\n",
       "      <th>1000</th>\n",
       "      <td>1</td>\n",
       "    </tr>\n",
       "    <tr>\n",
       "      <th>600</th>\n",
       "      <td>1</td>\n",
       "    </tr>\n",
       "    <tr>\n",
       "      <th>365</th>\n",
       "      <td>16</td>\n",
       "    </tr>\n",
       "    <tr>\n",
       "      <th>360</th>\n",
       "      <td>2</td>\n",
       "    </tr>\n",
       "    <tr>\n",
       "      <th>356</th>\n",
       "      <td>1</td>\n",
       "    </tr>\n",
       "    <tr>\n",
       "      <th>300</th>\n",
       "      <td>1</td>\n",
       "    </tr>\n",
       "    <tr>\n",
       "      <th>200</th>\n",
       "      <td>2</td>\n",
       "    </tr>\n",
       "    <tr>\n",
       "      <th>186</th>\n",
       "      <td>1</td>\n",
       "    </tr>\n",
       "    <tr>\n",
       "      <th>185</th>\n",
       "      <td>2</td>\n",
       "    </tr>\n",
       "    <tr>\n",
       "      <th>184</th>\n",
       "      <td>4</td>\n",
       "    </tr>\n",
       "    <tr>\n",
       "      <th>183</th>\n",
       "      <td>2</td>\n",
       "    </tr>\n",
       "    <tr>\n",
       "      <th>182</th>\n",
       "      <td>4</td>\n",
       "    </tr>\n",
       "    <tr>\n",
       "      <th>181</th>\n",
       "      <td>1</td>\n",
       "    </tr>\n",
       "  </tbody>\n",
       "</table>\n",
       "</div>"
      ],
      "text/plain": [
       "      minimum_nights\n",
       "1125               3\n",
       "1111               1\n",
       "1000               1\n",
       "600                1\n",
       "365               16\n",
       "360                2\n",
       "356                1\n",
       "300                1\n",
       "200                2\n",
       "186                1\n",
       "185                2\n",
       "184                4\n",
       "183                2\n",
       "182                4\n",
       "181                1"
      ]
     },
     "execution_count": 17,
     "metadata": {},
     "output_type": "execute_result"
    }
   ],
   "source": [
    "pd.DataFrame(min_nt.value_counts()).sort_index(ascending=False).head(15)"
   ]
  },
  {
   "cell_type": "markdown",
   "id": "8bd6995a",
   "metadata": {},
   "source": [
    "There are only 6 values above 365 nights and 26 values above 200 nights. We display a density histogram of the values, zoomed in on values at or below 200 to get a better view."
   ]
  },
  {
   "cell_type": "code",
   "execution_count": 18,
   "id": "b2854e18",
   "metadata": {},
   "outputs": [
    {
     "data": {
      "image/png": "[encoded data removed]",
      "text/plain": [
       "<Figure size 1000x600 with 1 Axes>"
      ]
     },
     "metadata": {},
     "output_type": "display_data"
    }
   ],
   "source": [
    "figure = plt.figure(figsize=(10,6))\n",
    "\n",
    "axes = figure.add_subplot(1, 1, 1)\n",
    "n, bins, patches = axes.hist(min_nt, color=\"DimGray\", density=True, bins=501, alpha=0.75)\n",
    "axes.set_xlabel(\"minimum_nights\")\n",
    "axes.set_ylabel(\"Density\")\n",
    "axes.set_title(\"Density Histogram of minimum_nights\")\n",
    "\n",
    "axes.set_xlim(0, 205)\n",
    "\n",
    "plt.show()\n",
    "plt.close()"
   ]
  },
  {
   "cell_type": "markdown",
   "id": "97821664",
   "metadata": {},
   "source": [
    "There are large clusters around 1 day and 31 days, with a smaller cluster around 90 and an even smaller cluster around 180. We look more closely at the most common values:"
   ]
  },
  {
   "cell_type": "code",
   "execution_count": 19,
   "id": "05a6afd5",
   "metadata": {},
   "outputs": [
    {
     "data": {
      "text/html": [
       "<div>\n",
       "<style scoped>\n",
       "    .dataframe tbody tr th:only-of-type {\n",
       "        vertical-align: middle;\n",
       "    }\n",
       "\n",
       "    .dataframe tbody tr th {\n",
       "        vertical-align: top;\n",
       "    }\n",
       "\n",
       "    .dataframe thead th {\n",
       "        text-align: right;\n",
       "    }\n",
       "</style>\n",
       "<table border=\"1\" class=\"dataframe\">\n",
       "  <thead>\n",
       "    <tr style=\"text-align: right;\">\n",
       "      <th></th>\n",
       "      <th>minimum_nights</th>\n",
       "    </tr>\n",
       "  </thead>\n",
       "  <tbody>\n",
       "    <tr>\n",
       "      <th>31</th>\n",
       "      <td>2796</td>\n",
       "    </tr>\n",
       "    <tr>\n",
       "      <th>1</th>\n",
       "      <td>1567</td>\n",
       "    </tr>\n",
       "    <tr>\n",
       "      <th>2</th>\n",
       "      <td>1566</td>\n",
       "    </tr>\n",
       "    <tr>\n",
       "      <th>3</th>\n",
       "      <td>733</td>\n",
       "    </tr>\n",
       "    <tr>\n",
       "      <th>91</th>\n",
       "      <td>349</td>\n",
       "    </tr>\n",
       "    <tr>\n",
       "      <th>32</th>\n",
       "      <td>314</td>\n",
       "    </tr>\n",
       "    <tr>\n",
       "      <th>90</th>\n",
       "      <td>254</td>\n",
       "    </tr>\n",
       "    <tr>\n",
       "      <th>30</th>\n",
       "      <td>231</td>\n",
       "    </tr>\n",
       "    <tr>\n",
       "      <th>4</th>\n",
       "      <td>190</td>\n",
       "    </tr>\n",
       "    <tr>\n",
       "      <th>5</th>\n",
       "      <td>104</td>\n",
       "    </tr>\n",
       "    <tr>\n",
       "      <th>7</th>\n",
       "      <td>94</td>\n",
       "    </tr>\n",
       "    <tr>\n",
       "      <th>60</th>\n",
       "      <td>70</td>\n",
       "    </tr>\n",
       "    <tr>\n",
       "      <th>28</th>\n",
       "      <td>43</td>\n",
       "    </tr>\n",
       "    <tr>\n",
       "      <th>14</th>\n",
       "      <td>42</td>\n",
       "    </tr>\n",
       "    <tr>\n",
       "      <th>180</th>\n",
       "      <td>41</td>\n",
       "    </tr>\n",
       "    <tr>\n",
       "      <th>10</th>\n",
       "      <td>32</td>\n",
       "    </tr>\n",
       "    <tr>\n",
       "      <th>6</th>\n",
       "      <td>24</td>\n",
       "    </tr>\n",
       "    <tr>\n",
       "      <th>365</th>\n",
       "      <td>16</td>\n",
       "    </tr>\n",
       "    <tr>\n",
       "      <th>120</th>\n",
       "      <td>16</td>\n",
       "    </tr>\n",
       "    <tr>\n",
       "      <th>70</th>\n",
       "      <td>15</td>\n",
       "    </tr>\n",
       "  </tbody>\n",
       "</table>\n",
       "</div>"
      ],
      "text/plain": [
       "     minimum_nights\n",
       "31             2796\n",
       "1              1567\n",
       "2              1566\n",
       "3               733\n",
       "91              349\n",
       "32              314\n",
       "90              254\n",
       "30              231\n",
       "4               190\n",
       "5               104\n",
       "7                94\n",
       "60               70\n",
       "28               43\n",
       "14               42\n",
       "180              41\n",
       "10               32\n",
       "6                24\n",
       "365              16\n",
       "120              16\n",
       "70               15"
      ]
     },
     "execution_count": 19,
     "metadata": {},
     "output_type": "execute_result"
    }
   ],
   "source": [
    "pd.DataFrame(min_nt.value_counts().sort_values(ascending=False)).head(20)"
   ]
  },
  {
   "cell_type": "markdown",
   "id": "2f9d1860",
   "metadata": {},
   "source": [
    "There appear to be 3 main groups:\n",
    "\n",
    "<ul>\n",
    "    <li>Short-term rentals with minimum stays of a week or less</li>\n",
    "    <li>Medium-term rentals with minimum stays around a month (28-31 days)</li>\n",
    "    <li>Medium-term rentals with minimum stays around 3 months (90-91 days)</li>\n",
    "</ul>\n",
    "\n",
    "There are other minor clusters around 2 weeks, 2 months, and half a year."
   ]
  },
  {
   "cell_type": "markdown",
   "id": "50c6e531",
   "metadata": {},
   "source": [
    "We next print descriptive statistics for maximum nights."
   ]
  },
  {
   "cell_type": "code",
   "execution_count": 20,
   "id": "97c4d988",
   "metadata": {},
   "outputs": [
    {
     "data": {
      "text/html": [
       "<div>\n",
       "<style scoped>\n",
       "    .dataframe tbody tr th:only-of-type {\n",
       "        vertical-align: middle;\n",
       "    }\n",
       "\n",
       "    .dataframe tbody tr th {\n",
       "        vertical-align: top;\n",
       "    }\n",
       "\n",
       "    .dataframe thead th {\n",
       "        text-align: right;\n",
       "    }\n",
       "</style>\n",
       "<table border=\"1\" class=\"dataframe\">\n",
       "  <thead>\n",
       "    <tr style=\"text-align: right;\">\n",
       "      <th></th>\n",
       "      <th>maximum_nights</th>\n",
       "    </tr>\n",
       "  </thead>\n",
       "  <tbody>\n",
       "    <tr>\n",
       "      <th>count</th>\n",
       "      <td>8,628.0000</td>\n",
       "    </tr>\n",
       "    <tr>\n",
       "      <th>mean</th>\n",
       "      <td>1,761.9905</td>\n",
       "    </tr>\n",
       "    <tr>\n",
       "      <th>std</th>\n",
       "      <td>107,652.1993</td>\n",
       "    </tr>\n",
       "    <tr>\n",
       "      <th>min</th>\n",
       "      <td>1.0000</td>\n",
       "    </tr>\n",
       "    <tr>\n",
       "      <th>25%</th>\n",
       "      <td>120.0000</td>\n",
       "    </tr>\n",
       "    <tr>\n",
       "      <th>50%</th>\n",
       "      <td>365.0000</td>\n",
       "    </tr>\n",
       "    <tr>\n",
       "      <th>75%</th>\n",
       "      <td>1,125.0000</td>\n",
       "    </tr>\n",
       "    <tr>\n",
       "      <th>max</th>\n",
       "      <td>9,999,999.0000</td>\n",
       "    </tr>\n",
       "  </tbody>\n",
       "</table>\n",
       "</div>"
      ],
      "text/plain": [
       "            maximum_nights\n",
       "count           8,628.0000\n",
       "mean            1,761.9905\n",
       "std           107,652.1993\n",
       "min                 1.0000\n",
       "25%               120.0000\n",
       "50%               365.0000\n",
       "75%             1,125.0000\n",
       "max         9,999,999.0000"
      ]
     },
     "execution_count": 20,
     "metadata": {},
     "output_type": "execute_result"
    }
   ],
   "source": [
    "pd.DataFrame(max_nt.describe())"
   ]
  },
  {
   "cell_type": "markdown",
   "id": "47dea086",
   "metadata": {},
   "source": [
    "These values are much higher, ranging from a minimum of 1 to a maximum of 9,999,999. The median is 365 days, much closer to the 25th percentile of 120 than the 75th percentile of 1125. The maximum stay is completely unreasonable (about 27,000 years), so we look more closely at the high end of the distribution to see how many are like that."
   ]
  },
  {
   "cell_type": "code",
   "execution_count": 21,
   "id": "532daab7",
   "metadata": {},
   "outputs": [
    {
     "data": {
      "text/html": [
       "<div>\n",
       "<style scoped>\n",
       "    .dataframe tbody tr th:only-of-type {\n",
       "        vertical-align: middle;\n",
       "    }\n",
       "\n",
       "    .dataframe tbody tr th {\n",
       "        vertical-align: top;\n",
       "    }\n",
       "\n",
       "    .dataframe thead th {\n",
       "        text-align: right;\n",
       "    }\n",
       "</style>\n",
       "<table border=\"1\" class=\"dataframe\">\n",
       "  <thead>\n",
       "    <tr style=\"text-align: right;\">\n",
       "      <th></th>\n",
       "      <th>maximum_nights</th>\n",
       "    </tr>\n",
       "  </thead>\n",
       "  <tbody>\n",
       "    <tr>\n",
       "      <th>9999999</th>\n",
       "      <td>1</td>\n",
       "    </tr>\n",
       "    <tr>\n",
       "      <th>10000</th>\n",
       "      <td>1</td>\n",
       "    </tr>\n",
       "    <tr>\n",
       "      <th>3365</th>\n",
       "      <td>2</td>\n",
       "    </tr>\n",
       "    <tr>\n",
       "      <th>1825</th>\n",
       "      <td>1</td>\n",
       "    </tr>\n",
       "    <tr>\n",
       "      <th>1450</th>\n",
       "      <td>1</td>\n",
       "    </tr>\n",
       "    <tr>\n",
       "      <th>1125</th>\n",
       "      <td>3471</td>\n",
       "    </tr>\n",
       "    <tr>\n",
       "      <th>1124</th>\n",
       "      <td>29</td>\n",
       "    </tr>\n",
       "    <tr>\n",
       "      <th>1123</th>\n",
       "      <td>4</td>\n",
       "    </tr>\n",
       "    <tr>\n",
       "      <th>1120</th>\n",
       "      <td>4</td>\n",
       "    </tr>\n",
       "    <tr>\n",
       "      <th>1111</th>\n",
       "      <td>4</td>\n",
       "    </tr>\n",
       "    <tr>\n",
       "      <th>1100</th>\n",
       "      <td>2</td>\n",
       "    </tr>\n",
       "    <tr>\n",
       "      <th>1094</th>\n",
       "      <td>1</td>\n",
       "    </tr>\n",
       "    <tr>\n",
       "      <th>1000</th>\n",
       "      <td>42</td>\n",
       "    </tr>\n",
       "    <tr>\n",
       "      <th>999</th>\n",
       "      <td>6</td>\n",
       "    </tr>\n",
       "    <tr>\n",
       "      <th>900</th>\n",
       "      <td>2</td>\n",
       "    </tr>\n",
       "  </tbody>\n",
       "</table>\n",
       "</div>"
      ],
      "text/plain": [
       "         maximum_nights\n",
       "9999999               1\n",
       "10000                 1\n",
       "3365                  2\n",
       "1825                  1\n",
       "1450                  1\n",
       "1125               3471\n",
       "1124                 29\n",
       "1123                  4\n",
       "1120                  4\n",
       "1111                  4\n",
       "1100                  2\n",
       "1094                  1\n",
       "1000                 42\n",
       "999                   6\n",
       "900                   2"
      ]
     },
     "execution_count": 21,
     "metadata": {},
     "output_type": "execute_result"
    }
   ],
   "source": [
    "pd.DataFrame(max_nt.value_counts()).sort_index(ascending=False).head(15)"
   ]
  },
  {
   "cell_type": "markdown",
   "id": "02c39e55",
   "metadata": {},
   "source": [
    "Only 6 values are above 1125, which appears to be the most common value with 3471 points. We display a histogram of values at or below 1125 days."
   ]
  },
  {
   "cell_type": "code",
   "execution_count": 22,
   "id": "46aab4c0",
   "metadata": {},
   "outputs": [
    {
     "data": {
      "image/png": "[encoded data removed]",
      "text/plain": [
       "<Figure size 1000x600 with 1 Axes>"
      ]
     },
     "metadata": {},
     "output_type": "display_data"
    }
   ],
   "source": [
    "figure = plt.figure(figsize=(10,6))\n",
    "\n",
    "axes = figure.add_subplot(1, 1, 1)\n",
    "n, bins, patches = axes.hist(max_nt[max_nt < 1450], color=\"DimGray\", density=True, bins=101, alpha=0.75)\n",
    "axes.set_xlabel(\"maximum_nights\")\n",
    "axes.set_ylabel(\"Density\")\n",
    "axes.set_title(\"Density Histogram of maximum_nights\")\n",
    "\n",
    "plt.show()\n",
    "plt.close()"
   ]
  },
  {
   "cell_type": "markdown",
   "id": "05c410bb",
   "metadata": {},
   "source": [
    "There are three large clusters around 30, 365, and 1125 nights.\n",
    "\n",
    "maximum_nights should increase with minimum_nights, so we display a scatterplot to investigate the relationship between them. We impose a maximum value of 1125 to make the plot readable."
   ]
  },
  {
   "cell_type": "code",
   "execution_count": 23,
   "id": "ddda6414",
   "metadata": {},
   "outputs": [],
   "source": [
    "max_nt[max_nt > 1125] = 1125"
   ]
  },
  {
   "cell_type": "code",
   "execution_count": 24,
   "id": "55dba31f",
   "metadata": {},
   "outputs": [
    {
     "data": {
      "image/png": "[encoded data removed]",
      "text/plain": [
       "<Figure size 1200x600 with 2 Axes>"
      ]
     },
     "metadata": {},
     "output_type": "display_data"
    }
   ],
   "source": [
    "figure = plt.figure(figsize=(12, 6))\n",
    "\n",
    "axes = figure.add_subplot(1, 2, 1)\n",
    "axes.scatter(max_nt, min_nt, marker=\"o\", color=\"dimgray\", alpha=0.1)\n",
    "\n",
    "axes.set_ylabel(\"minimum_nights\")\n",
    "axes.set_xlabel(\"maximum_nights\")\n",
    "axes.set_title(\"minimum_nights vs. maximum_nights (all)\")\n",
    "\n",
    "axes = figure.add_subplot(1, 2, 2)\n",
    "axes.scatter(max_nt, min_nt, marker=\"o\", color=\"dimgray\", alpha=0.1)\n",
    "\n",
    "axes.set_ylabel(\"minimum_nights\")\n",
    "axes.set_xlabel(\"maximum_nights\")\n",
    "axes.set_title(\"minimum_nights vs. maximum_nights (0-50)\")\n",
    "axes.set_ylim(0, 50)\n",
    "axes.set_xlim(0, 50)\n",
    "\n",
    "plt.show()\n",
    "plt.close()"
   ]
  },
  {
   "cell_type": "markdown",
   "id": "fa8d7eb5",
   "metadata": {},
   "source": [
    "Many short-term rentals have very high maximum_nights around 1125. The zoomed-in view shows that ~30 days is the most common maximum_night cluster for short-term rentals.\n",
    "\n",
    "The scatterplot does show some points that appear to have higher minimum_nights than maximum_nights, which shouldn't be possible."
   ]
  },
  {
   "cell_type": "code",
   "execution_count": 25,
   "id": "4d113da3",
   "metadata": {},
   "outputs": [
    {
     "data": {
      "text/html": [
       "<div>\n",
       "<style scoped>\n",
       "    .dataframe tbody tr th:only-of-type {\n",
       "        vertical-align: middle;\n",
       "    }\n",
       "\n",
       "    .dataframe tbody tr th {\n",
       "        vertical-align: top;\n",
       "    }\n",
       "\n",
       "    .dataframe thead th {\n",
       "        text-align: right;\n",
       "    }\n",
       "</style>\n",
       "<table border=\"1\" class=\"dataframe\">\n",
       "  <thead>\n",
       "    <tr style=\"text-align: right;\">\n",
       "      <th></th>\n",
       "      <th>minimum_nights</th>\n",
       "      <th>maximum_nights</th>\n",
       "      <th>host_id</th>\n",
       "      <th>number_of_reviews</th>\n",
       "      <th>price</th>\n",
       "      <th>has_availability</th>\n",
       "      <th>accommodates</th>\n",
       "    </tr>\n",
       "  </thead>\n",
       "  <tbody>\n",
       "    <tr>\n",
       "      <th>count</th>\n",
       "      <td>90.0000</td>\n",
       "      <td>90.0000</td>\n",
       "      <td>90.0000</td>\n",
       "      <td>90.0000</td>\n",
       "      <td>90.0000</td>\n",
       "      <td>90.0000</td>\n",
       "      <td>90.0000</td>\n",
       "    </tr>\n",
       "    <tr>\n",
       "      <th>mean</th>\n",
       "      <td>91.0000</td>\n",
       "      <td>31.0000</td>\n",
       "      <td>294,545,484.0000</td>\n",
       "      <td>0.0222</td>\n",
       "      <td>76.6222</td>\n",
       "      <td>1.0000</td>\n",
       "      <td>1.7333</td>\n",
       "    </tr>\n",
       "    <tr>\n",
       "      <th>std</th>\n",
       "      <td>0.0000</td>\n",
       "      <td>0.0000</td>\n",
       "      <td>0.0000</td>\n",
       "      <td>0.1482</td>\n",
       "      <td>22.1022</td>\n",
       "      <td>0.0000</td>\n",
       "      <td>0.4447</td>\n",
       "    </tr>\n",
       "    <tr>\n",
       "      <th>min</th>\n",
       "      <td>91.0000</td>\n",
       "      <td>31.0000</td>\n",
       "      <td>294,545,484.0000</td>\n",
       "      <td>0.0000</td>\n",
       "      <td>34.0000</td>\n",
       "      <td>1.0000</td>\n",
       "      <td>1.0000</td>\n",
       "    </tr>\n",
       "    <tr>\n",
       "      <th>25%</th>\n",
       "      <td>91.0000</td>\n",
       "      <td>31.0000</td>\n",
       "      <td>294,545,484.0000</td>\n",
       "      <td>0.0000</td>\n",
       "      <td>60.5000</td>\n",
       "      <td>1.0000</td>\n",
       "      <td>1.0000</td>\n",
       "    </tr>\n",
       "    <tr>\n",
       "      <th>50%</th>\n",
       "      <td>91.0000</td>\n",
       "      <td>31.0000</td>\n",
       "      <td>294,545,484.0000</td>\n",
       "      <td>0.0000</td>\n",
       "      <td>72.5000</td>\n",
       "      <td>1.0000</td>\n",
       "      <td>2.0000</td>\n",
       "    </tr>\n",
       "    <tr>\n",
       "      <th>75%</th>\n",
       "      <td>91.0000</td>\n",
       "      <td>31.0000</td>\n",
       "      <td>294,545,484.0000</td>\n",
       "      <td>0.0000</td>\n",
       "      <td>88.5000</td>\n",
       "      <td>1.0000</td>\n",
       "      <td>2.0000</td>\n",
       "    </tr>\n",
       "    <tr>\n",
       "      <th>max</th>\n",
       "      <td>91.0000</td>\n",
       "      <td>31.0000</td>\n",
       "      <td>294,545,484.0000</td>\n",
       "      <td>1.0000</td>\n",
       "      <td>165.0000</td>\n",
       "      <td>1.0000</td>\n",
       "      <td>2.0000</td>\n",
       "    </tr>\n",
       "  </tbody>\n",
       "</table>\n",
       "</div>"
      ],
      "text/plain": [
       "            minimum_nights       maximum_nights              host_id  \\\n",
       "count              90.0000              90.0000              90.0000   \n",
       "mean               91.0000              31.0000     294,545,484.0000   \n",
       "std                 0.0000               0.0000               0.0000   \n",
       "min                91.0000              31.0000     294,545,484.0000   \n",
       "25%                91.0000              31.0000     294,545,484.0000   \n",
       "50%                91.0000              31.0000     294,545,484.0000   \n",
       "75%                91.0000              31.0000     294,545,484.0000   \n",
       "max                91.0000              31.0000     294,545,484.0000   \n",
       "\n",
       "         number_of_reviews                price     has_availability  \\\n",
       "count              90.0000              90.0000              90.0000   \n",
       "mean                0.0222              76.6222               1.0000   \n",
       "std                 0.1482              22.1022               0.0000   \n",
       "min                 0.0000              34.0000               1.0000   \n",
       "25%                 0.0000              60.5000               1.0000   \n",
       "50%                 0.0000              72.5000               1.0000   \n",
       "75%                 0.0000              88.5000               1.0000   \n",
       "max                 1.0000             165.0000               1.0000   \n",
       "\n",
       "              accommodates  \n",
       "count              90.0000  \n",
       "mean                1.7333  \n",
       "std                 0.4447  \n",
       "min                 1.0000  \n",
       "25%                 1.0000  \n",
       "50%                 2.0000  \n",
       "75%                 2.0000  \n",
       "max                 2.0000  "
      ]
     },
     "execution_count": 25,
     "metadata": {},
     "output_type": "execute_result"
    }
   ],
   "source": [
    "ldf.loc[min_nt > max_nt, ['minimum_nights', 'maximum_nights', 'host_id', 'number_of_reviews', 'price',\n",
    "                          'has_availability', 'accommodates']].describe()"
   ]
  },
  {
   "cell_type": "markdown",
   "id": "74e63bd0",
   "metadata": {},
   "source": [
    "There are 90 such listings, all with minimum_nights = 91 and maximum_nights = 31 from the same host with host_id = 294545484. Further, none of them have any reviews in the last 12 months (though a small number have some reviews from earlier), but all of them do have availability at prices that don't seem ridiculous."
   ]
  },
  {
   "cell_type": "code",
   "execution_count": 26,
   "id": "45618b80",
   "metadata": {},
   "outputs": [
    {
     "data": {
      "text/html": [
       "<div>\n",
       "<style scoped>\n",
       "    .dataframe tbody tr th:only-of-type {\n",
       "        vertical-align: middle;\n",
       "    }\n",
       "\n",
       "    .dataframe tbody tr th {\n",
       "        vertical-align: top;\n",
       "    }\n",
       "\n",
       "    .dataframe thead th {\n",
       "        text-align: right;\n",
       "    }\n",
       "</style>\n",
       "<table border=\"1\" class=\"dataframe\">\n",
       "  <thead>\n",
       "    <tr style=\"text-align: right;\">\n",
       "      <th></th>\n",
       "      <th></th>\n",
       "      <th></th>\n",
       "      <th>0</th>\n",
       "    </tr>\n",
       "    <tr>\n",
       "      <th>host_name</th>\n",
       "      <th>source_name</th>\n",
       "      <th>room_type</th>\n",
       "      <th></th>\n",
       "    </tr>\n",
       "  </thead>\n",
       "  <tbody>\n",
       "    <tr>\n",
       "      <th rowspan=\"6\" valign=\"top\">June</th>\n",
       "      <th>listings_3_2023</th>\n",
       "      <th>Private room</th>\n",
       "      <td>163</td>\n",
       "    </tr>\n",
       "    <tr>\n",
       "      <th>listings_12_2022</th>\n",
       "      <th>Private room</th>\n",
       "      <td>111</td>\n",
       "    </tr>\n",
       "    <tr>\n",
       "      <th>listings_9_2022</th>\n",
       "      <th>Private room</th>\n",
       "      <td>24</td>\n",
       "    </tr>\n",
       "    <tr>\n",
       "      <th>listings_12_2022</th>\n",
       "      <th>Entire home/apt</th>\n",
       "      <td>10</td>\n",
       "    </tr>\n",
       "    <tr>\n",
       "      <th>listings_3_2023</th>\n",
       "      <th>Entire home/apt</th>\n",
       "      <td>10</td>\n",
       "    </tr>\n",
       "    <tr>\n",
       "      <th>listings_9_2022</th>\n",
       "      <th>Entire home/apt</th>\n",
       "      <td>2</td>\n",
       "    </tr>\n",
       "  </tbody>\n",
       "</table>\n",
       "</div>"
      ],
      "text/plain": [
       "                                              0\n",
       "host_name source_name      room_type           \n",
       "June      listings_3_2023  Private room     163\n",
       "          listings_12_2022 Private room     111\n",
       "          listings_9_2022  Private room      24\n",
       "          listings_12_2022 Entire home/apt   10\n",
       "          listings_3_2023  Entire home/apt   10\n",
       "          listings_9_2022  Entire home/apt    2"
      ]
     },
     "execution_count": 26,
     "metadata": {},
     "output_type": "execute_result"
    }
   ],
   "source": [
    "pd.DataFrame(ldf.loc[ldf['host_id'] == 294545484, ['host_name', 'source_name', 'room_type']].value_counts())"
   ]
  },
  {
   "cell_type": "markdown",
   "id": "f37dd013",
   "metadata": {},
   "source": [
    "These listings are all from host_name \"June\" and are mostly private rooms."
   ]
  },
  {
   "cell_type": "markdown",
   "id": "955df390",
   "metadata": {},
   "source": [
    "### has_availability"
   ]
  },
  {
   "cell_type": "code",
   "execution_count": 27,
   "id": "1a24bd04",
   "metadata": {},
   "outputs": [],
   "source": [
    "ha = ldf['has_availability']"
   ]
  },
  {
   "cell_type": "markdown",
   "id": "27c8eacd",
   "metadata": {},
   "source": [
    "has_availability keeps track of whether the listing has any availability in the calendar. It is potentially a way to spot \"dead\" listings that could be removed from the dataset. We print value counts."
   ]
  },
  {
   "cell_type": "code",
   "execution_count": 28,
   "id": "e5788f70",
   "metadata": {},
   "outputs": [
    {
     "data": {
      "text/html": [
       "<div>\n",
       "<style scoped>\n",
       "    .dataframe tbody tr th:only-of-type {\n",
       "        vertical-align: middle;\n",
       "    }\n",
       "\n",
       "    .dataframe tbody tr th {\n",
       "        vertical-align: top;\n",
       "    }\n",
       "\n",
       "    .dataframe thead th {\n",
       "        text-align: right;\n",
       "    }\n",
       "</style>\n",
       "<table border=\"1\" class=\"dataframe\">\n",
       "  <thead>\n",
       "    <tr style=\"text-align: right;\">\n",
       "      <th></th>\n",
       "      <th>has_availability</th>\n",
       "    </tr>\n",
       "  </thead>\n",
       "  <tbody>\n",
       "    <tr>\n",
       "      <th>1</th>\n",
       "      <td>8166</td>\n",
       "    </tr>\n",
       "    <tr>\n",
       "      <th>0</th>\n",
       "      <td>462</td>\n",
       "    </tr>\n",
       "  </tbody>\n",
       "</table>\n",
       "</div>"
      ],
      "text/plain": [
       "   has_availability\n",
       "1              8166\n",
       "0               462"
      ]
     },
     "execution_count": 28,
     "metadata": {},
     "output_type": "execute_result"
    }
   ],
   "source": [
    "pd.DataFrame(ha.value_counts())"
   ]
  },
  {
   "cell_type": "markdown",
   "id": "dbf0a84c",
   "metadata": {},
   "source": [
    "There are 8166 listings with availability and 462 listings with no availability. We take a closer look at the listings with no availability."
   ]
  },
  {
   "cell_type": "code",
   "execution_count": 29,
   "id": "8d623be6",
   "metadata": {},
   "outputs": [
    {
     "data": {
      "text/html": [
       "<div>\n",
       "<style scoped>\n",
       "    .dataframe tbody tr th:only-of-type {\n",
       "        vertical-align: middle;\n",
       "    }\n",
       "\n",
       "    .dataframe tbody tr th {\n",
       "        vertical-align: top;\n",
       "    }\n",
       "\n",
       "    .dataframe thead th {\n",
       "        text-align: right;\n",
       "    }\n",
       "</style>\n",
       "<table border=\"1\" class=\"dataframe\">\n",
       "  <thead>\n",
       "    <tr style=\"text-align: right;\">\n",
       "      <th></th>\n",
       "      <th>minimum_nights</th>\n",
       "    </tr>\n",
       "  </thead>\n",
       "  <tbody>\n",
       "    <tr>\n",
       "      <th>31</th>\n",
       "      <td>0.8831</td>\n",
       "    </tr>\n",
       "    <tr>\n",
       "      <th>70</th>\n",
       "      <td>0.0216</td>\n",
       "    </tr>\n",
       "    <tr>\n",
       "      <th>60</th>\n",
       "      <td>0.0152</td>\n",
       "    </tr>\n",
       "    <tr>\n",
       "      <th>90</th>\n",
       "      <td>0.0108</td>\n",
       "    </tr>\n",
       "    <tr>\n",
       "      <th>30</th>\n",
       "      <td>0.0108</td>\n",
       "    </tr>\n",
       "    <tr>\n",
       "      <th>180</th>\n",
       "      <td>0.0087</td>\n",
       "    </tr>\n",
       "    <tr>\n",
       "      <th>56</th>\n",
       "      <td>0.0087</td>\n",
       "    </tr>\n",
       "    <tr>\n",
       "      <th>365</th>\n",
       "      <td>0.0065</td>\n",
       "    </tr>\n",
       "    <tr>\n",
       "      <th>3</th>\n",
       "      <td>0.0043</td>\n",
       "    </tr>\n",
       "    <tr>\n",
       "      <th>1</th>\n",
       "      <td>0.0043</td>\n",
       "    </tr>\n",
       "    <tr>\n",
       "      <th>45</th>\n",
       "      <td>0.0022</td>\n",
       "    </tr>\n",
       "    <tr>\n",
       "      <th>130</th>\n",
       "      <td>0.0022</td>\n",
       "    </tr>\n",
       "    <tr>\n",
       "      <th>40</th>\n",
       "      <td>0.0022</td>\n",
       "    </tr>\n",
       "    <tr>\n",
       "      <th>356</th>\n",
       "      <td>0.0022</td>\n",
       "    </tr>\n",
       "    <tr>\n",
       "      <th>110</th>\n",
       "      <td>0.0022</td>\n",
       "    </tr>\n",
       "  </tbody>\n",
       "</table>\n",
       "</div>"
      ],
      "text/plain": [
       "          minimum_nights\n",
       "31                0.8831\n",
       "70                0.0216\n",
       "60                0.0152\n",
       "90                0.0108\n",
       "30                0.0108\n",
       "180               0.0087\n",
       "56                0.0087\n",
       "365               0.0065\n",
       "3                 0.0043\n",
       "1                 0.0043\n",
       "45                0.0022\n",
       "130               0.0022\n",
       "40                0.0022\n",
       "356               0.0022\n",
       "110               0.0022"
      ]
     },
     "execution_count": 29,
     "metadata": {},
     "output_type": "execute_result"
    }
   ],
   "source": [
    "pd.DataFrame(ldf.loc[ha == 0, 'minimum_nights'].value_counts(normalize=True)).head(15)"
   ]
  },
  {
   "cell_type": "markdown",
   "id": "8b4f29af",
   "metadata": {},
   "source": [
    "These listings are mostly medium- or long-term rentals, but not exclusively."
   ]
  },
  {
   "cell_type": "markdown",
   "id": "c3136a74",
   "metadata": {},
   "source": [
    "### first_review / last_review"
   ]
  },
  {
   "cell_type": "code",
   "execution_count": 30,
   "id": "1941533b",
   "metadata": {},
   "outputs": [],
   "source": [
    "fr = copy.copy(ldf['first_review'])\n",
    "lr = copy.copy(ldf['last_review'])"
   ]
  },
  {
   "cell_type": "code",
   "execution_count": 31,
   "id": "04479974",
   "metadata": {},
   "outputs": [
    {
     "data": {
      "text/html": [
       "<div>\n",
       "<style scoped>\n",
       "    .dataframe tbody tr th:only-of-type {\n",
       "        vertical-align: middle;\n",
       "    }\n",
       "\n",
       "    .dataframe tbody tr th {\n",
       "        vertical-align: top;\n",
       "    }\n",
       "\n",
       "    .dataframe thead th {\n",
       "        text-align: right;\n",
       "    }\n",
       "</style>\n",
       "<table border=\"1\" class=\"dataframe\">\n",
       "  <thead>\n",
       "    <tr style=\"text-align: right;\">\n",
       "      <th></th>\n",
       "      <th>first_review</th>\n",
       "      <th>last_review</th>\n",
       "    </tr>\n",
       "  </thead>\n",
       "  <tbody>\n",
       "    <tr>\n",
       "      <th>count</th>\n",
       "      <td>6432</td>\n",
       "      <td>6432</td>\n",
       "    </tr>\n",
       "    <tr>\n",
       "      <th>mean</th>\n",
       "      <td>2019-11-01 16:32:54.626865664</td>\n",
       "      <td>2022-05-07 07:05:49.253731072</td>\n",
       "    </tr>\n",
       "    <tr>\n",
       "      <th>min</th>\n",
       "      <td>2009-01-20 00:00:00</td>\n",
       "      <td>2013-05-21 00:00:00</td>\n",
       "    </tr>\n",
       "    <tr>\n",
       "      <th>25%</th>\n",
       "      <td>2017-11-15 00:00:00</td>\n",
       "      <td>2022-05-16 00:00:00</td>\n",
       "    </tr>\n",
       "    <tr>\n",
       "      <th>50%</th>\n",
       "      <td>2020-06-12 00:00:00</td>\n",
       "      <td>2022-10-29 00:00:00</td>\n",
       "    </tr>\n",
       "    <tr>\n",
       "      <th>75%</th>\n",
       "      <td>2022-01-16 00:00:00</td>\n",
       "      <td>2023-02-28 06:00:00</td>\n",
       "    </tr>\n",
       "    <tr>\n",
       "      <th>max</th>\n",
       "      <td>2023-03-18 00:00:00</td>\n",
       "      <td>2023-03-18 00:00:00</td>\n",
       "    </tr>\n",
       "  </tbody>\n",
       "</table>\n",
       "</div>"
      ],
      "text/plain": [
       "                        first_review                    last_review\n",
       "count                           6432                           6432\n",
       "mean   2019-11-01 16:32:54.626865664  2022-05-07 07:05:49.253731072\n",
       "min              2009-01-20 00:00:00            2013-05-21 00:00:00\n",
       "25%              2017-11-15 00:00:00            2022-05-16 00:00:00\n",
       "50%              2020-06-12 00:00:00            2022-10-29 00:00:00\n",
       "75%              2022-01-16 00:00:00            2023-02-28 06:00:00\n",
       "max              2023-03-18 00:00:00            2023-03-18 00:00:00"
      ]
     },
     "execution_count": 31,
     "metadata": {},
     "output_type": "execute_result"
    }
   ],
   "source": [
    "ldf[['first_review','last_review']].describe(datetime_is_numeric=True)"
   ]
  },
  {
   "cell_type": "markdown",
   "id": "840ab432",
   "metadata": {},
   "source": [
    "There are 6432 first and last reviews out of 8628 total listings. This means that 2196 listings have no reviews. \n",
    "\n",
    "The earliest first_review is 1/20/2009 and the latest first_review is 3/18/2023 (the day before the data was most recently scraped). The earliest last_review is 5/21/2013 and the latest last_review is also 3/18/2023. A listing with their last review in 2013 is concerning, since they haven't gotten any reviews in nearly 10 years. This is another potential sign of a \"dead\" listing. I will look at a histogram of last_reviews."
   ]
  },
  {
   "cell_type": "code",
   "execution_count": 32,
   "id": "0669684f",
   "metadata": {},
   "outputs": [
    {
     "data": {
      "image/png": "[encoded data removed]",
      "text/plain": [
       "<Figure size 1000x600 with 1 Axes>"
      ]
     },
     "metadata": {},
     "output_type": "display_data"
    }
   ],
   "source": [
    "figure = plt.figure(figsize=(10,6))\n",
    "\n",
    "axes = figure.add_subplot(1, 1, 1)\n",
    "n, bins, patches = axes.hist(lr, color=\"DimGray\", density=True, bins=101, alpha=0.75)\n",
    "axes.set_xlabel(\"last review date\")\n",
    "axes.set_ylabel(\"Density\")\n",
    "axes.set_title(\"Density Histogram of last review dates\")\n",
    "\n",
    "#axes.set_xlim(bins[0]-10, bins[75])\n",
    "#axes.set_ylim(0, 0.001)\n",
    "\n",
    "plt.show()\n",
    "plt.close()"
   ]
  },
  {
   "cell_type": "markdown",
   "id": "2e7bbd52",
   "metadata": {},
   "source": [
    "While most listings have a review within the past year, a surprisingly large number haven't had any reviews since 2019 or earlier. There is also a large gap in early 2020 during the beginning of the COVID pandemic, with a good number of listings having their last review in late 2019 or early 2020."
   ]
  },
  {
   "cell_type": "markdown",
   "id": "b5669923",
   "metadata": {},
   "source": [
    "### review_scores"
   ]
  },
  {
   "cell_type": "markdown",
   "id": "eb728181",
   "metadata": {},
   "source": [
    "There are 7 types of review scores left by guests. review_scores_rating is the overall rating of the experience. review_scores_accuracy rates how accurate the information provided by the host was. review_scores_cleanliness is self-explanatory, rating how clean the rental was. review_scores_checkin rates how easy the host made the check-in process. review_scores_communication rates how well the host communicated with the guests. review_scores_location is also self-explanatory, rating the location of the rental. Finally, review_scores_value rates how well the guest felt they got their money's worth."
   ]
  },
  {
   "cell_type": "markdown",
   "id": "a02adf64",
   "metadata": {},
   "source": [
    "We replace blank review values with NaN for now."
   ]
  },
  {
   "cell_type": "code",
   "execution_count": 33,
   "id": "ef19de3b",
   "metadata": {},
   "outputs": [],
   "source": [
    "ldf[['review_scores_rating', 'review_scores_accuracy','review_scores_cleanliness','review_scores_checkin',\n",
    "     'review_scores_communication','review_scores_location','review_scores_value']] = ldf[[\n",
    "    'review_scores_rating', 'review_scores_accuracy','review_scores_cleanliness','review_scores_checkin',\n",
    "     'review_scores_communication','review_scores_location','review_scores_value']].replace('', np.NaN)"
   ]
  },
  {
   "cell_type": "markdown",
   "id": "8299374c",
   "metadata": {},
   "source": [
    "We display descriptive statistics for each review score."
   ]
  },
  {
   "cell_type": "code",
   "execution_count": 34,
   "id": "8465978f",
   "metadata": {},
   "outputs": [
    {
     "data": {
      "text/html": [
       "<div>\n",
       "<style scoped>\n",
       "    .dataframe tbody tr th:only-of-type {\n",
       "        vertical-align: middle;\n",
       "    }\n",
       "\n",
       "    .dataframe tbody tr th {\n",
       "        vertical-align: top;\n",
       "    }\n",
       "\n",
       "    .dataframe thead th {\n",
       "        text-align: right;\n",
       "    }\n",
       "</style>\n",
       "<table border=\"1\" class=\"dataframe\">\n",
       "  <thead>\n",
       "    <tr style=\"text-align: right;\">\n",
       "      <th></th>\n",
       "      <th>review_scores_rating</th>\n",
       "      <th>review_scores_accuracy</th>\n",
       "      <th>review_scores_cleanliness</th>\n",
       "      <th>review_scores_checkin</th>\n",
       "    </tr>\n",
       "  </thead>\n",
       "  <tbody>\n",
       "    <tr>\n",
       "      <th>count</th>\n",
       "      <td>6,432.0000</td>\n",
       "      <td>6,407.0000</td>\n",
       "      <td>6,407.0000</td>\n",
       "      <td>6,407.0000</td>\n",
       "    </tr>\n",
       "    <tr>\n",
       "      <th>mean</th>\n",
       "      <td>4.7042</td>\n",
       "      <td>4.7857</td>\n",
       "      <td>4.7361</td>\n",
       "      <td>4.8417</td>\n",
       "    </tr>\n",
       "    <tr>\n",
       "      <th>std</th>\n",
       "      <td>0.5097</td>\n",
       "      <td>0.3842</td>\n",
       "      <td>0.4088</td>\n",
       "      <td>0.3490</td>\n",
       "    </tr>\n",
       "    <tr>\n",
       "      <th>min</th>\n",
       "      <td>0.0000</td>\n",
       "      <td>1.0000</td>\n",
       "      <td>1.0000</td>\n",
       "      <td>1.0000</td>\n",
       "    </tr>\n",
       "    <tr>\n",
       "      <th>25%</th>\n",
       "      <td>4.6500</td>\n",
       "      <td>4.7500</td>\n",
       "      <td>4.6700</td>\n",
       "      <td>4.8400</td>\n",
       "    </tr>\n",
       "    <tr>\n",
       "      <th>50%</th>\n",
       "      <td>4.8400</td>\n",
       "      <td>4.9000</td>\n",
       "      <td>4.8700</td>\n",
       "      <td>4.9500</td>\n",
       "    </tr>\n",
       "    <tr>\n",
       "      <th>75%</th>\n",
       "      <td>4.9600</td>\n",
       "      <td>5.0000</td>\n",
       "      <td>4.9800</td>\n",
       "      <td>5.0000</td>\n",
       "    </tr>\n",
       "    <tr>\n",
       "      <th>max</th>\n",
       "      <td>5.0000</td>\n",
       "      <td>5.0000</td>\n",
       "      <td>5.0000</td>\n",
       "      <td>5.0000</td>\n",
       "    </tr>\n",
       "  </tbody>\n",
       "</table>\n",
       "</div>"
      ],
      "text/plain": [
       "       review_scores_rating  review_scores_accuracy  \\\n",
       "count            6,432.0000              6,407.0000   \n",
       "mean                 4.7042                  4.7857   \n",
       "std                  0.5097                  0.3842   \n",
       "min                  0.0000                  1.0000   \n",
       "25%                  4.6500                  4.7500   \n",
       "50%                  4.8400                  4.9000   \n",
       "75%                  4.9600                  5.0000   \n",
       "max                  5.0000                  5.0000   \n",
       "\n",
       "       review_scores_cleanliness  review_scores_checkin  \n",
       "count                 6,407.0000             6,407.0000  \n",
       "mean                      4.7361                 4.8417  \n",
       "std                       0.4088                 0.3490  \n",
       "min                       1.0000                 1.0000  \n",
       "25%                       4.6700                 4.8400  \n",
       "50%                       4.8700                 4.9500  \n",
       "75%                       4.9800                 5.0000  \n",
       "max                       5.0000                 5.0000  "
      ]
     },
     "execution_count": 34,
     "metadata": {},
     "output_type": "execute_result"
    }
   ],
   "source": [
    "ldf[['review_scores_rating', 'review_scores_accuracy','review_scores_cleanliness','review_scores_checkin']].describe()"
   ]
  },
  {
   "cell_type": "code",
   "execution_count": 35,
   "id": "a5f9c03e",
   "metadata": {},
   "outputs": [
    {
     "data": {
      "text/html": [
       "<div>\n",
       "<style scoped>\n",
       "    .dataframe tbody tr th:only-of-type {\n",
       "        vertical-align: middle;\n",
       "    }\n",
       "\n",
       "    .dataframe tbody tr th {\n",
       "        vertical-align: top;\n",
       "    }\n",
       "\n",
       "    .dataframe thead th {\n",
       "        text-align: right;\n",
       "    }\n",
       "</style>\n",
       "<table border=\"1\" class=\"dataframe\">\n",
       "  <thead>\n",
       "    <tr style=\"text-align: right;\">\n",
       "      <th></th>\n",
       "      <th>review_scores_communication</th>\n",
       "      <th>review_scores_location</th>\n",
       "      <th>review_scores_value</th>\n",
       "    </tr>\n",
       "  </thead>\n",
       "  <tbody>\n",
       "    <tr>\n",
       "      <th>count</th>\n",
       "      <td>6,407.0000</td>\n",
       "      <td>6,407.0000</td>\n",
       "      <td>6,406.0000</td>\n",
       "    </tr>\n",
       "    <tr>\n",
       "      <th>mean</th>\n",
       "      <td>4.8279</td>\n",
       "      <td>4.7636</td>\n",
       "      <td>4.6787</td>\n",
       "    </tr>\n",
       "    <tr>\n",
       "      <th>std</th>\n",
       "      <td>0.3718</td>\n",
       "      <td>0.3754</td>\n",
       "      <td>0.4265</td>\n",
       "    </tr>\n",
       "    <tr>\n",
       "      <th>min</th>\n",
       "      <td>1.0000</td>\n",
       "      <td>1.0000</td>\n",
       "      <td>1.0000</td>\n",
       "    </tr>\n",
       "    <tr>\n",
       "      <th>25%</th>\n",
       "      <td>4.8300</td>\n",
       "      <td>4.6900</td>\n",
       "      <td>4.6100</td>\n",
       "    </tr>\n",
       "    <tr>\n",
       "      <th>50%</th>\n",
       "      <td>4.9500</td>\n",
       "      <td>4.8900</td>\n",
       "      <td>4.7900</td>\n",
       "    </tr>\n",
       "    <tr>\n",
       "      <th>75%</th>\n",
       "      <td>5.0000</td>\n",
       "      <td>5.0000</td>\n",
       "      <td>4.9100</td>\n",
       "    </tr>\n",
       "    <tr>\n",
       "      <th>max</th>\n",
       "      <td>5.0000</td>\n",
       "      <td>5.0000</td>\n",
       "      <td>5.0000</td>\n",
       "    </tr>\n",
       "  </tbody>\n",
       "</table>\n",
       "</div>"
      ],
      "text/plain": [
       "       review_scores_communication  review_scores_location  \\\n",
       "count                   6,407.0000              6,407.0000   \n",
       "mean                        4.8279                  4.7636   \n",
       "std                         0.3718                  0.3754   \n",
       "min                         1.0000                  1.0000   \n",
       "25%                         4.8300                  4.6900   \n",
       "50%                         4.9500                  4.8900   \n",
       "75%                         5.0000                  5.0000   \n",
       "max                         5.0000                  5.0000   \n",
       "\n",
       "       review_scores_value  \n",
       "count           6,406.0000  \n",
       "mean                4.6787  \n",
       "std                 0.4265  \n",
       "min                 1.0000  \n",
       "25%                 4.6100  \n",
       "50%                 4.7900  \n",
       "75%                 4.9100  \n",
       "max                 5.0000  "
      ]
     },
     "execution_count": 35,
     "metadata": {},
     "output_type": "execute_result"
    }
   ],
   "source": [
    "ldf[['review_scores_communication','review_scores_location','review_scores_value']].describe()"
   ]
  },
  {
   "cell_type": "markdown",
   "id": "d8936090",
   "metadata": {},
   "source": [
    "There are 6432 review_scores_ratings (same as the number of listings with reviews), 6406 review_scores_values, and 6407 for the rest. Some listings have review_scores_ratings but not the other scores. \n",
    "\n",
    "review_scores_rating has a minimum value of 0 while the others don't have any scores below 1. The scores are out of 5, which is the maximum for each. review_scores_checkin has the highest mean of 4.84, closely followed by review_scores_communication at 4.83. review_scores_value has the lowest mean at 4.68. review_scores_rating has the next-lowest at 4.7, though this might be misleading since it has 25 more values."
   ]
  },
  {
   "cell_type": "code",
   "execution_count": 36,
   "id": "0dee28e9",
   "metadata": {},
   "outputs": [
    {
     "data": {
      "text/plain": [
       "0.0"
      ]
     },
     "execution_count": 36,
     "metadata": {},
     "output_type": "execute_result"
    }
   ],
   "source": [
    "ldf.loc[~ldf['review_scores_rating'].isna()&ldf['review_scores_accuracy'].isna(), 'review_scores_rating'].mean()"
   ]
  },
  {
   "cell_type": "markdown",
   "id": "a187c043",
   "metadata": {},
   "source": [
    "The listings with review_scores_ratings but not the others all have ratings of 0. This helps explain why review_scores_rating has a relatively low mean, and also probably explains why it has the largest standard deviation."
   ]
  },
  {
   "cell_type": "markdown",
   "id": "00a8bcf9",
   "metadata": {},
   "source": [
    "NOTE: Insert histogram(s)"
   ]
  },
  {
   "cell_type": "markdown",
   "id": "d1836ad3",
   "metadata": {},
   "source": [
    "### reviews_per_month"
   ]
  },
  {
   "cell_type": "markdown",
   "id": "c01c7f16",
   "metadata": {},
   "source": [
    "A blank value in reviews_per_month indicates no reviews, so we replace blanks with 0."
   ]
  },
  {
   "cell_type": "code",
   "execution_count": 37,
   "id": "50e7e838",
   "metadata": {},
   "outputs": [],
   "source": [
    "ldf['reviews_per_month'] = ldf['reviews_per_month'].replace('', 0)"
   ]
  },
  {
   "cell_type": "code",
   "execution_count": 38,
   "id": "8a218269",
   "metadata": {},
   "outputs": [],
   "source": [
    "rpm = ldf['reviews_per_month']"
   ]
  },
  {
   "cell_type": "markdown",
   "id": "266c941d",
   "metadata": {},
   "source": [
    "We print descriptive statistics."
   ]
  },
  {
   "cell_type": "code",
   "execution_count": 39,
   "id": "7a3c87b7",
   "metadata": {},
   "outputs": [
    {
     "data": {
      "text/html": [
       "<div>\n",
       "<style scoped>\n",
       "    .dataframe tbody tr th:only-of-type {\n",
       "        vertical-align: middle;\n",
       "    }\n",
       "\n",
       "    .dataframe tbody tr th {\n",
       "        vertical-align: top;\n",
       "    }\n",
       "\n",
       "    .dataframe thead th {\n",
       "        text-align: right;\n",
       "    }\n",
       "</style>\n",
       "<table border=\"1\" class=\"dataframe\">\n",
       "  <thead>\n",
       "    <tr style=\"text-align: right;\">\n",
       "      <th></th>\n",
       "      <th>reviews_per_month</th>\n",
       "    </tr>\n",
       "  </thead>\n",
       "  <tbody>\n",
       "    <tr>\n",
       "      <th>count</th>\n",
       "      <td>8,628.0000</td>\n",
       "    </tr>\n",
       "    <tr>\n",
       "      <th>mean</th>\n",
       "      <td>1.2866</td>\n",
       "    </tr>\n",
       "    <tr>\n",
       "      <th>std</th>\n",
       "      <td>1.9063</td>\n",
       "    </tr>\n",
       "    <tr>\n",
       "      <th>min</th>\n",
       "      <td>0.0000</td>\n",
       "    </tr>\n",
       "    <tr>\n",
       "      <th>25%</th>\n",
       "      <td>0.0000</td>\n",
       "    </tr>\n",
       "    <tr>\n",
       "      <th>50%</th>\n",
       "      <td>0.5100</td>\n",
       "    </tr>\n",
       "    <tr>\n",
       "      <th>75%</th>\n",
       "      <td>1.9700</td>\n",
       "    </tr>\n",
       "    <tr>\n",
       "      <th>max</th>\n",
       "      <td>59.6500</td>\n",
       "    </tr>\n",
       "  </tbody>\n",
       "</table>\n",
       "</div>"
      ],
      "text/plain": [
       "         reviews_per_month\n",
       "count           8,628.0000\n",
       "mean                1.2866\n",
       "std                 1.9063\n",
       "min                 0.0000\n",
       "25%                 0.0000\n",
       "50%                 0.5100\n",
       "75%                 1.9700\n",
       "max                59.6500"
      ]
     },
     "execution_count": 39,
     "metadata": {},
     "output_type": "execute_result"
    }
   ],
   "source": [
    "pd.DataFrame(rpm.describe())"
   ]
  },
  {
   "cell_type": "markdown",
   "id": "b257ddcf",
   "metadata": {},
   "source": [
    "reviews_per_month ranges from 0 to 59.65, with a mean of 1.29 and a median of 0.51. It's unclear how a listing can get 59.65 reviews per month since that is more than 1 per day, so we look at the highest values."
   ]
  },
  {
   "cell_type": "code",
   "execution_count": 40,
   "id": "c445f52f",
   "metadata": {},
   "outputs": [
    {
     "data": {
      "text/html": [
       "<div>\n",
       "<style scoped>\n",
       "    .dataframe tbody tr th:only-of-type {\n",
       "        vertical-align: middle;\n",
       "    }\n",
       "\n",
       "    .dataframe tbody tr th {\n",
       "        vertical-align: top;\n",
       "    }\n",
       "\n",
       "    .dataframe thead th {\n",
       "        text-align: right;\n",
       "    }\n",
       "</style>\n",
       "<table border=\"1\" class=\"dataframe\">\n",
       "  <thead>\n",
       "    <tr style=\"text-align: right;\">\n",
       "      <th></th>\n",
       "      <th>reviews_per_month</th>\n",
       "    </tr>\n",
       "  </thead>\n",
       "  <tbody>\n",
       "    <tr>\n",
       "      <th>59.6500</th>\n",
       "      <td>1</td>\n",
       "    </tr>\n",
       "    <tr>\n",
       "      <th>31.6700</th>\n",
       "      <td>1</td>\n",
       "    </tr>\n",
       "    <tr>\n",
       "      <th>24.5000</th>\n",
       "      <td>1</td>\n",
       "    </tr>\n",
       "    <tr>\n",
       "      <th>21.3400</th>\n",
       "      <td>1</td>\n",
       "    </tr>\n",
       "    <tr>\n",
       "      <th>21.3200</th>\n",
       "      <td>1</td>\n",
       "    </tr>\n",
       "    <tr>\n",
       "      <th>17.4900</th>\n",
       "      <td>1</td>\n",
       "    </tr>\n",
       "    <tr>\n",
       "      <th>16.2700</th>\n",
       "      <td>1</td>\n",
       "    </tr>\n",
       "    <tr>\n",
       "      <th>16.0100</th>\n",
       "      <td>1</td>\n",
       "    </tr>\n",
       "    <tr>\n",
       "      <th>14.8000</th>\n",
       "      <td>1</td>\n",
       "    </tr>\n",
       "    <tr>\n",
       "      <th>14.0300</th>\n",
       "      <td>1</td>\n",
       "    </tr>\n",
       "  </tbody>\n",
       "</table>\n",
       "</div>"
      ],
      "text/plain": [
       "         reviews_per_month\n",
       "59.6500                  1\n",
       "31.6700                  1\n",
       "24.5000                  1\n",
       "21.3400                  1\n",
       "21.3200                  1\n",
       "17.4900                  1\n",
       "16.2700                  1\n",
       "16.0100                  1\n",
       "14.8000                  1\n",
       "14.0300                  1"
      ]
     },
     "execution_count": 40,
     "metadata": {},
     "output_type": "execute_result"
    }
   ],
   "source": [
    "pd.DataFrame(rpm.value_counts().sort_index(ascending=False)).head(10)"
   ]
  },
  {
   "cell_type": "code",
   "execution_count": 41,
   "id": "37e999cb",
   "metadata": {
    "scrolled": true
   },
   "outputs": [
    {
     "data": {
      "text/html": [
       "<div>\n",
       "<style scoped>\n",
       "    .dataframe tbody tr th:only-of-type {\n",
       "        vertical-align: middle;\n",
       "    }\n",
       "\n",
       "    .dataframe tbody tr th {\n",
       "        vertical-align: top;\n",
       "    }\n",
       "\n",
       "    .dataframe thead th {\n",
       "        text-align: right;\n",
       "    }\n",
       "</style>\n",
       "<table border=\"1\" class=\"dataframe\">\n",
       "  <thead>\n",
       "    <tr style=\"text-align: right;\">\n",
       "      <th></th>\n",
       "      <th>reviews_per_month</th>\n",
       "      <th>number_of_reviews</th>\n",
       "      <th>number_of_reviews_l30d</th>\n",
       "      <th>number_of_reviews_ltm</th>\n",
       "    </tr>\n",
       "  </thead>\n",
       "  <tbody>\n",
       "    <tr>\n",
       "      <th>4808</th>\n",
       "      <td>31.6700</td>\n",
       "      <td>588</td>\n",
       "      <td>31</td>\n",
       "      <td>561</td>\n",
       "    </tr>\n",
       "    <tr>\n",
       "      <th>7130</th>\n",
       "      <td>59.6500</td>\n",
       "      <td>517</td>\n",
       "      <td>0</td>\n",
       "      <td>517</td>\n",
       "    </tr>\n",
       "  </tbody>\n",
       "</table>\n",
       "</div>"
      ],
      "text/plain": [
       "        reviews_per_month  number_of_reviews  number_of_reviews_l30d  \\\n",
       "4808              31.6700                588                      31   \n",
       "7130              59.6500                517                       0   \n",
       "\n",
       "      number_of_reviews_ltm  \n",
       "4808                    561  \n",
       "7130                    517  "
      ]
     },
     "execution_count": 41,
     "metadata": {},
     "output_type": "execute_result"
    }
   ],
   "source": [
    "ldf.loc[rpm > 31, ['reviews_per_month','number_of_reviews','number_of_reviews_l30d','number_of_reviews_ltm']]"
   ]
  },
  {
   "cell_type": "markdown",
   "id": "b057b49d",
   "metadata": {},
   "source": [
    "NOTE: finish up here"
   ]
  },
  {
   "cell_type": "markdown",
   "id": "bc1f30c0",
   "metadata": {},
   "source": [
    "## Pairwise"
   ]
  },
  {
   "cell_type": "markdown",
   "id": "8bc4e7ae",
   "metadata": {},
   "source": [
    "If a listing has no availability, there are a few possibilities. It might simply be so popular that every available day for the upcoming year has been booked. It might be a dead listing that the host no longer makes available but hasn't removed from the site. Finally, it might be a brand-new listing that is still in the process of being set up by the host.\n",
    "\n",
    "Listings that have no availability due to their popularity should clearly remain in the dataset, but the other two possibilities make good candidates to be dropped prior to modeling. To see which of these possibilities seem to hold, we look at has_availability against some other variables in the data."
   ]
  },
  {
   "cell_type": "markdown",
   "id": "38dbef22",
   "metadata": {},
   "source": [
    "### has_availability vs. last_review_dates"
   ]
  },
  {
   "cell_type": "markdown",
   "id": "1570d1ab",
   "metadata": {},
   "source": [
    "A popular listing should have recent reviews. Of the 462 no-availability listings, how many have any reviews at all? "
   ]
  },
  {
   "cell_type": "code",
   "execution_count": 42,
   "id": "bfee0d77",
   "metadata": {},
   "outputs": [],
   "source": [
    "no_av = ldf[ha == 0]"
   ]
  },
  {
   "cell_type": "code",
   "execution_count": 43,
   "id": "8fb13215",
   "metadata": {},
   "outputs": [
    {
     "data": {
      "text/plain": [
       "208"
      ]
     },
     "execution_count": 43,
     "metadata": {},
     "output_type": "execute_result"
    }
   ],
   "source": [
    "len(no_av[no_av['number_of_reviews'] > 0])"
   ]
  },
  {
   "cell_type": "markdown",
   "id": "52f55b29",
   "metadata": {},
   "source": [
    "Only 208 have any reviews. To see if there are any popular no-availability listings, we display a histogram of last_review_dates for listings with no availability."
   ]
  },
  {
   "cell_type": "code",
   "execution_count": 44,
   "id": "ed16b849",
   "metadata": {},
   "outputs": [
    {
     "data": {
      "image/png": "[encoded data removed]",
      "text/plain": [
       "<Figure size 1000x600 with 1 Axes>"
      ]
     },
     "metadata": {},
     "output_type": "display_data"
    }
   ],
   "source": [
    "figure = plt.figure(figsize=(10,6))\n",
    "\n",
    "axes = figure.add_subplot(1, 1, 1)\n",
    "n, bins, patches = axes.hist(no_av['last_review'], color=\"DimGray\", density=False, bins=41, alpha=0.75)\n",
    "axes.set_xlabel(\"last review date\")\n",
    "axes.set_ylabel(\"Density\")\n",
    "axes.set_title(\"Density Histogram of last review dates, no availability\")\n",
    "\n",
    "plt.show()\n",
    "plt.close()"
   ]
  },
  {
   "cell_type": "markdown",
   "id": "5b3e33cf",
   "metadata": {},
   "source": [
    "None of the no-availability listings have reviews in 2023, and only one of them has a review in 2022. Most have their last review before the COVID pandemic struck in early 2020. We conclude that none of these listings have no availability due to their popularity."
   ]
  },
  {
   "cell_type": "markdown",
   "id": "8a5ee42b",
   "metadata": {},
   "source": [
    "### has_availability vs. host_listings_count"
   ]
  },
  {
   "cell_type": "markdown",
   "id": "4774880c",
   "metadata": {},
   "source": [
    "254 of 462 no-availability listings have no reviews at all, which means they might be brand-new listings. Such listings seem much more likely to also have brand-new hosts, especially if it's the host's only listing. We look at host_listings_count for no-review, no-availability listings."
   ]
  },
  {
   "cell_type": "code",
   "execution_count": 45,
   "id": "5bbdd1af",
   "metadata": {},
   "outputs": [],
   "source": [
    "no_r_no_av = no_av[no_av['number_of_reviews']==0]"
   ]
  },
  {
   "cell_type": "code",
   "execution_count": 46,
   "id": "b28966b4",
   "metadata": {},
   "outputs": [
    {
     "data": {
      "text/html": [
       "<div>\n",
       "<style scoped>\n",
       "    .dataframe tbody tr th:only-of-type {\n",
       "        vertical-align: middle;\n",
       "    }\n",
       "\n",
       "    .dataframe tbody tr th {\n",
       "        vertical-align: top;\n",
       "    }\n",
       "\n",
       "    .dataframe thead th {\n",
       "        text-align: right;\n",
       "    }\n",
       "</style>\n",
       "<table border=\"1\" class=\"dataframe\">\n",
       "  <thead>\n",
       "    <tr style=\"text-align: right;\">\n",
       "      <th></th>\n",
       "      <th>host_listings_count</th>\n",
       "    </tr>\n",
       "  </thead>\n",
       "  <tbody>\n",
       "    <tr>\n",
       "      <th>1</th>\n",
       "      <td>195</td>\n",
       "    </tr>\n",
       "    <tr>\n",
       "      <th>2</th>\n",
       "      <td>30</td>\n",
       "    </tr>\n",
       "    <tr>\n",
       "      <th>15</th>\n",
       "      <td>15</td>\n",
       "    </tr>\n",
       "    <tr>\n",
       "      <th>3</th>\n",
       "      <td>9</td>\n",
       "    </tr>\n",
       "    <tr>\n",
       "      <th>4</th>\n",
       "      <td>2</td>\n",
       "    </tr>\n",
       "    <tr>\n",
       "      <th>8</th>\n",
       "      <td>2</td>\n",
       "    </tr>\n",
       "    <tr>\n",
       "      <th>5</th>\n",
       "      <td>1</td>\n",
       "    </tr>\n",
       "  </tbody>\n",
       "</table>\n",
       "</div>"
      ],
      "text/plain": [
       "    host_listings_count\n",
       "1                   195\n",
       "2                    30\n",
       "15                   15\n",
       "3                     9\n",
       "4                     2\n",
       "8                     2\n",
       "5                     1"
      ]
     },
     "execution_count": 46,
     "metadata": {},
     "output_type": "execute_result"
    }
   ],
   "source": [
    "pd.DataFrame(no_r_no_av['host_listings_count'].value_counts())"
   ]
  },
  {
   "cell_type": "markdown",
   "id": "bf325bee",
   "metadata": {},
   "source": [
    "Of the 254 no-review, no-availability listings, 195 are a host's only listing and 30 are one of the host's two listings. 15 are all from the same host."
   ]
  },
  {
   "cell_type": "markdown",
   "id": "a84637ab",
   "metadata": {},
   "source": [
    "### has_availability vs. host_since"
   ]
  },
  {
   "cell_type": "markdown",
   "id": "09ddd531",
   "metadata": {},
   "source": [
    "Most no-review, no-availability listings are their host's only listing. If these are brand-new listings, their hosts likely joined the site recently too. To investigate, we display a histogram of host_since for no-review, no-availability listings."
   ]
  },
  {
   "cell_type": "code",
   "execution_count": 47,
   "id": "4bd3fc07",
   "metadata": {},
   "outputs": [
    {
     "data": {
      "image/png": "[encoded data removed]",
      "text/plain": [
       "<Figure size 1000x600 with 1 Axes>"
      ]
     },
     "metadata": {},
     "output_type": "display_data"
    }
   ],
   "source": [
    "figure = plt.figure(figsize=(10,6))\n",
    "\n",
    "axes = figure.add_subplot(1, 1, 1)\n",
    "n, bins, patches = axes.hist(no_r_no_av['host_since'], color=\"DimGray\", \n",
    "                             density=False, bins=41, alpha=0.75)\n",
    "axes.set_xlabel(\"host_since\")\n",
    "axes.set_ylabel(\"Count of listings\")\n",
    "axes.set_title(\"Histogram of host_since for no-review, no-availability listings\")\n",
    "\n",
    "plt.show()\n",
    "plt.close()"
   ]
  },
  {
   "cell_type": "markdown",
   "id": "f030c42a",
   "metadata": {},
   "source": [
    "Only six of these listings have hosts who joined relatively recently (2022 or later). We take a closer look at these listings."
   ]
  },
  {
   "cell_type": "code",
   "execution_count": 48,
   "id": "ba375e6d",
   "metadata": {},
   "outputs": [
    {
     "data": {
      "text/html": [
       "<div>\n",
       "<style scoped>\n",
       "    .dataframe tbody tr th:only-of-type {\n",
       "        vertical-align: middle;\n",
       "    }\n",
       "\n",
       "    .dataframe tbody tr th {\n",
       "        vertical-align: top;\n",
       "    }\n",
       "\n",
       "    .dataframe thead th {\n",
       "        text-align: right;\n",
       "    }\n",
       "</style>\n",
       "<table border=\"1\" class=\"dataframe\">\n",
       "  <thead>\n",
       "    <tr style=\"text-align: right;\">\n",
       "      <th></th>\n",
       "      <th>MAX(last_scraped)</th>\n",
       "      <th>host_id</th>\n",
       "      <th>host_since</th>\n",
       "      <th>host_total_listings_count</th>\n",
       "    </tr>\n",
       "  </thead>\n",
       "  <tbody>\n",
       "    <tr>\n",
       "      <th>7853</th>\n",
       "      <td>2022-12-20</td>\n",
       "      <td>488242955</td>\n",
       "      <td>2022-11-18</td>\n",
       "      <td>1</td>\n",
       "    </tr>\n",
       "    <tr>\n",
       "      <th>8429</th>\n",
       "      <td>2023-03-19</td>\n",
       "      <td>501998814</td>\n",
       "      <td>2023-02-20</td>\n",
       "      <td>2</td>\n",
       "    </tr>\n",
       "    <tr>\n",
       "      <th>8430</th>\n",
       "      <td>2023-03-19</td>\n",
       "      <td>501428596</td>\n",
       "      <td>2023-02-16</td>\n",
       "      <td>2</td>\n",
       "    </tr>\n",
       "    <tr>\n",
       "      <th>8454</th>\n",
       "      <td>2023-03-19</td>\n",
       "      <td>502923600</td>\n",
       "      <td>2023-02-26</td>\n",
       "      <td>1</td>\n",
       "    </tr>\n",
       "    <tr>\n",
       "      <th>8476</th>\n",
       "      <td>2023-03-19</td>\n",
       "      <td>503691862</td>\n",
       "      <td>2023-03-03</td>\n",
       "      <td>1</td>\n",
       "    </tr>\n",
       "    <tr>\n",
       "      <th>8589</th>\n",
       "      <td>2023-03-19</td>\n",
       "      <td>501998814</td>\n",
       "      <td>2023-02-20</td>\n",
       "      <td>2</td>\n",
       "    </tr>\n",
       "  </tbody>\n",
       "</table>\n",
       "</div>"
      ],
      "text/plain": [
       "     MAX(last_scraped)    host_id host_since host_total_listings_count\n",
       "7853        2022-12-20  488242955 2022-11-18                         1\n",
       "8429        2023-03-19  501998814 2023-02-20                         2\n",
       "8430        2023-03-19  501428596 2023-02-16                         2\n",
       "8454        2023-03-19  502923600 2023-02-26                         1\n",
       "8476        2023-03-19  503691862 2023-03-03                         1\n",
       "8589        2023-03-19  501998814 2023-02-20                         2"
      ]
     },
     "execution_count": 48,
     "metadata": {},
     "output_type": "execute_result"
    }
   ],
   "source": [
    "no_r_no_av.loc[no_r_no_av['host_since'] > pd.to_datetime('2022-01-01'),\n",
    "         ['MAX(last_scraped)','host_id','host_since','host_total_listings_count']]"
   ]
  },
  {
   "cell_type": "markdown",
   "id": "29849671",
   "metadata": {},
   "source": [
    "host_id = 488242955 only had their listing on the site for a short period of time. The other 5 seem like brand-new listings that their hosts have not finished setting up. "
   ]
  },
  {
   "cell_type": "markdown",
   "id": "458e7b72",
   "metadata": {},
   "source": [
    "NOTE TO GROUP 9: Most no-availability listings seem to be dead listings except for possibly the 5 brand-new ones. I recommend we drop all of them (<i>maybe</i> keeping the brand-new ones in)."
   ]
  }
 ],
 "metadata": {
  "kernelspec": {
   "display_name": "Python 3 (ipykernel)",
   "language": "python",
   "name": "python3"
  },
  "language_info": {
   "codemirror_mode": {
    "name": "ipython",
    "version": 3
   },
   "file_extension": ".py",
   "mimetype": "text/x-python",
   "name": "python",
   "nbconvert_exporter": "python",
   "pygments_lexer": "ipython3",
   "version": "3.9.13"
  }
 },
 "nbformat": 4,
 "nbformat_minor": 5
}
