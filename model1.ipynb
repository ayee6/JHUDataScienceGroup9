{
 "cells": [
  {
   "cell_type": "code",
   "execution_count": 1,
   "metadata": {},
   "outputs": [],
   "source": [
    "import sqlite3\n",
    "import pandas as pd\n",
    "import numpy as np\n",
    "import matplotlib.pyplot as plt\n",
    "import scipy.stats as stats\n",
    "import seaborn as sns\n",
    "import datetime\n",
    "from collections import Counter\n",
    "import models\n",
    "import math\n",
    "\n",
    "import warnings\n",
    "warnings.filterwarnings('ignore')"
   ]
  },
  {
   "cell_type": "code",
   "execution_count": 2,
   "metadata": {},
   "outputs": [],
   "source": [
    "# Connect to airbnb database\n",
    "connection = sqlite3.connect('airbnb.db')"
   ]
  },
  {
   "cell_type": "code",
   "execution_count": 3,
   "metadata": {},
   "outputs": [],
   "source": [
    "# Query the listings table in airbnb.db and convert the listings table to dataframe\n",
    "vwListings = pd.read_sql('SELECT * FROM most_recent_listings', connection)"
   ]
  },
  {
   "cell_type": "markdown",
   "metadata": {},
   "source": [
    "Since the original data set contains a lot of noise, we will clean it up before feeding to the model. After completing EDA, we decided to drop some observations, convert data types, and manipulate some variables."
   ]
  },
  {
   "cell_type": "code",
   "execution_count": 4,
   "metadata": {},
   "outputs": [],
   "source": [
    "## STEVE: convert price to numeric\n",
    "vwListings['price'] = vwListings['price'].str.replace(',','',regex=False)\n",
    "vwListings['price'] = vwListings['price'].str.strip('$').astype('float')"
   ]
  },
  {
   "cell_type": "code",
   "execution_count": 5,
   "metadata": {},
   "outputs": [],
   "source": [
    "## STEVE: host_reponse_rate, host_acceptance_rate - fillna ('') with 0\n",
    "# Create room_type_mod grouping hotel rooms together\n",
    "vwListings['room_type_mod'] = vwListings['room_type']\n",
    "vwListings.loc[vwListings['property_type'].isin(['Room in hotel', 'Room in boutique hotel',\n",
    "        'Private room in bed and breakfast']), 'room_type_mod'] = 'Hotel room'\n",
    "\n",
    "# Drop the listings having price = 0\n",
    "vwListings.drop(vwListings.loc[vwListings['price']==0].index, inplace=True)\n",
    "\n",
    "# Drop the unavailable listings\n",
    "vwListings.drop(vwListings.loc[vwListings['has_availability']=='f'].index, inplace=True)\n",
    "vwListings = vwListings.reset_index(drop=True)\n",
    "\n",
    "# Replace null reviews_per_month = 0\n",
    "vwListings['reviews_per_month'] = vwListings['reviews_per_month'].replace({'': 0})\n",
    "\n",
    "# Drop 2 listings having over 31 reviews per month\n",
    "vwListings.drop(vwListings.loc[vwListings['reviews_per_month'] > 31].index, inplace=True)\n",
    "vwListings = vwListings.reset_index(drop=True)\n",
    "\n",
    "# Replace null year in host_since by the most common value 2019-09-13\n",
    "vwListings['host_since'] = vwListings['host_since'].replace({'': '2019-09-13'})\n",
    "vwListings['host_since'] = pd.to_datetime(vwListings['host_since'])\n",
    "\n",
    "# Replace null value by 'N/A' in host_response_time\n",
    "vwListings['host_response_time'] = vwListings['host_response_time'].replace({'': 'N/A'})\n",
    "\n",
    "# Replace N/A value in host_response_rate = 0\n",
    "vwListings['host_response_rate'] = vwListings['host_response_rate'].str.replace('N/A', '0%')\n",
    "vwListings['host_response_rate'] = vwListings['host_response_rate'].str.replace('%', '')\n",
    "vwListings['host_response_rate'] = pd.to_numeric(vwListings['host_response_rate'])\n",
    "vwListings['host_response_rate'] = vwListings['host_response_rate'].fillna(0)\n",
    "\n",
    "# Replace N/A value in host_acceptance_rate = 0\n",
    "vwListings['host_acceptance_rate'] = vwListings['host_acceptance_rate'].str.replace('N/A', '0%')\n",
    "vwListings['host_acceptance_rate'] = vwListings['host_acceptance_rate'].str.replace('%', '')\n",
    "vwListings['host_acceptance_rate'] = pd.to_numeric(vwListings['host_acceptance_rate'])\n",
    "vwListings['host_acceptance_rate'] = vwListings['host_acceptance_rate'].fillna(0)\n",
    "\n",
    "# Replace null value by 'f' in host_is_superhost\n",
    "vwListings['host_is_superhost'] = vwListings['host_is_superhost'].replace({'': 'f'})\n",
    "\n",
    "# Replace null value by 'f' in host_verifications\n",
    "vwListings['host_verifications'] = vwListings['host_verifications'].replace({'': 'f'})\n",
    "\n",
    "# Replace null value by 'f' in host_has_profile_pic\n",
    "vwListings['host_has_profile_pic'] = vwListings['host_has_profile_pic'].replace({'': 'f'})\n",
    "\n",
    "# Replace null value by 'f' in host_identity_verified\n",
    "vwListings['host_identity_verified'] = vwListings['host_identity_verified'].replace({'': 'f'})"
   ]
  },
  {
   "cell_type": "markdown",
   "metadata": {},
   "source": [
    "Next, we will clean the bedrooms variable. We will follow the rules below:\n",
    "- If the value of the bedrooms variable is null and the value of the beds variable is not null, bedrooms will be equal to the value of beds.\n",
    "- If the value of the beds variable is null and the value of the bedrooms variable is not null, beds will be equal to the value of bedrooms.\n",
    "- Otherwise, both of the variables will be equal the mean of corresponding variable."
   ]
  },
  {
   "cell_type": "code",
   "execution_count": 6,
   "metadata": {},
   "outputs": [],
   "source": [
    "## STEVE: \n",
    "# clean up bedrooms before baths since baths depends on bedrooms\n",
    "# clean up code, convert to numeric\n",
    "vwListings.loc[(vwListings['bedrooms'] == '')&(vwListings['beds'] == ''), ['bedrooms', 'beds']] = [2, 2]\n",
    "vwListings.loc[vwListings['bedrooms'] == '', 'bedrooms'] = vwListings.loc[vwListings['bedrooms'] == '', 'beds']\n",
    "vwListings.loc[vwListings['beds'] == '', 'beds'] = vwListings.loc[vwListings['beds'] == '', 'bedrooms']\n",
    "\n",
    "vwListings['bedrooms'] = pd.to_numeric(vwListings['bedrooms'])\n",
    "vwListings['beds'] = pd.to_numeric(vwListings['beds'])"
   ]
  },
  {
   "cell_type": "markdown",
   "metadata": {},
   "source": [
    "We will convert some bathroom text to the number of bathrooms based on the human's interpretation. With the null values or the half bathroom only, we will assume the number of bathrooms is equal to the mean bathrooms which is 1."
   ]
  },
  {
   "cell_type": "code",
   "execution_count": 7,
   "metadata": {},
   "outputs": [],
   "source": [
    "## STEVE: clean up code\n",
    "vwListings.loc[vwListings['bathrooms_text'] == '0 shared baths', 'bathrooms_text'] = \\\n",
    "    vwListings.loc[vwListings['bathrooms_text'] == '0 shared baths', 'bedrooms'].astype('str') + ' baths'\n",
    "vwListings['bathrooms_text'] = vwListings['bathrooms_text'].replace(\n",
    "    ['0 baths', 'Half-bath', 'Private half-bath', 'Shared half-bath', ''], '1 bathroom')"
   ]
  },
  {
   "cell_type": "code",
   "execution_count": 8,
   "metadata": {
    "scrolled": false
   },
   "outputs": [],
   "source": [
    "## STEVE: change to get half baths in\n",
    "# Extract the number of bathrooms from bathroom_text.\n",
    "#vwListings['bathroom_numbers'] = vwListings['bathrooms_text'].str.extract('(\\d+)') # previous\n",
    "vwListings['bathroom_numbers'] = vwListings['bathrooms_text'].str.split().str.get(0)\n",
    "vwListings['bathroom_numbers'] = pd.to_numeric(vwListings['bathroom_numbers'])"
   ]
  },
  {
   "cell_type": "code",
   "execution_count": 9,
   "metadata": {},
   "outputs": [],
   "source": [
    "# This step is to prepare for One Hot Encodings\n",
    "for i in range(len(vwListings['host_response_time'])):\n",
    "    if 'within an hour' in vwListings['host_response_time'][i]:\n",
    "        vwListings['host_response_time'][i] = 'within_an_hour'\n",
    "    elif 'N/A' in vwListings['host_response_time'][i]:\n",
    "        vwListings['host_response_time'][i] = 'na'\n",
    "    elif 'within a few hours' in vwListings['host_response_time'][i]:\n",
    "        vwListings['host_response_time'][i] = 'within_a_few_hours'\n",
    "    elif 'within a day' in vwListings['host_response_time'][i]:\n",
    "        vwListings['host_response_time'][i] = 'within_a_day'\n",
    "    elif 'a few days or more' in vwListings['host_response_time'][i]:\n",
    "        vwListings['host_response_time'][i] = 'a_few_days_or_more'\n",
    "\n",
    "        \n",
    "for i in range(len(vwListings['room_type_mod'])):\n",
    "    if 'Entire home/apt' in vwListings['room_type_mod'][i]:\n",
    "        vwListings['room_type_mod'][i] = 'entire_home_apt'\n",
    "    elif 'Private room' in vwListings['room_type_mod'][i]:\n",
    "        vwListings['room_type_mod'][i] = 'private_room'\n",
    "    elif 'Hotel room' in vwListings['room_type_mod'][i]:\n",
    "        vwListings['room_type_mod'][i] = 'hotel_room'\n",
    "    elif 'Shared room' in vwListings['room_type_mod'][i]:\n",
    "        vwListings['room_type_mod'][i] = 'shared_room'"
   ]
  },
  {
   "cell_type": "code",
   "execution_count": 10,
   "metadata": {},
   "outputs": [],
   "source": [
    "# Convert the all the review scores to numeric\n",
    "vwListings['review_scores_rating'] = pd.to_numeric(vwListings['review_scores_rating'])\n",
    "vwListings['review_scores_accuracy'] = pd.to_numeric(vwListings['review_scores_accuracy'])\n",
    "vwListings['review_scores_cleanliness'] = pd.to_numeric(vwListings['review_scores_cleanliness'])\n",
    "vwListings['review_scores_checkin'] = pd.to_numeric(vwListings['review_scores_checkin'])\n",
    "vwListings['review_scores_communication'] = pd.to_numeric(vwListings['review_scores_communication'])\n",
    "vwListings['review_scores_location'] = pd.to_numeric(vwListings['review_scores_location'])\n",
    "vwListings['review_scores_value'] = pd.to_numeric(vwListings['review_scores_value'])"
   ]
  },
  {
   "cell_type": "code",
   "execution_count": 11,
   "metadata": {},
   "outputs": [],
   "source": [
    "## STEVE: fill review_scores na with the mean\n",
    "for col in vwListings.columns:\n",
    "    if col.startswith('review_scores'):\n",
    "        x = vwListings[col]\n",
    "        vwListings[col] = vwListings[col].fillna(x.mean())"
   ]
  },
  {
   "cell_type": "code",
   "execution_count": 12,
   "metadata": {},
   "outputs": [],
   "source": [
    "#  the coordinates (latitude, longtitute of a place from google map )\n",
    "smithsonian_lat = 38.8889532077163\n",
    "smithsonian_long = -77.0259992316524\n",
    "lincoln_memorial_lat = 38.8893771334115\n",
    "lincoln_memorial_long = -77.0501761044084\n",
    "capitol_lat = 38.8900557831996\n",
    "capttol_long = -77.0090290467363\n",
    "white_house_lat = 38.9103145107623\n",
    "white_house_long = -77.0221504467353\n",
    "library_of_congress_lat = 38.8888008852652\n",
    "library_of_congress_long = -77.0047082755724\n",
    "nationals_park_lat = 38.8731981381059\n",
    "nationals_park_long = -77.0074329\n",
    "national_zoo_lat = 38.9294590679026\n",
    "national_zoo_long = -77.0492384835061\n",
    "union_station_lat = 38.8973065709087\n",
    "union_station_long = -77.00629767372\n",
    "mcpherson_sq_lat = 38.9028682064423\n",
    "mcpherson_sq_long = -77.0324745881233"
   ]
  },
  {
   "cell_type": "code",
   "execution_count": 13,
   "metadata": {},
   "outputs": [],
   "source": [
    "# distance unit = miles\n",
    "vwListings[\"distance_smithsonian\"] = np.arccos(np.sin(np.radians(vwListings[\"latitude\"]))\n",
    "                                            * np.sin(np.radians(smithsonian_lat)) \n",
    "                                            + np.cos(np.radians(vwListings[\"latitude\"]))\n",
    "                                            *np.cos(np.radians(smithsonian_lat))\n",
    "                                            *np.cos(np.radians(smithsonian_long-vwListings[\"longitude\"])) )*3963*1.15077945"
   ]
  },
  {
   "cell_type": "code",
   "execution_count": 14,
   "metadata": {},
   "outputs": [],
   "source": [
    "vwListings[\"distance_lincoln\"] = np.arccos(np.sin(np.radians(vwListings[\"latitude\"]))\n",
    "                                            * np.sin(np.radians(lincoln_memorial_lat)) \n",
    "                                            + np.cos(np.radians(vwListings[\"latitude\"]))\n",
    "                                            *np.cos(np.radians(lincoln_memorial_lat))\n",
    "                                            *np.cos(np.radians(lincoln_memorial_long-vwListings[\"longitude\"])) )*3963*1.15077945"
   ]
  },
  {
   "cell_type": "code",
   "execution_count": 15,
   "metadata": {},
   "outputs": [],
   "source": [
    "vwListings[\"distance_capitol\"] = np.arccos(np.sin(np.radians(vwListings[\"latitude\"]))\n",
    "                                            * np.sin(np.radians(capitol_lat)) \n",
    "                                            + np.cos(np.radians(vwListings[\"latitude\"]))\n",
    "                                            *np.cos(np.radians(capitol_lat))\n",
    "                                            *np.cos(np.radians(capttol_long-vwListings[\"longitude\"])) )*3963*1.15077945"
   ]
  },
  {
   "cell_type": "code",
   "execution_count": 16,
   "metadata": {},
   "outputs": [],
   "source": [
    "vwListings[\"distance_white_house\"] = np.arccos(np.sin(np.radians(vwListings[\"latitude\"]))\n",
    "                                            * np.sin(np.radians(white_house_lat)) \n",
    "                                            + np.cos(np.radians(vwListings[\"latitude\"]))\n",
    "                                            *np.cos(np.radians(white_house_lat))\n",
    "                                            *np.cos(np.radians(white_house_long-vwListings[\"longitude\"])) )*3963*1.15077945"
   ]
  },
  {
   "cell_type": "code",
   "execution_count": 17,
   "metadata": {},
   "outputs": [],
   "source": [
    "vwListings[\"distance_library_congress\"] = np.arccos(np.sin(np.radians(vwListings[\"latitude\"]))\n",
    "                                            * np.sin(np.radians(library_of_congress_lat)) \n",
    "                                            + np.cos(np.radians(vwListings[\"latitude\"]))\n",
    "                                            *np.cos(np.radians(library_of_congress_lat))\n",
    "                                            *np.cos(np.radians(library_of_congress_long-vwListings[\"longitude\"])))*3963*1.15077945"
   ]
  },
  {
   "cell_type": "code",
   "execution_count": 18,
   "metadata": {},
   "outputs": [],
   "source": [
    "vwListings[\"distance_nationals_park\"] = np.arccos(np.sin(np.radians(vwListings[\"latitude\"]))\n",
    "                                            * np.sin(np.radians(nationals_park_lat)) \n",
    "                                            + np.cos(np.radians(vwListings[\"latitude\"]))\n",
    "                                            *np.cos(np.radians(nationals_park_lat))\n",
    "                                            *np.cos(np.radians(nationals_park_long-vwListings[\"longitude\"])) )*3963*1.15077945"
   ]
  },
  {
   "cell_type": "code",
   "execution_count": 19,
   "metadata": {},
   "outputs": [],
   "source": [
    "vwListings[\"distance_national_zoo\"] = np.arccos(np.sin(np.radians(vwListings[\"latitude\"]))\n",
    "                                            * np.sin(np.radians(national_zoo_lat)) \n",
    "                                            + np.cos(np.radians(vwListings[\"latitude\"]))\n",
    "                                            *np.cos(np.radians(national_zoo_lat))\n",
    "                                            *np.cos(np.radians(national_zoo_long-vwListings[\"longitude\"])) )*3963*1.15077945"
   ]
  },
  {
   "cell_type": "code",
   "execution_count": 20,
   "metadata": {},
   "outputs": [],
   "source": [
    "vwListings[\"distance_railway\"] = np.arccos(np.sin(np.radians(vwListings[\"latitude\"]))\n",
    "                                            * np.sin(np.radians(union_station_lat)) \n",
    "                                            + np.cos(np.radians(vwListings[\"latitude\"]))\n",
    "                                            *np.cos(np.radians(union_station_lat))\n",
    "                                            *np.cos(np.radians(union_station_long-vwListings[\"longitude\"])) )*3963*1.15077945"
   ]
  },
  {
   "cell_type": "code",
   "execution_count": 21,
   "metadata": {},
   "outputs": [],
   "source": [
    "vwListings[\"distance_mcpherson\"] = np.arccos(np.sin(np.radians(vwListings[\"latitude\"]))\n",
    "                                            * np.sin(np.radians(mcpherson_sq_lat)) \n",
    "                                            + np.cos(np.radians(vwListings[\"latitude\"]))\n",
    "                                            *np.cos(np.radians(mcpherson_sq_lat))\n",
    "                                            *np.cos(np.radians(mcpherson_sq_long-vwListings[\"longitude\"])) )*3963*1.15077945"
   ]
  },
  {
   "cell_type": "markdown",
   "metadata": {},
   "source": [
    "We will convert one hot encodings for the following categorical variables host_response_time, host_is_superhost, host_has_profile_pic, host_identity_verified, room_type_mod"
   ]
  },
  {
   "cell_type": "code",
   "execution_count": 22,
   "metadata": {},
   "outputs": [],
   "source": [
    "## STEVE: add instant_bookable dummies\n",
    "vwListings = pd.concat([vwListings, pd.get_dummies(vwListings['host_response_time'], prefix='response_time', prefix_sep='_')], axis=1)\n",
    "vwListings = pd.concat([vwListings, pd.get_dummies(vwListings['host_is_superhost'], prefix='superhost', prefix_sep='_')], axis=1)\n",
    "vwListings = pd.concat([vwListings, pd.get_dummies(vwListings['host_identity_verified'], prefix='identity_verified', prefix_sep='_')], axis=1)\n",
    "vwListings = pd.concat([vwListings, pd.get_dummies(vwListings['host_has_profile_pic'], prefix='profile', prefix_sep='_')], axis=1)\n",
    "vwListings = pd.concat([vwListings, pd.get_dummies(vwListings['room_type_mod'])], axis=1)\n",
    "vwListings = pd.concat([vwListings, pd.get_dummies(vwListings['instant_bookable'], prefix='instant_bookable', prefix_sep='_')], axis=1) # ADDED"
   ]
  },
  {
   "cell_type": "code",
   "execution_count": 23,
   "metadata": {},
   "outputs": [],
   "source": [
    "## STEVE: host_name == \"June\" stuff\n",
    "# For many of their private room listings with only 1 bedroom available, they count bedrooms on the entire property\n",
    "# correcting max_nights < min_nights\n",
    "vwListings.loc[(vwListings['host_id']==294545484)&(vwListings['room_type_mod']=='private_room'), 'bedrooms'] = 1\n",
    "vwListings.loc[vwListings['maximum_nights'] < vwListings['minimum_nights'], 'maximum_nights'] = vwListings.loc[\n",
    "    vwListings['maximum_nights'] < vwListings['minimum_nights'], 'minimum_nights']"
   ]
  },
  {
   "cell_type": "code",
   "execution_count": 24,
   "metadata": {},
   "outputs": [],
   "source": [
    "# STEVE: lower egregiously high maximum_nights\n",
    "vwListings.loc[vwListings['maximum_nights'] > 1125, 'maximum_nights'] = 1125"
   ]
  },
  {
   "cell_type": "code",
   "execution_count": 25,
   "metadata": {},
   "outputs": [],
   "source": [
    "base_date = pd.Timestamp('2023-03-19')"
   ]
  },
  {
   "cell_type": "code",
   "execution_count": 26,
   "metadata": {},
   "outputs": [],
   "source": [
    "## STEVE: create days_since_last_review\n",
    "vwListings['last_review'] = pd.to_datetime(vwListings['last_review'])\n",
    "vwListings['days_since_last_review'] = vwListings['last_review'].apply(lambda x: (base_date - x).days)\n",
    "vwListings.loc[vwListings['days_since_last_review'].isna(), 'days_since_last_review'] =\\\n",
    "    vwListings['days_since_last_review'].mean() # impute mean (?)"
   ]
  },
  {
   "cell_type": "code",
   "execution_count": 27,
   "metadata": {},
   "outputs": [],
   "source": [
    "## STEVE: create days_since_host_joined\n",
    "vwListings['days_since_host_joined'] = vwListings['host_since'].apply(lambda x: (base_date - x).days)"
   ]
  },
  {
   "cell_type": "markdown",
   "metadata": {},
   "source": [
    "### MODEL 1"
   ]
  },
  {
   "cell_type": "markdown",
   "metadata": {},
   "source": [
    "INSERT HERE: predictions of coefficient values prior to performing regression"
   ]
  },
  {
   "cell_type": "code",
   "execution_count": 28,
   "metadata": {
    "scrolled": true
   },
   "outputs": [],
   "source": [
    "# NEED TO CONFIRM WITH STEVE AGAIN\n",
    "# Convert the date time of last review to numeric\n",
    "#vwListings['last_review'] = pd.to_datetime(vwListings['last_review'])"
   ]
  },
  {
   "cell_type": "code",
   "execution_count": 29,
   "metadata": {},
   "outputs": [
    {
     "data": {
      "text/html": [
       "<p><strong>Model: price ~ response_time_a_few_days_or_more + response_time_within_a_day + response_time_within_a_few_hours + response_time_within_an_hour + host_response_rate + host_acceptance_rate + superhost_t + profile_t + identity_verified_t + entire_home_apt + hotel_room + private_room + accommodates + bathroom_numbers + bedrooms + beds + minimum_nights + maximum_nights + number_of_reviews + review_scores_rating + review_scores_accuracy + review_scores_cleanliness + review_scores_checkin + review_scores_communication + review_scores_location + review_scores_value + instant_bookable_t + calculated_host_listings_count + distance_smithsonian + distance_lincoln + distance_capitol + distance_white_house + distance_library_congress + distance_nationals_park + distance_national_zoo + distance_railway + distance_mcpherson + days_since_last_review + days_since_host_joined</strong><br/><table>\n",
       "<tbody>\n",
       "<tr><td>                                </td><td>                     </td><td>                     </td><td><strong>95% BCI</strong</td><td>                   </td></tr>\n",
       "<tr><td><strong>Coefficients</strong   </td><td>                     </td><td><strong>Mean</strong</td><td><strong>Lo</strong     </td><td><strong>Hi</strong</td></tr>\n",
       "<tr><td>                                </td><td>$\\beta_{0}$          </td><td>-232.5623            </td><td>-316.9950               </td><td>-153.0486          </td></tr>\n",
       "<tr><td>response_time_a_few_days_or_more</td><td>$\\beta_{1}$          </td><td>-4.9648              </td><td>-33.3930                </td><td>34.4421            </td></tr>\n",
       "<tr><td>response_time_within_a_day      </td><td>$\\beta_{2}$          </td><td>-12.9884             </td><td>-82.6157                </td><td>71.5704            </td></tr>\n",
       "<tr><td>response_time_within_a_few_hours</td><td>$\\beta_{3}$          </td><td>-40.4081             </td><td>-102.1229               </td><td>33.4391            </td></tr>\n",
       "<tr><td>response_time_within_an_hour    </td><td>$\\beta_{4}$          </td><td>-8.2019              </td><td>-73.5441                </td><td>65.4906            </td></tr>\n",
       "<tr><td>host_response_rate              </td><td>$\\beta_{5}$          </td><td>-0.0367              </td><td>-0.8423                 </td><td>0.6463             </td></tr>\n",
       "<tr><td>host_acceptance_rate            </td><td>$\\beta_{6}$          </td><td>0.2788               </td><td>-0.0535                 </td><td>0.5484             </td></tr>\n",
       "<tr><td>superhost_t                     </td><td>$\\beta_{7}$          </td><td>10.5352              </td><td>0.4201                  </td><td>16.6274            </td></tr>\n",
       "<tr><td>profile_t                       </td><td>$\\beta_{8}$          </td><td>3.3246               </td><td>-22.2059                </td><td>29.3573            </td></tr>\n",
       "<tr><td>identity_verified_t             </td><td>$\\beta_{9}$          </td><td>-9.6995              </td><td>-21.2047                </td><td>5.2686             </td></tr>\n",
       "<tr><td>entire_home_apt                 </td><td>$\\beta_{10}$         </td><td>58.4831              </td><td>33.4561                 </td><td>95.0556            </td></tr>\n",
       "<tr><td>hotel_room                      </td><td>$\\beta_{11}$         </td><td>170.5072             </td><td>131.1157                </td><td>207.5867           </td></tr>\n",
       "<tr><td>private_room                    </td><td>$\\beta_{12}$         </td><td>32.8319              </td><td>12.9908                 </td><td>62.2271            </td></tr>\n",
       "<tr><td>accommodates                    </td><td>$\\beta_{13}$         </td><td>12.5436              </td><td>-1.0284                 </td><td>24.3121            </td></tr>\n",
       "<tr><td>bathroom_numbers                </td><td>$\\beta_{14}$         </td><td>38.3738              </td><td>22.1698                 </td><td>54.6048            </td></tr>\n",
       "<tr><td>bedrooms                        </td><td>$\\beta_{15}$         </td><td>52.8602              </td><td>36.3392                 </td><td>72.2496            </td></tr>\n",
       "<tr><td>beds                            </td><td>$\\beta_{16}$         </td><td>4.9499               </td><td>-10.6107                </td><td>22.6005            </td></tr>\n",
       "<tr><td>minimum_nights                  </td><td>$\\beta_{17}$         </td><td>-0.1441              </td><td>-0.4236                 </td><td>-0.0104            </td></tr>\n",
       "<tr><td>maximum_nights                  </td><td>$\\beta_{18}$         </td><td>-0.0065              </td><td>-0.0149                 </td><td>0.0033             </td></tr>\n",
       "<tr><td>number_of_reviews               </td><td>$\\beta_{19}$         </td><td>-0.1364              </td><td>-0.1790                 </td><td>-0.0938            </td></tr>\n",
       "<tr><td>review_scores_rating            </td><td>$\\beta_{20}$         </td><td>21.9120              </td><td>9.3274                  </td><td>33.7325            </td></tr>\n",
       "<tr><td>review_scores_accuracy          </td><td>$\\beta_{21}$         </td><td>3.6552               </td><td>-6.4959                 </td><td>16.5256            </td></tr>\n",
       "<tr><td>review_scores_cleanliness       </td><td>$\\beta_{22}$         </td><td>14.0113              </td><td>1.7495                  </td><td>26.0685            </td></tr>\n",
       "<tr><td>review_scores_checkin           </td><td>$\\beta_{23}$         </td><td>-8.3914              </td><td>-17.5154                </td><td>1.6520             </td></tr>\n",
       "<tr><td>review_scores_communication     </td><td>$\\beta_{24}$         </td><td>-3.8002              </td><td>-19.8800                </td><td>6.1667             </td></tr>\n",
       "<tr><td>review_scores_location          </td><td>$\\beta_{25}$         </td><td>10.8550              </td><td>-0.0000                 </td><td>22.9649            </td></tr>\n",
       "<tr><td>review_scores_value             </td><td>$\\beta_{26}$         </td><td>-13.8589             </td><td>-31.4016                </td><td>0.8316             </td></tr>\n",
       "<tr><td>instant_bookable_t              </td><td>$\\beta_{27}$         </td><td>6.7920               </td><td>0.3481                  </td><td>14.1495            </td></tr>\n",
       "<tr><td>calculated_host_listings_count  </td><td>$\\beta_{28}$         </td><td>-0.0836              </td><td>-0.1608                 </td><td>-0.0012            </td></tr>\n",
       "<tr><td>distance_smithsonian            </td><td>$\\beta_{29}$         </td><td>106.4801             </td><td>-5.0805                 </td><td>215.8982           </td></tr>\n",
       "<tr><td>distance_lincoln                </td><td>$\\beta_{30}$         </td><td>1.7054               </td><td>-18.0974                </td><td>20.3005            </td></tr>\n",
       "<tr><td>distance_capitol                </td><td>$\\beta_{31}$         </td><td>-498.3192            </td><td>-745.1941               </td><td>-273.6197          </td></tr>\n",
       "<tr><td>distance_white_house            </td><td>$\\beta_{32}$         </td><td>97.3392              </td><td>55.0223                 </td><td>129.7561           </td></tr>\n",
       "<tr><td>distance_library_congress       </td><td>$\\beta_{33}$         </td><td>295.7338             </td><td>152.4130                </td><td>447.9497           </td></tr>\n",
       "<tr><td>distance_nationals_park         </td><td>$\\beta_{34}$         </td><td>45.3555              </td><td>24.4685                 </td><td>74.5920            </td></tr>\n",
       "<tr><td>distance_national_zoo           </td><td>$\\beta_{35}$         </td><td>10.7596              </td><td>3.0690                  </td><td>20.4747            </td></tr>\n",
       "<tr><td>distance_railway                </td><td>$\\beta_{36}$         </td><td>57.3505              </td><td>-1.1565                 </td><td>118.1433           </td></tr>\n",
       "<tr><td>distance_mcpherson              </td><td>$\\beta_{37}$         </td><td>-116.1625            </td><td>-165.6963               </td><td>-60.9866           </td></tr>\n",
       "<tr><td>days_since_last_review          </td><td>$\\beta_{38}$         </td><td>0.0220               </td><td>-0.0002                 </td><td>0.0468             </td></tr>\n",
       "<tr><td>days_since_host_joined          </td><td>$\\beta_{39}$         </td><td>-0.0010              </td><td>-0.0052                 </td><td>0.0034             </td></tr>\n",
       "<tr><td>                                </td><td>                     </td><td>                     </td><td>                        </td><td>                   </td></tr>\n",
       "<tr><td><strong>Metrics</strong        </td><td><strong>Mean</strong</td><td><strong>Lo</strong  </td><td><strong>Hi</strong     </td><td>                   </td></tr>\n",
       "<tr><td>$\\sigma$                        </td><td>166.5861             </td><td>122.3965             </td><td>198.1116                </td><td>                   </td></tr>\n",
       "<tr><td>$R^2$                           </td><td>0.3463               </td><td>0.2718               </td><td>0.4485                  </td><td>                   </td></tr>\n",
       "</tbody>\n",
       "</table></p>"
      ],
      "text/latex": [
       "\\textbf{Model: price $\\sim$ response\\_time\\_a\\_few\\_days\\_or\\_more + response\\_time\\_within\\_a\\_day + response\\_time\\_within\\_a\\_few\\_hours + response\\_time\\_within\\_an\\_hour + host\\_response\\_rate + host\\_acceptance\\_rate + superhost\\_t + profile\\_t + identity\\_verified\\_t + entire\\_home\\_apt + hotel\\_room + private\\_room + accommodates + bathroom\\_numbers + bedrooms + beds + minimum\\_nights + maximum\\_nights + number\\_of\\_reviews + review\\_scores\\_rating + review\\_scores\\_accuracy + review\\_scores\\_cleanliness + review\\_scores\\_checkin + review\\_scores\\_communication + review\\_scores\\_location + review\\_scores\\_value + instant\\_bookable\\_t + calculated\\_host\\_listings\\_count + distance\\_smithsonian + distance\\_lincoln + distance\\_capitol + distance\\_white\\_house + distance\\_library\\_congress + distance\\_nationals\\_park + distance\\_national\\_zoo + distance\\_railway + distance\\_mcpherson + days\\_since\\_last\\_review + days\\_since\\_host\\_joined}\n",
       "\n",
       "\\begin{tabular}{lllll}\n",
       "\\toprule\n",
       "                                        &               &               & \\textbf{95\\% BCI} &             \\\\\n",
       " \\textbf{Coefficients}                  &               & \\textbf{Mean} & \\textbf{Lo}      & \\textbf{Hi} \\\\\n",
       "                                        & $\\beta_{0}$   & -232.5623     & -316.9950        & -153.0486   \\\\\n",
       " response\\_time\\_a\\_few\\_days\\_or\\_more & $\\beta_{1}$   & -4.9648       & -33.3930         & 34.4421     \\\\\n",
       " response\\_time\\_within\\_a\\_day         & $\\beta_{2}$   & -12.9884      & -82.6157         & 71.5704     \\\\\n",
       " response\\_time\\_within\\_a\\_few\\_hours  & $\\beta_{3}$   & -40.4081      & -102.1229        & 33.4391     \\\\\n",
       " response\\_time\\_within\\_an\\_hour       & $\\beta_{4}$   & -8.2019       & -73.5441         & 65.4906     \\\\\n",
       " host\\_response\\_rate                   & $\\beta_{5}$   & -0.0367       & -0.8423          & 0.6463      \\\\\n",
       " host\\_acceptance\\_rate                 & $\\beta_{6}$   & 0.2788        & -0.0535          & 0.5484      \\\\\n",
       " superhost\\_t                           & $\\beta_{7}$   & 10.5352       & 0.4201           & 16.6274     \\\\\n",
       " profile\\_t                             & $\\beta_{8}$   & 3.3246        & -22.2059         & 29.3573     \\\\\n",
       " identity\\_verified\\_t                  & $\\beta_{9}$   & -9.6995       & -21.2047         & 5.2686      \\\\\n",
       " entire\\_home\\_apt                      & $\\beta_{10}$  & 58.4831       & 33.4561          & 95.0556     \\\\\n",
       " hotel\\_room                            & $\\beta_{11}$  & 170.5072      & 131.1157         & 207.5867    \\\\\n",
       " private\\_room                          & $\\beta_{12}$  & 32.8319       & 12.9908          & 62.2271     \\\\\n",
       " accommodates                           & $\\beta_{13}$  & 12.5436       & -1.0284          & 24.3121     \\\\\n",
       " bathroom\\_numbers                      & $\\beta_{14}$  & 38.3738       & 22.1698          & 54.6048     \\\\\n",
       " bedrooms                               & $\\beta_{15}$  & 52.8602       & 36.3392          & 72.2496     \\\\\n",
       " beds                                   & $\\beta_{16}$  & 4.9499        & -10.6107         & 22.6005     \\\\\n",
       " minimum\\_nights                        & $\\beta_{17}$  & -0.1441       & -0.4236          & -0.0104     \\\\\n",
       " maximum\\_nights                        & $\\beta_{18}$  & -0.0065       & -0.0149          & 0.0033      \\\\\n",
       " number\\_of\\_reviews                    & $\\beta_{19}$  & -0.1364       & -0.1790          & -0.0938     \\\\\n",
       " review\\_scores\\_rating                 & $\\beta_{20}$  & 21.9120       & 9.3274           & 33.7325     \\\\\n",
       " review\\_scores\\_accuracy               & $\\beta_{21}$  & 3.6552        & -6.4959          & 16.5256     \\\\\n",
       " review\\_scores\\_cleanliness            & $\\beta_{22}$  & 14.0113       & 1.7495           & 26.0685     \\\\\n",
       " review\\_scores\\_checkin                & $\\beta_{23}$  & -8.3914       & -17.5154         & 1.6520      \\\\\n",
       " review\\_scores\\_communication          & $\\beta_{24}$  & -3.8002       & -19.8800         & 6.1667      \\\\\n",
       " review\\_scores\\_location               & $\\beta_{25}$  & 10.8550       & -0.0000          & 22.9649     \\\\\n",
       " review\\_scores\\_value                  & $\\beta_{26}$  & -13.8589      & -31.4016         & 0.8316      \\\\\n",
       " instant\\_bookable\\_t                   & $\\beta_{27}$  & 6.7920        & 0.3481           & 14.1495     \\\\\n",
       " calculated\\_host\\_listings\\_count      & $\\beta_{28}$  & -0.0836       & -0.1608          & -0.0012     \\\\\n",
       " distance\\_smithsonian                  & $\\beta_{29}$  & 106.4801      & -5.0805          & 215.8982    \\\\\n",
       " distance\\_lincoln                      & $\\beta_{30}$  & 1.7054        & -18.0974         & 20.3005     \\\\\n",
       " distance\\_capitol                      & $\\beta_{31}$  & -498.3192     & -745.1941        & -273.6197   \\\\\n",
       " distance\\_white\\_house                 & $\\beta_{32}$  & 97.3392       & 55.0223          & 129.7561    \\\\\n",
       " distance\\_library\\_congress            & $\\beta_{33}$  & 295.7338      & 152.4130         & 447.9497    \\\\\n",
       " distance\\_nationals\\_park              & $\\beta_{34}$  & 45.3555       & 24.4685          & 74.5920     \\\\\n",
       " distance\\_national\\_zoo                & $\\beta_{35}$  & 10.7596       & 3.0690           & 20.4747     \\\\\n",
       " distance\\_railway                      & $\\beta_{36}$  & 57.3505       & -1.1565          & 118.1433    \\\\\n",
       " distance\\_mcpherson                    & $\\beta_{37}$  & -116.1625     & -165.6963        & -60.9866    \\\\\n",
       " days\\_since\\_last\\_review              & $\\beta_{38}$  & 0.0220        & -0.0002          & 0.0468      \\\\\n",
       " days\\_since\\_host\\_joined              & $\\beta_{39}$  & -0.0010       & -0.0052          & 0.0034      \\\\\n",
       "                                        &               &               &                  &             \\\\\n",
       " \\textbf{Metrics}                       & \\textbf{Mean} & \\textbf{Lo}   & \\textbf{Hi}      &             \\\\\n",
       " $\\sigma$                               & 166.5861      & 122.3965      & 198.1116         &             \\\\\n",
       " $R^2$                                  & 0.3463        & 0.2718        & 0.4485           &             \\\\\n",
       "\\bottomrule\n",
       "\\end{tabular}"
      ],
      "text/markdown": [
       "Model: price ~ response_time_a_few_days_or_more + response_time_within_a_day + response_time_within_a_few_hours + response_time_within_an_hour + host_response_rate + host_acceptance_rate + superhost_t + profile_t + identity_verified_t + entire_home_apt + hotel_room + private_room + accommodates + bathroom_numbers + bedrooms + beds + minimum_nights + maximum_nights + number_of_reviews + review_scores_rating + review_scores_accuracy + review_scores_cleanliness + review_scores_checkin + review_scores_communication + review_scores_location + review_scores_value + instant_bookable_t + calculated_host_listings_count + distance_smithsonian + distance_lincoln + distance_capitol + distance_white_house + distance_library_congress + distance_nationals_park + distance_national_zoo + distance_railway + distance_mcpherson + days_since_last_review + days_since_host_joined\n",
       "|----------------------------------|--------------|-----------|-------------|-----------|\n",
       "|                                  |              |           | **95% BCI** |           |\n",
       "| **Coefficients**                 |              | **Mean**  | **Lo**      | **Hi**    |\n",
       "|                                  | $\\beta_{0}$  | -232.5623 | -316.9950   | -153.0486 |\n",
       "| response_time_a_few_days_or_more | $\\beta_{1}$  | -4.9648   | -33.3930    | 34.4421   |\n",
       "| response_time_within_a_day       | $\\beta_{2}$  | -12.9884  | -82.6157    | 71.5704   |\n",
       "| response_time_within_a_few_hours | $\\beta_{3}$  | -40.4081  | -102.1229   | 33.4391   |\n",
       "| response_time_within_an_hour     | $\\beta_{4}$  | -8.2019   | -73.5441    | 65.4906   |\n",
       "| host_response_rate               | $\\beta_{5}$  | -0.0367   | -0.8423     | 0.6463    |\n",
       "| host_acceptance_rate             | $\\beta_{6}$  | 0.2788    | -0.0535     | 0.5484    |\n",
       "| superhost_t                      | $\\beta_{7}$  | 10.5352   | 0.4201      | 16.6274   |\n",
       "| profile_t                        | $\\beta_{8}$  | 3.3246    | -22.2059    | 29.3573   |\n",
       "| identity_verified_t              | $\\beta_{9}$  | -9.6995   | -21.2047    | 5.2686    |\n",
       "| entire_home_apt                  | $\\beta_{10}$ | 58.4831   | 33.4561     | 95.0556   |\n",
       "| hotel_room                       | $\\beta_{11}$ | 170.5072  | 131.1157    | 207.5867  |\n",
       "| private_room                     | $\\beta_{12}$ | 32.8319   | 12.9908     | 62.2271   |\n",
       "| accommodates                     | $\\beta_{13}$ | 12.5436   | -1.0284     | 24.3121   |\n",
       "| bathroom_numbers                 | $\\beta_{14}$ | 38.3738   | 22.1698     | 54.6048   |\n",
       "| bedrooms                         | $\\beta_{15}$ | 52.8602   | 36.3392     | 72.2496   |\n",
       "| beds                             | $\\beta_{16}$ | 4.9499    | -10.6107    | 22.6005   |\n",
       "| minimum_nights                   | $\\beta_{17}$ | -0.1441   | -0.4236     | -0.0104   |\n",
       "| maximum_nights                   | $\\beta_{18}$ | -0.0065   | -0.0149     | 0.0033    |\n",
       "| number_of_reviews                | $\\beta_{19}$ | -0.1364   | -0.1790     | -0.0938   |\n",
       "| review_scores_rating             | $\\beta_{20}$ | 21.9120   | 9.3274      | 33.7325   |\n",
       "| review_scores_accuracy           | $\\beta_{21}$ | 3.6552    | -6.4959     | 16.5256   |\n",
       "| review_scores_cleanliness        | $\\beta_{22}$ | 14.0113   | 1.7495      | 26.0685   |\n",
       "| review_scores_checkin            | $\\beta_{23}$ | -8.3914   | -17.5154    | 1.6520    |\n",
       "| review_scores_communication      | $\\beta_{24}$ | -3.8002   | -19.8800    | 6.1667    |\n",
       "| review_scores_location           | $\\beta_{25}$ | 10.8550   | -0.0000     | 22.9649   |\n",
       "| review_scores_value              | $\\beta_{26}$ | -13.8589  | -31.4016    | 0.8316    |\n",
       "| instant_bookable_t               | $\\beta_{27}$ | 6.7920    | 0.3481      | 14.1495   |\n",
       "| calculated_host_listings_count   | $\\beta_{28}$ | -0.0836   | -0.1608     | -0.0012   |\n",
       "| distance_smithsonian             | $\\beta_{29}$ | 106.4801  | -5.0805     | 215.8982  |\n",
       "| distance_lincoln                 | $\\beta_{30}$ | 1.7054    | -18.0974    | 20.3005   |\n",
       "| distance_capitol                 | $\\beta_{31}$ | -498.3192 | -745.1941   | -273.6197 |\n",
       "| distance_white_house             | $\\beta_{32}$ | 97.3392   | 55.0223     | 129.7561  |\n",
       "| distance_library_congress        | $\\beta_{33}$ | 295.7338  | 152.4130    | 447.9497  |\n",
       "| distance_nationals_park          | $\\beta_{34}$ | 45.3555   | 24.4685     | 74.5920   |\n",
       "| distance_national_zoo            | $\\beta_{35}$ | 10.7596   | 3.0690      | 20.4747   |\n",
       "| distance_railway                 | $\\beta_{36}$ | 57.3505   | -1.1565     | 118.1433  |\n",
       "| distance_mcpherson               | $\\beta_{37}$ | -116.1625 | -165.6963   | -60.9866  |\n",
       "| days_since_last_review           | $\\beta_{38}$ | 0.0220    | -0.0002     | 0.0468    |\n",
       "| days_since_host_joined           | $\\beta_{39}$ | -0.0010   | -0.0052     | 0.0034    |\n",
       "|                                  |              |           |             |           |\n",
       "| **Metrics**                      | **Mean**     | **Lo**    | **Hi**      |           |\n",
       "| $\\sigma$                         | 166.5861     | 122.3965  | 198.1116    |           |\n",
       "| $R^2$                            | 0.3463       | 0.2718    | 0.4485      |           |"
      ],
      "text/plain": [
       "<models.ResultsWrapper at 0x231311ea810>"
      ]
     },
     "execution_count": 29,
     "metadata": {},
     "output_type": "execute_result"
    }
   ],
   "source": [
    "## STEVE: take out host_since, add days_since_last_review and days_since_host_joined\n",
    "# TEMPORARY TAKE OUT last_review \n",
    "model = (\"price ~ response_time_a_few_days_or_more + response_time_within_a_day \"\n",
    "        \"+ response_time_within_a_few_hours + response_time_within_an_hour + host_response_rate \"\n",
    "        \"+ host_acceptance_rate + superhost_t \"\n",
    "        \"+ profile_t + identity_verified_t + entire_home_apt + hotel_room + private_room + accommodates \"\n",
    "        \"+ bathroom_numbers + bedrooms + beds + minimum_nights + maximum_nights + number_of_reviews \"\n",
    "        \"+ review_scores_rating + review_scores_accuracy + review_scores_cleanliness + review_scores_checkin \"\n",
    "        \"+ review_scores_communication + review_scores_location + review_scores_value + instant_bookable_t \"\n",
    "        \"+ calculated_host_listings_count + distance_smithsonian + distance_lincoln + distance_capitol \"\n",
    "        \"+ distance_white_house + distance_library_congress + distance_nationals_park + distance_national_zoo \"\n",
    "        \"+ distance_railway + distance_mcpherson + days_since_last_review + days_since_host_joined\")\n",
    "result = models.bootstrap_linear_regression(model, data=vwListings)\n",
    "models.describe_bootstrap_lr(result, sd=4)"
   ]
  },
  {
   "cell_type": "markdown",
   "metadata": {},
   "source": [
    "NEXT: follow textbook guidelines to eliminate variables based on prior predictions."
   ]
  }
 ],
 "metadata": {
  "kernelspec": {
   "display_name": "Python (en685648)",
   "language": "python",
   "name": "en685648"
  },
  "language_info": {
   "codemirror_mode": {
    "name": "ipython",
    "version": 3
   },
   "file_extension": ".py",
   "mimetype": "text/x-python",
   "name": "python",
   "nbconvert_exporter": "python",
   "pygments_lexer": "ipython3",
   "version": "3.11.1"
  }
 },
 "nbformat": 4,
 "nbformat_minor": 2
}
