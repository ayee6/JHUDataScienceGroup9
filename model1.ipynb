{
 "cells": [
  {
   "cell_type": "code",
   "execution_count": 1,
   "metadata": {},
   "outputs": [],
   "source": [
    "import sqlite3\n",
    "import pandas as pd\n",
    "import numpy as np\n",
    "import matplotlib.pyplot as plt\n",
    "import scipy.stats as stats\n",
    "import seaborn as sns\n",
    "import datetime\n",
    "from collections import Counter\n",
    "import models\n",
    "import math\n",
    "\n",
    "import warnings\n",
    "warnings.filterwarnings('ignore')"
   ]
  },
  {
   "cell_type": "code",
   "execution_count": 2,
   "metadata": {},
   "outputs": [],
   "source": [
    "# Connect to airbnb database\n",
    "connection = sqlite3.connect('airbnb.db')"
   ]
  },
  {
   "cell_type": "code",
   "execution_count": 3,
   "metadata": {},
   "outputs": [],
   "source": [
    "# Query the listings table in airbnb.db and convert the listings table to dataframe\n",
    "vwListings = pd.read_sql('SELECT * FROM most_recent_listings', connection)"
   ]
  },
  {
   "cell_type": "markdown",
   "metadata": {},
   "source": [
    "Since the original data set have quite a few of noises, we will clean up the data set before feeding to the model. After completing EDA step, we decided to drop some certain observations, convert the data type, manipulate some variables."
   ]
  },
  {
   "cell_type": "code",
   "execution_count": 4,
   "metadata": {},
   "outputs": [],
   "source": [
    "# Create a room_type_mod\n",
    "vwListings['room_type_mod'] = vwListings['room_type']\n",
    "vwListings.loc[vwListings['property_type'].isin(['Room in hotel', 'Room in boutique hotel',\n",
    "        'Private room in bed and breakfast']), 'room_type_mod'] = 'Hotel room'\n",
    "\n",
    "# Drop the listings having price = 0\n",
    "vwListings.drop(vwListings.loc[vwListings['price']==0].index, inplace=True)\n",
    "vwListings = vwListings.reset_index(drop=True)\n",
    "\n",
    "# Drop the unavailable listings\n",
    "vwListings.drop(vwListings.loc[vwListings['has_availability']=='f'].index, inplace=True)\n",
    "vwListings = vwListings.reset_index(drop=True)\n",
    "\n",
    "# Replace null reviews_per_month = 0\n",
    "vwListings['reviews_per_month'] = vwListings['reviews_per_month'].replace({'': 0})\n",
    "\n",
    "# Drop 2 listings having over 31 reviews per month\n",
    "vwListings.drop(vwListings.loc[vwListings['reviews_per_month'] > 31].index, inplace=True)\n",
    "vwListings = vwListings.reset_index(drop=True)\n",
    "\n",
    "# Replace null year in host_since by the most common value 2019-09-13\n",
    "vwListings['host_since'] = vwListings['host_since'].replace({'': '2019-09-13'})\n",
    "vwListings['host_since'] = pd.to_datetime(vwListings['host_since'])\n",
    "\n",
    "# Replace null value by 'N/A' in host_response_time\n",
    "vwListings['host_response_time'] = vwListings['host_response_time'].replace({' ': 'N/A'})\n",
    "\n",
    "# Replace N/A value in host_response_rate = 0\n",
    "vwListings['host_response_rate'] = vwListings['host_response_rate'].str.replace('N/A', '0%')\n",
    "vwListings['host_response_rate'] = vwListings['host_response_rate'].str.replace('%', '')\n",
    "vwListings['host_response_rate'] = pd.to_numeric(vwListings['host_response_rate'])\n",
    "\n",
    "# Replace N/A value in host_acceptance_rate = 0\n",
    "vwListings['host_acceptance_rate'] = vwListings['host_acceptance_rate'].str.replace('N/A', '0%')\n",
    "vwListings['host_acceptance_rate'] = vwListings['host_acceptance_rate'].str.replace('%', '')\n",
    "vwListings['host_acceptance_rate'] = pd.to_numeric(vwListings['host_acceptance_rate'])\n",
    "\n",
    "# Replace null value by 'f' in host_is_superhost\n",
    "vwListings['host_is_superhost'] = vwListings['host_is_superhost'].replace({'': 'f'})\n",
    "\n",
    "# Replace null value by 'f' in host_verifications\n",
    "vwListings['host_verifications'] = vwListings['host_verifications'].replace({'': 'f'})\n",
    "\n",
    "# Replace null value by 'f' in host_has_profile_pic\n",
    "vwListings['host_has_profile_pic'] = vwListings['host_has_profile_pic'].replace({'': 'f'})\n",
    "\n",
    "# Replace null value by 'f' in host_identity_verified\n",
    "vwListings['host_identity_verified'] = vwListings['host_identity_verified'].replace({'': 'f'})"
   ]
  },
  {
   "cell_type": "markdown",
   "metadata": {},
   "source": [
    "We will convert some bathroom text to the number of bathrooms based on the human's interpretation. With the null values or the half bathroom only, we will assume the number of bathrooms is equal to the mean bathrooms which is 1."
   ]
  },
  {
   "cell_type": "code",
   "execution_count": 5,
   "metadata": {
    "scrolled": false
   },
   "outputs": [],
   "source": [
    "for i in range(len(vwListings.bathrooms_text)):\n",
    "    if '0 shared baths' in vwListings['bathrooms_text'][i]: \n",
    "        vwListings['bathrooms_text'][i] = str(vwListings['bedrooms'][i]) + ' bathrooms'\n",
    "    elif '0 baths' in vwListings['bathrooms_text'][i]:\n",
    "        vwListings['bathrooms_text'][i] = '1 bathroom'\n",
    "    elif 'Half-bath' in vwListings['bathrooms_text'][i]:\n",
    "        vwListings['bathrooms_text'][i] = '1 bathroom'\n",
    "    elif 'Private half-bath' in vwListings['bathrooms_text'][i]:\n",
    "        vwListings['bathrooms_text'][i] = '1 bathroom'\n",
    "    elif 'Shared half-bath' in vwListings['bathrooms_text'][i]:\n",
    "        vwListings['bathrooms_text'][i] = '1 bathroom'\n",
    "    elif pd.isna(vwListings['bathrooms_text'][i]) == True:\n",
    "        vwListings['bathrooms_text'][i] = '1 bathroom'\n",
    "    else:\n",
    "        continue\n",
    "\n",
    "# Extract the number of bathrooms from bathroom_text.\n",
    "vwListings['bathroom_numbers'] = vwListings['bathrooms_text'].str.extract('(\\d+)')\n",
    "vwListings['bathroom_numbers'] = pd.to_numeric(vwListings['bathroom_numbers'])"
   ]
  },
  {
   "cell_type": "markdown",
   "metadata": {},
   "source": [
    "Next, we will clean the bedrooms variable. We will follow the rules below:\n",
    "- If the value of the bedrooms variable is null and the value of the beds variable is not null, bedrooms will be equal to the value of beds.\n",
    "- If the value of the beds variable is null and the value of the bedrooms variable is not null, beds will be equal to the value of bedrooms.\n",
    "- Otherwise, both of the variables will be equal the mean of corresponding variable."
   ]
  },
  {
   "cell_type": "code",
   "execution_count": 6,
   "metadata": {},
   "outputs": [],
   "source": [
    "for i in range(len(vwListings['bedrooms'])):\n",
    "    if vwListings['bedrooms'][i] == '' and vwListings['beds'][i] == '':\n",
    "        vwListings['beds'][i] = 2\n",
    "        vwListings['bedrooms'][i] = 2\n",
    "    elif vwListings['beds'][i] == '':\n",
    "        vwListings['beds'][i] = vwListings['bedrooms'][i]\n",
    "    elif vwListings['bedrooms'][i] == '':\n",
    "        vwListings['bedrooms'][i] = vwListings['beds'][i]\n",
    "    else:\n",
    "        continue"
   ]
  },
  {
   "cell_type": "code",
   "execution_count": 7,
   "metadata": {},
   "outputs": [],
   "source": [
    "# Convert the all the review scores to numeric\n",
    "vwListings['review_scores_rating'] = pd.to_numeric(vwListings['review_scores_rating'])\n",
    "vwListings['review_scores_accuracy'] = pd.to_numeric(vwListings['review_scores_accuracy'])\n",
    "vwListings['review_scores_cleanliness'] = pd.to_numeric(vwListings['review_scores_cleanliness'])\n",
    "vwListings['review_scores_checkin'] = pd.to_numeric(vwListings['review_scores_checkin'])\n",
    "vwListings['review_scores_communication'] = pd.to_numeric(vwListings['review_scores_communication'])\n",
    "vwListings['review_scores_location'] = pd.to_numeric(vwListings['review_scores_location'])\n",
    "vwListings['review_scores_value'] = pd.to_numeric(vwListings['review_scores_value'])"
   ]
  },
  {
   "cell_type": "code",
   "execution_count": 8,
   "metadata": {},
   "outputs": [],
   "source": [
    "#  the coordinates (latitude, longtitute of a place from google map )\n",
    "smithsonian_lat = 38.8889532077163\n",
    "smithsonian_long = -77.0259992316524\n",
    "lincoln_memorial_lat = 38.8893771334115\n",
    "lincoln_memorial_long = -77.0501761044084\n",
    "capitol_lat = 38.8900557831996\n",
    "capttol_long = -77.0090290467363\n",
    "white_house_lat = 38.9103145107623\n",
    "white_house_long = -77.0221504467353\n",
    "library_of_congress_lat = 38.8888008852652\n",
    "library_of_congress_long = -77.0047082755724\n",
    "nationals_park_lat = 38.8731981381059\n",
    "nationals_park_long = -77.0074329\n",
    "national_zoo_lat = 38.9294590679026\n",
    "national_zoo_long = -77.0492384835061\n",
    "union_station_lat = 38.8973065709087\n",
    "union_station_long = -77.00629767372\n",
    "mcpherson_sq_lat = 38.9028682064423\n",
    "mcpherson_sq_long = -77.0324745881233"
   ]
  },
  {
   "cell_type": "code",
   "execution_count": 9,
   "metadata": {},
   "outputs": [],
   "source": [
    "# distance unit = miles\n",
    "vwListings[\"distance_smitsonian\"] = np.arccos(np.sin(np.radians(vwListings[\"latitude\"]))\n",
    "                                            * np.sin(np.radians(smithsonian_lat)) \n",
    "                                            + np.cos(np.radians(vwListings[\"latitude\"]))\n",
    "                                            *np.cos(np.radians(smithsonian_lat))\n",
    "                                            *np.cos(np.radians(smithsonian_long-vwListings[\"longitude\"])) )*3963*1.15077945"
   ]
  },
  {
   "cell_type": "code",
   "execution_count": 10,
   "metadata": {},
   "outputs": [],
   "source": [
    "vwListings[\"distance_lincoln\"] = np.arccos(np.sin(np.radians(vwListings[\"latitude\"]))\n",
    "                                            * np.sin(np.radians(lincoln_memorial_lat)) \n",
    "                                            + np.cos(np.radians(vwListings[\"latitude\"]))\n",
    "                                            *np.cos(np.radians(lincoln_memorial_lat))\n",
    "                                            *np.cos(np.radians(lincoln_memorial_long-vwListings[\"longitude\"])) )*3963*1.15077945"
   ]
  },
  {
   "cell_type": "code",
   "execution_count": 11,
   "metadata": {},
   "outputs": [],
   "source": [
    "vwListings[\"distance_capitol\"] = np.arccos(np.sin(np.radians(vwListings[\"latitude\"]))\n",
    "                                            * np.sin(np.radians(capitol_lat)) \n",
    "                                            + np.cos(np.radians(vwListings[\"latitude\"]))\n",
    "                                            *np.cos(np.radians(capitol_lat))\n",
    "                                            *np.cos(np.radians(capttol_long-vwListings[\"longitude\"])) )*3963*1.15077945"
   ]
  },
  {
   "cell_type": "code",
   "execution_count": 12,
   "metadata": {},
   "outputs": [],
   "source": [
    "vwListings[\"distance_white_house\"] = np.arccos(np.sin(np.radians(vwListings[\"latitude\"]))\n",
    "                                            * np.sin(np.radians(white_house_lat)) \n",
    "                                            + np.cos(np.radians(vwListings[\"latitude\"]))\n",
    "                                            *np.cos(np.radians(white_house_lat))\n",
    "                                            *np.cos(np.radians(white_house_long-vwListings[\"longitude\"])) )*3963*1.15077945"
   ]
  },
  {
   "cell_type": "code",
   "execution_count": 13,
   "metadata": {},
   "outputs": [],
   "source": [
    "vwListings[\"distance_library_congress\"] = np.arccos(np.sin(np.radians(vwListings[\"latitude\"]))\n",
    "                                            * np.sin(np.radians(library_of_congress_lat)) \n",
    "                                            + np.cos(np.radians(vwListings[\"latitude\"]))\n",
    "                                            *np.cos(np.radians(library_of_congress_lat))\n",
    "                                            *np.cos(np.radians(library_of_congress_long-vwListings[\"longitude\"])))*3963*1.15077945"
   ]
  },
  {
   "cell_type": "code",
   "execution_count": 14,
   "metadata": {},
   "outputs": [],
   "source": [
    "vwListings[\"distance_nationals_park\"] = np.arccos(np.sin(np.radians(vwListings[\"latitude\"]))\n",
    "                                            * np.sin(np.radians(nationals_park_lat)) \n",
    "                                            + np.cos(np.radians(vwListings[\"latitude\"]))\n",
    "                                            *np.cos(np.radians(nationals_park_lat))\n",
    "                                            *np.cos(np.radians(nationals_park_long-vwListings[\"longitude\"])) )*3963*1.15077945"
   ]
  },
  {
   "cell_type": "code",
   "execution_count": 15,
   "metadata": {},
   "outputs": [],
   "source": [
    "vwListings[\"distance_national_zoo\"] = np.arccos(np.sin(np.radians(vwListings[\"latitude\"]))\n",
    "                                            * np.sin(np.radians(national_zoo_lat)) \n",
    "                                            + np.cos(np.radians(vwListings[\"latitude\"]))\n",
    "                                            *np.cos(np.radians(national_zoo_lat))\n",
    "                                            *np.cos(np.radians(national_zoo_long-vwListings[\"longitude\"])) )*3963*1.15077945"
   ]
  },
  {
   "cell_type": "code",
   "execution_count": 16,
   "metadata": {},
   "outputs": [],
   "source": [
    "vwListings[\"distance_railway\"] = np.arccos(np.sin(np.radians(vwListings[\"latitude\"]))\n",
    "                                            * np.sin(np.radians(union_station_lat)) \n",
    "                                            + np.cos(np.radians(vwListings[\"latitude\"]))\n",
    "                                            *np.cos(np.radians(union_station_lat))\n",
    "                                            *np.cos(np.radians(union_station_long-vwListings[\"longitude\"])) )*3963*1.15077945"
   ]
  },
  {
   "cell_type": "code",
   "execution_count": 17,
   "metadata": {},
   "outputs": [],
   "source": [
    "\n",
    "vwListings[\"distance_mcpherson\"] = np.arccos(np.sin(np.radians(vwListings[\"latitude\"]))\n",
    "                                            * np.sin(np.radians(mcpherson_sq_lat)) \n",
    "                                            + np.cos(np.radians(vwListings[\"latitude\"]))\n",
    "                                            *np.cos(np.radians(mcpherson_sq_lat))\n",
    "                                            *np.cos(np.radians(mcpherson_sq_long-vwListings[\"longitude\"])) )*3963*1.15077945"
   ]
  },
  {
   "cell_type": "markdown",
   "metadata": {},
   "source": [
    "We will convert one hot encodings for the following categorical variables host_response_time, host_is_superhost, host_has_profile_pic, host_identity_verified, room_type_mod"
   ]
  },
  {
   "cell_type": "code",
   "execution_count": 18,
   "metadata": {},
   "outputs": [],
   "source": [
    "vwListings = pd.concat([vwListings, pd.get_dummies(vwListings['host_response_time'])], axis=1)\n",
    "vwListings = pd.concat([vwListings, pd.get_dummies(vwListings['host_is_superhost'])], axis=1)\n",
    "vwListings = pd.concat([vwListings, pd.get_dummies(vwListings['host_identity_verified'])], axis=1)\n",
    "vwListings = pd.concat([vwListings, pd.get_dummies(vwListings['host_has_profile_pic'])], axis=1)\n",
    "vwListings = pd.concat([vwListings, pd.get_dummies(vwListings['room_type_mod'])], axis=1)"
   ]
  },
  {
   "cell_type": "markdown",
   "metadata": {},
   "source": [
    "### MODEL 1"
   ]
  },
  {
   "cell_type": "code",
   "execution_count": 19,
   "metadata": {
    "scrolled": true
   },
   "outputs": [],
   "source": [
    "# NEED TO CONFIRM WITH STEVE AGAIN\n",
    "# Convert the date time of last review to numeric\n",
    "#vwListings['last_review'] = pd.to_datetime(vwListings['last_review'])"
   ]
  },
  {
   "cell_type": "code",
   "execution_count": null,
   "metadata": {},
   "outputs": [],
   "source": [
    "# TEMPORARY TAKE OUT last_review\n",
    "model = \"price ~ host_since + host_response_time + host_response_rate + host_acceptance_rate + host_is_superhost \\\n",
    "        + host_has_profile_pic + host_identity_verified + room_type_mod + accommodates \\\n",
    "        + bathroom_numbers + bedrooms + beds + minimum_nights + maximum_nights + number_of_reviews \\\n",
    "        + review_scores_rating + review_scores_accuracy + review_scores_cleanliness + review_scores_checkin \\\n",
    "        + review_scores_communication + review_scores_location + review_scores_value + instant_bookable \\\n",
    "        + calculated_host_listings_count + distance_smitsonian + distance_lincoln + distance_capitol \\\n",
    "        + distance_white_house + distance_library_congress + distance_nationals_park + distance_national_zoo \\\n",
    "        + distance_railway + distance_mcpherson\"\n",
    "result1 = models.bootstrap_linear_regression(model, data=vwListings)\n",
    "models.describe_bootstrap_lr(result1)"
   ]
  }
 ],
 "metadata": {
  "kernelspec": {
   "display_name": "Python (en685648)",
   "language": "python",
   "name": "en685648"
  },
  "language_info": {
   "codemirror_mode": {
    "name": "ipython",
    "version": 3
   },
   "file_extension": ".py",
   "mimetype": "text/x-python",
   "name": "python",
   "nbconvert_exporter": "python",
   "pygments_lexer": "ipython3",
   "version": "3.10.8"
  }
 },
 "nbformat": 4,
 "nbformat_minor": 2
}
