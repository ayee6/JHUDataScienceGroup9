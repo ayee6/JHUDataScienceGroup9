{
 "cells": [
  {
   "cell_type": "code",
   "execution_count": 1,
   "metadata": {},
   "outputs": [],
   "source": [
    "import sqlite3\n",
    "import pandas as pd\n",
    "import numpy as np\n",
    "import matplotlib.pyplot as plt\n",
    "import scipy.stats as stats\n",
    "import seaborn as sns\n",
    "import datetime\n",
    "from collections import Counter\n",
    "import models\n",
    "import math\n",
    "\n",
    "import warnings\n",
    "warnings.filterwarnings('ignore')"
   ]
  },
  {
   "cell_type": "code",
   "execution_count": 2,
   "metadata": {},
   "outputs": [],
   "source": [
    "# Connect to airbnb database\n",
    "connection = sqlite3.connect('airbnb.db')"
   ]
  },
  {
   "cell_type": "code",
   "execution_count": 3,
   "metadata": {},
   "outputs": [],
   "source": [
    "# Query the listings table in airbnb.db and convert the listings table to dataframe\n",
    "vwListings = pd.read_sql('SELECT * FROM most_recent_listings', connection)"
   ]
  },
  {
   "cell_type": "markdown",
   "metadata": {},
   "source": [
    "Since the original data set have quite a few of noises, we will clean up the data set before feeding to the model. After completing EDA step, we decided to drop some certain observations, convert the data type, manipulate some variables."
   ]
  },
  {
   "cell_type": "code",
   "execution_count": 4,
   "metadata": {},
   "outputs": [],
   "source": [
    "# Create a room_type_mod\n",
    "vwListings['room_type_mod'] = vwListings['room_type']\n",
    "vwListings.loc[vwListings['property_type'].isin(['Room in hotel', 'Room in boutique hotel',\n",
    "        'Private room in bed and breakfast']), 'room_type_mod'] = 'Hotel room'\n",
    "\n",
    "# Drop the listings having price = 0\n",
    "vwListings.drop(vwListings.loc[vwListings['price']==0].index, inplace=True)\n",
    "vwListings = vwListings.reset_index(drop=True)\n",
    "\n",
    "# Drop the unavailable listings\n",
    "vwListings.drop(vwListings.loc[vwListings['has_availability']=='f'].index, inplace=True)\n",
    "vwListings = vwListings.reset_index(drop=True)\n",
    "\n",
    "# Replace null reviews_per_month = 0\n",
    "vwListings['reviews_per_month'] = vwListings['reviews_per_month'].replace({'': 0})\n",
    "\n",
    "# Drop 2 listings having over 31 reviews per month\n",
    "vwListings.drop(vwListings.loc[vwListings['reviews_per_month'] > 31].index, inplace=True)\n",
    "vwListings = vwListings.reset_index(drop=True)\n",
    "\n",
    "# Replace null year in host_since by the most common value 2019-09-13\n",
    "vwListings['host_since'] = vwListings['host_since'].replace({'': '2019-09-13'})\n",
    "vwListings['host_since'] = pd.to_datetime(vwListings['host_since'])\n",
    "\n",
    "# Replace null value by 'N/A' in host_response_time\n",
    "vwListings['host_response_time'] = vwListings['host_response_time'].replace({'': 'N/A'})\n",
    "\n",
    "# Replace N/A value in host_response_rate = 0\n",
    "vwListings['host_response_rate'] = vwListings['host_response_rate'].str.replace('N/A', '0%')\n",
    "vwListings['host_response_rate'] = vwListings['host_response_rate'].str.replace('%', '')\n",
    "vwListings['host_response_rate'] = pd.to_numeric(vwListings['host_response_rate'])\n",
    "\n",
    "# Replace N/A value in host_acceptance_rate = 0\n",
    "vwListings['host_acceptance_rate'] = vwListings['host_acceptance_rate'].str.replace('N/A', '0%')\n",
    "vwListings['host_acceptance_rate'] = vwListings['host_acceptance_rate'].str.replace('%', '')\n",
    "vwListings['host_acceptance_rate'] = pd.to_numeric(vwListings['host_acceptance_rate'])\n",
    "\n",
    "# Replace null value by 'f' in host_is_superhost\n",
    "vwListings['host_is_superhost'] = vwListings['host_is_superhost'].replace({'': 'f'})\n",
    "\n",
    "# Replace null value by 'f' in host_verifications\n",
    "vwListings['host_verifications'] = vwListings['host_verifications'].replace({'': 'f'})\n",
    "\n",
    "# Replace null value by 'f' in host_has_profile_pic\n",
    "vwListings['host_has_profile_pic'] = vwListings['host_has_profile_pic'].replace({'': 'f'})\n",
    "\n",
    "# Replace null value by 'f' in host_identity_verified\n",
    "vwListings['host_identity_verified'] = vwListings['host_identity_verified'].replace({'': 'f'})"
   ]
  },
  {
   "cell_type": "markdown",
   "metadata": {},
   "source": [
    "We will convert some bathroom text to the number of bathrooms based on the human's interpretation. With the null values or the half bathroom only, we will assume the number of bathrooms is equal to the mean bathrooms which is 1."
   ]
  },
  {
   "cell_type": "code",
   "execution_count": 5,
   "metadata": {
    "scrolled": false
   },
   "outputs": [],
   "source": [
    "for i in range(len(vwListings.bathrooms_text)):\n",
    "    if '0 shared baths' in vwListings['bathrooms_text'][i]: \n",
    "        vwListings['bathrooms_text'][i] = str(vwListings['bedrooms'][i]) + ' bathrooms'\n",
    "    elif '0 baths' in vwListings['bathrooms_text'][i]:\n",
    "        vwListings['bathrooms_text'][i] = '1 bathroom'\n",
    "    elif 'Half-bath' in vwListings['bathrooms_text'][i]:\n",
    "        vwListings['bathrooms_text'][i] = '1 bathroom'\n",
    "    elif 'Private half-bath' in vwListings['bathrooms_text'][i]:\n",
    "        vwListings['bathrooms_text'][i] = '1 bathroom'\n",
    "    elif 'Shared half-bath' in vwListings['bathrooms_text'][i]:\n",
    "        vwListings['bathrooms_text'][i] = '1 bathroom'\n",
    "    elif pd.isna(vwListings['bathrooms_text'][i]) == True:\n",
    "        vwListings['bathrooms_text'][i] = '1 bathroom'\n",
    "    else:\n",
    "        continue\n",
    "\n",
    "# Extract the number of bathrooms from bathroom_text.\n",
    "vwListings['bathroom_numbers'] = vwListings['bathrooms_text'].str.extract('(\\d+)')\n",
    "vwListings['bathroom_numbers'] = pd.to_numeric(vwListings['bathroom_numbers'])"
   ]
  },
  {
   "cell_type": "code",
   "execution_count": 6,
   "metadata": {},
   "outputs": [],
   "source": [
    "# This step is to prepare for One Hot Encodings\n",
    "for i in range(len(vwListings['host_response_time'])):\n",
    "    if 'within an hour' in vwListings['host_response_time'][i]:\n",
    "        vwListings['host_response_time'][i] = 'within_an_hour'\n",
    "    elif 'N/A' in vwListings['host_response_time'][i]:\n",
    "        vwListings['host_response_time'][i] = 'na'\n",
    "    elif 'within a few hours' in vwListings['host_response_time'][i]:\n",
    "        vwListings['host_response_time'][i] = 'within_a_few_hours'\n",
    "    elif 'within a day' in vwListings['host_response_time'][i]:\n",
    "        vwListings['host_response_time'][i] = 'within_a_day'\n",
    "    elif 'a few days or more' in vwListings['host_response_time'][i]:\n",
    "        vwListings['host_response_time'][i] = 'a_few_days_or_more'\n",
    "\n",
    "        \n",
    "for i in range(len(vwListings['room_type_mod'])):\n",
    "    if 'Entire home/apt' in vwListings['room_type_mod'][i]:\n",
    "        vwListings['room_type_mod'][i] = 'entire_home_apt'\n",
    "    elif 'Private room' in vwListings['room_type_mod'][i]:\n",
    "        vwListings['room_type_mod'][i] = 'private_room'\n",
    "    elif 'Hotel room' in vwListings['room_type_mod'][i]:\n",
    "        vwListings['room_type_mod'][i] = 'hotel_room'\n",
    "    elif 'Shared room' in vwListings['room_type_mod'][i]:\n",
    "        vwListings['room_type_mod'][i] = 'shared_room'"
   ]
  },
  {
   "cell_type": "markdown",
   "metadata": {},
   "source": [
    "Next, we will clean the bedrooms variable. We will follow the rules below:\n",
    "- If the value of the bedrooms variable is null and the value of the beds variable is not null, bedrooms will be equal to the value of beds.\n",
    "- If the value of the beds variable is null and the value of the bedrooms variable is not null, beds will be equal to the value of bedrooms.\n",
    "- Otherwise, both of the variables will be equal the mean of corresponding variable."
   ]
  },
  {
   "cell_type": "code",
   "execution_count": 7,
   "metadata": {},
   "outputs": [],
   "source": [
    "for i in range(len(vwListings['bedrooms'])):\n",
    "    if vwListings['bedrooms'][i] == '' and vwListings['beds'][i] == '':\n",
    "        vwListings['beds'][i] = 2\n",
    "        vwListings['bedrooms'][i] = 2\n",
    "    elif vwListings['beds'][i] == '':\n",
    "        vwListings['beds'][i] = vwListings['bedrooms'][i]\n",
    "    elif vwListings['bedrooms'][i] == '':\n",
    "        vwListings['bedrooms'][i] = vwListings['beds'][i]\n",
    "    else:\n",
    "        continue"
   ]
  },
  {
   "cell_type": "code",
   "execution_count": 8,
   "metadata": {},
   "outputs": [],
   "source": [
    "# Convert the all the review scores to numeric\n",
    "vwListings['review_scores_rating'] = pd.to_numeric(vwListings['review_scores_rating'])\n",
    "vwListings['review_scores_accuracy'] = pd.to_numeric(vwListings['review_scores_accuracy'])\n",
    "vwListings['review_scores_cleanliness'] = pd.to_numeric(vwListings['review_scores_cleanliness'])\n",
    "vwListings['review_scores_checkin'] = pd.to_numeric(vwListings['review_scores_checkin'])\n",
    "vwListings['review_scores_communication'] = pd.to_numeric(vwListings['review_scores_communication'])\n",
    "vwListings['review_scores_location'] = pd.to_numeric(vwListings['review_scores_location'])\n",
    "vwListings['review_scores_value'] = pd.to_numeric(vwListings['review_scores_value'])"
   ]
  },
  {
   "cell_type": "code",
   "execution_count": 9,
   "metadata": {},
   "outputs": [],
   "source": [
    "#  the coordinates (latitude, longtitute of a place from google map )\n",
    "smithsonian_lat = 38.8889532077163\n",
    "smithsonian_long = -77.0259992316524\n",
    "lincoln_memorial_lat = 38.8893771334115\n",
    "lincoln_memorial_long = -77.0501761044084\n",
    "capitol_lat = 38.8900557831996\n",
    "capttol_long = -77.0090290467363\n",
    "white_house_lat = 38.9103145107623\n",
    "white_house_long = -77.0221504467353\n",
    "library_of_congress_lat = 38.8888008852652\n",
    "library_of_congress_long = -77.0047082755724\n",
    "nationals_park_lat = 38.8731981381059\n",
    "nationals_park_long = -77.0074329\n",
    "national_zoo_lat = 38.9294590679026\n",
    "national_zoo_long = -77.0492384835061\n",
    "union_station_lat = 38.8973065709087\n",
    "union_station_long = -77.00629767372\n",
    "mcpherson_sq_lat = 38.9028682064423\n",
    "mcpherson_sq_long = -77.0324745881233"
   ]
  },
  {
   "cell_type": "code",
   "execution_count": 10,
   "metadata": {},
   "outputs": [],
   "source": [
    "# distance unit = miles\n",
    "vwListings[\"distance_smitsonian\"] = np.arccos(np.sin(np.radians(vwListings[\"latitude\"]))\n",
    "                                            * np.sin(np.radians(smithsonian_lat)) \n",
    "                                            + np.cos(np.radians(vwListings[\"latitude\"]))\n",
    "                                            *np.cos(np.radians(smithsonian_lat))\n",
    "                                            *np.cos(np.radians(smithsonian_long-vwListings[\"longitude\"])) )*3963*1.15077945"
   ]
  },
  {
   "cell_type": "code",
   "execution_count": 11,
   "metadata": {},
   "outputs": [],
   "source": [
    "vwListings[\"distance_lincoln\"] = np.arccos(np.sin(np.radians(vwListings[\"latitude\"]))\n",
    "                                            * np.sin(np.radians(lincoln_memorial_lat)) \n",
    "                                            + np.cos(np.radians(vwListings[\"latitude\"]))\n",
    "                                            *np.cos(np.radians(lincoln_memorial_lat))\n",
    "                                            *np.cos(np.radians(lincoln_memorial_long-vwListings[\"longitude\"])) )*3963*1.15077945"
   ]
  },
  {
   "cell_type": "code",
   "execution_count": 12,
   "metadata": {},
   "outputs": [],
   "source": [
    "vwListings[\"distance_capitol\"] = np.arccos(np.sin(np.radians(vwListings[\"latitude\"]))\n",
    "                                            * np.sin(np.radians(capitol_lat)) \n",
    "                                            + np.cos(np.radians(vwListings[\"latitude\"]))\n",
    "                                            *np.cos(np.radians(capitol_lat))\n",
    "                                            *np.cos(np.radians(capttol_long-vwListings[\"longitude\"])) )*3963*1.15077945"
   ]
  },
  {
   "cell_type": "code",
   "execution_count": 13,
   "metadata": {},
   "outputs": [],
   "source": [
    "vwListings[\"distance_white_house\"] = np.arccos(np.sin(np.radians(vwListings[\"latitude\"]))\n",
    "                                            * np.sin(np.radians(white_house_lat)) \n",
    "                                            + np.cos(np.radians(vwListings[\"latitude\"]))\n",
    "                                            *np.cos(np.radians(white_house_lat))\n",
    "                                            *np.cos(np.radians(white_house_long-vwListings[\"longitude\"])) )*3963*1.15077945"
   ]
  },
  {
   "cell_type": "code",
   "execution_count": 14,
   "metadata": {},
   "outputs": [],
   "source": [
    "vwListings[\"distance_library_congress\"] = np.arccos(np.sin(np.radians(vwListings[\"latitude\"]))\n",
    "                                            * np.sin(np.radians(library_of_congress_lat)) \n",
    "                                            + np.cos(np.radians(vwListings[\"latitude\"]))\n",
    "                                            *np.cos(np.radians(library_of_congress_lat))\n",
    "                                            *np.cos(np.radians(library_of_congress_long-vwListings[\"longitude\"])))*3963*1.15077945"
   ]
  },
  {
   "cell_type": "code",
   "execution_count": 15,
   "metadata": {},
   "outputs": [],
   "source": [
    "vwListings[\"distance_nationals_park\"] = np.arccos(np.sin(np.radians(vwListings[\"latitude\"]))\n",
    "                                            * np.sin(np.radians(nationals_park_lat)) \n",
    "                                            + np.cos(np.radians(vwListings[\"latitude\"]))\n",
    "                                            *np.cos(np.radians(nationals_park_lat))\n",
    "                                            *np.cos(np.radians(nationals_park_long-vwListings[\"longitude\"])) )*3963*1.15077945"
   ]
  },
  {
   "cell_type": "code",
   "execution_count": 16,
   "metadata": {},
   "outputs": [],
   "source": [
    "vwListings[\"distance_national_zoo\"] = np.arccos(np.sin(np.radians(vwListings[\"latitude\"]))\n",
    "                                            * np.sin(np.radians(national_zoo_lat)) \n",
    "                                            + np.cos(np.radians(vwListings[\"latitude\"]))\n",
    "                                            *np.cos(np.radians(national_zoo_lat))\n",
    "                                            *np.cos(np.radians(national_zoo_long-vwListings[\"longitude\"])) )*3963*1.15077945"
   ]
  },
  {
   "cell_type": "code",
   "execution_count": 17,
   "metadata": {},
   "outputs": [],
   "source": [
    "vwListings[\"distance_railway\"] = np.arccos(np.sin(np.radians(vwListings[\"latitude\"]))\n",
    "                                            * np.sin(np.radians(union_station_lat)) \n",
    "                                            + np.cos(np.radians(vwListings[\"latitude\"]))\n",
    "                                            *np.cos(np.radians(union_station_lat))\n",
    "                                            *np.cos(np.radians(union_station_long-vwListings[\"longitude\"])) )*3963*1.15077945"
   ]
  },
  {
   "cell_type": "code",
   "execution_count": 18,
   "metadata": {},
   "outputs": [],
   "source": [
    "\n",
    "vwListings[\"distance_mcpherson\"] = np.arccos(np.sin(np.radians(vwListings[\"latitude\"]))\n",
    "                                            * np.sin(np.radians(mcpherson_sq_lat)) \n",
    "                                            + np.cos(np.radians(vwListings[\"latitude\"]))\n",
    "                                            *np.cos(np.radians(mcpherson_sq_lat))\n",
    "                                            *np.cos(np.radians(mcpherson_sq_long-vwListings[\"longitude\"])) )*3963*1.15077945"
   ]
  },
  {
   "cell_type": "markdown",
   "metadata": {},
   "source": [
    "We will convert one hot encodings for the following categorical variables host_response_time, host_is_superhost, host_has_profile_pic, host_identity_verified, room_type_mod"
   ]
  },
  {
   "cell_type": "code",
   "execution_count": 19,
   "metadata": {},
   "outputs": [],
   "source": [
    "vwListings = pd.concat([vwListings, pd.get_dummies(vwListings['host_response_time'], prefix='response_time', prefix_sep='_')], axis=1)\n",
    "vwListings = pd.concat([vwListings, pd.get_dummies(vwListings['host_is_superhost'], prefix='superhost', prefix_sep='_')], axis=1)\n",
    "vwListings = pd.concat([vwListings, pd.get_dummies(vwListings['host_identity_verified'], prefix='identity_verified', prefix_sep='_')], axis=1)\n",
    "vwListings = pd.concat([vwListings, pd.get_dummies(vwListings['host_has_profile_pic'], prefix='profile', prefix_sep='_')], axis=1)\n",
    "vwListings = pd.concat([vwListings, pd.get_dummies(vwListings['room_type_mod'])], axis=1)"
   ]
  },
  {
   "cell_type": "code",
   "execution_count": 20,
   "metadata": {},
   "outputs": [
    {
     "name": "stdout",
     "output_type": "stream",
     "text": [
      "<class 'pandas.core.frame.DataFrame'>\n",
      "RangeIndex: 8164 entries, 0 to 8163\n",
      "Data columns (total 95 columns):\n",
      " #   Column                                        Non-Null Count  Dtype         \n",
      "---  ------                                        --------------  -----         \n",
      " 0   id                                            8164 non-null   int64         \n",
      " 1   MAX(last_scraped)                             8164 non-null   object        \n",
      " 2   source_name                                   8164 non-null   object        \n",
      " 3   scrape_id                                     8164 non-null   int64         \n",
      " 4   source                                        8164 non-null   object        \n",
      " 5   name                                          8164 non-null   object        \n",
      " 6   description                                   8164 non-null   object        \n",
      " 7   neighborhood_overview                         8164 non-null   object        \n",
      " 8   host_id                                       8164 non-null   int64         \n",
      " 9   host_name                                     8164 non-null   object        \n",
      " 10  host_since                                    8164 non-null   datetime64[ns]\n",
      " 11  host_location                                 8164 non-null   object        \n",
      " 12  host_about                                    8164 non-null   object        \n",
      " 13  host_response_time                            8164 non-null   object        \n",
      " 14  host_response_rate                            8144 non-null   float64       \n",
      " 15  host_acceptance_rate                          8144 non-null   float64       \n",
      " 16  host_is_superhost                             8164 non-null   object        \n",
      " 17  host_neighbourhood                            8164 non-null   object        \n",
      " 18  host_listings_count                           8164 non-null   object        \n",
      " 19  host_total_listings_count                     8164 non-null   object        \n",
      " 20  host_verifications                            8164 non-null   object        \n",
      " 21  host_has_profile_pic                          8164 non-null   object        \n",
      " 22  host_identity_verified                        8164 non-null   object        \n",
      " 23  neighbourhood                                 8164 non-null   object        \n",
      " 24  neighbourhood_cleansed                        8164 non-null   object        \n",
      " 25  latitude                                      8164 non-null   float64       \n",
      " 26  longitude                                     8164 non-null   float64       \n",
      " 27  property_type                                 8164 non-null   object        \n",
      " 28  room_type                                     8164 non-null   object        \n",
      " 29  accommodates                                  8164 non-null   int64         \n",
      " 30  bathrooms                                     8164 non-null   object        \n",
      " 31  bathrooms_text                                8164 non-null   object        \n",
      " 32  bedrooms                                      8164 non-null   object        \n",
      " 33  beds                                          8164 non-null   object        \n",
      " 34  amenities                                     8164 non-null   object        \n",
      " 35  minimum_nights                                8164 non-null   int64         \n",
      " 36  maximum_nights                                8164 non-null   int64         \n",
      " 37  minimum_minimum_nights                        8164 non-null   object        \n",
      " 38  maximum_minimum_nights                        8164 non-null   object        \n",
      " 39  minimum_maximum_nights                        8164 non-null   object        \n",
      " 40  maximum_maximum_nights                        8164 non-null   object        \n",
      " 41  minimum_nights_avg_ntm                        8164 non-null   object        \n",
      " 42  maximum_nights_avg_ntm                        8164 non-null   object        \n",
      " 43  has_availability                              8164 non-null   object        \n",
      " 44  availability_30                               8164 non-null   int64         \n",
      " 45  availability_60                               8164 non-null   int64         \n",
      " 46  availability_90                               8164 non-null   int64         \n",
      " 47  availability_365                              8164 non-null   int64         \n",
      " 48  calendar_last_scraped                         8164 non-null   object        \n",
      " 49  number_of_reviews                             8164 non-null   int64         \n",
      " 50  number_of_reviews_ltm                         8164 non-null   int64         \n",
      " 51  number_of_reviews_l30d                        8164 non-null   int64         \n",
      " 52  first_review                                  8164 non-null   object        \n",
      " 53  last_review                                   8164 non-null   object        \n",
      " 54  review_scores_rating                          6222 non-null   float64       \n",
      " 55  review_scores_accuracy                        6213 non-null   float64       \n",
      " 56  review_scores_cleanliness                     6213 non-null   float64       \n",
      " 57  review_scores_checkin                         6213 non-null   float64       \n",
      " 58  review_scores_communication                   6213 non-null   float64       \n",
      " 59  review_scores_location                        6213 non-null   float64       \n",
      " 60  review_scores_value                           6212 non-null   float64       \n",
      " 61  license                                       8164 non-null   object        \n",
      " 62  instant_bookable                              8164 non-null   object        \n",
      " 63  calculated_host_listings_count                8164 non-null   int64         \n",
      " 64  calculated_host_listings_count_entire_homes   8164 non-null   int64         \n",
      " 65  calculated_host_listings_count_private_rooms  8164 non-null   int64         \n",
      " 66  calculated_host_listings_count_shared_rooms   8164 non-null   int64         \n",
      " 67  reviews_per_month                             8164 non-null   float64       \n",
      " 68  price                                         8164 non-null   object        \n",
      " 69  room_type_mod                                 8164 non-null   object        \n",
      " 70  bathroom_numbers                              8156 non-null   float64       \n",
      " 71  distance_smitsonian                           8164 non-null   float64       \n",
      " 72  distance_lincoln                              8164 non-null   float64       \n",
      " 73  distance_capitol                              8164 non-null   float64       \n",
      " 74  distance_white_house                          8164 non-null   float64       \n",
      " 75  distance_library_congress                     8164 non-null   float64       \n",
      " 76  distance_nationals_park                       8164 non-null   float64       \n",
      " 77  distance_national_zoo                         8164 non-null   float64       \n",
      " 78  distance_railway                              8164 non-null   float64       \n",
      " 79  distance_mcpherson                            8164 non-null   float64       \n",
      " 80  response_time_a_few_days_or_more              8164 non-null   uint8         \n",
      " 81  response_time_na                              8164 non-null   uint8         \n",
      " 82  response_time_within_a_day                    8164 non-null   uint8         \n",
      " 83  response_time_within_a_few_hours              8164 non-null   uint8         \n",
      " 84  response_time_within_an_hour                  8164 non-null   uint8         \n",
      " 85  superhost_f                                   8164 non-null   uint8         \n",
      " 86  superhost_t                                   8164 non-null   uint8         \n",
      " 87  identity_verified_f                           8164 non-null   uint8         \n",
      " 88  identity_verified_t                           8164 non-null   uint8         \n",
      " 89  profile_f                                     8164 non-null   uint8         \n",
      " 90  profile_t                                     8164 non-null   uint8         \n",
      " 91  entire_home_apt                               8164 non-null   uint8         \n",
      " 92  hotel_room                                    8164 non-null   uint8         \n",
      " 93  private_room                                  8164 non-null   uint8         \n",
      " 94  shared_room                                   8164 non-null   uint8         \n",
      "dtypes: datetime64[ns](1), float64(22), int64(17), object(40), uint8(15)\n",
      "memory usage: 5.1+ MB\n"
     ]
    }
   ],
   "source": [
    "vwListings.info()"
   ]
  },
  {
   "cell_type": "markdown",
   "metadata": {},
   "source": [
    "### MODEL 1"
   ]
  },
  {
   "cell_type": "code",
   "execution_count": 21,
   "metadata": {
    "scrolled": true
   },
   "outputs": [],
   "source": [
    "# NEED TO CONFIRM WITH STEVE AGAIN\n",
    "# Convert the date time of last review to numeric\n",
    "#vwListings['last_review'] = pd.to_datetime(vwListings['last_review'])"
   ]
  },
  {
   "cell_type": "code",
   "execution_count": null,
   "metadata": {},
   "outputs": [],
   "source": [
    "# TEMPORARY TAKE OUT last_review\n",
    "model = \"price ~ host_since + response_time_a_few_days_or_more + response_time_within_a_day \\\n",
    "        + response_time_within_a_few_hours + response_time_within_an_hour + host_response_rate \\\n",
    "        + host_acceptance_rate + superhost_t \\\n",
    "        + profile_t + identity_verified_t + entire_home_apt + hotel_room + private_room + accommodates \\\n",
    "        + bathroom_numbers + bedrooms + beds + minimum_nights + maximum_nights + number_of_reviews \\\n",
    "        + review_scores_rating + review_scores_accuracy + review_scores_cleanliness + review_scores_checkin \\\n",
    "        + review_scores_communication + review_scores_location + review_scores_value + instant_bookable \\\n",
    "        + calculated_host_listings_count + distance_smitsonian + distance_lincoln + distance_capitol \\\n",
    "        + distance_white_house + distance_library_congress + distance_nationals_park + distance_national_zoo \\\n",
    "        + distance_railway + distance_mcpherson\"\n",
    "result1 = models.bootstrap_linear_regression(model, data=vwListings)\n",
    "models.describe_bootstrap_lr(result1)"
   ]
  }
 ],
 "metadata": {
  "kernelspec": {
   "display_name": "Python (en685648)",
   "language": "python",
   "name": "en685648"
  },
  "language_info": {
   "codemirror_mode": {
    "name": "ipython",
    "version": 3
   },
   "file_extension": ".py",
   "mimetype": "text/x-python",
   "name": "python",
   "nbconvert_exporter": "python",
   "pygments_lexer": "ipython3",
   "version": "3.10.8"
  }
 },
 "nbformat": 4,
 "nbformat_minor": 2
}
