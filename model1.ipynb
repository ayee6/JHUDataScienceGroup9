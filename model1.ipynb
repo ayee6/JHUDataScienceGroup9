{
 "cells": [
  {
   "cell_type": "code",
   "execution_count": 1,
   "metadata": {},
   "outputs": [],
   "source": [
    "import sqlite3\n",
    "import pandas as pd\n",
    "import numpy as np\n",
    "import matplotlib.pyplot as plt\n",
    "import scipy.stats as stats\n",
    "import seaborn as sns\n",
    "import datetime\n",
    "from collections import Counter\n",
    "import models\n",
    "import math\n",
    "\n",
    "import warnings\n",
    "warnings.filterwarnings('ignore')"
   ]
  },
  {
   "cell_type": "code",
   "execution_count": 2,
   "metadata": {},
   "outputs": [],
   "source": [
    "# Connect to airbnb database\n",
    "connection = sqlite3.connect('D:\\JHU\\Data Science\\Term project/airbnb.db')"
   ]
  },
  {
   "cell_type": "code",
   "execution_count": 3,
   "metadata": {},
   "outputs": [],
   "source": [
    "# Query the listings table in airbnb.db and convert the listings table to dataframe\n",
    "vwListings = pd.read_sql('SELECT * FROM most_recent_listings', connection)"
   ]
  },
  {
   "cell_type": "markdown",
   "metadata": {},
   "source": [
    "Since the original data set contains a lot of noise, we will clean it up before feeding to the model. After completing EDA, we decided to drop some observations, convert data types, and manipulate some variables."
   ]
  },
  {
   "cell_type": "code",
   "execution_count": 4,
   "metadata": {},
   "outputs": [],
   "source": [
    "## convert price to numeric\n",
    "vwListings['price'] = vwListings['price'].str.replace(',','',regex=False)\n",
    "vwListings['price'] = vwListings['price'].str.strip('$').astype('float')"
   ]
  },
  {
   "cell_type": "code",
   "execution_count": 5,
   "metadata": {},
   "outputs": [],
   "source": [
    "## STEVE: host_reponse_rate, host_acceptance_rate - fillna ('') with 0\n",
    "# Create room_type_mod grouping hotel rooms together\n",
    "vwListings['room_type_mod'] = vwListings['room_type']\n",
    "vwListings.loc[vwListings['property_type'].isin(['Room in hotel', 'Room in boutique hotel',\n",
    "        'Private room in bed and breakfast']), 'room_type_mod'] = 'Hotel room'\n",
    "\n",
    "# Drop the listings having price = 0\n",
    "vwListings.drop(vwListings.loc[vwListings['price']==0].index, inplace=True)\n",
    "\n",
    "# Drop the unavailable listings\n",
    "vwListings.drop(vwListings.loc[vwListings['has_availability']=='f'].index, inplace=True)\n",
    "vwListings = vwListings.reset_index(drop=True)\n",
    "\n",
    "# Replace null reviews_per_month = 0\n",
    "vwListings['reviews_per_month'] = vwListings['reviews_per_month'].replace({'': 0})\n",
    "\n",
    "# Drop 2 listings having over 31 reviews per month\n",
    "vwListings.drop(vwListings.loc[vwListings['reviews_per_month'] > 31].index, inplace=True)\n",
    "vwListings = vwListings.reset_index(drop=True)\n",
    "\n",
    "# Replace null year in host_since by the most common value 2019-09-13\n",
    "vwListings['host_since'] = vwListings['host_since'].replace({'': '2019-09-13'})\n",
    "vwListings['host_since'] = pd.to_datetime(vwListings['host_since'])\n",
    "\n",
    "# Replace null value by 'N/A' in host_response_time\n",
    "vwListings['host_response_time'] = vwListings['host_response_time'].replace({'': 'N/A'})\n",
    "\n",
    "# Replace N/A value in host_response_rate = 0\n",
    "vwListings['host_response_rate'] = vwListings['host_response_rate'].str.replace('N/A', '0%')\n",
    "vwListings['host_response_rate'] = vwListings['host_response_rate'].str.replace('%', '')\n",
    "vwListings['host_response_rate'] = pd.to_numeric(vwListings['host_response_rate'])\n",
    "vwListings['host_response_rate'] = vwListings['host_response_rate'].fillna(0)\n",
    "\n",
    "# Replace N/A value in host_acceptance_rate = 0\n",
    "vwListings['host_acceptance_rate'] = vwListings['host_acceptance_rate'].str.replace('N/A', '0%')\n",
    "vwListings['host_acceptance_rate'] = vwListings['host_acceptance_rate'].str.replace('%', '')\n",
    "vwListings['host_acceptance_rate'] = pd.to_numeric(vwListings['host_acceptance_rate'])\n",
    "vwListings['host_acceptance_rate'] = vwListings['host_acceptance_rate'].fillna(0)\n",
    "\n",
    "# Replace null value by 'f' in host_is_superhost\n",
    "vwListings['host_is_superhost'] = vwListings['host_is_superhost'].replace({'': 'f'})\n",
    "\n",
    "# Replace null value by 'f' in host_verifications\n",
    "vwListings['host_verifications'] = vwListings['host_verifications'].replace({'': 'f'})\n",
    "\n",
    "# Replace null value by 'f' in host_has_profile_pic\n",
    "vwListings['host_has_profile_pic'] = vwListings['host_has_profile_pic'].replace({'': 'f'})\n",
    "\n",
    "# Replace null value by 'f' in host_identity_verified\n",
    "vwListings['host_identity_verified'] = vwListings['host_identity_verified'].replace({'': 'f'})"
   ]
  },
  {
   "cell_type": "markdown",
   "metadata": {},
   "source": [
    "Next, we will clean the bedrooms variable. We will follow the rules below:\n",
    "- If the value of the bedrooms variable is null and the value of the beds variable is not null, bedrooms will be equal to the value of beds.\n",
    "- If the value of the beds variable is null and the value of the bedrooms variable is not null, beds will be equal to the value of bedrooms.\n",
    "- Otherwise, both of the variables will be equal the mean of corresponding variable."
   ]
  },
  {
   "cell_type": "code",
   "execution_count": 6,
   "metadata": {},
   "outputs": [],
   "source": [
    "vwListings.loc[(vwListings['bedrooms'] == '')&(vwListings['beds'] == ''), ['bedrooms', 'beds']] = [2, 2]\n",
    "vwListings.loc[vwListings['bedrooms'] == '', 'bedrooms'] = vwListings.loc[vwListings['bedrooms'] == '', 'beds']\n",
    "vwListings.loc[vwListings['beds'] == '', 'beds'] = vwListings.loc[vwListings['beds'] == '', 'bedrooms']\n",
    "\n",
    "vwListings['bedrooms'] = pd.to_numeric(vwListings['bedrooms'])\n",
    "vwListings['beds'] = pd.to_numeric(vwListings['beds'])"
   ]
  },
  {
   "cell_type": "markdown",
   "metadata": {},
   "source": [
    "We will convert some bathroom text to the number of bathrooms based on the human's interpretation. With the null values or the half bathroom only, we will assume the number of bathrooms is equal to the mean bathrooms which is 1."
   ]
  },
  {
   "cell_type": "code",
   "execution_count": 7,
   "metadata": {},
   "outputs": [],
   "source": [
    "vwListings.loc[vwListings['bathrooms_text'] == '0 shared baths', 'bathrooms_text'] = \\\n",
    "    vwListings.loc[vwListings['bathrooms_text'] == '0 shared baths', 'bedrooms'].astype('str') + ' baths'\n",
    "vwListings['bathrooms_text'] = vwListings['bathrooms_text'].replace(\n",
    "    ['0 baths', 'Half-bath', 'Private half-bath', 'Shared half-bath', ''], '1 bathroom')"
   ]
  },
  {
   "cell_type": "code",
   "execution_count": 8,
   "metadata": {
    "scrolled": false
   },
   "outputs": [],
   "source": [
    "# Extract the number of bathrooms from bathroom_text.\n",
    "vwListings['bathroom_numbers'] = vwListings['bathrooms_text'].str.split().str.get(0)\n",
    "vwListings['bathroom_numbers'] = pd.to_numeric(vwListings['bathroom_numbers'])"
   ]
  },
  {
   "cell_type": "code",
   "execution_count": 9,
   "metadata": {},
   "outputs": [],
   "source": [
    "# This step is to prepare for One Hot Encodings\n",
    "for i in range(len(vwListings['host_response_time'])):\n",
    "    if 'within an hour' in vwListings['host_response_time'][i]:\n",
    "        vwListings['host_response_time'][i] = 'within_an_hour'\n",
    "    elif 'N/A' in vwListings['host_response_time'][i]:\n",
    "        vwListings['host_response_time'][i] = 'na'\n",
    "    elif 'within a few hours' in vwListings['host_response_time'][i]:\n",
    "        vwListings['host_response_time'][i] = 'within_a_few_hours'\n",
    "    elif 'within a day' in vwListings['host_response_time'][i]:\n",
    "        vwListings['host_response_time'][i] = 'within_a_day'\n",
    "    elif 'a few days or more' in vwListings['host_response_time'][i]:\n",
    "        vwListings['host_response_time'][i] = 'a_few_days_or_more'\n",
    "\n",
    "        \n",
    "for i in range(len(vwListings['room_type_mod'])):\n",
    "    if 'Entire home/apt' in vwListings['room_type_mod'][i]:\n",
    "        vwListings['room_type_mod'][i] = 'entire_home_apt'\n",
    "    elif 'Private room' in vwListings['room_type_mod'][i]:\n",
    "        vwListings['room_type_mod'][i] = 'private_room'\n",
    "    elif 'Hotel room' in vwListings['room_type_mod'][i]:\n",
    "        vwListings['room_type_mod'][i] = 'hotel_room'\n",
    "    elif 'Shared room' in vwListings['room_type_mod'][i]:\n",
    "        vwListings['room_type_mod'][i] = 'shared_room'"
   ]
  },
  {
   "cell_type": "code",
   "execution_count": 10,
   "metadata": {},
   "outputs": [],
   "source": [
    "# Convert the all the review scores to numeric\n",
    "vwListings['review_scores_rating'] = pd.to_numeric(vwListings['review_scores_rating'])\n",
    "vwListings['review_scores_accuracy'] = pd.to_numeric(vwListings['review_scores_accuracy'])\n",
    "vwListings['review_scores_cleanliness'] = pd.to_numeric(vwListings['review_scores_cleanliness'])\n",
    "vwListings['review_scores_checkin'] = pd.to_numeric(vwListings['review_scores_checkin'])\n",
    "vwListings['review_scores_communication'] = pd.to_numeric(vwListings['review_scores_communication'])\n",
    "vwListings['review_scores_location'] = pd.to_numeric(vwListings['review_scores_location'])\n",
    "vwListings['review_scores_value'] = pd.to_numeric(vwListings['review_scores_value'])"
   ]
  },
  {
   "cell_type": "code",
   "execution_count": 11,
   "metadata": {},
   "outputs": [],
   "source": [
    "## STEVE: fill review_scores na with the mean\n",
    "for col in vwListings.columns:\n",
    "    if col.startswith('review_scores'):\n",
    "        x = vwListings[col]\n",
    "        vwListings[col] = vwListings[col].fillna(x.mean())"
   ]
  },
  {
   "cell_type": "code",
   "execution_count": 12,
   "metadata": {},
   "outputs": [],
   "source": [
    "#  the coordinates (latitude, longtitute of a place from google map )\n",
    "smithsonian_lat = 38.8889532077163\n",
    "smithsonian_long = -77.0259992316524\n",
    "lincoln_memorial_lat = 38.8893771334115\n",
    "lincoln_memorial_long = -77.0501761044084\n",
    "capitol_lat = 38.8900557831996\n",
    "capttol_long = -77.0090290467363\n",
    "white_house_lat = 38.9103145107623\n",
    "white_house_long = -77.0221504467353\n",
    "library_of_congress_lat = 38.8888008852652\n",
    "library_of_congress_long = -77.0047082755724\n",
    "nationals_park_lat = 38.8731981381059\n",
    "nationals_park_long = -77.0074329\n",
    "national_zoo_lat = 38.9294590679026\n",
    "national_zoo_long = -77.0492384835061\n",
    "union_station_lat = 38.8973065709087\n",
    "union_station_long = -77.00629767372\n",
    "mcpherson_sq_lat = 38.9028682064423\n",
    "mcpherson_sq_long = -77.0324745881233"
   ]
  },
  {
   "cell_type": "code",
   "execution_count": 13,
   "metadata": {},
   "outputs": [],
   "source": [
    "# distance unit = miles\n",
    "vwListings[\"distance_smithsonian\"] = np.arccos(np.sin(np.radians(vwListings[\"latitude\"]))\n",
    "                                            * np.sin(np.radians(smithsonian_lat)) \n",
    "                                            + np.cos(np.radians(vwListings[\"latitude\"]))\n",
    "                                            *np.cos(np.radians(smithsonian_lat))\n",
    "                                            *np.cos(np.radians(smithsonian_long-vwListings[\"longitude\"])) )*3963*1.15077945"
   ]
  },
  {
   "cell_type": "code",
   "execution_count": 14,
   "metadata": {},
   "outputs": [],
   "source": [
    "vwListings[\"distance_lincoln\"] = np.arccos(np.sin(np.radians(vwListings[\"latitude\"]))\n",
    "                                            * np.sin(np.radians(lincoln_memorial_lat)) \n",
    "                                            + np.cos(np.radians(vwListings[\"latitude\"]))\n",
    "                                            *np.cos(np.radians(lincoln_memorial_lat))\n",
    "                                            *np.cos(np.radians(lincoln_memorial_long-vwListings[\"longitude\"])) )*3963*1.15077945"
   ]
  },
  {
   "cell_type": "code",
   "execution_count": 15,
   "metadata": {},
   "outputs": [],
   "source": [
    "vwListings[\"distance_capitol\"] = np.arccos(np.sin(np.radians(vwListings[\"latitude\"]))\n",
    "                                            * np.sin(np.radians(capitol_lat)) \n",
    "                                            + np.cos(np.radians(vwListings[\"latitude\"]))\n",
    "                                            *np.cos(np.radians(capitol_lat))\n",
    "                                            *np.cos(np.radians(capttol_long-vwListings[\"longitude\"])) )*3963*1.15077945"
   ]
  },
  {
   "cell_type": "code",
   "execution_count": 16,
   "metadata": {},
   "outputs": [],
   "source": [
    "vwListings[\"distance_white_house\"] = np.arccos(np.sin(np.radians(vwListings[\"latitude\"]))\n",
    "                                            * np.sin(np.radians(white_house_lat)) \n",
    "                                            + np.cos(np.radians(vwListings[\"latitude\"]))\n",
    "                                            *np.cos(np.radians(white_house_lat))\n",
    "                                            *np.cos(np.radians(white_house_long-vwListings[\"longitude\"])) )*3963*1.15077945"
   ]
  },
  {
   "cell_type": "code",
   "execution_count": 17,
   "metadata": {},
   "outputs": [],
   "source": [
    "vwListings[\"distance_library_congress\"] = np.arccos(np.sin(np.radians(vwListings[\"latitude\"]))\n",
    "                                            * np.sin(np.radians(library_of_congress_lat)) \n",
    "                                            + np.cos(np.radians(vwListings[\"latitude\"]))\n",
    "                                            *np.cos(np.radians(library_of_congress_lat))\n",
    "                                            *np.cos(np.radians(library_of_congress_long-vwListings[\"longitude\"])))*3963*1.15077945"
   ]
  },
  {
   "cell_type": "code",
   "execution_count": 18,
   "metadata": {},
   "outputs": [],
   "source": [
    "vwListings[\"distance_nationals_park\"] = np.arccos(np.sin(np.radians(vwListings[\"latitude\"]))\n",
    "                                            * np.sin(np.radians(nationals_park_lat)) \n",
    "                                            + np.cos(np.radians(vwListings[\"latitude\"]))\n",
    "                                            *np.cos(np.radians(nationals_park_lat))\n",
    "                                            *np.cos(np.radians(nationals_park_long-vwListings[\"longitude\"])) )*3963*1.15077945"
   ]
  },
  {
   "cell_type": "code",
   "execution_count": 19,
   "metadata": {},
   "outputs": [],
   "source": [
    "vwListings[\"distance_national_zoo\"] = np.arccos(np.sin(np.radians(vwListings[\"latitude\"]))\n",
    "                                            * np.sin(np.radians(national_zoo_lat)) \n",
    "                                            + np.cos(np.radians(vwListings[\"latitude\"]))\n",
    "                                            *np.cos(np.radians(national_zoo_lat))\n",
    "                                            *np.cos(np.radians(national_zoo_long-vwListings[\"longitude\"])) )*3963*1.15077945"
   ]
  },
  {
   "cell_type": "code",
   "execution_count": 20,
   "metadata": {},
   "outputs": [],
   "source": [
    "vwListings[\"distance_railway\"] = np.arccos(np.sin(np.radians(vwListings[\"latitude\"]))\n",
    "                                            * np.sin(np.radians(union_station_lat)) \n",
    "                                            + np.cos(np.radians(vwListings[\"latitude\"]))\n",
    "                                            *np.cos(np.radians(union_station_lat))\n",
    "                                            *np.cos(np.radians(union_station_long-vwListings[\"longitude\"])) )*3963*1.15077945"
   ]
  },
  {
   "cell_type": "code",
   "execution_count": 21,
   "metadata": {},
   "outputs": [],
   "source": [
    "vwListings[\"distance_mcpherson\"] = np.arccos(np.sin(np.radians(vwListings[\"latitude\"]))\n",
    "                                            * np.sin(np.radians(mcpherson_sq_lat)) \n",
    "                                            + np.cos(np.radians(vwListings[\"latitude\"]))\n",
    "                                            *np.cos(np.radians(mcpherson_sq_lat))\n",
    "                                            *np.cos(np.radians(mcpherson_sq_long-vwListings[\"longitude\"])) )*3963*1.15077945"
   ]
  },
  {
   "cell_type": "markdown",
   "metadata": {},
   "source": [
    "We will convert one hot encodings for the following categorical variables host_response_time, host_is_superhost, host_has_profile_pic, host_identity_verified, room_type_mod"
   ]
  },
  {
   "cell_type": "code",
   "execution_count": 22,
   "metadata": {},
   "outputs": [],
   "source": [
    "vwListings = pd.concat([vwListings, pd.get_dummies(vwListings['host_response_time'], prefix='response_time', prefix_sep='_')], axis=1)\n",
    "vwListings = pd.concat([vwListings, pd.get_dummies(vwListings['host_is_superhost'], prefix='superhost', prefix_sep='_')], axis=1)\n",
    "vwListings = pd.concat([vwListings, pd.get_dummies(vwListings['host_identity_verified'], prefix='identity_verified', prefix_sep='_')], axis=1)\n",
    "vwListings = pd.concat([vwListings, pd.get_dummies(vwListings['host_has_profile_pic'], prefix='profile', prefix_sep='_')], axis=1)\n",
    "vwListings = pd.concat([vwListings, pd.get_dummies(vwListings['room_type_mod'])], axis=1)\n",
    "vwListings = pd.concat([vwListings, pd.get_dummies(vwListings['instant_bookable'], prefix='instant_bookable', prefix_sep='_')], axis=1) # ADDED"
   ]
  },
  {
   "cell_type": "code",
   "execution_count": 23,
   "metadata": {},
   "outputs": [],
   "source": [
    "vwListings.loc[(vwListings['host_id']==294545484)&(vwListings['room_type_mod']=='private_room'), 'bedrooms'] = 1\n",
    "vwListings.loc[vwListings['maximum_nights'] < vwListings['minimum_nights'], 'maximum_nights'] = vwListings.loc[\n",
    "    vwListings['maximum_nights'] < vwListings['minimum_nights'], 'minimum_nights']"
   ]
  },
  {
   "cell_type": "code",
   "execution_count": 24,
   "metadata": {},
   "outputs": [],
   "source": [
    "vwListings.loc[vwListings['maximum_nights'] > 1125, 'maximum_nights'] = 1125"
   ]
  },
  {
   "cell_type": "code",
   "execution_count": 25,
   "metadata": {},
   "outputs": [],
   "source": [
    "base_date = pd.Timestamp('2023-03-19')"
   ]
  },
  {
   "cell_type": "code",
   "execution_count": 26,
   "metadata": {},
   "outputs": [],
   "source": [
    "vwListings['last_review'] = pd.to_datetime(vwListings['last_review'])\n",
    "vwListings['days_since_last_review'] = vwListings['last_review'].apply(lambda x: (base_date - x).days)\n",
    "vwListings.loc[vwListings['days_since_last_review'].isna(), 'days_since_last_review'] =\\\n",
    "    vwListings['days_since_last_review'].mean()"
   ]
  },
  {
   "cell_type": "code",
   "execution_count": 27,
   "metadata": {},
   "outputs": [],
   "source": [
    "vwListings['days_since_host_joined'] = vwListings['host_since'].apply(lambda x: (base_date - x).days)"
   ]
  },
  {
   "cell_type": "markdown",
   "metadata": {},
   "source": [
    "## Regression Model"
   ]
  },
  {
   "cell_type": "markdown",
   "metadata": {},
   "source": [
    "Our initial model contains 39 features. We outline our expectations for their coefficients below (note that some features have been grouped together)."
   ]
  },
  {
   "cell_type": "markdown",
   "metadata": {},
   "source": [
    "<ol>\n",
    "    <li><b>response_time_a_few_days_or_more:</b> negative. A host with a bad history of responding probably has to charge a bit less to attract guests.</li>\n",
    "    <li><b>response_time_within_a_day:</b> negative. Within a day is still a long time compared to the other.</li>\n",
    "    <li><b>response_time_within_a_few_hours:</b> positive.</li>\n",
    "    <li><b>response_time_within_an_hour:</b> positive. Convsersely, hosts with good histories of responding can probably charge a bit more because they provide better service to potential guests.</li>\n",
    "    <li><b>host_response_rate:</b> positive. A more-responsive host probably attracts more guests, allowing them to charge more.</li>\n",
    "    <li><b>host_acceptance_rate:</b> positive. Guests are more likely to be attracted to a listing they think they're likely to be able to book.</li>\n",
    "    <li><b>superhost_t:</b> positive. Being a superhost is evidence of consistent good service.</li>\n",
    "    <li><b>profile_t:</b> positive.</li>\n",
    "    <li><b>identity_verified_t:</b> positive. Having a profile picture and verified identity is likely to build trust with prospective guests.</li>\n",
    "    <li><b>entire_home_apt, hotel_room, private_room:</b> positive. Each of these room_types are being compared to the shared room baseline, which should be cheaper than all of them.</li>\n",
    "    <li><b>accommodates, bathroom_numbers, bedroom, beds:</b> positive. As each of these increases, more people can stay comfortably at a listing. A higher price can be divided among more people.</li>\n",
    "    <li><b>minimum_nights, maximum_nights:</b> negative. Listings with higher numbers of nights are medium- or long-term rentals, and those can't command the prices that many short-term rentals can.</li>\n",
    "    <li><b>number_of_reviews:</b> positive. More reviews mean a more reliable record of the listing's quality.</li>\n",
    "    <li><b>review_scores:</b> all positive. Guests are willing to pay more for listings with a better track record.</li>\n",
    "    <li><b>instant_bookable_t:</b> positive. There might be a small premium for listings that allow instant bookings.</li>\n",
    "    <li><b>calculated_host_listings_count:</b> negative. Hosts with more listings might not provide the same personalized service. They also might be more likely to list medium- or long-term rentals.</li>\n",
    "    <li><b>distances:</b> all negative. Most of the landmarks in our secondary dataset are fairly close to the city center, so price should generally decrease as a listing gets further away from them. We expect some to be redundant.</li>\n",
    "    <li><b>days_since_last_review:</b> negative. More recent reviews means a listing has more reliable information available.</li>\n",
    "    <li><b>days_since_host_joined:</b> positive. The more experienced the host, the better.</li>\n",
    "<ol>"
   ]
  },
  {
   "cell_type": "markdown",
   "metadata": {},
   "source": [
    "## Model 1"
   ]
  },
  {
   "cell_type": "markdown",
   "metadata": {},
   "source": [
    "We use the bootstrap method to estimate the coefficients of the initial \"all-in\" model."
   ]
  },
  {
   "cell_type": "code",
   "execution_count": 28,
   "metadata": {},
   "outputs": [
    {
     "data": {
      "text/html": [
       "<p><strong>Model: price ~ response_time_a_few_days_or_more + response_time_within_a_day + response_time_within_a_few_hours + response_time_within_an_hour + host_response_rate + host_acceptance_rate + superhost_t + profile_t + identity_verified_t + entire_home_apt + hotel_room + private_room + accommodates + bathroom_numbers + bedrooms + beds + minimum_nights + maximum_nights + number_of_reviews + review_scores_rating + review_scores_accuracy + review_scores_cleanliness + review_scores_checkin + review_scores_communication + review_scores_location + review_scores_value + instant_bookable_t + calculated_host_listings_count + distance_smithsonian + distance_lincoln + distance_capitol + distance_white_house + distance_library_congress + distance_nationals_park + distance_national_zoo + distance_railway + distance_mcpherson + days_since_last_review + days_since_host_joined</strong><br/><table>\n",
       "<tbody>\n",
       "<tr><td>                                </td><td>                     </td><td>                     </td><td><strong>95% BCI</strong</td><td>                   </td></tr>\n",
       "<tr><td><strong>Coefficients</strong   </td><td>                     </td><td><strong>Mean</strong</td><td><strong>Lo</strong     </td><td><strong>Hi</strong</td></tr>\n",
       "<tr><td>                                </td><td>$\\beta_{0}$          </td><td>-232.5623            </td><td>-316.5111               </td><td>-172.3527          </td></tr>\n",
       "<tr><td>response_time_a_few_days_or_more</td><td>$\\beta_{1}$          </td><td>-4.9648              </td><td>-39.4306                </td><td>35.1272            </td></tr>\n",
       "<tr><td>response_time_within_a_day      </td><td>$\\beta_{2}$          </td><td>-12.9884             </td><td>-70.7150                </td><td>80.2422            </td></tr>\n",
       "<tr><td>response_time_within_a_few_hours</td><td>$\\beta_{3}$          </td><td>-40.4081             </td><td>-87.5234                </td><td>42.6008            </td></tr>\n",
       "<tr><td>response_time_within_an_hour    </td><td>$\\beta_{4}$          </td><td>-8.2019              </td><td>-60.3764                </td><td>82.1980            </td></tr>\n",
       "<tr><td>host_response_rate              </td><td>$\\beta_{5}$          </td><td>-0.0367              </td><td>-0.9417                 </td><td>0.5423             </td></tr>\n",
       "<tr><td>host_acceptance_rate            </td><td>$\\beta_{6}$          </td><td>0.2788               </td><td>0.0092                  </td><td>0.5600             </td></tr>\n",
       "<tr><td>superhost_t                     </td><td>$\\beta_{7}$          </td><td>10.5352              </td><td>0.6903                  </td><td>22.2581            </td></tr>\n",
       "<tr><td>profile_t                       </td><td>$\\beta_{8}$          </td><td>3.3246               </td><td>-18.7033                </td><td>25.5040            </td></tr>\n",
       "<tr><td>identity_verified_t             </td><td>$\\beta_{9}$          </td><td>-9.6995              </td><td>-22.3537                </td><td>2.2319             </td></tr>\n",
       "<tr><td>entire_home_apt                 </td><td>$\\beta_{10}$         </td><td>58.4831              </td><td>31.3396                 </td><td>92.1686            </td></tr>\n",
       "<tr><td>hotel_room                      </td><td>$\\beta_{11}$         </td><td>170.5072             </td><td>143.2289                </td><td>210.8974           </td></tr>\n",
       "<tr><td>private_room                    </td><td>$\\beta_{12}$         </td><td>32.8319              </td><td>12.0816                 </td><td>58.7108            </td></tr>\n",
       "<tr><td>accommodates                    </td><td>$\\beta_{13}$         </td><td>12.5436              </td><td>-6.5542                 </td><td>26.3580            </td></tr>\n",
       "<tr><td>bathroom_numbers                </td><td>$\\beta_{14}$         </td><td>38.3738              </td><td>23.0289                 </td><td>56.5491            </td></tr>\n",
       "<tr><td>bedrooms                        </td><td>$\\beta_{15}$         </td><td>52.8602              </td><td>36.5833                 </td><td>77.3207            </td></tr>\n",
       "<tr><td>beds                            </td><td>$\\beta_{16}$         </td><td>4.9499               </td><td>-10.3369                </td><td>22.3902            </td></tr>\n",
       "<tr><td>minimum_nights                  </td><td>$\\beta_{17}$         </td><td>-0.1441              </td><td>-0.3769                 </td><td>-0.0249            </td></tr>\n",
       "<tr><td>maximum_nights                  </td><td>$\\beta_{18}$         </td><td>-0.0065              </td><td>-0.0166                 </td><td>0.0034             </td></tr>\n",
       "<tr><td>number_of_reviews               </td><td>$\\beta_{19}$         </td><td>-0.1364              </td><td>-0.1822                 </td><td>-0.0773            </td></tr>\n",
       "<tr><td>review_scores_rating            </td><td>$\\beta_{20}$         </td><td>21.9120              </td><td>10.2134                 </td><td>35.9617            </td></tr>\n",
       "<tr><td>review_scores_accuracy          </td><td>$\\beta_{21}$         </td><td>3.6552               </td><td>-8.4624                 </td><td>17.1731            </td></tr>\n",
       "<tr><td>review_scores_cleanliness       </td><td>$\\beta_{22}$         </td><td>14.0113              </td><td>5.6568                  </td><td>23.1348            </td></tr>\n",
       "<tr><td>review_scores_checkin           </td><td>$\\beta_{23}$         </td><td>-8.3914              </td><td>-21.2239                </td><td>1.6381             </td></tr>\n",
       "<tr><td>review_scores_communication     </td><td>$\\beta_{24}$         </td><td>-3.8002              </td><td>-15.6497                </td><td>9.5900             </td></tr>\n",
       "<tr><td>review_scores_location          </td><td>$\\beta_{25}$         </td><td>10.8550              </td><td>0.9607                  </td><td>24.9921            </td></tr>\n",
       "<tr><td>review_scores_value             </td><td>$\\beta_{26}$         </td><td>-13.8589             </td><td>-31.6325                </td><td>0.1471             </td></tr>\n",
       "<tr><td>instant_bookable_t              </td><td>$\\beta_{27}$         </td><td>6.7920               </td><td>-0.5663                 </td><td>15.1543            </td></tr>\n",
       "<tr><td>calculated_host_listings_count  </td><td>$\\beta_{28}$         </td><td>-0.0836              </td><td>-0.1649                 </td><td>0.0053             </td></tr>\n",
       "<tr><td>distance_smithsonian            </td><td>$\\beta_{29}$         </td><td>106.4801             </td><td>-22.9203                </td><td>202.9068           </td></tr>\n",
       "<tr><td>distance_lincoln                </td><td>$\\beta_{30}$         </td><td>1.7054               </td><td>-13.5551                </td><td>29.3262            </td></tr>\n",
       "<tr><td>distance_capitol                </td><td>$\\beta_{31}$         </td><td>-498.3192            </td><td>-720.6110               </td><td>-233.6713          </td></tr>\n",
       "<tr><td>distance_white_house            </td><td>$\\beta_{32}$         </td><td>97.3392              </td><td>66.9882                 </td><td>124.5674           </td></tr>\n",
       "<tr><td>distance_library_congress       </td><td>$\\beta_{33}$         </td><td>295.7338             </td><td>152.4457                </td><td>425.6050           </td></tr>\n",
       "<tr><td>distance_nationals_park         </td><td>$\\beta_{34}$         </td><td>45.3555              </td><td>25.3796                 </td><td>69.2315            </td></tr>\n",
       "<tr><td>distance_national_zoo           </td><td>$\\beta_{35}$         </td><td>10.7596              </td><td>2.9737                  </td><td>19.7901            </td></tr>\n",
       "<tr><td>distance_railway                </td><td>$\\beta_{36}$         </td><td>57.3505              </td><td>6.0471                  </td><td>116.8297           </td></tr>\n",
       "<tr><td>distance_mcpherson              </td><td>$\\beta_{37}$         </td><td>-116.1625            </td><td>-157.8048               </td><td>-72.5360           </td></tr>\n",
       "<tr><td>days_since_last_review          </td><td>$\\beta_{38}$         </td><td>0.0220               </td><td>0.0010                  </td><td>0.0433             </td></tr>\n",
       "<tr><td>days_since_host_joined          </td><td>$\\beta_{39}$         </td><td>-0.0010              </td><td>-0.0061                 </td><td>0.0029             </td></tr>\n",
       "<tr><td>                                </td><td>                     </td><td>                     </td><td>                        </td><td>                   </td></tr>\n",
       "<tr><td><strong>Metrics</strong        </td><td><strong>Mean</strong</td><td><strong>Lo</strong  </td><td><strong>Hi</strong     </td><td>                   </td></tr>\n",
       "<tr><td>$\\sigma$                        </td><td>166.5861             </td><td>122.8810             </td><td>203.3583                </td><td>                   </td></tr>\n",
       "<tr><td>$R^2$                           </td><td>0.3463               </td><td>0.2756               </td><td>0.4348                  </td><td>                   </td></tr>\n",
       "</tbody>\n",
       "</table></p>"
      ],
      "text/latex": [
       "\\textbf{Model: price $\\sim$ response\\_time\\_a\\_few\\_days\\_or\\_more + response\\_time\\_within\\_a\\_day + response\\_time\\_within\\_a\\_few\\_hours + response\\_time\\_within\\_an\\_hour + host\\_response\\_rate + host\\_acceptance\\_rate + superhost\\_t + profile\\_t + identity\\_verified\\_t + entire\\_home\\_apt + hotel\\_room + private\\_room + accommodates + bathroom\\_numbers + bedrooms + beds + minimum\\_nights + maximum\\_nights + number\\_of\\_reviews + review\\_scores\\_rating + review\\_scores\\_accuracy + review\\_scores\\_cleanliness + review\\_scores\\_checkin + review\\_scores\\_communication + review\\_scores\\_location + review\\_scores\\_value + instant\\_bookable\\_t + calculated\\_host\\_listings\\_count + distance\\_smithsonian + distance\\_lincoln + distance\\_capitol + distance\\_white\\_house + distance\\_library\\_congress + distance\\_nationals\\_park + distance\\_national\\_zoo + distance\\_railway + distance\\_mcpherson + days\\_since\\_last\\_review + days\\_since\\_host\\_joined}\n",
       "\n",
       "\\begin{tabular}{lllll}\n",
       "\\toprule\n",
       "                                        &               &               & \\textbf{95\\% BCI} &             \\\\\n",
       " \\textbf{Coefficients}                  &               & \\textbf{Mean} & \\textbf{Lo}      & \\textbf{Hi} \\\\\n",
       "                                        & $\\beta_{0}$   & -232.5623     & -316.5111        & -172.3527   \\\\\n",
       " response\\_time\\_a\\_few\\_days\\_or\\_more & $\\beta_{1}$   & -4.9648       & -39.4306         & 35.1272     \\\\\n",
       " response\\_time\\_within\\_a\\_day         & $\\beta_{2}$   & -12.9884      & -70.7150         & 80.2422     \\\\\n",
       " response\\_time\\_within\\_a\\_few\\_hours  & $\\beta_{3}$   & -40.4081      & -87.5234         & 42.6008     \\\\\n",
       " response\\_time\\_within\\_an\\_hour       & $\\beta_{4}$   & -8.2019       & -60.3764         & 82.1980     \\\\\n",
       " host\\_response\\_rate                   & $\\beta_{5}$   & -0.0367       & -0.9417          & 0.5423      \\\\\n",
       " host\\_acceptance\\_rate                 & $\\beta_{6}$   & 0.2788        & 0.0092           & 0.5600      \\\\\n",
       " superhost\\_t                           & $\\beta_{7}$   & 10.5352       & 0.6903           & 22.2581     \\\\\n",
       " profile\\_t                             & $\\beta_{8}$   & 3.3246        & -18.7033         & 25.5040     \\\\\n",
       " identity\\_verified\\_t                  & $\\beta_{9}$   & -9.6995       & -22.3537         & 2.2319      \\\\\n",
       " entire\\_home\\_apt                      & $\\beta_{10}$  & 58.4831       & 31.3396          & 92.1686     \\\\\n",
       " hotel\\_room                            & $\\beta_{11}$  & 170.5072      & 143.2289         & 210.8974    \\\\\n",
       " private\\_room                          & $\\beta_{12}$  & 32.8319       & 12.0816          & 58.7108     \\\\\n",
       " accommodates                           & $\\beta_{13}$  & 12.5436       & -6.5542          & 26.3580     \\\\\n",
       " bathroom\\_numbers                      & $\\beta_{14}$  & 38.3738       & 23.0289          & 56.5491     \\\\\n",
       " bedrooms                               & $\\beta_{15}$  & 52.8602       & 36.5833          & 77.3207     \\\\\n",
       " beds                                   & $\\beta_{16}$  & 4.9499        & -10.3369         & 22.3902     \\\\\n",
       " minimum\\_nights                        & $\\beta_{17}$  & -0.1441       & -0.3769          & -0.0249     \\\\\n",
       " maximum\\_nights                        & $\\beta_{18}$  & -0.0065       & -0.0166          & 0.0034      \\\\\n",
       " number\\_of\\_reviews                    & $\\beta_{19}$  & -0.1364       & -0.1822          & -0.0773     \\\\\n",
       " review\\_scores\\_rating                 & $\\beta_{20}$  & 21.9120       & 10.2134          & 35.9617     \\\\\n",
       " review\\_scores\\_accuracy               & $\\beta_{21}$  & 3.6552        & -8.4624          & 17.1731     \\\\\n",
       " review\\_scores\\_cleanliness            & $\\beta_{22}$  & 14.0113       & 5.6568           & 23.1348     \\\\\n",
       " review\\_scores\\_checkin                & $\\beta_{23}$  & -8.3914       & -21.2239         & 1.6381      \\\\\n",
       " review\\_scores\\_communication          & $\\beta_{24}$  & -3.8002       & -15.6497         & 9.5900      \\\\\n",
       " review\\_scores\\_location               & $\\beta_{25}$  & 10.8550       & 0.9607           & 24.9921     \\\\\n",
       " review\\_scores\\_value                  & $\\beta_{26}$  & -13.8589      & -31.6325         & 0.1471      \\\\\n",
       " instant\\_bookable\\_t                   & $\\beta_{27}$  & 6.7920        & -0.5663          & 15.1543     \\\\\n",
       " calculated\\_host\\_listings\\_count      & $\\beta_{28}$  & -0.0836       & -0.1649          & 0.0053      \\\\\n",
       " distance\\_smithsonian                  & $\\beta_{29}$  & 106.4801      & -22.9203         & 202.9068    \\\\\n",
       " distance\\_lincoln                      & $\\beta_{30}$  & 1.7054        & -13.5551         & 29.3262     \\\\\n",
       " distance\\_capitol                      & $\\beta_{31}$  & -498.3192     & -720.6110        & -233.6713   \\\\\n",
       " distance\\_white\\_house                 & $\\beta_{32}$  & 97.3392       & 66.9882          & 124.5674    \\\\\n",
       " distance\\_library\\_congress            & $\\beta_{33}$  & 295.7338      & 152.4457         & 425.6050    \\\\\n",
       " distance\\_nationals\\_park              & $\\beta_{34}$  & 45.3555       & 25.3796          & 69.2315     \\\\\n",
       " distance\\_national\\_zoo                & $\\beta_{35}$  & 10.7596       & 2.9737           & 19.7901     \\\\\n",
       " distance\\_railway                      & $\\beta_{36}$  & 57.3505       & 6.0471           & 116.8297    \\\\\n",
       " distance\\_mcpherson                    & $\\beta_{37}$  & -116.1625     & -157.8048        & -72.5360    \\\\\n",
       " days\\_since\\_last\\_review              & $\\beta_{38}$  & 0.0220        & 0.0010           & 0.0433      \\\\\n",
       " days\\_since\\_host\\_joined              & $\\beta_{39}$  & -0.0010       & -0.0061          & 0.0029      \\\\\n",
       "                                        &               &               &                  &             \\\\\n",
       " \\textbf{Metrics}                       & \\textbf{Mean} & \\textbf{Lo}   & \\textbf{Hi}      &             \\\\\n",
       " $\\sigma$                               & 166.5861      & 122.8810      & 203.3583         &             \\\\\n",
       " $R^2$                                  & 0.3463        & 0.2756        & 0.4348           &             \\\\\n",
       "\\bottomrule\n",
       "\\end{tabular}"
      ],
      "text/markdown": [
       "Model: price ~ response_time_a_few_days_or_more + response_time_within_a_day + response_time_within_a_few_hours + response_time_within_an_hour + host_response_rate + host_acceptance_rate + superhost_t + profile_t + identity_verified_t + entire_home_apt + hotel_room + private_room + accommodates + bathroom_numbers + bedrooms + beds + minimum_nights + maximum_nights + number_of_reviews + review_scores_rating + review_scores_accuracy + review_scores_cleanliness + review_scores_checkin + review_scores_communication + review_scores_location + review_scores_value + instant_bookable_t + calculated_host_listings_count + distance_smithsonian + distance_lincoln + distance_capitol + distance_white_house + distance_library_congress + distance_nationals_park + distance_national_zoo + distance_railway + distance_mcpherson + days_since_last_review + days_since_host_joined\n",
       "|----------------------------------|--------------|-----------|-------------|-----------|\n",
       "|                                  |              |           | **95% BCI** |           |\n",
       "| **Coefficients**                 |              | **Mean**  | **Lo**      | **Hi**    |\n",
       "|                                  | $\\beta_{0}$  | -232.5623 | -316.5111   | -172.3527 |\n",
       "| response_time_a_few_days_or_more | $\\beta_{1}$  | -4.9648   | -39.4306    | 35.1272   |\n",
       "| response_time_within_a_day       | $\\beta_{2}$  | -12.9884  | -70.7150    | 80.2422   |\n",
       "| response_time_within_a_few_hours | $\\beta_{3}$  | -40.4081  | -87.5234    | 42.6008   |\n",
       "| response_time_within_an_hour     | $\\beta_{4}$  | -8.2019   | -60.3764    | 82.1980   |\n",
       "| host_response_rate               | $\\beta_{5}$  | -0.0367   | -0.9417     | 0.5423    |\n",
       "| host_acceptance_rate             | $\\beta_{6}$  | 0.2788    | 0.0092      | 0.5600    |\n",
       "| superhost_t                      | $\\beta_{7}$  | 10.5352   | 0.6903      | 22.2581   |\n",
       "| profile_t                        | $\\beta_{8}$  | 3.3246    | -18.7033    | 25.5040   |\n",
       "| identity_verified_t              | $\\beta_{9}$  | -9.6995   | -22.3537    | 2.2319    |\n",
       "| entire_home_apt                  | $\\beta_{10}$ | 58.4831   | 31.3396     | 92.1686   |\n",
       "| hotel_room                       | $\\beta_{11}$ | 170.5072  | 143.2289    | 210.8974  |\n",
       "| private_room                     | $\\beta_{12}$ | 32.8319   | 12.0816     | 58.7108   |\n",
       "| accommodates                     | $\\beta_{13}$ | 12.5436   | -6.5542     | 26.3580   |\n",
       "| bathroom_numbers                 | $\\beta_{14}$ | 38.3738   | 23.0289     | 56.5491   |\n",
       "| bedrooms                         | $\\beta_{15}$ | 52.8602   | 36.5833     | 77.3207   |\n",
       "| beds                             | $\\beta_{16}$ | 4.9499    | -10.3369    | 22.3902   |\n",
       "| minimum_nights                   | $\\beta_{17}$ | -0.1441   | -0.3769     | -0.0249   |\n",
       "| maximum_nights                   | $\\beta_{18}$ | -0.0065   | -0.0166     | 0.0034    |\n",
       "| number_of_reviews                | $\\beta_{19}$ | -0.1364   | -0.1822     | -0.0773   |\n",
       "| review_scores_rating             | $\\beta_{20}$ | 21.9120   | 10.2134     | 35.9617   |\n",
       "| review_scores_accuracy           | $\\beta_{21}$ | 3.6552    | -8.4624     | 17.1731   |\n",
       "| review_scores_cleanliness        | $\\beta_{22}$ | 14.0113   | 5.6568      | 23.1348   |\n",
       "| review_scores_checkin            | $\\beta_{23}$ | -8.3914   | -21.2239    | 1.6381    |\n",
       "| review_scores_communication      | $\\beta_{24}$ | -3.8002   | -15.6497    | 9.5900    |\n",
       "| review_scores_location           | $\\beta_{25}$ | 10.8550   | 0.9607      | 24.9921   |\n",
       "| review_scores_value              | $\\beta_{26}$ | -13.8589  | -31.6325    | 0.1471    |\n",
       "| instant_bookable_t               | $\\beta_{27}$ | 6.7920    | -0.5663     | 15.1543   |\n",
       "| calculated_host_listings_count   | $\\beta_{28}$ | -0.0836   | -0.1649     | 0.0053    |\n",
       "| distance_smithsonian             | $\\beta_{29}$ | 106.4801  | -22.9203    | 202.9068  |\n",
       "| distance_lincoln                 | $\\beta_{30}$ | 1.7054    | -13.5551    | 29.3262   |\n",
       "| distance_capitol                 | $\\beta_{31}$ | -498.3192 | -720.6110   | -233.6713 |\n",
       "| distance_white_house             | $\\beta_{32}$ | 97.3392   | 66.9882     | 124.5674  |\n",
       "| distance_library_congress        | $\\beta_{33}$ | 295.7338  | 152.4457    | 425.6050  |\n",
       "| distance_nationals_park          | $\\beta_{34}$ | 45.3555   | 25.3796     | 69.2315   |\n",
       "| distance_national_zoo            | $\\beta_{35}$ | 10.7596   | 2.9737      | 19.7901   |\n",
       "| distance_railway                 | $\\beta_{36}$ | 57.3505   | 6.0471      | 116.8297  |\n",
       "| distance_mcpherson               | $\\beta_{37}$ | -116.1625 | -157.8048   | -72.5360  |\n",
       "| days_since_last_review           | $\\beta_{38}$ | 0.0220    | 0.0010      | 0.0433    |\n",
       "| days_since_host_joined           | $\\beta_{39}$ | -0.0010   | -0.0061     | 0.0029    |\n",
       "|                                  |              |           |             |           |\n",
       "| **Metrics**                      | **Mean**     | **Lo**    | **Hi**      |           |\n",
       "| $\\sigma$                         | 166.5861     | 122.8810  | 203.3583    |           |\n",
       "| $R^2$                            | 0.3463       | 0.2756    | 0.4348      |           |"
      ],
      "text/plain": [
       "<models.ResultsWrapper at 0x2b0713cdb80>"
      ]
     },
     "execution_count": 28,
     "metadata": {},
     "output_type": "execute_result"
    }
   ],
   "source": [
    "np.random.seed(1453496)\n",
    "model1 = (\"price ~ response_time_a_few_days_or_more + response_time_within_a_day \"\n",
    "        \"+ response_time_within_a_few_hours + response_time_within_an_hour + host_response_rate \"\n",
    "        \"+ host_acceptance_rate + superhost_t \"\n",
    "        \"+ profile_t + identity_verified_t + entire_home_apt + hotel_room + private_room + accommodates \"\n",
    "        \"+ bathroom_numbers + bedrooms + beds + minimum_nights + maximum_nights + number_of_reviews \"\n",
    "        \"+ review_scores_rating + review_scores_accuracy + review_scores_cleanliness + review_scores_checkin \"\n",
    "        \"+ review_scores_communication + review_scores_location + review_scores_value + instant_bookable_t \"\n",
    "        \"+ calculated_host_listings_count + distance_smithsonian + distance_lincoln + distance_capitol \"\n",
    "        \"+ distance_white_house + distance_library_congress + distance_nationals_park + distance_national_zoo \"\n",
    "        \"+ distance_railway + distance_mcpherson + days_since_last_review + days_since_host_joined\")\n",
    "result1 = models.bootstrap_linear_regression(model1, data=vwListings)\n",
    "models.describe_bootstrap_lr(result1, sd=4)"
   ]
  },
  {
   "cell_type": "code",
   "execution_count": 29,
   "metadata": {},
   "outputs": [
    {
     "data": {
      "text/plain": [
       "8161"
      ]
     },
     "execution_count": 29,
     "metadata": {},
     "output_type": "execute_result"
    }
   ],
   "source": [
    "len(result1[\"residuals\"])"
   ]
  },
  {
   "cell_type": "markdown",
   "metadata": {},
   "source": [
    "The $R^2$ is 0.346, with a standard error of 166.59. The mean price is 178.81, so the error isn't great compared to the scale of the data. However, it is a marked improvement over the standard error of the null model, which is 205.54."
   ]
  },
  {
   "cell_type": "markdown",
   "metadata": {},
   "source": [
    "Comparing the bootstrap coefficients to our prior beliefs shows some clear candidates to be dropped from the model:\n",
    "<ul>\n",
    "    <li><b>response_time_within_a_few_hours:</b> expected positive, estimated weak negative</li>\n",
    "    <li><b>response_time_within_an_hour:</b> expected positive, estimated weak negative</li>\n",
    "    <li><b>host_response_rate:</b> expected positive, estimated weak negative</li>\n",
    "    <li><b>identity_verified_t:</b> expected positive, estimated weak negative</li>\n",
    "    <li><b>review_scores_checkin, review_scores_communication:</b> expected positive, estimated weak negative</li>\n",
    "    <li><b>distance_lincoln:</b> expected negative, estimated weak positive</li>\n",
    "    <li><b>days_since_host_joined:</b> expected positive, estimated weak negative</li>\n",
    "</ul>\n",
    "\n",
    "We will drop those features and keep an eye on some others. review_scores_value was expected to have a positive coefficient, but its estimated coefficient is negative and barely includes zero in its 95% confidence interval. A negative coefficient does also make sense, though. distance_smithsonian was expected negative but its estimated coefficient is positive and includes zero in its 95% confidence interval. Zero is towards the end of the range, however, so we keep it in for now."
   ]
  },
  {
   "cell_type": "markdown",
   "metadata": {},
   "source": [
    "### Model 2"
   ]
  },
  {
   "cell_type": "markdown",
   "metadata": {},
   "source": [
    "We use the bootstrap method to estimate the new, trimmed-down model."
   ]
  },
  {
   "cell_type": "code",
   "execution_count": 30,
   "metadata": {
    "scrolled": false
   },
   "outputs": [
    {
     "data": {
      "text/html": [
       "<p><strong>Model: price ~ response_time_a_few_days_or_more + response_time_within_a_day + host_acceptance_rate + superhost_t + profile_t + entire_home_apt + hotel_room + private_room + accommodates + bathroom_numbers + bedrooms + beds + minimum_nights + maximum_nights + number_of_reviews + review_scores_rating + review_scores_accuracy + review_scores_cleanliness + review_scores_location + review_scores_value + instant_bookable_t + calculated_host_listings_count + distance_smithsonian + distance_capitol + distance_white_house + distance_library_congress + distance_nationals_park + distance_national_zoo + distance_railway + distance_mcpherson + days_since_last_review</strong><br/><table>\n",
       "<tbody>\n",
       "<tr><td>                                </td><td>                     </td><td>                     </td><td><strong>95% BCI</strong</td><td>                   </td></tr>\n",
       "<tr><td><strong>Coefficients</strong   </td><td>                     </td><td><strong>Mean</strong</td><td><strong>Lo</strong     </td><td><strong>Hi</strong</td></tr>\n",
       "<tr><td>                                </td><td>$\\beta_{0}$          </td><td>-290.3472            </td><td>-376.0987               </td><td>-221.8026          </td></tr>\n",
       "<tr><td>response_time_a_few_days_or_more</td><td>$\\beta_{1}$          </td><td>8.4557               </td><td>-26.4725                </td><td>41.4873            </td></tr>\n",
       "<tr><td>response_time_within_a_day      </td><td>$\\beta_{2}$          </td><td>-0.0052              </td><td>-17.7019                </td><td>24.6040            </td></tr>\n",
       "<tr><td>host_acceptance_rate            </td><td>$\\beta_{3}$          </td><td>0.2410               </td><td>-0.0509                 </td><td>0.5140             </td></tr>\n",
       "<tr><td>superhost_t                     </td><td>$\\beta_{4}$          </td><td>10.0362              </td><td>1.0641                  </td><td>21.6564            </td></tr>\n",
       "<tr><td>profile_t                       </td><td>$\\beta_{5}$          </td><td>-1.7201              </td><td>-29.0018                </td><td>26.2517            </td></tr>\n",
       "<tr><td>entire_home_apt                 </td><td>$\\beta_{6}$          </td><td>68.1921              </td><td>46.1110                 </td><td>99.3625            </td></tr>\n",
       "<tr><td>hotel_room                      </td><td>$\\beta_{7}$          </td><td>179.7294             </td><td>149.9088                </td><td>211.8742           </td></tr>\n",
       "<tr><td>private_room                    </td><td>$\\beta_{8}$          </td><td>38.9381              </td><td>19.5618                 </td><td>66.0031            </td></tr>\n",
       "<tr><td>accommodates                    </td><td>$\\beta_{9}$          </td><td>12.7133              </td><td>-5.9544                 </td><td>24.2587            </td></tr>\n",
       "<tr><td>bathroom_numbers                </td><td>$\\beta_{10}$         </td><td>35.6025              </td><td>21.7707                 </td><td>61.4147            </td></tr>\n",
       "<tr><td>bedrooms                        </td><td>$\\beta_{11}$         </td><td>54.7421              </td><td>37.9300                 </td><td>80.7111            </td></tr>\n",
       "<tr><td>beds                            </td><td>$\\beta_{12}$         </td><td>4.5468               </td><td>-11.2304                </td><td>25.6197            </td></tr>\n",
       "<tr><td>minimum_nights                  </td><td>$\\beta_{13}$         </td><td>-0.1647              </td><td>-0.3933                 </td><td>0.0126             </td></tr>\n",
       "<tr><td>maximum_nights                  </td><td>$\\beta_{14}$         </td><td>-0.0073              </td><td>-0.0144                 </td><td>0.0006             </td></tr>\n",
       "<tr><td>number_of_reviews               </td><td>$\\beta_{15}$         </td><td>-0.1306              </td><td>-0.1719                 </td><td>-0.0923            </td></tr>\n",
       "<tr><td>review_scores_rating            </td><td>$\\beta_{16}$         </td><td>19.2319              </td><td>6.9043                  </td><td>29.4237            </td></tr>\n",
       "<tr><td>review_scores_accuracy          </td><td>$\\beta_{17}$         </td><td>1.0557               </td><td>-10.7591                </td><td>17.8679            </td></tr>\n",
       "<tr><td>review_scores_cleanliness       </td><td>$\\beta_{18}$         </td><td>16.7696              </td><td>8.2614                  </td><td>27.9093            </td></tr>\n",
       "<tr><td>review_scores_location          </td><td>$\\beta_{19}$         </td><td>9.5109               </td><td>-2.0493                 </td><td>23.5394            </td></tr>\n",
       "<tr><td>review_scores_value             </td><td>$\\beta_{20}$         </td><td>-15.8784             </td><td>-34.7844                </td><td>2.0710             </td></tr>\n",
       "<tr><td>instant_bookable_t              </td><td>$\\beta_{21}$         </td><td>10.6918              </td><td>4.3236                  </td><td>17.7157            </td></tr>\n",
       "<tr><td>calculated_host_listings_count  </td><td>$\\beta_{22}$         </td><td>-0.1017              </td><td>-0.1971                 </td><td>-0.0182            </td></tr>\n",
       "<tr><td>distance_smithsonian            </td><td>$\\beta_{23}$         </td><td>120.0060             </td><td>60.9785                 </td><td>182.4584           </td></tr>\n",
       "<tr><td>distance_capitol                </td><td>$\\beta_{24}$         </td><td>-531.9574            </td><td>-678.6941               </td><td>-395.5348          </td></tr>\n",
       "<tr><td>distance_white_house            </td><td>$\\beta_{25}$         </td><td>100.5994             </td><td>78.8109                 </td><td>133.9225           </td></tr>\n",
       "<tr><td>distance_library_congress       </td><td>$\\beta_{26}$         </td><td>324.9624             </td><td>223.9598                </td><td>437.0329           </td></tr>\n",
       "<tr><td>distance_nationals_park         </td><td>$\\beta_{27}$         </td><td>41.8042              </td><td>23.3640                 </td><td>63.9964            </td></tr>\n",
       "<tr><td>distance_national_zoo           </td><td>$\\beta_{28}$         </td><td>11.5938              </td><td>5.3444                  </td><td>22.3660            </td></tr>\n",
       "<tr><td>distance_railway                </td><td>$\\beta_{29}$         </td><td>54.5155              </td><td>11.8710                 </td><td>87.1381            </td></tr>\n",
       "<tr><td>distance_mcpherson              </td><td>$\\beta_{30}$         </td><td>-121.3962            </td><td>-175.9248               </td><td>-87.4287           </td></tr>\n",
       "<tr><td>days_since_last_review          </td><td>$\\beta_{31}$         </td><td>0.0259               </td><td>0.0052                  </td><td>0.0453             </td></tr>\n",
       "<tr><td>                                </td><td>                     </td><td>                     </td><td>                        </td><td>                   </td></tr>\n",
       "<tr><td><strong>Metrics</strong        </td><td><strong>Mean</strong</td><td><strong>Lo</strong  </td><td><strong>Hi</strong     </td><td>                   </td></tr>\n",
       "<tr><td>$\\sigma$                        </td><td>166.9483             </td><td>135.9189             </td><td>203.3062                </td><td>                   </td></tr>\n",
       "<tr><td>$R^2$                           </td><td>0.3428               </td><td>0.2741               </td><td>0.4280                  </td><td>                   </td></tr>\n",
       "</tbody>\n",
       "</table></p>"
      ],
      "text/latex": [
       "\\textbf{Model: price $\\sim$ response\\_time\\_a\\_few\\_days\\_or\\_more + response\\_time\\_within\\_a\\_day + host\\_acceptance\\_rate + superhost\\_t + profile\\_t + entire\\_home\\_apt + hotel\\_room + private\\_room + accommodates + bathroom\\_numbers + bedrooms + beds + minimum\\_nights + maximum\\_nights + number\\_of\\_reviews + review\\_scores\\_rating + review\\_scores\\_accuracy + review\\_scores\\_cleanliness + review\\_scores\\_location + review\\_scores\\_value + instant\\_bookable\\_t + calculated\\_host\\_listings\\_count + distance\\_smithsonian + distance\\_capitol + distance\\_white\\_house + distance\\_library\\_congress + distance\\_nationals\\_park + distance\\_national\\_zoo + distance\\_railway + distance\\_mcpherson + days\\_since\\_last\\_review}\n",
       "\n",
       "\\begin{tabular}{lllll}\n",
       "\\toprule\n",
       "                                        &               &               & \\textbf{95\\% BCI} &             \\\\\n",
       " \\textbf{Coefficients}                  &               & \\textbf{Mean} & \\textbf{Lo}      & \\textbf{Hi} \\\\\n",
       "                                        & $\\beta_{0}$   & -290.3472     & -376.0987        & -221.8026   \\\\\n",
       " response\\_time\\_a\\_few\\_days\\_or\\_more & $\\beta_{1}$   & 8.4557        & -26.4725         & 41.4873     \\\\\n",
       " response\\_time\\_within\\_a\\_day         & $\\beta_{2}$   & -0.0052       & -17.7019         & 24.6040     \\\\\n",
       " host\\_acceptance\\_rate                 & $\\beta_{3}$   & 0.2410        & -0.0509          & 0.5140      \\\\\n",
       " superhost\\_t                           & $\\beta_{4}$   & 10.0362       & 1.0641           & 21.6564     \\\\\n",
       " profile\\_t                             & $\\beta_{5}$   & -1.7201       & -29.0018         & 26.2517     \\\\\n",
       " entire\\_home\\_apt                      & $\\beta_{6}$   & 68.1921       & 46.1110          & 99.3625     \\\\\n",
       " hotel\\_room                            & $\\beta_{7}$   & 179.7294      & 149.9088         & 211.8742    \\\\\n",
       " private\\_room                          & $\\beta_{8}$   & 38.9381       & 19.5618          & 66.0031     \\\\\n",
       " accommodates                           & $\\beta_{9}$   & 12.7133       & -5.9544          & 24.2587     \\\\\n",
       " bathroom\\_numbers                      & $\\beta_{10}$  & 35.6025       & 21.7707          & 61.4147     \\\\\n",
       " bedrooms                               & $\\beta_{11}$  & 54.7421       & 37.9300          & 80.7111     \\\\\n",
       " beds                                   & $\\beta_{12}$  & 4.5468        & -11.2304         & 25.6197     \\\\\n",
       " minimum\\_nights                        & $\\beta_{13}$  & -0.1647       & -0.3933          & 0.0126      \\\\\n",
       " maximum\\_nights                        & $\\beta_{14}$  & -0.0073       & -0.0144          & 0.0006      \\\\\n",
       " number\\_of\\_reviews                    & $\\beta_{15}$  & -0.1306       & -0.1719          & -0.0923     \\\\\n",
       " review\\_scores\\_rating                 & $\\beta_{16}$  & 19.2319       & 6.9043           & 29.4237     \\\\\n",
       " review\\_scores\\_accuracy               & $\\beta_{17}$  & 1.0557        & -10.7591         & 17.8679     \\\\\n",
       " review\\_scores\\_cleanliness            & $\\beta_{18}$  & 16.7696       & 8.2614           & 27.9093     \\\\\n",
       " review\\_scores\\_location               & $\\beta_{19}$  & 9.5109        & -2.0493          & 23.5394     \\\\\n",
       " review\\_scores\\_value                  & $\\beta_{20}$  & -15.8784      & -34.7844         & 2.0710      \\\\\n",
       " instant\\_bookable\\_t                   & $\\beta_{21}$  & 10.6918       & 4.3236           & 17.7157     \\\\\n",
       " calculated\\_host\\_listings\\_count      & $\\beta_{22}$  & -0.1017       & -0.1971          & -0.0182     \\\\\n",
       " distance\\_smithsonian                  & $\\beta_{23}$  & 120.0060      & 60.9785          & 182.4584    \\\\\n",
       " distance\\_capitol                      & $\\beta_{24}$  & -531.9574     & -678.6941        & -395.5348   \\\\\n",
       " distance\\_white\\_house                 & $\\beta_{25}$  & 100.5994      & 78.8109          & 133.9225    \\\\\n",
       " distance\\_library\\_congress            & $\\beta_{26}$  & 324.9624      & 223.9598         & 437.0329    \\\\\n",
       " distance\\_nationals\\_park              & $\\beta_{27}$  & 41.8042       & 23.3640          & 63.9964     \\\\\n",
       " distance\\_national\\_zoo                & $\\beta_{28}$  & 11.5938       & 5.3444           & 22.3660     \\\\\n",
       " distance\\_railway                      & $\\beta_{29}$  & 54.5155       & 11.8710          & 87.1381     \\\\\n",
       " distance\\_mcpherson                    & $\\beta_{30}$  & -121.3962     & -175.9248        & -87.4287    \\\\\n",
       " days\\_since\\_last\\_review              & $\\beta_{31}$  & 0.0259        & 0.0052           & 0.0453      \\\\\n",
       "                                        &               &               &                  &             \\\\\n",
       " \\textbf{Metrics}                       & \\textbf{Mean} & \\textbf{Lo}   & \\textbf{Hi}      &             \\\\\n",
       " $\\sigma$                               & 166.9483      & 135.9189      & 203.3062         &             \\\\\n",
       " $R^2$                                  & 0.3428        & 0.2741        & 0.4280           &             \\\\\n",
       "\\bottomrule\n",
       "\\end{tabular}"
      ],
      "text/markdown": [
       "Model: price ~ response_time_a_few_days_or_more + response_time_within_a_day + host_acceptance_rate + superhost_t + profile_t + entire_home_apt + hotel_room + private_room + accommodates + bathroom_numbers + bedrooms + beds + minimum_nights + maximum_nights + number_of_reviews + review_scores_rating + review_scores_accuracy + review_scores_cleanliness + review_scores_location + review_scores_value + instant_bookable_t + calculated_host_listings_count + distance_smithsonian + distance_capitol + distance_white_house + distance_library_congress + distance_nationals_park + distance_national_zoo + distance_railway + distance_mcpherson + days_since_last_review\n",
       "|----------------------------------|--------------|-----------|-------------|-----------|\n",
       "|                                  |              |           | **95% BCI** |           |\n",
       "| **Coefficients**                 |              | **Mean**  | **Lo**      | **Hi**    |\n",
       "|                                  | $\\beta_{0}$  | -290.3472 | -376.0987   | -221.8026 |\n",
       "| response_time_a_few_days_or_more | $\\beta_{1}$  | 8.4557    | -26.4725    | 41.4873   |\n",
       "| response_time_within_a_day       | $\\beta_{2}$  | -0.0052   | -17.7019    | 24.6040   |\n",
       "| host_acceptance_rate             | $\\beta_{3}$  | 0.2410    | -0.0509     | 0.5140    |\n",
       "| superhost_t                      | $\\beta_{4}$  | 10.0362   | 1.0641      | 21.6564   |\n",
       "| profile_t                        | $\\beta_{5}$  | -1.7201   | -29.0018    | 26.2517   |\n",
       "| entire_home_apt                  | $\\beta_{6}$  | 68.1921   | 46.1110     | 99.3625   |\n",
       "| hotel_room                       | $\\beta_{7}$  | 179.7294  | 149.9088    | 211.8742  |\n",
       "| private_room                     | $\\beta_{8}$  | 38.9381   | 19.5618     | 66.0031   |\n",
       "| accommodates                     | $\\beta_{9}$  | 12.7133   | -5.9544     | 24.2587   |\n",
       "| bathroom_numbers                 | $\\beta_{10}$ | 35.6025   | 21.7707     | 61.4147   |\n",
       "| bedrooms                         | $\\beta_{11}$ | 54.7421   | 37.9300     | 80.7111   |\n",
       "| beds                             | $\\beta_{12}$ | 4.5468    | -11.2304    | 25.6197   |\n",
       "| minimum_nights                   | $\\beta_{13}$ | -0.1647   | -0.3933     | 0.0126    |\n",
       "| maximum_nights                   | $\\beta_{14}$ | -0.0073   | -0.0144     | 0.0006    |\n",
       "| number_of_reviews                | $\\beta_{15}$ | -0.1306   | -0.1719     | -0.0923   |\n",
       "| review_scores_rating             | $\\beta_{16}$ | 19.2319   | 6.9043      | 29.4237   |\n",
       "| review_scores_accuracy           | $\\beta_{17}$ | 1.0557    | -10.7591    | 17.8679   |\n",
       "| review_scores_cleanliness        | $\\beta_{18}$ | 16.7696   | 8.2614      | 27.9093   |\n",
       "| review_scores_location           | $\\beta_{19}$ | 9.5109    | -2.0493     | 23.5394   |\n",
       "| review_scores_value              | $\\beta_{20}$ | -15.8784  | -34.7844    | 2.0710    |\n",
       "| instant_bookable_t               | $\\beta_{21}$ | 10.6918   | 4.3236      | 17.7157   |\n",
       "| calculated_host_listings_count   | $\\beta_{22}$ | -0.1017   | -0.1971     | -0.0182   |\n",
       "| distance_smithsonian             | $\\beta_{23}$ | 120.0060  | 60.9785     | 182.4584  |\n",
       "| distance_capitol                 | $\\beta_{24}$ | -531.9574 | -678.6941   | -395.5348 |\n",
       "| distance_white_house             | $\\beta_{25}$ | 100.5994  | 78.8109     | 133.9225  |\n",
       "| distance_library_congress        | $\\beta_{26}$ | 324.9624  | 223.9598    | 437.0329  |\n",
       "| distance_nationals_park          | $\\beta_{27}$ | 41.8042   | 23.3640     | 63.9964   |\n",
       "| distance_national_zoo            | $\\beta_{28}$ | 11.5938   | 5.3444      | 22.3660   |\n",
       "| distance_railway                 | $\\beta_{29}$ | 54.5155   | 11.8710     | 87.1381   |\n",
       "| distance_mcpherson               | $\\beta_{30}$ | -121.3962 | -175.9248   | -87.4287  |\n",
       "| days_since_last_review           | $\\beta_{31}$ | 0.0259    | 0.0052      | 0.0453    |\n",
       "|                                  |              |           |             |           |\n",
       "| **Metrics**                      | **Mean**     | **Lo**    | **Hi**      |           |\n",
       "| $\\sigma$                         | 166.9483     | 135.9189  | 203.3062    |           |\n",
       "| $R^2$                            | 0.3428       | 0.2741    | 0.4280      |           |"
      ],
      "text/plain": [
       "<models.ResultsWrapper at 0x2b071503310>"
      ]
     },
     "execution_count": 30,
     "metadata": {},
     "output_type": "execute_result"
    }
   ],
   "source": [
    "np.random.seed(1457896)\n",
    "model2 = (\"price ~ response_time_a_few_days_or_more + response_time_within_a_day \"\n",
    "        \"+ host_acceptance_rate + superhost_t \"\n",
    "        \"+ profile_t + entire_home_apt + hotel_room + private_room + accommodates \"\n",
    "        \"+ bathroom_numbers + bedrooms + beds + minimum_nights + maximum_nights + number_of_reviews \"\n",
    "        \"+ review_scores_rating + review_scores_accuracy + review_scores_cleanliness \"\n",
    "        \"+ review_scores_location + review_scores_value + instant_bookable_t \"\n",
    "        \"+ calculated_host_listings_count + distance_smithsonian + distance_capitol \"\n",
    "        \"+ distance_white_house + distance_library_congress + distance_nationals_park + distance_national_zoo \"\n",
    "        \"+ distance_railway + distance_mcpherson + days_since_last_review\")\n",
    "result2 = models.bootstrap_linear_regression(model2, data=vwListings)\n",
    "models.describe_bootstrap_lr(result2, sd=4)"
   ]
  },
  {
   "cell_type": "markdown",
   "metadata": {},
   "source": [
    "After removing eight features, the $R^2$ of the new model is 0.343. This is only lower than the old $R^2$ by 0.003. The standard error is 166.95, only slightly higher than the old standard error of 166.59. The increased simplicity of the new model is worth these small tradeoffs."
   ]
  },
  {
   "cell_type": "markdown",
   "metadata": {},
   "source": [
    "Comparing the bootstrap coefficients to our prior beliefs shows a couple more clear candidates to be dropped from the model:\n",
    "<ul>\n",
    "    <li><b>response_time_a_few_days_or_more:</b> expected negative, estimated weak positive</li>\n",
    "    <li><b>profile_t:</b> expected positive, estimated weak negative</li>\n",
    "</ul>\n",
    "\n",
    "review_scores_value and distance_smithsonian still have the opposite sign of the initial prediction. The confidence interval for distance_smithsonian no longer includes zero, and the confidence interval for review_scores_value still barely includes zero, so we keep both in the model."
   ]
  },
  {
   "cell_type": "markdown",
   "metadata": {},
   "source": [
    "### Model 3"
   ]
  },
  {
   "cell_type": "markdown",
   "metadata": {},
   "source": [
    "We use the bootstrap method to estimate the third model."
   ]
  },
  {
   "cell_type": "code",
   "execution_count": 31,
   "metadata": {},
   "outputs": [
    {
     "data": {
      "text/html": [
       "<p><strong>Model: price ~ response_time_within_a_day + host_acceptance_rate + superhost_t + entire_home_apt + hotel_room + private_room + accommodates + bathroom_numbers + bedrooms + beds + minimum_nights + maximum_nights + number_of_reviews + review_scores_rating + review_scores_accuracy + review_scores_cleanliness + review_scores_location + review_scores_value + instant_bookable_t + calculated_host_listings_count + distance_smithsonian + distance_capitol + distance_white_house + distance_library_congress + distance_nationals_park + distance_national_zoo + distance_railway + distance_mcpherson + days_since_last_review</strong><br/><table>\n",
       "<tbody>\n",
       "<tr><td>                              </td><td>                     </td><td>                     </td><td><strong>95% BCI</strong</td><td>                   </td></tr>\n",
       "<tr><td><strong>Coefficients</strong </td><td>                     </td><td><strong>Mean</strong</td><td><strong>Lo</strong     </td><td><strong>Hi</strong</td></tr>\n",
       "<tr><td>                              </td><td>$\\beta_{0}$          </td><td>-290.9995            </td><td>-382.2209               </td><td>-214.5899          </td></tr>\n",
       "<tr><td>response_time_within_a_day    </td><td>$\\beta_{1}$          </td><td>-0.1986              </td><td>-19.3994                </td><td>23.6507            </td></tr>\n",
       "<tr><td>host_acceptance_rate          </td><td>$\\beta_{2}$          </td><td>0.2378               </td><td>-0.0839                 </td><td>0.5777             </td></tr>\n",
       "<tr><td>superhost_t                   </td><td>$\\beta_{3}$          </td><td>9.9441               </td><td>0.1071                  </td><td>18.4711            </td></tr>\n",
       "<tr><td>entire_home_apt               </td><td>$\\beta_{4}$          </td><td>68.3110              </td><td>45.9902                 </td><td>107.3268           </td></tr>\n",
       "<tr><td>hotel_room                    </td><td>$\\beta_{5}$          </td><td>179.9870             </td><td>147.8385                </td><td>223.6419           </td></tr>\n",
       "<tr><td>private_room                  </td><td>$\\beta_{6}$          </td><td>39.0506              </td><td>21.1274                 </td><td>66.1441            </td></tr>\n",
       "<tr><td>accommodates                  </td><td>$\\beta_{7}$          </td><td>12.7088              </td><td>-4.7417                 </td><td>24.4314            </td></tr>\n",
       "<tr><td>bathroom_numbers              </td><td>$\\beta_{8}$          </td><td>35.5862              </td><td>20.8528                 </td><td>59.4055            </td></tr>\n",
       "<tr><td>bedrooms                      </td><td>$\\beta_{9}$          </td><td>54.7882              </td><td>39.7183                 </td><td>74.3939            </td></tr>\n",
       "<tr><td>beds                          </td><td>$\\beta_{10}$         </td><td>4.5329               </td><td>-13.6705                </td><td>29.6712            </td></tr>\n",
       "<tr><td>minimum_nights                </td><td>$\\beta_{11}$         </td><td>-0.1640              </td><td>-0.3997                 </td><td>-0.0191            </td></tr>\n",
       "<tr><td>maximum_nights                </td><td>$\\beta_{12}$         </td><td>-0.0073              </td><td>-0.0155                 </td><td>-0.0006            </td></tr>\n",
       "<tr><td>number_of_reviews             </td><td>$\\beta_{13}$         </td><td>-0.1307              </td><td>-0.1702                 </td><td>-0.0902            </td></tr>\n",
       "<tr><td>review_scores_rating          </td><td>$\\beta_{14}$         </td><td>19.2762              </td><td>8.1848                  </td><td>33.7507            </td></tr>\n",
       "<tr><td>review_scores_accuracy        </td><td>$\\beta_{15}$         </td><td>1.0074               </td><td>-14.1537                </td><td>11.7944            </td></tr>\n",
       "<tr><td>review_scores_cleanliness     </td><td>$\\beta_{16}$         </td><td>16.7017              </td><td>7.2856                  </td><td>27.4268            </td></tr>\n",
       "<tr><td>review_scores_location        </td><td>$\\beta_{17}$         </td><td>9.4151               </td><td>-0.9950                 </td><td>21.6814            </td></tr>\n",
       "<tr><td>review_scores_value           </td><td>$\\beta_{18}$         </td><td>-15.8905             </td><td>-30.5819                </td><td>-5.2657            </td></tr>\n",
       "<tr><td>instant_bookable_t            </td><td>$\\beta_{19}$         </td><td>10.6875              </td><td>3.8444                  </td><td>16.9629            </td></tr>\n",
       "<tr><td>calculated_host_listings_count</td><td>$\\beta_{20}$         </td><td>-0.1027              </td><td>-0.1903                 </td><td>-0.0374            </td></tr>\n",
       "<tr><td>distance_smithsonian          </td><td>$\\beta_{21}$         </td><td>119.8094             </td><td>65.1381                 </td><td>178.0390           </td></tr>\n",
       "<tr><td>distance_capitol              </td><td>$\\beta_{22}$         </td><td>-532.2057            </td><td>-662.5459               </td><td>-395.6666          </td></tr>\n",
       "<tr><td>distance_white_house          </td><td>$\\beta_{23}$         </td><td>100.4714             </td><td>73.1070                 </td><td>135.2802           </td></tr>\n",
       "<tr><td>distance_library_congress     </td><td>$\\beta_{24}$         </td><td>324.7017             </td><td>243.6845                </td><td>416.4456           </td></tr>\n",
       "<tr><td>distance_nationals_park       </td><td>$\\beta_{25}$         </td><td>42.0126              </td><td>21.9728                 </td><td>65.7744            </td></tr>\n",
       "<tr><td>distance_national_zoo         </td><td>$\\beta_{26}$         </td><td>11.6084              </td><td>4.7637                  </td><td>18.4128            </td></tr>\n",
       "<tr><td>distance_railway              </td><td>$\\beta_{27}$         </td><td>54.9741              </td><td>14.0042                 </td><td>99.2240            </td></tr>\n",
       "<tr><td>distance_mcpherson            </td><td>$\\beta_{28}$         </td><td>-121.2252            </td><td>-166.6742               </td><td>-78.8779           </td></tr>\n",
       "<tr><td>days_since_last_review        </td><td>$\\beta_{29}$         </td><td>0.0259               </td><td>0.0030                  </td><td>0.0563             </td></tr>\n",
       "<tr><td>                              </td><td>                     </td><td>                     </td><td>                        </td><td>                   </td></tr>\n",
       "<tr><td><strong>Metrics</strong      </td><td><strong>Mean</strong</td><td><strong>Lo</strong  </td><td><strong>Hi</strong     </td><td>                   </td></tr>\n",
       "<tr><td>$\\sigma$                      </td><td>166.9302             </td><td>135.7450             </td><td>203.9874                </td><td>                   </td></tr>\n",
       "<tr><td>$R^2$                         </td><td>0.3428               </td><td>0.2817               </td><td>0.4428                  </td><td>                   </td></tr>\n",
       "</tbody>\n",
       "</table></p>"
      ],
      "text/latex": [
       "\\textbf{Model: price $\\sim$ response\\_time\\_within\\_a\\_day + host\\_acceptance\\_rate + superhost\\_t + entire\\_home\\_apt + hotel\\_room + private\\_room + accommodates + bathroom\\_numbers + bedrooms + beds + minimum\\_nights + maximum\\_nights + number\\_of\\_reviews + review\\_scores\\_rating + review\\_scores\\_accuracy + review\\_scores\\_cleanliness + review\\_scores\\_location + review\\_scores\\_value + instant\\_bookable\\_t + calculated\\_host\\_listings\\_count + distance\\_smithsonian + distance\\_capitol + distance\\_white\\_house + distance\\_library\\_congress + distance\\_nationals\\_park + distance\\_national\\_zoo + distance\\_railway + distance\\_mcpherson + days\\_since\\_last\\_review}\n",
       "\n",
       "\\begin{tabular}{lllll}\n",
       "\\toprule\n",
       "                                   &               &               & \\textbf{95\\% BCI} &             \\\\\n",
       " \\textbf{Coefficients}             &               & \\textbf{Mean} & \\textbf{Lo}      & \\textbf{Hi} \\\\\n",
       "                                   & $\\beta_{0}$   & -290.9995     & -382.2209        & -214.5899   \\\\\n",
       " response\\_time\\_within\\_a\\_day    & $\\beta_{1}$   & -0.1986       & -19.3994         & 23.6507     \\\\\n",
       " host\\_acceptance\\_rate            & $\\beta_{2}$   & 0.2378        & -0.0839          & 0.5777      \\\\\n",
       " superhost\\_t                      & $\\beta_{3}$   & 9.9441        & 0.1071           & 18.4711     \\\\\n",
       " entire\\_home\\_apt                 & $\\beta_{4}$   & 68.3110       & 45.9902          & 107.3268    \\\\\n",
       " hotel\\_room                       & $\\beta_{5}$   & 179.9870      & 147.8385         & 223.6419    \\\\\n",
       " private\\_room                     & $\\beta_{6}$   & 39.0506       & 21.1274          & 66.1441     \\\\\n",
       " accommodates                      & $\\beta_{7}$   & 12.7088       & -4.7417          & 24.4314     \\\\\n",
       " bathroom\\_numbers                 & $\\beta_{8}$   & 35.5862       & 20.8528          & 59.4055     \\\\\n",
       " bedrooms                          & $\\beta_{9}$   & 54.7882       & 39.7183          & 74.3939     \\\\\n",
       " beds                              & $\\beta_{10}$  & 4.5329        & -13.6705         & 29.6712     \\\\\n",
       " minimum\\_nights                   & $\\beta_{11}$  & -0.1640       & -0.3997          & -0.0191     \\\\\n",
       " maximum\\_nights                   & $\\beta_{12}$  & -0.0073       & -0.0155          & -0.0006     \\\\\n",
       " number\\_of\\_reviews               & $\\beta_{13}$  & -0.1307       & -0.1702          & -0.0902     \\\\\n",
       " review\\_scores\\_rating            & $\\beta_{14}$  & 19.2762       & 8.1848           & 33.7507     \\\\\n",
       " review\\_scores\\_accuracy          & $\\beta_{15}$  & 1.0074        & -14.1537         & 11.7944     \\\\\n",
       " review\\_scores\\_cleanliness       & $\\beta_{16}$  & 16.7017       & 7.2856           & 27.4268     \\\\\n",
       " review\\_scores\\_location          & $\\beta_{17}$  & 9.4151        & -0.9950          & 21.6814     \\\\\n",
       " review\\_scores\\_value             & $\\beta_{18}$  & -15.8905      & -30.5819         & -5.2657     \\\\\n",
       " instant\\_bookable\\_t              & $\\beta_{19}$  & 10.6875       & 3.8444           & 16.9629     \\\\\n",
       " calculated\\_host\\_listings\\_count & $\\beta_{20}$  & -0.1027       & -0.1903          & -0.0374     \\\\\n",
       " distance\\_smithsonian             & $\\beta_{21}$  & 119.8094      & 65.1381          & 178.0390    \\\\\n",
       " distance\\_capitol                 & $\\beta_{22}$  & -532.2057     & -662.5459        & -395.6666   \\\\\n",
       " distance\\_white\\_house            & $\\beta_{23}$  & 100.4714      & 73.1070          & 135.2802    \\\\\n",
       " distance\\_library\\_congress       & $\\beta_{24}$  & 324.7017      & 243.6845         & 416.4456    \\\\\n",
       " distance\\_nationals\\_park         & $\\beta_{25}$  & 42.0126       & 21.9728          & 65.7744     \\\\\n",
       " distance\\_national\\_zoo           & $\\beta_{26}$  & 11.6084       & 4.7637           & 18.4128     \\\\\n",
       " distance\\_railway                 & $\\beta_{27}$  & 54.9741       & 14.0042          & 99.2240     \\\\\n",
       " distance\\_mcpherson               & $\\beta_{28}$  & -121.2252     & -166.6742        & -78.8779    \\\\\n",
       " days\\_since\\_last\\_review         & $\\beta_{29}$  & 0.0259        & 0.0030           & 0.0563      \\\\\n",
       "                                   &               &               &                  &             \\\\\n",
       " \\textbf{Metrics}                  & \\textbf{Mean} & \\textbf{Lo}   & \\textbf{Hi}      &             \\\\\n",
       " $\\sigma$                          & 166.9302      & 135.7450      & 203.9874         &             \\\\\n",
       " $R^2$                             & 0.3428        & 0.2817        & 0.4428           &             \\\\\n",
       "\\bottomrule\n",
       "\\end{tabular}"
      ],
      "text/markdown": [
       "Model: price ~ response_time_within_a_day + host_acceptance_rate + superhost_t + entire_home_apt + hotel_room + private_room + accommodates + bathroom_numbers + bedrooms + beds + minimum_nights + maximum_nights + number_of_reviews + review_scores_rating + review_scores_accuracy + review_scores_cleanliness + review_scores_location + review_scores_value + instant_bookable_t + calculated_host_listings_count + distance_smithsonian + distance_capitol + distance_white_house + distance_library_congress + distance_nationals_park + distance_national_zoo + distance_railway + distance_mcpherson + days_since_last_review\n",
       "|--------------------------------|--------------|-----------|-------------|-----------|\n",
       "|                                |              |           | **95% BCI** |           |\n",
       "| **Coefficients**               |              | **Mean**  | **Lo**      | **Hi**    |\n",
       "|                                | $\\beta_{0}$  | -290.9995 | -382.2209   | -214.5899 |\n",
       "| response_time_within_a_day     | $\\beta_{1}$  | -0.1986   | -19.3994    | 23.6507   |\n",
       "| host_acceptance_rate           | $\\beta_{2}$  | 0.2378    | -0.0839     | 0.5777    |\n",
       "| superhost_t                    | $\\beta_{3}$  | 9.9441    | 0.1071      | 18.4711   |\n",
       "| entire_home_apt                | $\\beta_{4}$  | 68.3110   | 45.9902     | 107.3268  |\n",
       "| hotel_room                     | $\\beta_{5}$  | 179.9870  | 147.8385    | 223.6419  |\n",
       "| private_room                   | $\\beta_{6}$  | 39.0506   | 21.1274     | 66.1441   |\n",
       "| accommodates                   | $\\beta_{7}$  | 12.7088   | -4.7417     | 24.4314   |\n",
       "| bathroom_numbers               | $\\beta_{8}$  | 35.5862   | 20.8528     | 59.4055   |\n",
       "| bedrooms                       | $\\beta_{9}$  | 54.7882   | 39.7183     | 74.3939   |\n",
       "| beds                           | $\\beta_{10}$ | 4.5329    | -13.6705    | 29.6712   |\n",
       "| minimum_nights                 | $\\beta_{11}$ | -0.1640   | -0.3997     | -0.0191   |\n",
       "| maximum_nights                 | $\\beta_{12}$ | -0.0073   | -0.0155     | -0.0006   |\n",
       "| number_of_reviews              | $\\beta_{13}$ | -0.1307   | -0.1702     | -0.0902   |\n",
       "| review_scores_rating           | $\\beta_{14}$ | 19.2762   | 8.1848      | 33.7507   |\n",
       "| review_scores_accuracy         | $\\beta_{15}$ | 1.0074    | -14.1537    | 11.7944   |\n",
       "| review_scores_cleanliness      | $\\beta_{16}$ | 16.7017   | 7.2856      | 27.4268   |\n",
       "| review_scores_location         | $\\beta_{17}$ | 9.4151    | -0.9950     | 21.6814   |\n",
       "| review_scores_value            | $\\beta_{18}$ | -15.8905  | -30.5819    | -5.2657   |\n",
       "| instant_bookable_t             | $\\beta_{19}$ | 10.6875   | 3.8444      | 16.9629   |\n",
       "| calculated_host_listings_count | $\\beta_{20}$ | -0.1027   | -0.1903     | -0.0374   |\n",
       "| distance_smithsonian           | $\\beta_{21}$ | 119.8094  | 65.1381     | 178.0390  |\n",
       "| distance_capitol               | $\\beta_{22}$ | -532.2057 | -662.5459   | -395.6666 |\n",
       "| distance_white_house           | $\\beta_{23}$ | 100.4714  | 73.1070     | 135.2802  |\n",
       "| distance_library_congress      | $\\beta_{24}$ | 324.7017  | 243.6845    | 416.4456  |\n",
       "| distance_nationals_park        | $\\beta_{25}$ | 42.0126   | 21.9728     | 65.7744   |\n",
       "| distance_national_zoo          | $\\beta_{26}$ | 11.6084   | 4.7637      | 18.4128   |\n",
       "| distance_railway               | $\\beta_{27}$ | 54.9741   | 14.0042     | 99.2240   |\n",
       "| distance_mcpherson             | $\\beta_{28}$ | -121.2252 | -166.6742   | -78.8779  |\n",
       "| days_since_last_review         | $\\beta_{29}$ | 0.0259    | 0.0030      | 0.0563    |\n",
       "|                                |              |           |             |           |\n",
       "| **Metrics**                    | **Mean**     | **Lo**    | **Hi**      |           |\n",
       "| $\\sigma$                       | 166.9302     | 135.7450  | 203.9874    |           |\n",
       "| $R^2$                          | 0.3428       | 0.2817    | 0.4428      |           |"
      ],
      "text/plain": [
       "<models.ResultsWrapper at 0x2b0714ff0a0>"
      ]
     },
     "execution_count": 31,
     "metadata": {},
     "output_type": "execute_result"
    }
   ],
   "source": [
    "np.random.seed(1432896)\n",
    "model3 = (\"price ~ response_time_within_a_day \"\n",
    "        \"+ host_acceptance_rate + superhost_t \"\n",
    "        \"+ entire_home_apt + hotel_room + private_room + accommodates \"\n",
    "        \"+ bathroom_numbers + bedrooms + beds + minimum_nights + maximum_nights + number_of_reviews \"\n",
    "        \"+ review_scores_rating + review_scores_accuracy + review_scores_cleanliness \"\n",
    "        \"+ review_scores_location + review_scores_value + instant_bookable_t \"\n",
    "        \"+ calculated_host_listings_count + distance_smithsonian + distance_capitol \"\n",
    "        \"+ distance_white_house + distance_library_congress + distance_nationals_park + distance_national_zoo \"\n",
    "        \"+ distance_railway + distance_mcpherson + days_since_last_review\")\n",
    "result3 = models.bootstrap_linear_regression(model3, data=vwListings)\n",
    "models.describe_bootstrap_lr(result3, sd=4)"
   ]
  },
  {
   "cell_type": "markdown",
   "metadata": {},
   "source": [
    "After removing two more features, the $R^2$ of the new model is 0.343, within a rounding error of the old $R^2$. The standard error is 166.93, again nearly the same as Model 2."
   ]
  },
  {
   "cell_type": "code",
   "execution_count": 38,
   "metadata": {},
   "outputs": [],
   "source": [
    "def plot_residuals(result, variables):\n",
    "    figure = plt.figure(figsize=(20,6))\n",
    "\n",
    "    variables = [\"hotel_room\", \"distance_capitol\", \"distance_mcpherson\", \"distance_library_congress\"]\n",
    "\n",
    "    plots = len( variables)\n",
    "    rows = (plots // 3) + 1\n",
    "\n",
    "    residuals = np.array([r[0] for r in result[\"residuals\"]])\n",
    "    limits = max(np.abs(residuals.min()), residuals.max())\n",
    "    \n",
    "    n = result[\"n\"]\n",
    "    for i, variable in enumerate( variables):\n",
    "        axes = figure.add_subplot(rows, 3, i + 1)\n",
    "\n",
    "        keyed_values = sorted(zip(vwListings[variable].values, residuals), key=lambda x: x[ 0])\n",
    "        ordered_residuals = [x[ 1] for x in keyed_values]\n",
    "\n",
    "        axes.plot(list(range(0, n)), ordered_residuals, '.', color=\"dimgray\", alpha=0.75)\n",
    "        axes.axhline(y=0.0, xmin=0, xmax=n, c=\"firebrick\", alpha=0.5)\n",
    "        axes.set_ylim((-limits, limits))\n",
    "        axes.set_ylabel(\"residuals\")\n",
    "        axes.set_xlabel(variable)\n",
    "\n",
    "    plt.show()\n",
    "    plt.close()\n",
    "    \n",
    "    return residuals"
   ]
  },
  {
   "cell_type": "code",
   "execution_count": 39,
   "metadata": {
    "scrolled": true
   },
   "outputs": [
    {
     "data": {
      "image/png": "[encoded data removed]",
      "text/plain": [
       "<Figure size 2000x600 with 4 Axes>"
      ]
     },
     "metadata": {},
     "output_type": "display_data"
    }
   ],
   "source": [
    "residuals1 = plot_residuals(result1, [\"hotel_room\", \"distance_capitol\", \"distance_mcpherson\",\"distance_library_congress\"])"
   ]
  },
  {
   "cell_type": "code",
   "execution_count": 58,
   "metadata": {},
   "outputs": [
    {
     "data": {
      "text/html": [
       "<p><strong>Model: price ~ response_time_within_a_day + host_acceptance_rate + superhost_t + entire_home_apt + hotel_room + private_room + accommodates + bathroom_numbers + bedrooms + beds + minimum_nights + maximum_nights + number_of_reviews + review_scores_rating + review_scores_accuracy + review_scores_cleanliness + review_scores_location + review_scores_value + instant_bookable_t + calculated_host_listings_count + latitude + longitude</strong><br/><table>\n",
       "<tbody>\n",
       "<tr><td>                              </td><td>                     </td><td>                     </td><td><strong>95% BCI</strong</td><td>                   </td></tr>\n",
       "<tr><td><strong>Coefficients</strong </td><td>                     </td><td><strong>Mean</strong</td><td><strong>Lo</strong     </td><td><strong>Hi</strong</td></tr>\n",
       "<tr><td>                              </td><td>$\\beta_{0}$          </td><td>-27091.2029          </td><td>-37541.4220             </td><td>-12327.3051        </td></tr>\n",
       "<tr><td>response_time_within_a_day    </td><td>$\\beta_{1}$          </td><td>-10.2692             </td><td>-27.3072                </td><td>5.2236             </td></tr>\n",
       "<tr><td>host_acceptance_rate          </td><td>$\\beta_{2}$          </td><td>0.0824               </td><td>-0.1490                 </td><td>0.2180             </td></tr>\n",
       "<tr><td>superhost_t                   </td><td>$\\beta_{3}$          </td><td>7.5970               </td><td>-1.2642                 </td><td>16.1835            </td></tr>\n",
       "<tr><td>entire_home_apt               </td><td>$\\beta_{4}$          </td><td>78.5033              </td><td>45.8257                 </td><td>110.3726           </td></tr>\n",
       "<tr><td>hotel_room                    </td><td>$\\beta_{5}$          </td><td>222.6358             </td><td>176.3738                </td><td>257.9775           </td></tr>\n",
       "<tr><td>private_room                  </td><td>$\\beta_{6}$          </td><td>36.1901              </td><td>14.1950                 </td><td>59.3671            </td></tr>\n",
       "<tr><td>accommodates                  </td><td>$\\beta_{7}$          </td><td>12.1364              </td><td>-2.8362                 </td><td>26.1622            </td></tr>\n",
       "<tr><td>bathroom_numbers              </td><td>$\\beta_{8}$          </td><td>34.7600              </td><td>19.1433                 </td><td>52.4262            </td></tr>\n",
       "<tr><td>bedrooms                      </td><td>$\\beta_{9}$          </td><td>53.0317              </td><td>36.2153                 </td><td>72.7595            </td></tr>\n",
       "<tr><td>beds                          </td><td>$\\beta_{10}$         </td><td>4.6849               </td><td>-14.5106                </td><td>22.3403            </td></tr>\n",
       "<tr><td>minimum_nights                </td><td>$\\beta_{11}$         </td><td>-0.1260              </td><td>-0.4150                 </td><td>0.0492             </td></tr>\n",
       "<tr><td>maximum_nights                </td><td>$\\beta_{12}$         </td><td>-0.0005              </td><td>-0.0068                 </td><td>0.0076             </td></tr>\n",
       "<tr><td>number_of_reviews             </td><td>$\\beta_{13}$         </td><td>-0.1145              </td><td>-0.1564                 </td><td>-0.0773            </td></tr>\n",
       "<tr><td>review_scores_rating          </td><td>$\\beta_{14}$         </td><td>16.8835              </td><td>4.0952                  </td><td>27.7482            </td></tr>\n",
       "<tr><td>review_scores_accuracy        </td><td>$\\beta_{15}$         </td><td>-4.1199              </td><td>-15.6510                </td><td>9.9955             </td></tr>\n",
       "<tr><td>review_scores_cleanliness     </td><td>$\\beta_{16}$         </td><td>19.7727              </td><td>8.1373                  </td><td>29.1460            </td></tr>\n",
       "<tr><td>review_scores_location        </td><td>$\\beta_{17}$         </td><td>38.0566              </td><td>27.0518                 </td><td>51.5767            </td></tr>\n",
       "<tr><td>review_scores_value           </td><td>$\\beta_{18}$         </td><td>-25.4530             </td><td>-40.2807                </td><td>-10.5648           </td></tr>\n",
       "<tr><td>instant_bookable_t            </td><td>$\\beta_{19}$         </td><td>12.1756              </td><td>5.1212                  </td><td>20.6966            </td></tr>\n",
       "<tr><td>calculated_host_listings_count</td><td>$\\beta_{20}$         </td><td>-0.0006              </td><td>-0.0718                 </td><td>0.0884             </td></tr>\n",
       "<tr><td>latitude                      </td><td>$\\beta_{21}$         </td><td>-574.8208            </td><td>-694.8634               </td><td>-472.2550          </td></tr>\n",
       "<tr><td>longitude                     </td><td>$\\beta_{22}$         </td><td>-638.2408            </td><td>-769.9153               </td><td>-452.5848          </td></tr>\n",
       "<tr><td>                              </td><td>                     </td><td>                     </td><td>                        </td><td>                   </td></tr>\n",
       "<tr><td><strong>Metrics</strong      </td><td><strong>Mean</strong</td><td><strong>Lo</strong  </td><td><strong>Hi</strong     </td><td>                   </td></tr>\n",
       "<tr><td>$\\sigma$                      </td><td>169.5749             </td><td>129.1119             </td><td>201.1869                </td><td>                   </td></tr>\n",
       "<tr><td>$R^2$                         </td><td>0.3212               </td><td>0.2700               </td><td>0.4104                  </td><td>                   </td></tr>\n",
       "</tbody>\n",
       "</table></p>"
      ],
      "text/latex": [
       "\\textbf{Model: price $\\sim$ response\\_time\\_within\\_a\\_day + host\\_acceptance\\_rate + superhost\\_t + entire\\_home\\_apt + hotel\\_room + private\\_room + accommodates + bathroom\\_numbers + bedrooms + beds + minimum\\_nights + maximum\\_nights + number\\_of\\_reviews + review\\_scores\\_rating + review\\_scores\\_accuracy + review\\_scores\\_cleanliness + review\\_scores\\_location + review\\_scores\\_value + instant\\_bookable\\_t + calculated\\_host\\_listings\\_count + latitude + longitude}\n",
       "\n",
       "\\begin{tabular}{lllll}\n",
       "\\toprule\n",
       "                                   &               &               & \\textbf{95\\% BCI} &             \\\\\n",
       " \\textbf{Coefficients}             &               & \\textbf{Mean} & \\textbf{Lo}      & \\textbf{Hi} \\\\\n",
       "                                   & $\\beta_{0}$   & -27091.2029   & -37541.4220      & -12327.3051 \\\\\n",
       " response\\_time\\_within\\_a\\_day    & $\\beta_{1}$   & -10.2692      & -27.3072         & 5.2236      \\\\\n",
       " host\\_acceptance\\_rate            & $\\beta_{2}$   & 0.0824        & -0.1490          & 0.2180      \\\\\n",
       " superhost\\_t                      & $\\beta_{3}$   & 7.5970        & -1.2642          & 16.1835     \\\\\n",
       " entire\\_home\\_apt                 & $\\beta_{4}$   & 78.5033       & 45.8257          & 110.3726    \\\\\n",
       " hotel\\_room                       & $\\beta_{5}$   & 222.6358      & 176.3738         & 257.9775    \\\\\n",
       " private\\_room                     & $\\beta_{6}$   & 36.1901       & 14.1950          & 59.3671     \\\\\n",
       " accommodates                      & $\\beta_{7}$   & 12.1364       & -2.8362          & 26.1622     \\\\\n",
       " bathroom\\_numbers                 & $\\beta_{8}$   & 34.7600       & 19.1433          & 52.4262     \\\\\n",
       " bedrooms                          & $\\beta_{9}$   & 53.0317       & 36.2153          & 72.7595     \\\\\n",
       " beds                              & $\\beta_{10}$  & 4.6849        & -14.5106         & 22.3403     \\\\\n",
       " minimum\\_nights                   & $\\beta_{11}$  & -0.1260       & -0.4150          & 0.0492      \\\\\n",
       " maximum\\_nights                   & $\\beta_{12}$  & -0.0005       & -0.0068          & 0.0076      \\\\\n",
       " number\\_of\\_reviews               & $\\beta_{13}$  & -0.1145       & -0.1564          & -0.0773     \\\\\n",
       " review\\_scores\\_rating            & $\\beta_{14}$  & 16.8835       & 4.0952           & 27.7482     \\\\\n",
       " review\\_scores\\_accuracy          & $\\beta_{15}$  & -4.1199       & -15.6510         & 9.9955      \\\\\n",
       " review\\_scores\\_cleanliness       & $\\beta_{16}$  & 19.7727       & 8.1373           & 29.1460     \\\\\n",
       " review\\_scores\\_location          & $\\beta_{17}$  & 38.0566       & 27.0518          & 51.5767     \\\\\n",
       " review\\_scores\\_value             & $\\beta_{18}$  & -25.4530      & -40.2807         & -10.5648    \\\\\n",
       " instant\\_bookable\\_t              & $\\beta_{19}$  & 12.1756       & 5.1212           & 20.6966     \\\\\n",
       " calculated\\_host\\_listings\\_count & $\\beta_{20}$  & -0.0006       & -0.0718          & 0.0884      \\\\\n",
       " latitude                          & $\\beta_{21}$  & -574.8208     & -694.8634        & -472.2550   \\\\\n",
       " longitude                         & $\\beta_{22}$  & -638.2408     & -769.9153        & -452.5848   \\\\\n",
       "                                   &               &               &                  &             \\\\\n",
       " \\textbf{Metrics}                  & \\textbf{Mean} & \\textbf{Lo}   & \\textbf{Hi}      &             \\\\\n",
       " $\\sigma$                          & 169.5749      & 129.1119      & 201.1869         &             \\\\\n",
       " $R^2$                             & 0.3212        & 0.2700        & 0.4104           &             \\\\\n",
       "\\bottomrule\n",
       "\\end{tabular}"
      ],
      "text/markdown": [
       "Model: price ~ response_time_within_a_day + host_acceptance_rate + superhost_t + entire_home_apt + hotel_room + private_room + accommodates + bathroom_numbers + bedrooms + beds + minimum_nights + maximum_nights + number_of_reviews + review_scores_rating + review_scores_accuracy + review_scores_cleanliness + review_scores_location + review_scores_value + instant_bookable_t + calculated_host_listings_count + latitude + longitude\n",
       "|--------------------------------|--------------|-------------|-------------|-------------|\n",
       "|                                |              |             | **95% BCI** |             |\n",
       "| **Coefficients**               |              | **Mean**    | **Lo**      | **Hi**      |\n",
       "|                                | $\\beta_{0}$  | -27091.2029 | -37541.4220 | -12327.3051 |\n",
       "| response_time_within_a_day     | $\\beta_{1}$  | -10.2692    | -27.3072    | 5.2236      |\n",
       "| host_acceptance_rate           | $\\beta_{2}$  | 0.0824      | -0.1490     | 0.2180      |\n",
       "| superhost_t                    | $\\beta_{3}$  | 7.5970      | -1.2642     | 16.1835     |\n",
       "| entire_home_apt                | $\\beta_{4}$  | 78.5033     | 45.8257     | 110.3726    |\n",
       "| hotel_room                     | $\\beta_{5}$  | 222.6358    | 176.3738    | 257.9775    |\n",
       "| private_room                   | $\\beta_{6}$  | 36.1901     | 14.1950     | 59.3671     |\n",
       "| accommodates                   | $\\beta_{7}$  | 12.1364     | -2.8362     | 26.1622     |\n",
       "| bathroom_numbers               | $\\beta_{8}$  | 34.7600     | 19.1433     | 52.4262     |\n",
       "| bedrooms                       | $\\beta_{9}$  | 53.0317     | 36.2153     | 72.7595     |\n",
       "| beds                           | $\\beta_{10}$ | 4.6849      | -14.5106    | 22.3403     |\n",
       "| minimum_nights                 | $\\beta_{11}$ | -0.1260     | -0.4150     | 0.0492      |\n",
       "| maximum_nights                 | $\\beta_{12}$ | -0.0005     | -0.0068     | 0.0076      |\n",
       "| number_of_reviews              | $\\beta_{13}$ | -0.1145     | -0.1564     | -0.0773     |\n",
       "| review_scores_rating           | $\\beta_{14}$ | 16.8835     | 4.0952      | 27.7482     |\n",
       "| review_scores_accuracy         | $\\beta_{15}$ | -4.1199     | -15.6510    | 9.9955      |\n",
       "| review_scores_cleanliness      | $\\beta_{16}$ | 19.7727     | 8.1373      | 29.1460     |\n",
       "| review_scores_location         | $\\beta_{17}$ | 38.0566     | 27.0518     | 51.5767     |\n",
       "| review_scores_value            | $\\beta_{18}$ | -25.4530    | -40.2807    | -10.5648    |\n",
       "| instant_bookable_t             | $\\beta_{19}$ | 12.1756     | 5.1212      | 20.6966     |\n",
       "| calculated_host_listings_count | $\\beta_{20}$ | -0.0006     | -0.0718     | 0.0884      |\n",
       "| latitude                       | $\\beta_{21}$ | -574.8208   | -694.8634   | -472.2550   |\n",
       "| longitude                      | $\\beta_{22}$ | -638.2408   | -769.9153   | -452.5848   |\n",
       "|                                |              |             |             |             |\n",
       "| **Metrics**                    | **Mean**     | **Lo**      | **Hi**      |             |\n",
       "| $\\sigma$                       | 169.5749     | 129.1119    | 201.1869    |             |\n",
       "| $R^2$                          | 0.3212       | 0.2700      | 0.4104      |             |"
      ],
      "text/plain": [
       "<models.ResultsWrapper at 0x2b07a85be20>"
      ]
     },
     "execution_count": 58,
     "metadata": {},
     "output_type": "execute_result"
    }
   ],
   "source": [
    "model4 = (\"price ~ response_time_within_a_day \"\n",
    "        \"+ host_acceptance_rate + superhost_t \"\n",
    "        \"+ entire_home_apt + hotel_room + private_room + accommodates \"\n",
    "        \"+ bathroom_numbers + bedrooms + beds + minimum_nights + maximum_nights + number_of_reviews \"\n",
    "        \"+ review_scores_rating + review_scores_accuracy + review_scores_cleanliness \"\n",
    "        \"+ review_scores_location + review_scores_value + instant_bookable_t \"\n",
    "        \"+ calculated_host_listings_count + latitude + longitude\")\n",
    "result4 = models.bootstrap_linear_regression(model4, data=vwListings)\n",
    "models.describe_bootstrap_lr(result4, sd=4)"
   ]
  },
  {
   "cell_type": "code",
   "execution_count": null,
   "metadata": {},
   "outputs": [],
   "source": []
  }
 ],
 "metadata": {
  "kernelspec": {
   "display_name": "Python 3 (ipykernel)",
   "language": "python",
   "name": "python3"
  },
  "language_info": {
   "codemirror_mode": {
    "name": "ipython",
    "version": 3
   },
   "file_extension": ".py",
   "mimetype": "text/x-python",
   "name": "python",
   "nbconvert_exporter": "python",
   "pygments_lexer": "ipython3",
   "version": "3.9.13"
  }
 },
 "nbformat": 4,
 "nbformat_minor": 2
}
