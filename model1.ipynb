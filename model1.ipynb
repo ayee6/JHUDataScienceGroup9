{
 "cells": [
  {
   "cell_type": "code",
   "execution_count": 1,
   "metadata": {},
   "outputs": [],
   "source": [
    "import sqlite3\n",
    "import pandas as pd\n",
    "import numpy as np\n",
    "import matplotlib.pyplot as plt\n",
    "import scipy.stats as stats\n",
    "import seaborn as sns\n",
    "import datetime\n",
    "from collections import Counter\n",
    "import models\n",
    "import math\n",
    "\n",
    "import warnings\n",
    "warnings.filterwarnings('ignore')"
   ]
  },
  {
   "cell_type": "code",
   "execution_count": 2,
   "metadata": {},
   "outputs": [],
   "source": [
    "# Connect to airbnb database\n",
    "connection = sqlite3.connect('airbnb.db')"
   ]
  },
  {
   "cell_type": "code",
   "execution_count": 3,
   "metadata": {},
   "outputs": [],
   "source": [
    "# Query the listings table in airbnb.db and convert the listings table to dataframe\n",
    "vwListings = pd.read_sql('SELECT * FROM most_recent_listings', connection)"
   ]
  },
  {
   "cell_type": "markdown",
   "metadata": {},
   "source": [
    "Since the original data set contains a lot of noise, we will clean it up before feeding to the model. After completing EDA, we decided to drop some observations, convert data types, and manipulate some variables."
   ]
  },
  {
   "cell_type": "code",
   "execution_count": 4,
   "metadata": {},
   "outputs": [],
   "source": [
    "## STEVE: convert price to numeric\n",
    "vwListings['price'] = vwListings['price'].str.replace(',','',regex=False)\n",
    "vwListings['price'] = vwListings['price'].str.strip('$').astype('float')"
   ]
  },
  {
   "cell_type": "code",
   "execution_count": 5,
   "metadata": {},
   "outputs": [],
   "source": [
    "## STEVE: host_reponse_rate, host_acceptance_rate - fillna ('') with 0\n",
    "# Create room_type_mod grouping hotel rooms together\n",
    "vwListings['room_type_mod'] = vwListings['room_type']\n",
    "vwListings.loc[vwListings['property_type'].isin(['Room in hotel', 'Room in boutique hotel',\n",
    "        'Private room in bed and breakfast']), 'room_type_mod'] = 'Hotel room'\n",
    "\n",
    "# Drop the listings having price = 0\n",
    "vwListings.drop(vwListings.loc[vwListings['price']==0].index, inplace=True)\n",
    "\n",
    "# Drop the unavailable listings\n",
    "vwListings.drop(vwListings.loc[vwListings['has_availability']=='f'].index, inplace=True)\n",
    "vwListings = vwListings.reset_index(drop=True)\n",
    "\n",
    "# Replace null reviews_per_month = 0\n",
    "vwListings['reviews_per_month'] = vwListings['reviews_per_month'].replace({'': 0})\n",
    "\n",
    "# Drop 2 listings having over 31 reviews per month\n",
    "vwListings.drop(vwListings.loc[vwListings['reviews_per_month'] > 31].index, inplace=True)\n",
    "vwListings = vwListings.reset_index(drop=True)\n",
    "\n",
    "# Replace null year in host_since by the most common value 2019-09-13\n",
    "vwListings['host_since'] = vwListings['host_since'].replace({'': '2019-09-13'})\n",
    "vwListings['host_since'] = pd.to_datetime(vwListings['host_since'])\n",
    "\n",
    "# Replace null value by 'N/A' in host_response_time\n",
    "vwListings['host_response_time'] = vwListings['host_response_time'].replace({'': 'N/A'})\n",
    "\n",
    "# Replace N/A value in host_response_rate = 0\n",
    "vwListings['host_response_rate'] = vwListings['host_response_rate'].str.replace('N/A', '0%')\n",
    "vwListings['host_response_rate'] = vwListings['host_response_rate'].str.replace('%', '')\n",
    "vwListings['host_response_rate'] = pd.to_numeric(vwListings['host_response_rate'])\n",
    "vwListings['host_response_rate'] = vwListings['host_response_rate'].fillna(0)\n",
    "\n",
    "# Replace N/A value in host_acceptance_rate = 0\n",
    "vwListings['host_acceptance_rate'] = vwListings['host_acceptance_rate'].str.replace('N/A', '0%')\n",
    "vwListings['host_acceptance_rate'] = vwListings['host_acceptance_rate'].str.replace('%', '')\n",
    "vwListings['host_acceptance_rate'] = pd.to_numeric(vwListings['host_acceptance_rate'])\n",
    "vwListings['host_acceptance_rate'] = vwListings['host_acceptance_rate'].fillna(0)\n",
    "\n",
    "# Replace null value by 'f' in host_is_superhost\n",
    "vwListings['host_is_superhost'] = vwListings['host_is_superhost'].replace({'': 'f'})\n",
    "\n",
    "# Replace null value by 'f' in host_verifications\n",
    "vwListings['host_verifications'] = vwListings['host_verifications'].replace({'': 'f'})\n",
    "\n",
    "# Replace null value by 'f' in host_has_profile_pic\n",
    "vwListings['host_has_profile_pic'] = vwListings['host_has_profile_pic'].replace({'': 'f'})\n",
    "\n",
    "# Replace null value by 'f' in host_identity_verified\n",
    "vwListings['host_identity_verified'] = vwListings['host_identity_verified'].replace({'': 'f'})"
   ]
  },
  {
   "cell_type": "markdown",
   "metadata": {},
   "source": [
    "Next, we will clean the bedrooms variable. We will follow the rules below:\n",
    "- If the value of the bedrooms variable is null and the value of the beds variable is not null, bedrooms will be equal to the value of beds.\n",
    "- If the value of the beds variable is null and the value of the bedrooms variable is not null, beds will be equal to the value of bedrooms.\n",
    "- Otherwise, both of the variables will be equal the mean of corresponding variable."
   ]
  },
  {
   "cell_type": "code",
   "execution_count": 6,
   "metadata": {},
   "outputs": [],
   "source": [
    "## STEVE: \n",
    "# clean up bedrooms before baths since baths depends on bedrooms\n",
    "# clean up code, convert to numeric\n",
    "vwListings.loc[(vwListings['bedrooms'] == '')&(vwListings['beds'] == ''), ['bedrooms', 'beds']] = [2, 2]\n",
    "vwListings.loc[vwListings['bedrooms'] == '', 'bedrooms'] = vwListings.loc[vwListings['bedrooms'] == '', 'beds']\n",
    "vwListings.loc[vwListings['beds'] == '', 'beds'] = vwListings.loc[vwListings['beds'] == '', 'bedrooms']\n",
    "\n",
    "vwListings['bedrooms'] = pd.to_numeric(vwListings['bedrooms'])\n",
    "vwListings['beds'] = pd.to_numeric(vwListings['beds'])"
   ]
  },
  {
   "cell_type": "markdown",
   "metadata": {},
   "source": [
    "We will convert some bathroom text to the number of bathrooms based on the human's interpretation. With the null values or the half bathroom only, we will assume the number of bathrooms is equal to the mean bathrooms which is 1."
   ]
  },
  {
   "cell_type": "code",
   "execution_count": 7,
   "metadata": {},
   "outputs": [],
   "source": [
    "## STEVE: clean up code\n",
    "vwListings.loc[vwListings['bathrooms_text'] == '0 shared baths', 'bathrooms_text'] = \\\n",
    "    vwListings.loc[vwListings['bathrooms_text'] == '0 shared baths', 'bedrooms'].astype('str') + ' baths'\n",
    "vwListings['bathrooms_text'] = vwListings['bathrooms_text'].replace(\n",
    "    ['0 baths', 'Half-bath', 'Private half-bath', 'Shared half-bath', ''], '1 bathroom')"
   ]
  },
  {
   "cell_type": "code",
   "execution_count": 8,
   "metadata": {
    "scrolled": false
   },
   "outputs": [],
   "source": [
    "## STEVE: change to get half baths in\n",
    "# Extract the number of bathrooms from bathroom_text.\n",
    "#vwListings['bathroom_numbers'] = vwListings['bathrooms_text'].str.extract('(\\d+)') # previous\n",
    "vwListings['bathroom_numbers'] = vwListings['bathrooms_text'].str.split().str.get(0)\n",
    "vwListings['bathroom_numbers'] = pd.to_numeric(vwListings['bathroom_numbers'])"
   ]
  },
  {
   "cell_type": "code",
   "execution_count": 9,
   "metadata": {},
   "outputs": [],
   "source": [
    "# This step is to prepare for One Hot Encodings\n",
    "for i in range(len(vwListings['host_response_time'])):\n",
    "    if 'within an hour' in vwListings['host_response_time'][i]:\n",
    "        vwListings['host_response_time'][i] = 'within_an_hour'\n",
    "    elif 'N/A' in vwListings['host_response_time'][i]:\n",
    "        vwListings['host_response_time'][i] = 'na'\n",
    "    elif 'within a few hours' in vwListings['host_response_time'][i]:\n",
    "        vwListings['host_response_time'][i] = 'within_a_few_hours'\n",
    "    elif 'within a day' in vwListings['host_response_time'][i]:\n",
    "        vwListings['host_response_time'][i] = 'within_a_day'\n",
    "    elif 'a few days or more' in vwListings['host_response_time'][i]:\n",
    "        vwListings['host_response_time'][i] = 'a_few_days_or_more'\n",
    "\n",
    "        \n",
    "for i in range(len(vwListings['room_type_mod'])):\n",
    "    if 'Entire home/apt' in vwListings['room_type_mod'][i]:\n",
    "        vwListings['room_type_mod'][i] = 'entire_home_apt'\n",
    "    elif 'Private room' in vwListings['room_type_mod'][i]:\n",
    "        vwListings['room_type_mod'][i] = 'private_room'\n",
    "    elif 'Hotel room' in vwListings['room_type_mod'][i]:\n",
    "        vwListings['room_type_mod'][i] = 'hotel_room'\n",
    "    elif 'Shared room' in vwListings['room_type_mod'][i]:\n",
    "        vwListings['room_type_mod'][i] = 'shared_room'"
   ]
  },
  {
   "cell_type": "code",
   "execution_count": 10,
   "metadata": {},
   "outputs": [],
   "source": [
    "# Convert the all the review scores to numeric\n",
    "vwListings['review_scores_rating'] = pd.to_numeric(vwListings['review_scores_rating'])\n",
    "vwListings['review_scores_accuracy'] = pd.to_numeric(vwListings['review_scores_accuracy'])\n",
    "vwListings['review_scores_cleanliness'] = pd.to_numeric(vwListings['review_scores_cleanliness'])\n",
    "vwListings['review_scores_checkin'] = pd.to_numeric(vwListings['review_scores_checkin'])\n",
    "vwListings['review_scores_communication'] = pd.to_numeric(vwListings['review_scores_communication'])\n",
    "vwListings['review_scores_location'] = pd.to_numeric(vwListings['review_scores_location'])\n",
    "vwListings['review_scores_value'] = pd.to_numeric(vwListings['review_scores_value'])"
   ]
  },
  {
   "cell_type": "code",
   "execution_count": 11,
   "metadata": {},
   "outputs": [],
   "source": [
    "## STEVE: fill review_scores na with the mean\n",
    "for col in vwListings.columns:\n",
    "    if col.startswith('review_scores'):\n",
    "        x = vwListings[col]\n",
    "        vwListings[col] = vwListings[col].fillna(x.mean())"
   ]
  },
  {
   "cell_type": "code",
   "execution_count": 12,
   "metadata": {},
   "outputs": [],
   "source": [
    "#  the coordinates (latitude, longtitute of a place from google map )\n",
    "smithsonian_lat = 38.8889532077163\n",
    "smithsonian_long = -77.0259992316524\n",
    "lincoln_memorial_lat = 38.8893771334115\n",
    "lincoln_memorial_long = -77.0501761044084\n",
    "capitol_lat = 38.8900557831996\n",
    "capttol_long = -77.0090290467363\n",
    "white_house_lat = 38.9103145107623\n",
    "white_house_long = -77.0221504467353\n",
    "library_of_congress_lat = 38.8888008852652\n",
    "library_of_congress_long = -77.0047082755724\n",
    "nationals_park_lat = 38.8731981381059\n",
    "nationals_park_long = -77.0074329\n",
    "national_zoo_lat = 38.9294590679026\n",
    "national_zoo_long = -77.0492384835061\n",
    "union_station_lat = 38.8973065709087\n",
    "union_station_long = -77.00629767372\n",
    "mcpherson_sq_lat = 38.9028682064423\n",
    "mcpherson_sq_long = -77.0324745881233"
   ]
  },
  {
   "cell_type": "code",
   "execution_count": 13,
   "metadata": {},
   "outputs": [],
   "source": [
    "# distance unit = miles\n",
    "vwListings[\"distance_smithsonian\"] = np.arccos(np.sin(np.radians(vwListings[\"latitude\"]))\n",
    "                                            * np.sin(np.radians(smithsonian_lat)) \n",
    "                                            + np.cos(np.radians(vwListings[\"latitude\"]))\n",
    "                                            *np.cos(np.radians(smithsonian_lat))\n",
    "                                            *np.cos(np.radians(smithsonian_long-vwListings[\"longitude\"])) )*3963*1.15077945"
   ]
  },
  {
   "cell_type": "code",
   "execution_count": 14,
   "metadata": {},
   "outputs": [],
   "source": [
    "vwListings[\"distance_lincoln\"] = np.arccos(np.sin(np.radians(vwListings[\"latitude\"]))\n",
    "                                            * np.sin(np.radians(lincoln_memorial_lat)) \n",
    "                                            + np.cos(np.radians(vwListings[\"latitude\"]))\n",
    "                                            *np.cos(np.radians(lincoln_memorial_lat))\n",
    "                                            *np.cos(np.radians(lincoln_memorial_long-vwListings[\"longitude\"])) )*3963*1.15077945"
   ]
  },
  {
   "cell_type": "code",
   "execution_count": 15,
   "metadata": {},
   "outputs": [],
   "source": [
    "vwListings[\"distance_capitol\"] = np.arccos(np.sin(np.radians(vwListings[\"latitude\"]))\n",
    "                                            * np.sin(np.radians(capitol_lat)) \n",
    "                                            + np.cos(np.radians(vwListings[\"latitude\"]))\n",
    "                                            *np.cos(np.radians(capitol_lat))\n",
    "                                            *np.cos(np.radians(capttol_long-vwListings[\"longitude\"])) )*3963*1.15077945"
   ]
  },
  {
   "cell_type": "code",
   "execution_count": 16,
   "metadata": {},
   "outputs": [],
   "source": [
    "vwListings[\"distance_white_house\"] = np.arccos(np.sin(np.radians(vwListings[\"latitude\"]))\n",
    "                                            * np.sin(np.radians(white_house_lat)) \n",
    "                                            + np.cos(np.radians(vwListings[\"latitude\"]))\n",
    "                                            *np.cos(np.radians(white_house_lat))\n",
    "                                            *np.cos(np.radians(white_house_long-vwListings[\"longitude\"])) )*3963*1.15077945"
   ]
  },
  {
   "cell_type": "code",
   "execution_count": 17,
   "metadata": {},
   "outputs": [],
   "source": [
    "vwListings[\"distance_library_congress\"] = np.arccos(np.sin(np.radians(vwListings[\"latitude\"]))\n",
    "                                            * np.sin(np.radians(library_of_congress_lat)) \n",
    "                                            + np.cos(np.radians(vwListings[\"latitude\"]))\n",
    "                                            *np.cos(np.radians(library_of_congress_lat))\n",
    "                                            *np.cos(np.radians(library_of_congress_long-vwListings[\"longitude\"])))*3963*1.15077945"
   ]
  },
  {
   "cell_type": "code",
   "execution_count": 18,
   "metadata": {},
   "outputs": [],
   "source": [
    "vwListings[\"distance_nationals_park\"] = np.arccos(np.sin(np.radians(vwListings[\"latitude\"]))\n",
    "                                            * np.sin(np.radians(nationals_park_lat)) \n",
    "                                            + np.cos(np.radians(vwListings[\"latitude\"]))\n",
    "                                            *np.cos(np.radians(nationals_park_lat))\n",
    "                                            *np.cos(np.radians(nationals_park_long-vwListings[\"longitude\"])) )*3963*1.15077945"
   ]
  },
  {
   "cell_type": "code",
   "execution_count": 19,
   "metadata": {},
   "outputs": [],
   "source": [
    "vwListings[\"distance_national_zoo\"] = np.arccos(np.sin(np.radians(vwListings[\"latitude\"]))\n",
    "                                            * np.sin(np.radians(national_zoo_lat)) \n",
    "                                            + np.cos(np.radians(vwListings[\"latitude\"]))\n",
    "                                            *np.cos(np.radians(national_zoo_lat))\n",
    "                                            *np.cos(np.radians(national_zoo_long-vwListings[\"longitude\"])) )*3963*1.15077945"
   ]
  },
  {
   "cell_type": "code",
   "execution_count": 20,
   "metadata": {},
   "outputs": [],
   "source": [
    "vwListings[\"distance_railway\"] = np.arccos(np.sin(np.radians(vwListings[\"latitude\"]))\n",
    "                                            * np.sin(np.radians(union_station_lat)) \n",
    "                                            + np.cos(np.radians(vwListings[\"latitude\"]))\n",
    "                                            *np.cos(np.radians(union_station_lat))\n",
    "                                            *np.cos(np.radians(union_station_long-vwListings[\"longitude\"])) )*3963*1.15077945"
   ]
  },
  {
   "cell_type": "code",
   "execution_count": 21,
   "metadata": {},
   "outputs": [],
   "source": [
    "vwListings[\"distance_mcpherson\"] = np.arccos(np.sin(np.radians(vwListings[\"latitude\"]))\n",
    "                                            * np.sin(np.radians(mcpherson_sq_lat)) \n",
    "                                            + np.cos(np.radians(vwListings[\"latitude\"]))\n",
    "                                            *np.cos(np.radians(mcpherson_sq_lat))\n",
    "                                            *np.cos(np.radians(mcpherson_sq_long-vwListings[\"longitude\"])) )*3963*1.15077945"
   ]
  },
  {
   "cell_type": "markdown",
   "metadata": {},
   "source": [
    "We will convert one hot encodings for the following categorical variables host_response_time, host_is_superhost, host_has_profile_pic, host_identity_verified, room_type_mod"
   ]
  },
  {
   "cell_type": "code",
   "execution_count": 22,
   "metadata": {},
   "outputs": [],
   "source": [
    "## STEVE: add instant_bookable dummies\n",
    "vwListings = pd.concat([vwListings, pd.get_dummies(vwListings['host_response_time'], prefix='response_time', prefix_sep='_')], axis=1)\n",
    "vwListings = pd.concat([vwListings, pd.get_dummies(vwListings['host_is_superhost'], prefix='superhost', prefix_sep='_')], axis=1)\n",
    "vwListings = pd.concat([vwListings, pd.get_dummies(vwListings['host_identity_verified'], prefix='identity_verified', prefix_sep='_')], axis=1)\n",
    "vwListings = pd.concat([vwListings, pd.get_dummies(vwListings['host_has_profile_pic'], prefix='profile', prefix_sep='_')], axis=1)\n",
    "vwListings = pd.concat([vwListings, pd.get_dummies(vwListings['room_type_mod'])], axis=1)\n",
    "vwListings = pd.concat([vwListings, pd.get_dummies(vwListings['instant_bookable'], prefix='instant_bookable', prefix_sep='_')], axis=1) # ADDED"
   ]
  },
  {
   "cell_type": "code",
   "execution_count": 23,
   "metadata": {},
   "outputs": [],
   "source": [
    "## STEVE: host_name == \"June\" stuff\n",
    "# For many of their private room listings with only 1 bedroom available, they count bedrooms on the entire property\n",
    "# correcting max_nights < min_nights\n",
    "vwListings.loc[(vwListings['host_id']==294545484)&(vwListings['room_type_mod']=='private_room'), 'bedrooms'] = 1\n",
    "vwListings.loc[vwListings['maximum_nights'] < vwListings['minimum_nights'], 'maximum_nights'] = vwListings.loc[\n",
    "    vwListings['maximum_nights'] < vwListings['minimum_nights'], 'minimum_nights']"
   ]
  },
  {
   "cell_type": "code",
   "execution_count": 24,
   "metadata": {},
   "outputs": [],
   "source": [
    "# STEVE: lower egregiously high maximum_nights\n",
    "vwListings.loc[vwListings['maximum_nights'] > 1125, 'maximum_nights'] = 1125"
   ]
  },
  {
   "cell_type": "markdown",
   "metadata": {},
   "source": [
    "### MODEL 1"
   ]
  },
  {
   "cell_type": "code",
   "execution_count": 25,
   "metadata": {
    "scrolled": true
   },
   "outputs": [],
   "source": [
    "# NEED TO CONFIRM WITH STEVE AGAIN\n",
    "# Convert the date time of last review to numeric\n",
    "#vwListings['last_review'] = pd.to_datetime(vwListings['last_review'])"
   ]
  },
  {
   "cell_type": "code",
   "execution_count": 26,
   "metadata": {},
   "outputs": [
    {
     "data": {
      "text/html": [
       "<p><strong>Model: price ~ response_time_a_few_days_or_more + response_time_within_a_day + response_time_within_a_few_hours + response_time_within_an_hour + host_response_rate + host_acceptance_rate + superhost_t + profile_t + identity_verified_t + entire_home_apt + hotel_room + private_room + accommodates + bathroom_numbers + bedrooms + beds + minimum_nights + maximum_nights + number_of_reviews + review_scores_rating + review_scores_accuracy + review_scores_cleanliness + review_scores_checkin + review_scores_communication + review_scores_location + review_scores_value + instant_bookable_t + calculated_host_listings_count + distance_smithsonian + distance_lincoln + distance_capitol + distance_white_house + distance_library_congress + distance_nationals_park + distance_national_zoo + distance_railway + distance_mcpherson</strong><br/><table>\n",
       "<tbody>\n",
       "<tr><td>                                </td><td>                     </td><td>                     </td><td><strong>95% BCI</strong</td><td>                   </td></tr>\n",
       "<tr><td><strong>Coefficients</strong   </td><td>                     </td><td><strong>Mean</strong</td><td><strong>Lo</strong     </td><td><strong>Hi</strong</td></tr>\n",
       "<tr><td>                                </td><td>$\\beta_{0}$          </td><td>-226.9126            </td><td>-298.4979               </td><td>-162.3717          </td></tr>\n",
       "<tr><td>response_time_a_few_days_or_more</td><td>$\\beta_{1}$          </td><td>-7.1476              </td><td>-37.4401                </td><td>30.0487            </td></tr>\n",
       "<tr><td>response_time_within_a_day      </td><td>$\\beta_{2}$          </td><td>-18.3310             </td><td>-96.9465                </td><td>57.5824            </td></tr>\n",
       "<tr><td>response_time_within_a_few_hours</td><td>$\\beta_{3}$          </td><td>-45.5519             </td><td>-115.0615               </td><td>19.4849            </td></tr>\n",
       "<tr><td>response_time_within_an_hour    </td><td>$\\beta_{4}$          </td><td>-12.2299             </td><td>-85.9788                </td><td>56.6449            </td></tr>\n",
       "<tr><td>host_response_rate              </td><td>$\\beta_{5}$          </td><td>-0.0368              </td><td>-0.8209                 </td><td>0.7333             </td></tr>\n",
       "<tr><td>host_acceptance_rate            </td><td>$\\beta_{6}$          </td><td>0.1855               </td><td>-0.0444                 </td><td>0.3876             </td></tr>\n",
       "<tr><td>superhost_t                     </td><td>$\\beta_{7}$          </td><td>8.9451               </td><td>-1.2320                 </td><td>17.8648            </td></tr>\n",
       "<tr><td>profile_t                       </td><td>$\\beta_{8}$          </td><td>6.3869               </td><td>-18.2522                </td><td>29.6138            </td></tr>\n",
       "<tr><td>identity_verified_t             </td><td>$\\beta_{9}$          </td><td>-9.4292              </td><td>-23.2382                </td><td>4.3540             </td></tr>\n",
       "<tr><td>entire_home_apt                 </td><td>$\\beta_{10}$         </td><td>57.8272              </td><td>30.9533                 </td><td>90.0318            </td></tr>\n",
       "<tr><td>hotel_room                      </td><td>$\\beta_{11}$         </td><td>171.1714             </td><td>137.3626                </td><td>208.3108           </td></tr>\n",
       "<tr><td>private_room                    </td><td>$\\beta_{12}$         </td><td>34.0044              </td><td>10.8215                 </td><td>61.4844            </td></tr>\n",
       "<tr><td>accommodates                    </td><td>$\\beta_{13}$         </td><td>12.7544              </td><td>-2.3892                 </td><td>24.8064            </td></tr>\n",
       "<tr><td>bathroom_numbers                </td><td>$\\beta_{14}$         </td><td>37.6905              </td><td>24.1874                 </td><td>54.6954            </td></tr>\n",
       "<tr><td>bedrooms                        </td><td>$\\beta_{15}$         </td><td>53.0963              </td><td>34.9237                 </td><td>69.8224            </td></tr>\n",
       "<tr><td>beds                            </td><td>$\\beta_{16}$         </td><td>4.6254               </td><td>-11.3980                </td><td>25.0314            </td></tr>\n",
       "<tr><td>minimum_nights                  </td><td>$\\beta_{17}$         </td><td>-0.1157              </td><td>-0.4221                 </td><td>0.0339             </td></tr>\n",
       "<tr><td>maximum_nights                  </td><td>$\\beta_{18}$         </td><td>-0.0050              </td><td>-0.0138                 </td><td>0.0022             </td></tr>\n",
       "<tr><td>number_of_reviews               </td><td>$\\beta_{19}$         </td><td>-0.1474              </td><td>-0.1842                 </td><td>-0.1071            </td></tr>\n",
       "<tr><td>review_scores_rating            </td><td>$\\beta_{20}$         </td><td>18.4923              </td><td>6.2801                  </td><td>32.9453            </td></tr>\n",
       "<tr><td>review_scores_accuracy          </td><td>$\\beta_{21}$         </td><td>3.8366               </td><td>-7.4156                 </td><td>17.5372            </td></tr>\n",
       "<tr><td>review_scores_cleanliness       </td><td>$\\beta_{22}$         </td><td>15.0266              </td><td>7.3666                  </td><td>26.1879            </td></tr>\n",
       "<tr><td>review_scores_checkin           </td><td>$\\beta_{23}$         </td><td>-8.1460              </td><td>-17.7098                </td><td>2.7062             </td></tr>\n",
       "<tr><td>review_scores_communication     </td><td>$\\beta_{24}$         </td><td>-2.5119              </td><td>-16.4994                </td><td>13.0062            </td></tr>\n",
       "<tr><td>review_scores_location          </td><td>$\\beta_{25}$         </td><td>11.4415              </td><td>-0.3427                 </td><td>26.7952            </td></tr>\n",
       "<tr><td>review_scores_value             </td><td>$\\beta_{26}$         </td><td>-13.2596             </td><td>-31.0257                </td><td>-1.0331            </td></tr>\n",
       "<tr><td>instant_bookable_t              </td><td>$\\beta_{27}$         </td><td>7.0749               </td><td>-0.9705                 </td><td>13.8116            </td></tr>\n",
       "<tr><td>calculated_host_listings_count  </td><td>$\\beta_{28}$         </td><td>-0.0882              </td><td>-0.1623                 </td><td>-0.0116            </td></tr>\n",
       "<tr><td>distance_smithsonian            </td><td>$\\beta_{29}$         </td><td>99.1431              </td><td>15.6556                 </td><td>247.7989           </td></tr>\n",
       "<tr><td>distance_lincoln                </td><td>$\\beta_{30}$         </td><td>3.6562               </td><td>-25.0486                </td><td>22.3089            </td></tr>\n",
       "<tr><td>distance_capitol                </td><td>$\\beta_{31}$         </td><td>-493.0787            </td><td>-856.4323               </td><td>-248.8436          </td></tr>\n",
       "<tr><td>distance_white_house            </td><td>$\\beta_{32}$         </td><td>97.9507              </td><td>65.5018                 </td><td>125.5219           </td></tr>\n",
       "<tr><td>distance_library_congress       </td><td>$\\beta_{33}$         </td><td>291.6205             </td><td>182.0135                </td><td>484.2716           </td></tr>\n",
       "<tr><td>distance_nationals_park         </td><td>$\\beta_{34}$         </td><td>48.0627              </td><td>28.5780                 </td><td>67.2230            </td></tr>\n",
       "<tr><td>distance_national_zoo           </td><td>$\\beta_{35}$         </td><td>11.1253              </td><td>3.3498                  </td><td>20.5541            </td></tr>\n",
       "<tr><td>distance_railway                </td><td>$\\beta_{36}$         </td><td>57.9874              </td><td>8.4304                  </td><td>149.3379           </td></tr>\n",
       "<tr><td>distance_mcpherson              </td><td>$\\beta_{37}$         </td><td>-115.6664            </td><td>-158.3440               </td><td>-75.8488           </td></tr>\n",
       "<tr><td>                                </td><td>                     </td><td>                     </td><td>                        </td><td>                   </td></tr>\n",
       "<tr><td><strong>Metrics</strong        </td><td><strong>Mean</strong</td><td><strong>Lo</strong  </td><td><strong>Hi</strong     </td><td>                   </td></tr>\n",
       "<tr><td>$\\sigma$                        </td><td>166.6917             </td><td>133.3813             </td><td>198.0726                </td><td>                   </td></tr>\n",
       "<tr><td>$R^2$                           </td><td>0.3453               </td><td>0.2767               </td><td>0.4398                  </td><td>                   </td></tr>\n",
       "</tbody>\n",
       "</table></p>"
      ],
      "text/latex": [
       "\\textbf{Model: price $\\sim$ response\\_time\\_a\\_few\\_days\\_or\\_more + response\\_time\\_within\\_a\\_day + response\\_time\\_within\\_a\\_few\\_hours + response\\_time\\_within\\_an\\_hour + host\\_response\\_rate + host\\_acceptance\\_rate + superhost\\_t + profile\\_t + identity\\_verified\\_t + entire\\_home\\_apt + hotel\\_room + private\\_room + accommodates + bathroom\\_numbers + bedrooms + beds + minimum\\_nights + maximum\\_nights + number\\_of\\_reviews + review\\_scores\\_rating + review\\_scores\\_accuracy + review\\_scores\\_cleanliness + review\\_scores\\_checkin + review\\_scores\\_communication + review\\_scores\\_location + review\\_scores\\_value + instant\\_bookable\\_t + calculated\\_host\\_listings\\_count + distance\\_smithsonian + distance\\_lincoln + distance\\_capitol + distance\\_white\\_house + distance\\_library\\_congress + distance\\_nationals\\_park + distance\\_national\\_zoo + distance\\_railway + distance\\_mcpherson}\n",
       "\n",
       "\\begin{tabular}{lllll}\n",
       "\\toprule\n",
       "                                        &               &               & \\textbf{95\\% BCI} &             \\\\\n",
       " \\textbf{Coefficients}                  &               & \\textbf{Mean} & \\textbf{Lo}      & \\textbf{Hi} \\\\\n",
       "                                        & $\\beta_{0}$   & -226.9126     & -298.4979        & -162.3717   \\\\\n",
       " response\\_time\\_a\\_few\\_days\\_or\\_more & $\\beta_{1}$   & -7.1476       & -37.4401         & 30.0487     \\\\\n",
       " response\\_time\\_within\\_a\\_day         & $\\beta_{2}$   & -18.3310      & -96.9465         & 57.5824     \\\\\n",
       " response\\_time\\_within\\_a\\_few\\_hours  & $\\beta_{3}$   & -45.5519      & -115.0615        & 19.4849     \\\\\n",
       " response\\_time\\_within\\_an\\_hour       & $\\beta_{4}$   & -12.2299      & -85.9788         & 56.6449     \\\\\n",
       " host\\_response\\_rate                   & $\\beta_{5}$   & -0.0368       & -0.8209          & 0.7333      \\\\\n",
       " host\\_acceptance\\_rate                 & $\\beta_{6}$   & 0.1855        & -0.0444          & 0.3876      \\\\\n",
       " superhost\\_t                           & $\\beta_{7}$   & 8.9451        & -1.2320          & 17.8648     \\\\\n",
       " profile\\_t                             & $\\beta_{8}$   & 6.3869        & -18.2522         & 29.6138     \\\\\n",
       " identity\\_verified\\_t                  & $\\beta_{9}$   & -9.4292       & -23.2382         & 4.3540      \\\\\n",
       " entire\\_home\\_apt                      & $\\beta_{10}$  & 57.8272       & 30.9533          & 90.0318     \\\\\n",
       " hotel\\_room                            & $\\beta_{11}$  & 171.1714      & 137.3626         & 208.3108    \\\\\n",
       " private\\_room                          & $\\beta_{12}$  & 34.0044       & 10.8215          & 61.4844     \\\\\n",
       " accommodates                           & $\\beta_{13}$  & 12.7544       & -2.3892          & 24.8064     \\\\\n",
       " bathroom\\_numbers                      & $\\beta_{14}$  & 37.6905       & 24.1874          & 54.6954     \\\\\n",
       " bedrooms                               & $\\beta_{15}$  & 53.0963       & 34.9237          & 69.8224     \\\\\n",
       " beds                                   & $\\beta_{16}$  & 4.6254        & -11.3980         & 25.0314     \\\\\n",
       " minimum\\_nights                        & $\\beta_{17}$  & -0.1157       & -0.4221          & 0.0339      \\\\\n",
       " maximum\\_nights                        & $\\beta_{18}$  & -0.0050       & -0.0138          & 0.0022      \\\\\n",
       " number\\_of\\_reviews                    & $\\beta_{19}$  & -0.1474       & -0.1842          & -0.1071     \\\\\n",
       " review\\_scores\\_rating                 & $\\beta_{20}$  & 18.4923       & 6.2801           & 32.9453     \\\\\n",
       " review\\_scores\\_accuracy               & $\\beta_{21}$  & 3.8366        & -7.4156          & 17.5372     \\\\\n",
       " review\\_scores\\_cleanliness            & $\\beta_{22}$  & 15.0266       & 7.3666           & 26.1879     \\\\\n",
       " review\\_scores\\_checkin                & $\\beta_{23}$  & -8.1460       & -17.7098         & 2.7062      \\\\\n",
       " review\\_scores\\_communication          & $\\beta_{24}$  & -2.5119       & -16.4994         & 13.0062     \\\\\n",
       " review\\_scores\\_location               & $\\beta_{25}$  & 11.4415       & -0.3427          & 26.7952     \\\\\n",
       " review\\_scores\\_value                  & $\\beta_{26}$  & -13.2596      & -31.0257         & -1.0331     \\\\\n",
       " instant\\_bookable\\_t                   & $\\beta_{27}$  & 7.0749        & -0.9705          & 13.8116     \\\\\n",
       " calculated\\_host\\_listings\\_count      & $\\beta_{28}$  & -0.0882       & -0.1623          & -0.0116     \\\\\n",
       " distance\\_smithsonian                  & $\\beta_{29}$  & 99.1431       & 15.6556          & 247.7989    \\\\\n",
       " distance\\_lincoln                      & $\\beta_{30}$  & 3.6562        & -25.0486         & 22.3089     \\\\\n",
       " distance\\_capitol                      & $\\beta_{31}$  & -493.0787     & -856.4323        & -248.8436   \\\\\n",
       " distance\\_white\\_house                 & $\\beta_{32}$  & 97.9507       & 65.5018          & 125.5219    \\\\\n",
       " distance\\_library\\_congress            & $\\beta_{33}$  & 291.6205      & 182.0135         & 484.2716    \\\\\n",
       " distance\\_nationals\\_park              & $\\beta_{34}$  & 48.0627       & 28.5780          & 67.2230     \\\\\n",
       " distance\\_national\\_zoo                & $\\beta_{35}$  & 11.1253       & 3.3498           & 20.5541     \\\\\n",
       " distance\\_railway                      & $\\beta_{36}$  & 57.9874       & 8.4304           & 149.3379    \\\\\n",
       " distance\\_mcpherson                    & $\\beta_{37}$  & -115.6664     & -158.3440        & -75.8488    \\\\\n",
       "                                        &               &               &                  &             \\\\\n",
       " \\textbf{Metrics}                       & \\textbf{Mean} & \\textbf{Lo}   & \\textbf{Hi}      &             \\\\\n",
       " $\\sigma$                               & 166.6917      & 133.3813      & 198.0726         &             \\\\\n",
       " $R^2$                                  & 0.3453        & 0.2767        & 0.4398           &             \\\\\n",
       "\\bottomrule\n",
       "\\end{tabular}"
      ],
      "text/markdown": [
       "Model: price ~ response_time_a_few_days_or_more + response_time_within_a_day + response_time_within_a_few_hours + response_time_within_an_hour + host_response_rate + host_acceptance_rate + superhost_t + profile_t + identity_verified_t + entire_home_apt + hotel_room + private_room + accommodates + bathroom_numbers + bedrooms + beds + minimum_nights + maximum_nights + number_of_reviews + review_scores_rating + review_scores_accuracy + review_scores_cleanliness + review_scores_checkin + review_scores_communication + review_scores_location + review_scores_value + instant_bookable_t + calculated_host_listings_count + distance_smithsonian + distance_lincoln + distance_capitol + distance_white_house + distance_library_congress + distance_nationals_park + distance_national_zoo + distance_railway + distance_mcpherson\n",
       "|----------------------------------|--------------|-----------|-------------|-----------|\n",
       "|                                  |              |           | **95% BCI** |           |\n",
       "| **Coefficients**                 |              | **Mean**  | **Lo**      | **Hi**    |\n",
       "|                                  | $\\beta_{0}$  | -226.9126 | -298.4979   | -162.3717 |\n",
       "| response_time_a_few_days_or_more | $\\beta_{1}$  | -7.1476   | -37.4401    | 30.0487   |\n",
       "| response_time_within_a_day       | $\\beta_{2}$  | -18.3310  | -96.9465    | 57.5824   |\n",
       "| response_time_within_a_few_hours | $\\beta_{3}$  | -45.5519  | -115.0615   | 19.4849   |\n",
       "| response_time_within_an_hour     | $\\beta_{4}$  | -12.2299  | -85.9788    | 56.6449   |\n",
       "| host_response_rate               | $\\beta_{5}$  | -0.0368   | -0.8209     | 0.7333    |\n",
       "| host_acceptance_rate             | $\\beta_{6}$  | 0.1855    | -0.0444     | 0.3876    |\n",
       "| superhost_t                      | $\\beta_{7}$  | 8.9451    | -1.2320     | 17.8648   |\n",
       "| profile_t                        | $\\beta_{8}$  | 6.3869    | -18.2522    | 29.6138   |\n",
       "| identity_verified_t              | $\\beta_{9}$  | -9.4292   | -23.2382    | 4.3540    |\n",
       "| entire_home_apt                  | $\\beta_{10}$ | 57.8272   | 30.9533     | 90.0318   |\n",
       "| hotel_room                       | $\\beta_{11}$ | 171.1714  | 137.3626    | 208.3108  |\n",
       "| private_room                     | $\\beta_{12}$ | 34.0044   | 10.8215     | 61.4844   |\n",
       "| accommodates                     | $\\beta_{13}$ | 12.7544   | -2.3892     | 24.8064   |\n",
       "| bathroom_numbers                 | $\\beta_{14}$ | 37.6905   | 24.1874     | 54.6954   |\n",
       "| bedrooms                         | $\\beta_{15}$ | 53.0963   | 34.9237     | 69.8224   |\n",
       "| beds                             | $\\beta_{16}$ | 4.6254    | -11.3980    | 25.0314   |\n",
       "| minimum_nights                   | $\\beta_{17}$ | -0.1157   | -0.4221     | 0.0339    |\n",
       "| maximum_nights                   | $\\beta_{18}$ | -0.0050   | -0.0138     | 0.0022    |\n",
       "| number_of_reviews                | $\\beta_{19}$ | -0.1474   | -0.1842     | -0.1071   |\n",
       "| review_scores_rating             | $\\beta_{20}$ | 18.4923   | 6.2801      | 32.9453   |\n",
       "| review_scores_accuracy           | $\\beta_{21}$ | 3.8366    | -7.4156     | 17.5372   |\n",
       "| review_scores_cleanliness        | $\\beta_{22}$ | 15.0266   | 7.3666      | 26.1879   |\n",
       "| review_scores_checkin            | $\\beta_{23}$ | -8.1460   | -17.7098    | 2.7062    |\n",
       "| review_scores_communication      | $\\beta_{24}$ | -2.5119   | -16.4994    | 13.0062   |\n",
       "| review_scores_location           | $\\beta_{25}$ | 11.4415   | -0.3427     | 26.7952   |\n",
       "| review_scores_value              | $\\beta_{26}$ | -13.2596  | -31.0257    | -1.0331   |\n",
       "| instant_bookable_t               | $\\beta_{27}$ | 7.0749    | -0.9705     | 13.8116   |\n",
       "| calculated_host_listings_count   | $\\beta_{28}$ | -0.0882   | -0.1623     | -0.0116   |\n",
       "| distance_smithsonian             | $\\beta_{29}$ | 99.1431   | 15.6556     | 247.7989  |\n",
       "| distance_lincoln                 | $\\beta_{30}$ | 3.6562    | -25.0486    | 22.3089   |\n",
       "| distance_capitol                 | $\\beta_{31}$ | -493.0787 | -856.4323   | -248.8436 |\n",
       "| distance_white_house             | $\\beta_{32}$ | 97.9507   | 65.5018     | 125.5219  |\n",
       "| distance_library_congress        | $\\beta_{33}$ | 291.6205  | 182.0135    | 484.2716  |\n",
       "| distance_nationals_park          | $\\beta_{34}$ | 48.0627   | 28.5780     | 67.2230   |\n",
       "| distance_national_zoo            | $\\beta_{35}$ | 11.1253   | 3.3498      | 20.5541   |\n",
       "| distance_railway                 | $\\beta_{36}$ | 57.9874   | 8.4304      | 149.3379  |\n",
       "| distance_mcpherson               | $\\beta_{37}$ | -115.6664 | -158.3440   | -75.8488  |\n",
       "|                                  |              |           |             |           |\n",
       "| **Metrics**                      | **Mean**     | **Lo**    | **Hi**      |           |\n",
       "| $\\sigma$                         | 166.6917     | 133.3813  | 198.0726    |           |\n",
       "| $R^2$                            | 0.3453       | 0.2767    | 0.4398      |           |"
      ],
      "text/plain": [
       "<models.ResultsWrapper at 0x286cccabad0>"
      ]
     },
     "execution_count": 26,
     "metadata": {},
     "output_type": "execute_result"
    }
   ],
   "source": [
    "## STEVE: take out host_since (temporary)\n",
    "# TEMPORARY TAKE OUT last_review \n",
    "model = (\"price ~ response_time_a_few_days_or_more + response_time_within_a_day \"\n",
    "        \"+ response_time_within_a_few_hours + response_time_within_an_hour + host_response_rate \"\n",
    "        \"+ host_acceptance_rate + superhost_t \"\n",
    "        \"+ profile_t + identity_verified_t + entire_home_apt + hotel_room + private_room + accommodates \"\n",
    "        \"+ bathroom_numbers + bedrooms + beds + minimum_nights + maximum_nights + number_of_reviews \"\n",
    "        \"+ review_scores_rating + review_scores_accuracy + review_scores_cleanliness + review_scores_checkin \"\n",
    "        \"+ review_scores_communication + review_scores_location + review_scores_value + instant_bookable_t \" # instant_bookable_t\n",
    "        \"+ calculated_host_listings_count + distance_smithsonian + distance_lincoln + distance_capitol \"\n",
    "        \"+ distance_white_house + distance_library_congress + distance_nationals_park + distance_national_zoo \"\n",
    "        \"+ distance_railway + distance_mcpherson\")\n",
    "result = models.bootstrap_linear_regression(model, data=vwListings)\n",
    "models.describe_bootstrap_lr(result, sd=4)"
   ]
  }
 ],
 "metadata": {
  "kernelspec": {
   "display_name": "Python (en685648)",
   "language": "python",
   "name": "en685648"
  },
  "language_info": {
   "codemirror_mode": {
    "name": "ipython",
    "version": 3
   },
   "file_extension": ".py",
   "mimetype": "text/x-python",
   "name": "python",
   "nbconvert_exporter": "python",
   "pygments_lexer": "ipython3",
   "version": "3.11.1"
  }
 },
 "nbformat": 4,
 "nbformat_minor": 2
}
