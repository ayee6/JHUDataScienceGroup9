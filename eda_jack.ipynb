{
 "cells": [
  {
   "cell_type": "markdown",
   "id": "f4c28ee3",
   "metadata": {},
   "source": [
    "# airbnb.db EDA - Reviews Table"
   ]
  },
  {
   "cell_type": "markdown",
   "id": "0f0fd868",
   "metadata": {},
   "source": [
    "The table `reviews` contains data relevant to the experience of tenants that have rented from a given Airbnb listing. Let's take a look at the variables that each entry in the `reviews` contains:"
   ]
  },
  {
   "cell_type": "code",
   "execution_count": 14,
   "id": "3d1ddef6",
   "metadata": {},
   "outputs": [],
   "source": [
    "import sqlite3\n",
    "import pandas as pd\n",
    "\n",
    "# Establish a connection to the database\n",
    "connection = sqlite3.connect('airbnb.db')\n",
    "cursor = connection.cursor()"
   ]
  },
  {
   "cell_type": "code",
   "execution_count": 21,
   "id": "d2e22f82",
   "metadata": {},
   "outputs": [
    {
     "name": "stdout",
     "output_type": "stream",
     "text": [
      "Index(['id', 'reviewer_name', 'reviewer_id', 'date', 'comments', 'listing_id'], dtype='object')\n"
     ]
    }
   ],
   "source": [
    "# Read sqlite query results into a pandas DataFrame\n",
    "airbnbListings = pd.read_sql_query(\"SELECT * from reviews\", connection)\n",
    "\n",
    "# List the columns in the reviews table\n",
    "print(df.columns)"
   ]
  },
  {
   "cell_type": "markdown",
   "id": "5fe5f7da",
   "metadata": {},
   "source": [
    "Looking at columns in the reviews table, it would appear that each entry would be similar to the types of reviews you might find on Amazon or Yelp. Each review has an associated reviewer (reviewer_name & reviewer_id), as well as the date of when it was posted to denote its relevance. Lastly there's the comment itself that would describe the reviewers experience and the listing_id which points directly to the airbnb listing they rented.\n",
    "\n",
    "Now that we have verified the relavance of the columns in the table, let's now take a look at the overall characteristics of the data."
   ]
  },
  {
   "cell_type": "code",
   "execution_count": 22,
   "id": "7e5912e3",
   "metadata": {},
   "outputs": [
    {
     "name": "stdout",
     "output_type": "stream",
     "text": [
      "<class 'pandas.core.frame.DataFrame'>\n",
      "RangeIndex: 330237 entries, 0 to 330236\n",
      "Data columns (total 6 columns):\n",
      " #   Column         Non-Null Count   Dtype \n",
      "---  ------         --------------   ----- \n",
      " 0   id             330237 non-null  int64 \n",
      " 1   reviewer_name  330237 non-null  object\n",
      " 2   reviewer_id    330237 non-null  int64 \n",
      " 3   date           330237 non-null  object\n",
      " 4   comments       330237 non-null  object\n",
      " 5   listing_id     330237 non-null  int64 \n",
      "dtypes: int64(3), object(3)\n",
      "memory usage: 15.1+ MB\n"
     ]
    }
   ],
   "source": [
    "airbnbListings.info()"
   ]
  },
  {
   "cell_type": "markdown",
   "id": "47a447be",
   "metadata": {},
   "source": [
    "There are 330237 records (or observations) for each variable so there are no missing values. there are 3 numerical variables and what appears to be 3 categorical variables. Let's look at the first few rows:"
   ]
  },
  {
   "cell_type": "code",
   "execution_count": 23,
   "id": "e8c24822",
   "metadata": {},
   "outputs": [
    {
     "data": {
      "text/html": [
       "<div>\n",
       "<style scoped>\n",
       "    .dataframe tbody tr th:only-of-type {\n",
       "        vertical-align: middle;\n",
       "    }\n",
       "\n",
       "    .dataframe tbody tr th {\n",
       "        vertical-align: top;\n",
       "    }\n",
       "\n",
       "    .dataframe thead th {\n",
       "        text-align: right;\n",
       "    }\n",
       "</style>\n",
       "<table border=\"1\" class=\"dataframe\">\n",
       "  <thead>\n",
       "    <tr style=\"text-align: right;\">\n",
       "      <th></th>\n",
       "      <th>id</th>\n",
       "      <th>reviewer_name</th>\n",
       "      <th>reviewer_id</th>\n",
       "      <th>date</th>\n",
       "      <th>comments</th>\n",
       "      <th>listing_id</th>\n",
       "    </tr>\n",
       "  </thead>\n",
       "  <tbody>\n",
       "    <tr>\n",
       "      <th>0</th>\n",
       "      <td>2215</td>\n",
       "      <td>Lisa</td>\n",
       "      <td>8235</td>\n",
       "      <td>2009-05-10 00:00:00</td>\n",
       "      <td>Staying with Heather and Vasa was a delight.  ...</td>\n",
       "      <td>3943</td>\n",
       "    </tr>\n",
       "    <tr>\n",
       "      <th>1</th>\n",
       "      <td>2373</td>\n",
       "      <td>Kevin</td>\n",
       "      <td>13733</td>\n",
       "      <td>2009-05-14 00:00:00</td>\n",
       "      <td>Beautiful old home, just like I remember my gr...</td>\n",
       "      <td>4197</td>\n",
       "    </tr>\n",
       "    <tr>\n",
       "      <th>2</th>\n",
       "      <td>2945</td>\n",
       "      <td>Bernhard</td>\n",
       "      <td>16430</td>\n",
       "      <td>2009-05-21 00:00:00</td>\n",
       "      <td>A great place to stay for travelers with limit...</td>\n",
       "      <td>4197</td>\n",
       "    </tr>\n",
       "    <tr>\n",
       "      <th>3</th>\n",
       "      <td>3253</td>\n",
       "      <td>Karen</td>\n",
       "      <td>15892</td>\n",
       "      <td>2009-05-28 00:00:00</td>\n",
       "      <td>Staying with Heather and Vasa was great. Their...</td>\n",
       "      <td>3943</td>\n",
       "    </tr>\n",
       "    <tr>\n",
       "      <th>4</th>\n",
       "      <td>3569</td>\n",
       "      <td>Brad</td>\n",
       "      <td>19454</td>\n",
       "      <td>2009-06-04 00:00:00</td>\n",
       "      <td>I had to fly in on short notice for an intervi...</td>\n",
       "      <td>3943</td>\n",
       "    </tr>\n",
       "  </tbody>\n",
       "</table>\n",
       "</div>"
      ],
      "text/plain": [
       "     id reviewer_name  reviewer_id                 date  \\\n",
       "0  2215          Lisa         8235  2009-05-10 00:00:00   \n",
       "1  2373         Kevin        13733  2009-05-14 00:00:00   \n",
       "2  2945      Bernhard        16430  2009-05-21 00:00:00   \n",
       "3  3253         Karen        15892  2009-05-28 00:00:00   \n",
       "4  3569          Brad        19454  2009-06-04 00:00:00   \n",
       "\n",
       "                                            comments  listing_id  \n",
       "0  Staying with Heather and Vasa was a delight.  ...        3943  \n",
       "1  Beautiful old home, just like I remember my gr...        4197  \n",
       "2  A great place to stay for travelers with limit...        4197  \n",
       "3  Staying with Heather and Vasa was great. Their...        3943  \n",
       "4  I had to fly in on short notice for an intervi...        3943  "
      ]
     },
     "execution_count": 23,
     "metadata": {},
     "output_type": "execute_result"
    }
   ],
   "source": [
    "airbnbListings.head()"
   ]
  },
  {
   "cell_type": "markdown",
   "id": "ced8aa8a",
   "metadata": {},
   "source": [
    "What I find most interesting from dataframe preview is that the reviewer_name is just the first name of the reviewer. This can be slightly confusing considering there may be multiple people that share the same name but a different reviewer_id. Another point of interest is that date seems to have the capability to be measured down to the second, however it seems to only be measured down to the day. Lastly it will be hard to guage the significance of each comment, what is the character limit? Can we make sense of the sentiment of the comment? How can we tell if it is a positive or negative comment?\n",
    "\n",
    "---"
   ]
  },
  {
   "cell_type": "markdown",
   "id": "e40d296f",
   "metadata": {},
   "source": [
    "# EDA\n",
    "\n",
    "## Single Variable EDA\n",
    "\n",
    "We'll start our EDA by looking at each variable individually, starting with the target variable, *id*."
   ]
  },
  {
   "cell_type": "markdown",
   "id": "a55a5536",
   "metadata": {},
   "source": [
    "## id\n",
    "\n",
    "I'm assuming that id is the unique id for each associated review. That would mean each review gets an id (which we previously found true, 330237 non-null int64) and each review should have a unique id (no duplicates).\n",
    "\n",
    "id is a numerical data type however there are no units so the numbers are arbitrary. The only significance of the number should be that they are all unique. Let's see the range of values that id could be:"
   ]
  },
  {
   "cell_type": "code",
   "execution_count": 25,
   "id": "0179484d",
   "metadata": {},
   "outputs": [
    {
     "data": {
      "text/plain": [
       "count    3.302370e+05\n",
       "mean     2.627756e+17\n",
       "std      3.207232e+17\n",
       "min      2.215000e+03\n",
       "25%      3.305652e+08\n",
       "50%      6.564124e+08\n",
       "75%      6.035870e+17\n",
       "max      8.500703e+17\n",
       "Name: id, dtype: float64"
      ]
     },
     "execution_count": 25,
     "metadata": {},
     "output_type": "execute_result"
    }
   ],
   "source": [
    "airbnbListings.id.describe()"
   ]
  },
  {
   "cell_type": "markdown",
   "id": "25477df2",
   "metadata": {},
   "source": [
    "id is not a measurement so we only care about the min and max values from the values above. It would appear that the min is 2215 and the max is 8.500703e+17. The difference in magnitude between the min and max would suggest that each id is random. There may be some sort of hash function to generate each one. It makes no sense to plot the ids just due to how spread out the data it is but we can ensure that there are no duplicate values."
   ]
  },
  {
   "cell_type": "code",
   "execution_count": 26,
   "id": "650faf7f",
   "metadata": {},
   "outputs": [
    {
     "data": {
      "text/plain": [
       "True"
      ]
     },
     "execution_count": 26,
     "metadata": {},
     "output_type": "execute_result"
    }
   ],
   "source": [
    "airbnbListings.id.is_unique"
   ]
  },
  {
   "cell_type": "markdown",
   "id": "a1238889",
   "metadata": {},
   "source": [
    "To this point we have found that each id appears to be random (difference in magnitude between min and max value) and we have verified that each id is unique for each entry in the table. Given a id, we could find the specific row in the table that it is associated with. I do not believe it will be of any value when looking for pairwise relationships going forward."
   ]
  },
  {
   "cell_type": "code",
   "execution_count": null,
   "id": "59bc9215",
   "metadata": {},
   "outputs": [],
   "source": []
  }
 ],
 "metadata": {
  "kernelspec": {
   "display_name": "Python 3 (ipykernel)",
   "language": "python",
   "name": "python3"
  },
  "language_info": {
   "codemirror_mode": {
    "name": "ipython",
    "version": 3
   },
   "file_extension": ".py",
   "mimetype": "text/x-python",
   "name": "python",
   "nbconvert_exporter": "python",
   "pygments_lexer": "ipython3",
   "version": "3.9.16"
  }
 },
 "nbformat": 4,
 "nbformat_minor": 5
}
