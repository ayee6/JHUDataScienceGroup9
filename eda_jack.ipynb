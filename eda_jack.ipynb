{
 "cells": [
  {
   "cell_type": "markdown",
   "id": "f4c28ee3",
   "metadata": {},
   "source": [
    "# airbnb.db EDA - Reviews Table"
   ]
  },
  {
   "cell_type": "markdown",
   "id": "0f0fd868",
   "metadata": {},
   "source": [
    "The table `reviews` contains data relevant to the experience of tenants that have rented from a given Airbnb listing. Let's take a look at the variables that each entry in the `reviews` contains:"
   ]
  },
  {
   "cell_type": "code",
   "execution_count": 1,
   "id": "8db73e28",
   "metadata": {},
   "outputs": [],
   "source": [
    "%matplotlib inline"
   ]
  },
  {
   "cell_type": "code",
   "execution_count": 2,
   "id": "3d1ddef6",
   "metadata": {},
   "outputs": [],
   "source": [
    "import sqlite3\n",
    "import pandas as pd\n",
    "import matplotlib.pyplot as plt\n",
    "\n",
    "# Establish a connection to the database\n",
    "connection = sqlite3.connect('airbnb.db')\n",
    "cursor = connection.cursor()"
   ]
  },
  {
   "cell_type": "code",
   "execution_count": 3,
   "id": "d2e22f82",
   "metadata": {},
   "outputs": [
    {
     "name": "stdout",
     "output_type": "stream",
     "text": [
      "Index(['source_name', 'listing_id', 'id', 'date', 'reviewer_id',\n",
      "       'reviewer_name', 'comments'],\n",
      "      dtype='object')\n"
     ]
    }
   ],
   "source": [
    "# Read sqlite query results into a pandas DataFrame\n",
    "airbnbListings = pd.read_sql_query(\"SELECT * from reviews\", connection)\n",
    "airbnbListings = airbnbListings.drop_duplicates(subset='id', keep=\"first\")\n",
    "# List the columns in the reviews table\n",
    "print(airbnbListings.columns)"
   ]
  },
  {
   "cell_type": "markdown",
   "id": "5fe5f7da",
   "metadata": {},
   "source": [
    "Looking at columns in the reviews table, it would appear that each entry would be similar to the types of reviews you might find on Amazon or Yelp. Each review has an associated reviewer (reviewer_name & reviewer_id), as well as the date of when it was posted to denote its relevance. Lastly there's the comment itself that would describe the reviewers experience and the listing_id which points directly to the airbnb listing they rented.\n",
    "\n",
    "Now that we have verified the relavance of the columns in the table, let's now take a look at the overall characteristics of the data."
   ]
  },
  {
   "cell_type": "code",
   "execution_count": 4,
   "id": "7e5912e3",
   "metadata": {},
   "outputs": [
    {
     "name": "stdout",
     "output_type": "stream",
     "text": [
      "<class 'pandas.core.frame.DataFrame'>\n",
      "Int64Index: 387813 entries, 0 to 1269065\n",
      "Data columns (total 7 columns):\n",
      " #   Column         Non-Null Count   Dtype \n",
      "---  ------         --------------   ----- \n",
      " 0   source_name    387813 non-null  object\n",
      " 1   listing_id     387813 non-null  int64 \n",
      " 2   id             387813 non-null  int64 \n",
      " 3   date           387813 non-null  object\n",
      " 4   reviewer_id    387813 non-null  int64 \n",
      " 5   reviewer_name  387813 non-null  object\n",
      " 6   comments       387813 non-null  object\n",
      "dtypes: int64(3), object(4)\n",
      "memory usage: 23.7+ MB\n"
     ]
    }
   ],
   "source": [
    "airbnbListings.info()"
   ]
  },
  {
   "cell_type": "markdown",
   "id": "47a447be",
   "metadata": {},
   "source": [
    "There are 330237 records (or observations) for each variable so there are no missing values. there are 3 numerical variables and what appears to be 3 categorical variables. Let's look at the first few rows:"
   ]
  },
  {
   "cell_type": "code",
   "execution_count": 5,
   "id": "e8c24822",
   "metadata": {},
   "outputs": [
    {
     "data": {
      "text/html": [
       "<div>\n",
       "<style scoped>\n",
       "    .dataframe tbody tr th:only-of-type {\n",
       "        vertical-align: middle;\n",
       "    }\n",
       "\n",
       "    .dataframe tbody tr th {\n",
       "        vertical-align: top;\n",
       "    }\n",
       "\n",
       "    .dataframe thead th {\n",
       "        text-align: right;\n",
       "    }\n",
       "</style>\n",
       "<table border=\"1\" class=\"dataframe\">\n",
       "  <thead>\n",
       "    <tr style=\"text-align: right;\">\n",
       "      <th></th>\n",
       "      <th>source_name</th>\n",
       "      <th>listing_id</th>\n",
       "      <th>id</th>\n",
       "      <th>date</th>\n",
       "      <th>reviewer_id</th>\n",
       "      <th>reviewer_name</th>\n",
       "      <th>comments</th>\n",
       "    </tr>\n",
       "  </thead>\n",
       "  <tbody>\n",
       "    <tr>\n",
       "      <th>0</th>\n",
       "      <td>reviews_3_2023</td>\n",
       "      <td>3686</td>\n",
       "      <td>131293</td>\n",
       "      <td>2010-11-01</td>\n",
       "      <td>257234</td>\n",
       "      <td>Callie</td>\n",
       "      <td>Staying with Levita and her wonderful family w...</td>\n",
       "    </tr>\n",
       "    <tr>\n",
       "      <th>1</th>\n",
       "      <td>reviews_3_2023</td>\n",
       "      <td>3686</td>\n",
       "      <td>150766</td>\n",
       "      <td>2010-12-08</td>\n",
       "      <td>255888</td>\n",
       "      <td>Patrick</td>\n",
       "      <td>Vita is a very welcoming, helpful and friendly...</td>\n",
       "    </tr>\n",
       "    <tr>\n",
       "      <th>2</th>\n",
       "      <td>reviews_3_2023</td>\n",
       "      <td>3686</td>\n",
       "      <td>177749</td>\n",
       "      <td>2011-02-02</td>\n",
       "      <td>366688</td>\n",
       "      <td>Benjamin</td>\n",
       "      <td>This was my first time using \"airbnb\" and it m...</td>\n",
       "    </tr>\n",
       "    <tr>\n",
       "      <th>3</th>\n",
       "      <td>reviews_3_2023</td>\n",
       "      <td>3686</td>\n",
       "      <td>197451</td>\n",
       "      <td>2011-03-12</td>\n",
       "      <td>213492</td>\n",
       "      <td>T.J.</td>\n",
       "      <td>First, Vita saved my work week by providing me...</td>\n",
       "    </tr>\n",
       "    <tr>\n",
       "      <th>4</th>\n",
       "      <td>reviews_3_2023</td>\n",
       "      <td>3686</td>\n",
       "      <td>213212</td>\n",
       "      <td>2011-03-30</td>\n",
       "      <td>428455</td>\n",
       "      <td>Pete</td>\n",
       "      <td>Great host! Very welcoming and organised. I st...</td>\n",
       "    </tr>\n",
       "  </tbody>\n",
       "</table>\n",
       "</div>"
      ],
      "text/plain": [
       "      source_name  listing_id      id        date  reviewer_id reviewer_name  \\\n",
       "0  reviews_3_2023        3686  131293  2010-11-01       257234        Callie   \n",
       "1  reviews_3_2023        3686  150766  2010-12-08       255888       Patrick   \n",
       "2  reviews_3_2023        3686  177749  2011-02-02       366688      Benjamin   \n",
       "3  reviews_3_2023        3686  197451  2011-03-12       213492          T.J.   \n",
       "4  reviews_3_2023        3686  213212  2011-03-30       428455          Pete   \n",
       "\n",
       "                                            comments  \n",
       "0  Staying with Levita and her wonderful family w...  \n",
       "1  Vita is a very welcoming, helpful and friendly...  \n",
       "2  This was my first time using \"airbnb\" and it m...  \n",
       "3  First, Vita saved my work week by providing me...  \n",
       "4  Great host! Very welcoming and organised. I st...  "
      ]
     },
     "execution_count": 5,
     "metadata": {},
     "output_type": "execute_result"
    }
   ],
   "source": [
    "airbnbListings.head()"
   ]
  },
  {
   "cell_type": "markdown",
   "id": "ced8aa8a",
   "metadata": {},
   "source": [
    "What I find most interesting from dataframe preview is that the reviewer_name is just the first name of the reviewer. This can be slightly confusing considering there may be multiple people that share the same name but a different reviewer_id. Another point of interest is that date seems to have the capability to be measured down to the second, however it seems to only be measured down to the day. Lastly it will be hard to guage the significance of each comment, what is the character limit? Can we make sense of the sentiment of the comment? How can we tell if it is a positive or negative comment?\n",
    "\n",
    "---"
   ]
  },
  {
   "cell_type": "markdown",
   "id": "e40d296f",
   "metadata": {},
   "source": [
    "# EDA\n",
    "\n",
    "## Single Variable EDA\n",
    "\n",
    "We'll start our EDA by looking at each variable individually, starting with source_name *id*."
   ]
  },
  {
   "cell_type": "markdown",
   "id": "4c16476b",
   "metadata": {},
   "source": [
    "## source_name\n",
    "\n",
    "The variable source_name refers to the excel sheet that the comment was pulled from. It is a categorical variable that is a string. When constructing the database, we pulled from 4 separate excel sheets for the 4 different quarters of the past year. The excel sheets are as listed: reviews_3_2023, reviews_6_2022, reviews_9_2022, and reviews_12_2022. This would mean that there are only 4 different values that source_name could possibly be. \n",
    "\n",
    "I would anticipate that the reviews_3_2023 will have the highest frequency because if any descriptions get changed on the listings, then the review's date will update. "
   ]
  },
  {
   "cell_type": "code",
   "execution_count": 6,
   "id": "68fa3089",
   "metadata": {},
   "outputs": [
    {
     "data": {
      "text/plain": [
       "count             387813\n",
       "unique                 4\n",
       "top       reviews_3_2023\n",
       "freq              330237\n",
       "Name: source_name, dtype: object"
      ]
     },
     "execution_count": 6,
     "metadata": {},
     "output_type": "execute_result"
    }
   ],
   "source": [
    "airbnbListings.source_name.describe()"
   ]
  },
  {
   "cell_type": "markdown",
   "id": "85941fda",
   "metadata": {},
   "source": [
    "As noted, there are 4 different unique values which represent the 4 unique excel sheet we populated our database from. The highest frequency is also reviews_3_2023 which is what we forecasted due to updated listings. Let's now visualize the frequency of each source_name:"
   ]
  },
  {
   "cell_type": "code",
   "execution_count": 7,
   "id": "be27ac6e",
   "metadata": {},
   "outputs": [
    {
     "data": {
      "image/png": "[encoded data removed]",
      "text/plain": [
       "<Figure size 1000x600 with 1 Axes>"
      ]
     },
     "metadata": {},
     "output_type": "display_data"
    }
   ],
   "source": [
    "figure = plt.figure(figsize=(10, 6))\n",
    "\n",
    "axes = figure.add_subplot(1, 1, 1)\n",
    "axes.hist(airbnbListings.source_name, color=\"darkslategray\")\n",
    "axes.set_title(\"Distribution of Source Name\")\n",
    "axes.set_xlabel(\"Source Name\")\n",
    "\n",
    "plt.show()\n",
    "plt.close()"
   ]
  },
  {
   "cell_type": "markdown",
   "id": "93ba26cf",
   "metadata": {},
   "source": [
    "Looking at the distribution, it aligns with our assumption that reviews_3_2023 would have the highest density. It is also interesting how there is very little densities with the other 3 categories. This may need further exploration to explain why the distribution is so concentrated with reviews_3_2023. Since a majority of the rows are from reviews_3_2023, this variable may not be a good candidate for our model."
   ]
  },
  {
   "cell_type": "markdown",
   "id": "a55a5536",
   "metadata": {},
   "source": [
    "## id\n",
    "\n",
    "I'm assuming that id is the unique id for each associated review. That would mean each review gets an id (which we previously found true, 330237 non-null int64) and each review should have a unique id (no duplicates).\n",
    "\n",
    "id is a numerical data type however there are no units so the numbers are arbitrary. The only significance of the number should be that they are all unique. Let's see the range of values that id could be:"
   ]
  },
  {
   "cell_type": "code",
   "execution_count": 8,
   "id": "0179484d",
   "metadata": {},
   "outputs": [
    {
     "data": {
      "text/plain": [
       "count    3.878130e+05\n",
       "mean     2.537451e+17\n",
       "std      3.154293e+17\n",
       "min      4.980000e+02\n",
       "25%      3.272933e+08\n",
       "50%      6.433958e+08\n",
       "75%      5.920005e+17\n",
       "max      8.500703e+17\n",
       "Name: id, dtype: float64"
      ]
     },
     "execution_count": 8,
     "metadata": {},
     "output_type": "execute_result"
    }
   ],
   "source": [
    "airbnbListings.id.describe()"
   ]
  },
  {
   "cell_type": "markdown",
   "id": "25477df2",
   "metadata": {},
   "source": [
    "id is not a measurement so we only care about the min and max values from the values above. It would appear that the min is 2215 and the max is 8.500703e+17. The difference in magnitude between the min and max would suggest that each id is random. There may be some sort of hash function to generate each one. It makes no sense to plot the ids just due to how spread out the data it is but we can ensure that there are no duplicate values."
   ]
  },
  {
   "cell_type": "code",
   "execution_count": 9,
   "id": "650faf7f",
   "metadata": {},
   "outputs": [
    {
     "data": {
      "text/plain": [
       "True"
      ]
     },
     "execution_count": 9,
     "metadata": {},
     "output_type": "execute_result"
    }
   ],
   "source": [
    "airbnbListings.id.is_unique"
   ]
  },
  {
   "cell_type": "markdown",
   "id": "a1238889",
   "metadata": {},
   "source": [
    "To this point we have found that each id appears to be random (difference in magnitude between min and max value) and we have verified that each id is unique for each entry in the table. Given a id, we could find the specific row in the table that it is associated with. I do not believe it will be of any value when looking for pairwise relationships going forward."
   ]
  },
  {
   "cell_type": "markdown",
   "id": "16f97674",
   "metadata": {},
   "source": [
    "## listing_id\n",
    "\n",
    "listing_id refers to the specific Airbnb listing that the reviewer has rented from. Typically, when a customer leaves a comment, there is an associate listing that they are referring to. Since a listing could be rented numerous times, I would expect to see multiple duplicates in the dataset."
   ]
  },
  {
   "cell_type": "code",
   "execution_count": 10,
   "id": "5f4e59d1",
   "metadata": {},
   "outputs": [
    {
     "data": {
      "text/plain": [
       "count    3.878130e+05\n",
       "mean     2.809888e+16\n",
       "std      1.318591e+17\n",
       "min      3.571000e+03\n",
       "25%      1.186628e+07\n",
       "50%      2.142290e+07\n",
       "75%      3.814941e+07\n",
       "max      8.473482e+17\n",
       "Name: listing_id, dtype: float64"
      ]
     },
     "execution_count": 10,
     "metadata": {},
     "output_type": "execute_result"
    }
   ],
   "source": [
    "airbnbListings.listing_id.describe()"
   ]
  },
  {
   "cell_type": "markdown",
   "id": "155e0064",
   "metadata": {},
   "source": [
    "listing_id is not a measurement so we only care about the min and max values from the values above. It would appear that the min is 3571 and the max is 8.473482e+17. The difference in magnitude between the min and max would suggest that each id is random. There may be some sort of hash function to generate each one. It makes no sense to plot the ids just due to how spread out the data is. Let's see how many duplicates there are and how many there are."
   ]
  },
  {
   "cell_type": "code",
   "execution_count": 11,
   "id": "cc0acd2f",
   "metadata": {},
   "outputs": [
    {
     "data": {
      "text/plain": [
       "count    6432.00000\n",
       "mean       60.29431\n",
       "std        90.27492\n",
       "min         1.00000\n",
       "25%         6.00000\n",
       "50%        24.00000\n",
       "75%        74.25000\n",
       "max       898.00000\n",
       "Name: listing_id, dtype: float64"
      ]
     },
     "execution_count": 11,
     "metadata": {},
     "output_type": "execute_result"
    }
   ],
   "source": [
    "airbnbListings['listing_id'].value_counts().describe()"
   ]
  },
  {
   "cell_type": "markdown",
   "id": "132a2cc3",
   "metadata": {},
   "source": [
    "Looking at the data above, there is a listing that has 898 reviews. That would be the most number of reviews for a listing. There are also listings with 1 reviews. That would be the minimum number of reviews for a listing. On average ther is typically 60 reviews per listing. This would seem like a considerable amount of reviews. Let's actually visualize the number of reviews per listing."
   ]
  },
  {
   "cell_type": "code",
   "execution_count": 12,
   "id": "2e30891c",
   "metadata": {},
   "outputs": [
    {
     "data": {
      "image/png": "[encoded data removed]",
      "text/plain": [
       "<Figure size 1000x600 with 1 Axes>"
      ]
     },
     "metadata": {},
     "output_type": "display_data"
    }
   ],
   "source": [
    "figure = plt.figure(figsize=(10, 6))\n",
    "\n",
    "axes = figure.add_subplot(1, 1, 1)\n",
    "axes.hist(airbnbListings['listing_id'].value_counts(), color=\"darkslategray\")\n",
    "axes.set_title(\"Distribution of listing_id count\")\n",
    "axes.set_xlabel(\"listing_id count\")\n",
    "\n",
    "plt.show()\n",
    "plt.close()"
   ]
  },
  {
   "cell_type": "markdown",
   "id": "ed520446",
   "metadata": {},
   "source": [
    "The distribution above gives a good idea of how many reviews each listing will typically get. On average, it would seem that most listings receive 100 or less reviews, there are a few outliers that have 200+ reviews. This may not be important when constructing the model."
   ]
  },
  {
   "cell_type": "markdown",
   "id": "4773c50d",
   "metadata": {},
   "source": [
    "## date\n",
    "\n",
    "The date variable refers to the day that the review was posted. Date can be a numerical value because time is a measurement. Since we are strictly looking at the quarters between June 2022 to March 2023. Since we previously found that most of the reviews come from 1st quarter in 2023, we should expect to find that a majority of the date values should be between Jan 2023 to March 2023."
   ]
  },
  {
   "cell_type": "code",
   "execution_count": 13,
   "id": "f89b13d8",
   "metadata": {},
   "outputs": [
    {
     "data": {
      "text/plain": [
       "count         387813\n",
       "unique          4399\n",
       "top       2022-04-24\n",
       "freq             706\n",
       "Name: date, dtype: object"
      ]
     },
     "execution_count": 13,
     "metadata": {},
     "output_type": "execute_result"
    }
   ],
   "source": [
    "airbnbListings['date'].describe()"
   ]
  },
  {
   "cell_type": "markdown",
   "id": "d4416cd9",
   "metadata": {},
   "source": [
    "It should be noted, that there were 706 reviews left on April 24, 2022 which is interesting. That day does not seem to be a holiday but it is a Sunday. I would expect that the most popular date would be a holiday because that is typically when people are traveling and staying at Airbnb's. It does make sense that it is a Sunday because that is the last day of a weekend trip. Let's see if we can visualize the data.\n",
    "\n",
    "Since just 'date', may be too granular, let's take a look at the year distribution."
   ]
  },
  {
   "cell_type": "code",
   "execution_count": 14,
   "id": "46bc2a22",
   "metadata": {},
   "outputs": [],
   "source": [
    "def categorise(row):  \n",
    "    date = row['date']\n",
    "    \n",
    "    date = date.split(\"-\")\n",
    "    \n",
    "    return int(date[0])\n",
    "\n",
    "airbnbListings['date_year'] = airbnbListings.apply(lambda row: categorise(row), axis=1)"
   ]
  },
  {
   "cell_type": "code",
   "execution_count": 15,
   "id": "2ca61317",
   "metadata": {},
   "outputs": [
    {
     "data": {
      "image/png": "[encoded data removed]",
      "text/plain": [
       "<Figure size 1000x600 with 1 Axes>"
      ]
     },
     "metadata": {},
     "output_type": "display_data"
    }
   ],
   "source": [
    "figure = plt.figure(figsize=(10, 6))\n",
    "\n",
    "axes = figure.add_subplot(1, 1, 1)\n",
    "axes.hist(airbnbListings['date_year'], color=\"darkslategray\")\n",
    "axes.set_title(\"Distribution of date_year\")\n",
    "axes.set_xlabel(\"date_year\")\n",
    "\n",
    "plt.show()\n",
    "plt.close()"
   ]
  },
  {
   "cell_type": "markdown",
   "id": "36b6ac5a",
   "metadata": {},
   "source": [
    "This distribution is very confusing. I thought that the data collected was just between June 2022 and March 2023 which is the past fiscal year. However this is not the case when looking at the years. It would seem that the oldest comments go back to 2010 and the newest comments come from 2023. A majority of the reviews are within the past 5 years. But I really am not sure why the reviews can be so old if the data is from the past year. If this cannot be explained, then it may not be the best variable to use in the final model."
   ]
  },
  {
   "cell_type": "markdown",
   "id": "e70a48c6",
   "metadata": {},
   "source": [
    "## reviewer_id\n",
    "\n",
    "The variable reviewer_id refers to the unique id that each Airbnb user is given. Since a user can leave multiple reviews on the app, we do expect to see duplicates in the reviewer_id column. Since we've seen previously that date extends to the lifetime of the app so we should expect a large number of duplicates. For any give user I believe it would be resonable to see 10-50 duplicates. This would mean the average user has left 10-50 reviews in their lifetime. Let's actually see the distribution of reviews."
   ]
  },
  {
   "cell_type": "code",
   "execution_count": 16,
   "id": "97fe24a0",
   "metadata": {},
   "outputs": [
    {
     "data": {
      "text/plain": [
       "count    349259.000000\n",
       "mean          1.110388\n",
       "std           0.583008\n",
       "min           1.000000\n",
       "25%           1.000000\n",
       "50%           1.000000\n",
       "75%           1.000000\n",
       "max          68.000000\n",
       "Name: reviewer_id, dtype: float64"
      ]
     },
     "execution_count": 16,
     "metadata": {},
     "output_type": "execute_result"
    }
   ],
   "source": [
    "airbnbListings['reviewer_id'].value_counts().describe()"
   ]
  },
  {
   "cell_type": "markdown",
   "id": "69e01e97",
   "metadata": {},
   "source": [
    "This is incredibly interesting. The reviewer_id is almost nearly unique for each and every row. As we've seen, the average user has left 1.11 reviews in their lifetime. One user has left 68 reviews in his/her lifetime. But it makes sense that a majority of users have exactly 1 review. If the min was a number like 0.5 then we might have an issue because a user cannot leave a fractional review. Let's actually visualize the data."
   ]
  },
  {
   "cell_type": "code",
   "execution_count": 17,
   "id": "cc3092cf",
   "metadata": {},
   "outputs": [
    {
     "data": {
      "image/png": "[encoded data removed]",
      "text/plain": [
       "<Figure size 1000x600 with 1 Axes>"
      ]
     },
     "metadata": {},
     "output_type": "display_data"
    }
   ],
   "source": [
    "figure = plt.figure(figsize=(10, 6))\n",
    "data = airbnbListings['reviewer_id'].value_counts()\n",
    "binwidth = 1\n",
    "axes = figure.add_subplot(1, 1, 1)\n",
    "axes.hist(data, color=\"darkslategray\", bins=range(min(data), min(data) + 10, binwidth))\n",
    "axes.set_title(\"Distribution of reviewer_id count\")\n",
    "axes.set_xlabel(\"reviews per reviewer_id\")\n",
    "\n",
    "plt.show()\n",
    "plt.close()"
   ]
  },
  {
   "cell_type": "markdown",
   "id": "b71cee20",
   "metadata": {},
   "source": [
    "As seen in the distribution before, most users have left only 1 review. A small fraction have left 2-4, and almost none have left 5 or more reviews. This is very interesting, because I would have assumed that most users would leave multiple reviews since it might be common for someone to rent from multiple airbnbs in their lifetime. This could be true. There could be a strong possibility that the sample of all airbnb records was taken at random which could make it unlikely to see a multiple reviews from a user. However this could be proven false due to one user having 85 total reviews."
   ]
  },
  {
   "cell_type": "markdown",
   "id": "2c2c5e81",
   "metadata": {},
   "source": [
    "## reviewer_name\n",
    "\n",
    "The reviewer_name variable refers to just the first name of a given reviewer. It is not unique and there is a high possibility of duplicate values in this row. Given that this data seems to be predominantly from the US, I would expect that the most common names would align with the most common names in the US. The dataset seems to be random enough so that the most common names would not have a regional correlation. Lets find out the most common names."
   ]
  },
  {
   "cell_type": "code",
   "execution_count": 18,
   "id": "d5526797",
   "metadata": {},
   "outputs": [
    {
     "data": {
      "text/plain": [
       "Michael     3329\n",
       "David       3252\n",
       "Sarah       2731\n",
       "John        2640\n",
       "Jennifer    2216\n",
       "Name: reviewer_name, dtype: int64"
      ]
     },
     "execution_count": 18,
     "metadata": {},
     "output_type": "execute_result"
    }
   ],
   "source": [
    "name_count = airbnbListings['reviewer_name'].value_counts()\n",
    "name_count.head()"
   ]
  },
  {
   "cell_type": "markdown",
   "id": "175f249d",
   "metadata": {},
   "source": [
    "Looking at the data, there are 3329 reviewers named Michael, 3252 named David, 2731 named Sarah, etc. This aligns with our assumptions. All these names are popoular names within the US and it makes the most sense that they are the most common names in the database. Let's look at how frequency the average name is."
   ]
  },
  {
   "cell_type": "code",
   "execution_count": 19,
   "id": "7bf3eed8",
   "metadata": {},
   "outputs": [
    {
     "data": {
      "text/plain": [
       "count    51977.000000\n",
       "mean         7.461242\n",
       "std         60.266840\n",
       "min          1.000000\n",
       "25%          1.000000\n",
       "50%          1.000000\n",
       "75%          2.000000\n",
       "max       3329.000000\n",
       "Name: reviewer_name, dtype: float64"
      ]
     },
     "execution_count": 19,
     "metadata": {},
     "output_type": "execute_result"
    }
   ],
   "source": [
    "name_count.describe()"
   ]
  },
  {
   "cell_type": "markdown",
   "id": "a61629b0",
   "metadata": {},
   "source": [
    "On average there are 7 reviews from users with the same first name. As we previously found, the average users leaves 1.11 reviews, so we could conclude that a majority of duplicate names are seperate and distinct people."
   ]
  },
  {
   "cell_type": "markdown",
   "id": "40c8ea19",
   "metadata": {},
   "source": [
    "Instead of plotting the data let's look at the extremes of the dataset to get an idea of the possible values:"
   ]
  },
  {
   "cell_type": "code",
   "execution_count": 20,
   "id": "99931cee",
   "metadata": {},
   "outputs": [
    {
     "data": {
      "text/plain": [
       "Michael                3329\n",
       "David                  3252\n",
       "Sarah                  2731\n",
       "John                   2640\n",
       "Jennifer               2216\n",
       "                       ... \n",
       "Aaron &Amp; Shellie       1\n",
       "Tsuchimoto                1\n",
       "Efrosini                  1\n",
       "Tyris                     1\n",
       "Ebuwa                     1\n",
       "Name: reviewer_name, Length: 51967, dtype: int64"
      ]
     },
     "execution_count": 20,
     "metadata": {},
     "output_type": "execute_result"
    }
   ],
   "source": [
    "name_count.head(-10)"
   ]
  },
  {
   "cell_type": "markdown",
   "id": "c7295e8a",
   "metadata": {},
   "source": [
    "The most frequent names in the dataset are not of concern. However it is extremely concerning looking at the least common names in the dataset. I cannot make any sense of the name 'Aaron &Amp; Shellie'. Maybe the user made a mistake when inputting their name. This might be hard to believe because there are typically checks before a user can make an account. Mayber there was an error in reading in the data to the database. The other names could infer that not all the data collected is from US locations."
   ]
  },
  {
   "cell_type": "markdown",
   "id": "58e49322",
   "metadata": {},
   "source": [
    "## comments\n",
    "\n",
    "The comment variable refers to the comment that was actually left in the review. The value should be a short description of the reviewers experience in the associated listing. There should not be any empty values because it would not make any sense to leave an empty review. There may be a few duplicates however I expect to see nearly all the values to be unique."
   ]
  },
  {
   "cell_type": "code",
   "execution_count": 21,
   "id": "630668ef",
   "metadata": {},
   "outputs": [
    {
     "data": {
      "text/plain": [
       "Great place!       476\n",
       "Great stay!        415\n",
       ".                  400\n",
       "Great place        396\n",
       "Great location!    379\n",
       "Name: comments, dtype: int64"
      ]
     },
     "execution_count": 21,
     "metadata": {},
     "output_type": "execute_result"
    }
   ],
   "source": [
    "comment_count = airbnbListings['comments'].value_counts()\n",
    "comment_count.head()"
   ]
  },
  {
   "cell_type": "markdown",
   "id": "46ae0d33",
   "metadata": {},
   "source": [
    "As we expected, there are plenty of duplicate values in our database. The most common occurences are \"Great place!\", \"Great stay!\", \"Great place\", \"Great Location\". It is reassuring to see that the most common comments are predominantly positive. It would be incredibly concerning to see that the most common comments are negative. Let's actually extend our view to see if we can find the most common negative comment."
   ]
  },
  {
   "cell_type": "code",
   "execution_count": 22,
   "id": "db7b9df4",
   "metadata": {},
   "outputs": [
    {
     "data": {
      "text/plain": [
       "Great place!                                                                                476\n",
       "Great stay!                                                                                 415\n",
       ".                                                                                           400\n",
       "Great place                                                                                 396\n",
       "Great location!                                                                             379\n",
       "Great location                                                                              319\n",
       "Great place to stay!                                                                        288\n",
       "Great stay                                                                                  286\n",
       "Great                                                                                       200\n",
       "Great!                                                                                      198\n",
       "Great place to stay                                                                         179\n",
       "Nice place                                                                                  166\n",
       "Good                                                                                        146\n",
       "Great location.                                                                             142\n",
       "Great place.                                                                                 94\n",
       "Good place                                                                                   91\n",
       "Great place to stay.                                                                         91\n",
       "Great spot!                                                                                  81\n",
       "Nice                                                                                         79\n",
       "Great host                                                                                   73\n",
       "Great host!                                                                                  72\n",
       "N/A                                                                                          70\n",
       "Nice place!                                                                                  66\n",
       "The host canceled this reservation the day before arrival. This is an automated posting.     64\n",
       "Good location                                                                                63\n",
       "Name: comments, dtype: int64"
      ]
     },
     "execution_count": 22,
     "metadata": {},
     "output_type": "execute_result"
    }
   ],
   "source": [
    "comment_count.head(25)"
   ]
  },
  {
   "cell_type": "markdown",
   "id": "cf108ac6",
   "metadata": {},
   "source": [
    "While looking at a larger sample, there are 2 things to note. The first thing to note is the automatic posting which is interesting to see. We might have to remove these automated posts from the database because they is no real person behind the posting. The next thing to notice is that there are 400 comments just containing \".\" and 70 comments just containing \"N/A\". Maybe these are mistakes, but why would a person go through the effor of seding a review if they are not going to say anything. "
   ]
  },
  {
   "cell_type": "markdown",
   "id": "95e717d7",
   "metadata": {},
   "source": [
    "# Pairwise EDA\n",
    "## Price v. ?\n",
    "\n",
    "Since our target variable is Price, we will be analyzing the correlation of price between some of our variables found in reviews. We will not analyze all variables because most of them do not make sense in a final model. The variables we will analyze include:\n",
    "\n",
    "* source_name\n",
    "* date\n",
    "* reviewer_name\n",
    "* comments"
   ]
  },
  {
   "cell_type": "markdown",
   "id": "d20159a5",
   "metadata": {},
   "source": [
    "The price of each Airbnb is not currently in our dataframe. It is also not in the reviews table. It can be found in the listings table. This would mean we need to perform a left join between the reviews table and the listings table so that we can match each review to the listing's associate price."
   ]
  },
  {
   "cell_type": "code",
   "execution_count": 23,
   "id": "94bb6d91",
   "metadata": {},
   "outputs": [],
   "source": [
    "airbnbListings = pd.read_sql_query(\"\"\"\n",
    "\n",
    "SELECT reviews.*, listings.price\n",
    "FROM reviews\n",
    "LEFT JOIN listings\n",
    "ON reviews.listing_id = listings.id;\n",
    "\n",
    "\"\"\", connection)"
   ]
  },
  {
   "cell_type": "code",
   "execution_count": 24,
   "id": "b0217c68",
   "metadata": {},
   "outputs": [
    {
     "name": "stdout",
     "output_type": "stream",
     "text": [
      "Index(['source_name', 'listing_id', 'id', 'date', 'reviewer_id',\n",
      "       'reviewer_name', 'comments', 'price'],\n",
      "      dtype='object')\n"
     ]
    }
   ],
   "source": [
    "airbnbListings = airbnbListings.drop_duplicates(subset='id', keep=\"first\")\n",
    "# List the columns in the reviews table\n",
    "print(airbnbListings.columns)"
   ]
  },
  {
   "cell_type": "markdown",
   "id": "45704112",
   "metadata": {},
   "source": [
    "Let's verify that the join has been done correctly, we should expect to see the same number of entries as before."
   ]
  },
  {
   "cell_type": "code",
   "execution_count": 25,
   "id": "a7334822",
   "metadata": {},
   "outputs": [
    {
     "name": "stdout",
     "output_type": "stream",
     "text": [
      "<class 'pandas.core.frame.DataFrame'>\n",
      "Int64Index: 387813 entries, 0 to 4783891\n",
      "Data columns (total 8 columns):\n",
      " #   Column         Non-Null Count   Dtype \n",
      "---  ------         --------------   ----- \n",
      " 0   source_name    387813 non-null  object\n",
      " 1   listing_id     387813 non-null  int64 \n",
      " 2   id             387813 non-null  int64 \n",
      " 3   date           387813 non-null  object\n",
      " 4   reviewer_id    387813 non-null  int64 \n",
      " 5   reviewer_name  387813 non-null  object\n",
      " 6   comments       387813 non-null  object\n",
      " 7   price          387813 non-null  object\n",
      "dtypes: int64(3), object(5)\n",
      "memory usage: 26.6+ MB\n"
     ]
    }
   ],
   "source": [
    "airbnbListings.info()"
   ]
  },
  {
   "cell_type": "markdown",
   "id": "031bc946",
   "metadata": {},
   "source": [
    "As we can see there is still 387813 rows in the dataframe which means no rows have been added or removed. This means we have performed a successful join operation. Let's make sure the price column has been populated though."
   ]
  },
  {
   "cell_type": "code",
   "execution_count": 26,
   "id": "d71366ea",
   "metadata": {},
   "outputs": [
    {
     "data": {
      "text/html": [
       "<div>\n",
       "<style scoped>\n",
       "    .dataframe tbody tr th:only-of-type {\n",
       "        vertical-align: middle;\n",
       "    }\n",
       "\n",
       "    .dataframe tbody tr th {\n",
       "        vertical-align: top;\n",
       "    }\n",
       "\n",
       "    .dataframe thead th {\n",
       "        text-align: right;\n",
       "    }\n",
       "</style>\n",
       "<table border=\"1\" class=\"dataframe\">\n",
       "  <thead>\n",
       "    <tr style=\"text-align: right;\">\n",
       "      <th></th>\n",
       "      <th>source_name</th>\n",
       "      <th>listing_id</th>\n",
       "      <th>id</th>\n",
       "      <th>date</th>\n",
       "      <th>reviewer_id</th>\n",
       "      <th>reviewer_name</th>\n",
       "      <th>comments</th>\n",
       "      <th>price</th>\n",
       "    </tr>\n",
       "  </thead>\n",
       "  <tbody>\n",
       "    <tr>\n",
       "      <th>0</th>\n",
       "      <td>reviews_3_2023</td>\n",
       "      <td>3686</td>\n",
       "      <td>131293</td>\n",
       "      <td>2010-11-01</td>\n",
       "      <td>257234</td>\n",
       "      <td>Callie</td>\n",
       "      <td>Staying with Levita and her wonderful family w...</td>\n",
       "      <td>$67.00</td>\n",
       "    </tr>\n",
       "    <tr>\n",
       "      <th>4</th>\n",
       "      <td>reviews_3_2023</td>\n",
       "      <td>3686</td>\n",
       "      <td>150766</td>\n",
       "      <td>2010-12-08</td>\n",
       "      <td>255888</td>\n",
       "      <td>Patrick</td>\n",
       "      <td>Vita is a very welcoming, helpful and friendly...</td>\n",
       "      <td>$67.00</td>\n",
       "    </tr>\n",
       "    <tr>\n",
       "      <th>8</th>\n",
       "      <td>reviews_3_2023</td>\n",
       "      <td>3686</td>\n",
       "      <td>177749</td>\n",
       "      <td>2011-02-02</td>\n",
       "      <td>366688</td>\n",
       "      <td>Benjamin</td>\n",
       "      <td>This was my first time using \"airbnb\" and it m...</td>\n",
       "      <td>$67.00</td>\n",
       "    </tr>\n",
       "    <tr>\n",
       "      <th>12</th>\n",
       "      <td>reviews_3_2023</td>\n",
       "      <td>3686</td>\n",
       "      <td>197451</td>\n",
       "      <td>2011-03-12</td>\n",
       "      <td>213492</td>\n",
       "      <td>T.J.</td>\n",
       "      <td>First, Vita saved my work week by providing me...</td>\n",
       "      <td>$67.00</td>\n",
       "    </tr>\n",
       "    <tr>\n",
       "      <th>16</th>\n",
       "      <td>reviews_3_2023</td>\n",
       "      <td>3686</td>\n",
       "      <td>213212</td>\n",
       "      <td>2011-03-30</td>\n",
       "      <td>428455</td>\n",
       "      <td>Pete</td>\n",
       "      <td>Great host! Very welcoming and organised. I st...</td>\n",
       "      <td>$67.00</td>\n",
       "    </tr>\n",
       "  </tbody>\n",
       "</table>\n",
       "</div>"
      ],
      "text/plain": [
       "       source_name  listing_id      id        date  reviewer_id reviewer_name  \\\n",
       "0   reviews_3_2023        3686  131293  2010-11-01       257234        Callie   \n",
       "4   reviews_3_2023        3686  150766  2010-12-08       255888       Patrick   \n",
       "8   reviews_3_2023        3686  177749  2011-02-02       366688      Benjamin   \n",
       "12  reviews_3_2023        3686  197451  2011-03-12       213492          T.J.   \n",
       "16  reviews_3_2023        3686  213212  2011-03-30       428455          Pete   \n",
       "\n",
       "                                             comments   price  \n",
       "0   Staying with Levita and her wonderful family w...  $67.00  \n",
       "4   Vita is a very welcoming, helpful and friendly...  $67.00  \n",
       "8   This was my first time using \"airbnb\" and it m...  $67.00  \n",
       "12  First, Vita saved my work week by providing me...  $67.00  \n",
       "16  Great host! Very welcoming and organised. I st...  $67.00  "
      ]
     },
     "execution_count": 26,
     "metadata": {},
     "output_type": "execute_result"
    }
   ],
   "source": [
    "airbnbListings.head()"
   ]
  },
  {
   "cell_type": "markdown",
   "id": "9433fb03",
   "metadata": {},
   "source": [
    "As we can see, the price column has been successfully populated, we can now perform pairwise EDA now that all of our variables are listed in the same dataframe."
   ]
  },
  {
   "cell_type": "markdown",
   "id": "f65f54c0",
   "metadata": {},
   "source": [
    "## prices v. source_name\n",
    "\n",
    "As we have seen previously, source_name is a categorical variable with four possible values. It denotes what sheet the reviews is referenced from when it is read into the database."
   ]
  },
  {
   "cell_type": "code",
   "execution_count": 27,
   "id": "c88bac18",
   "metadata": {},
   "outputs": [
    {
     "name": "stdout",
     "output_type": "stream",
     "text": [
      "source_name reviews_12_2022 reviews_3_2023 reviews_6_2022 reviews_9_2022\n",
      "count                 15954         330237          14613          27009\n",
      "unique                  173            470            186            227\n",
      "top                 $192.00        $100.00        $118.00        $150.00\n",
      "freq                   1813          13156            526           1044\n"
     ]
    }
   ],
   "source": [
    "def describe_by_category(data, numeric, categorical, transpose=False):\n",
    "    grouped = data.groupby(categorical)\n",
    "    grouped_y = grouped[numeric].describe()\n",
    "    if transpose:\n",
    "        print(grouped_y.transpose())\n",
    "    else:\n",
    "        print(grouped_y)\n",
    "        \n",
    "describe_by_category(airbnbListings, \"price\", \"source_name\", transpose=True)"
   ]
  },
  {
   "cell_type": "markdown",
   "id": "f77f7c7b",
   "metadata": {},
   "source": [
    "It's hard to draw any conclusions from the data above. It may suggest there is a uniform distribution of price across each source_name. Lets be sure and plot the data."
   ]
  },
  {
   "cell_type": "code",
   "execution_count": 28,
   "id": "388b6ad8",
   "metadata": {},
   "outputs": [],
   "source": [
    "def categorise(row):  \n",
    "    data = row['price']\n",
    "    \n",
    "    data = data.replace(\"$\",\"\").replace(\",\",\"\")\n",
    "    \n",
    "    return float(data)\n",
    "\n",
    "airbnbListings['price_int'] = airbnbListings.apply(lambda row: categorise(row), axis=1)\n",
    "\n",
    "grouped = airbnbListings.groupby(\"source_name\")\n"
   ]
  },
  {
   "cell_type": "code",
   "execution_count": 29,
   "id": "75bb226f",
   "metadata": {},
   "outputs": [
    {
     "data": {
      "image/png": "[encoded data removed]",
      "text/plain": [
       "<Figure size 2000x1000 with 4 Axes>"
      ]
     },
     "metadata": {},
     "output_type": "display_data"
    }
   ],
   "source": [
    "figure = plt.figure(figsize=(20, 10))\n",
    "binwidth = 5\n",
    "axes = figure.add_subplot(2, 2, 1)\n",
    "axes.hist(grouped[\"price_int\"].get_group(\"reviews_12_2022\"),bins=range(0, 125, binwidth),color=\"darkslategray\",density=True)\n",
    "axes.set_title(\"Price distribution - reviews_12_2022\")\n",
    "axes.set_xlabel(\"Price\")\n",
    "\n",
    "\n",
    "axes = figure.add_subplot(2, 2, 2)\n",
    "axes.hist(grouped[\"price_int\"].get_group(\"reviews_3_2023\"),bins=range(0, 125, binwidth),color=\"darkslategray\",density=True)\n",
    "axes.set_title(\"Price distribution - reviews_3_2022\")\n",
    "axes.set_xlabel(\"Price\")\n",
    "\n",
    "\n",
    "axes = figure.add_subplot(2, 2, 3)\n",
    "axes.hist(grouped[\"price_int\"].get_group(\"reviews_9_2022\"),bins=range(0, 125, binwidth),color=\"darkslategray\",density=True)\n",
    "axes.set_title(\"Price distribution - reviews_9_2022\")\n",
    "axes.set_xlabel(\"Price\")\n",
    "\n",
    "\n",
    "axes = figure.add_subplot(2, 2, 4)\n",
    "axes.hist(grouped[\"price_int\"].get_group(\"reviews_6_2022\"),bins=range(0, 125, binwidth),color=\"darkslategray\",density=True)\n",
    "axes.set_title(\"Price distribution - reviews_6_2022\")\n",
    "axes.set_xlabel(\"Price\")\n",
    "\n",
    "\n",
    "plt.show()\n",
    "plt.close()"
   ]
  },
  {
   "cell_type": "markdown",
   "id": "da190a4a",
   "metadata": {},
   "source": [
    "Looking at the plots it appears that each distribution is incredibly similar to the others. There are subtle differences but the distributions are all incredibly similar. This would suggest that there is no strong correlation between prices and source of the review. This makes sense because we are assuming we are adding random data to the dataframe so it's source file should not have a severe correlation with price."
   ]
  },
  {
   "cell_type": "markdown",
   "id": "5fa237c5",
   "metadata": {},
   "source": [
    "## prices v. date\n",
    "\n",
    "As we have previously noted, date can be a confusing variable. It was assumed that date would be between 2022 and 2023 because we were looking at the data from the past year. However, date extends nearly 10 years. Since it is so sparse, we will look at date vs year. This will make it slightly easier to plot. Let's look first at correlation coefficients even though the relationship may not be linear or monotonic."
   ]
  },
  {
   "cell_type": "code",
   "execution_count": 30,
   "id": "d4b61979",
   "metadata": {},
   "outputs": [],
   "source": [
    "def categorise(row):  \n",
    "    date = row['date']\n",
    "    \n",
    "    date = date.split(\"-\")\n",
    "    \n",
    "    return int(date[0])\n",
    "\n",
    "airbnbListings['date_year'] = airbnbListings.apply(lambda row: categorise(row), axis=1)"
   ]
  },
  {
   "cell_type": "code",
   "execution_count": 31,
   "id": "0c23cd22",
   "metadata": {},
   "outputs": [
    {
     "data": {
      "image/png": "[encoded data removed]",
      "text/plain": [
       "<Figure size 1000x600 with 1 Axes>"
      ]
     },
     "metadata": {},
     "output_type": "display_data"
    }
   ],
   "source": [
    "figure = plt.figure(figsize=(10, 6))\n",
    "\n",
    "axes = figure.add_subplot(1, 1, 1)\n",
    "axes.scatter(airbnbListings.date_year, airbnbListings.price, marker=\"o\", color=\"darkslategray\")\n",
    "y = [0, 250, 500, 750]\n",
    "ticks = ['$0', '$250', '$500', '$750']\n",
    "plt.yticks(y, ticks)\n",
    "axes.set_ylabel(\"Price\")\n",
    "axes.set_xlabel(\"Date of Review\")\n",
    "axes.set_title(\"Scatter Plot of Price vs. Date of Review\")\n",
    "\n",
    "plt.show()\n",
    "plt.close()"
   ]
  },
  {
   "cell_type": "markdown",
   "id": "f9efc6a1",
   "metadata": {},
   "source": [
    "There appears to be a small correlation between date of review and the price. The plot above would suggest that max price would increase as the year increases. It needs to be noted that this is the max price. This plot is not suggestive of the average price. Since we cannot make any strong conclusion about the average price based on year, it may not be a great variable for our final model. "
   ]
  },
  {
   "cell_type": "markdown",
   "id": "33d957d1",
   "metadata": {},
   "source": [
    "## prices v. reviewer_name\n",
    "\n",
    "As we have seen previously, reviewer_name is an interesting variable because repeat names could be duplicates however, it is fairly unlikely. It may be tough to plot any relationship between name and prices due to how many unique values there are. We may need to split the dataframe up and plot only certain variables."
   ]
  },
  {
   "cell_type": "code",
   "execution_count": 32,
   "id": "92eeda45",
   "metadata": {},
   "outputs": [
    {
     "name": "stdout",
     "output_type": "stream",
     "text": [
      "reviewer_name      123 #Viajan2   'Hafie (Angela) Yun (Elijah) Rajeev  \\\n",
      "count                1        1        1            1               1   \n",
      "unique               1        1        1            1               1   \n",
      "top            $299.00   $49.00  $105.00      $490.00         $103.00   \n",
      "freq                 1        1        1            1               1   \n",
      "\n",
      "reviewer_name (Email Hidden By Airbnb) (Email Hidden By Airbnb)Miguel  \\\n",
      "count                                2                              1   \n",
      "unique                               2                              1   \n",
      "top                            $119.00                         $80.00   \n",
      "freq                                 1                              1   \n",
      "\n",
      "reviewer_name (Email hidden by Airbnb) (Emily) Rae (Frances) Anne  ...  \\\n",
      "count                                5           1              1  ...   \n",
      "unique                               5           1              1  ...   \n",
      "top                            $175.00     $250.00         $65.00  ...   \n",
      "freq                                 1           1              1  ...   \n",
      "\n",
      "reviewer_name        휘        희      희경      희승       희영       희진       희찬  \\\n",
      "count                1        1       1       1        1        1        1   \n",
      "unique               1        1       1       1        1        1        1   \n",
      "top            $113.00  $100.00  $60.00  $59.00  $107.00  $107.00  $115.00   \n",
      "freq                 1        1       1       1        1        1        1   \n",
      "\n",
      "reviewer_name       희철     Ｍｉng     ｡｡｡  \n",
      "count                1        1       1  \n",
      "unique               1        1       1  \n",
      "top            $106.00  $110.00  $70.00  \n",
      "freq                 1        1       1  \n",
      "\n",
      "[4 rows x 51977 columns]\n"
     ]
    }
   ],
   "source": [
    "def describe_by_category(data, numeric, categorical, transpose=False):\n",
    "    grouped = data.groupby(categorical)\n",
    "    grouped_y = grouped[numeric].describe()\n",
    "    if transpose:\n",
    "        print(grouped_y.transpose())\n",
    "    else:\n",
    "        print(grouped_y)\n",
    "        \n",
    "describe_by_category(airbnbListings, \"price\", \"reviewer_name\", transpose=True)"
   ]
  },
  {
   "cell_type": "markdown",
   "id": "5e627d9e",
   "metadata": {},
   "source": [
    "Looking at the data provided above, there seems to be no correlation between reviewer name and the price of the listing they paid for. For names with a high frequencey such as Sara, the price seems to be closer to the mean but I believe this can be explained by regression. More samples suggests that the price would get closer and closer to our expected mean. I do not believe any chart could make any other suggestions about possible correlations for our final model."
   ]
  },
  {
   "cell_type": "markdown",
   "id": "225446d2",
   "metadata": {},
   "source": [
    "## prices v. comments\n",
    "\n",
    "The variable comments is very similar to what we found for reviewer name. It is predominantly unique values, however there are a significant number of duplicates. It may be tough to plot any relationship between comments and prices due to how many unique values there are. We may need to split the dataframe up and plot only certain variables."
   ]
  },
  {
   "cell_type": "code",
   "execution_count": 33,
   "id": "afa1d6e8",
   "metadata": {},
   "outputs": [
    {
     "name": "stdout",
     "output_type": "stream",
     "text": [
      "comments        0        1     3.5      4.5  \\\n",
      "count           1        2       1        1   \n",
      "unique          1        2       1        1   \n",
      "top       $183.00  $110.00  $44.00  $207.00   \n",
      "freq            1        1       1        1   \n",
      "\n",
      "comments \\n<br/>\\n<br/>\\n<br/> \\n<br/>\\n<br/>We had an excellent stay in DC, a big part of it thanks to our lovely host and her historic home.  We truly felt like Washingtonians and enjoyed exploring the neighborhood and fun and funky H Street.  Mary spoiled us with Asian doughnuts for breakfast, she provided a parking permit for our rental car, and was available for anything we needed in the classy way of never being in your way.  We’ll definitely recommend her to anyone travelling to the capital.   \\\n",
      "count                                                     1                                                                                                                                                                                                                                                                                                                                                                                                                                                                \n",
      "unique                                                    1                                                                                                                                                                                                                                                                                                                                                                                                                                                                \n",
      "top                                                 $118.00                                                                                                                                                                                                                                                                                                                                                                                                                                                                \n",
      "freq                                                      1                                                                                                                                                                                                                                                                                                                                                                                                                                                                \n",
      "\n",
      "comments \\n<br/> Highly recommended. Very comfortable dwelling. Tall ceilings, good air and light. Various snacks, drinks, cereals, yogurts to make you feel welcome. Yet wait, there is more; morning muffins which we very much appreciated. The \"hostess with the mostess; very responsive, receptive, kind. Comfortable neighborhood. If and when we visit DC again Takoma Bliss is on top of the list.  \\\n",
      "count                                                     1                                                                                                                                                                                                                                                                                                                                                   \n",
      "unique                                                    1                                                                                                                                                                                                                                                                                                                                                   \n",
      "top                                                 $147.00                                                                                                                                                                                                                                                                                                                                                   \n",
      "freq                                                      1                                                                                                                                                                                                                                                                                                                                                   \n",
      "\n",
      "comments \\n<br/>Alexandra was very nice, the apt was just as described and the location convenient enough for us to walk to most places we needed to go. It was very clean and stocked with basic pantry items, pots/pans with everything you would need to cook. Bed was comfortable and bathroom spotless, I would stay there again for sure.  \\\n",
      "count                                                     1                                                                                                                                                                                                                                                                                       \n",
      "unique                                                    1                                                                                                                                                                                                                                                                                       \n",
      "top                                                 $110.00                                                                                                                                                                                                                                                                                       \n",
      "freq                                                      1                                                                                                                                                                                                                                                                                       \n",
      "\n",
      "comments \\n<br/>All as advertised. Supportive host. I found location convenient though I used a car, so can be biased a little.\\n<br/>  \\\n",
      "count                                                     1                                                                              \n",
      "unique                                                    1                                                                              \n",
      "top                                                  $64.00                                                                              \n",
      "freq                                                      1                                                                              \n",
      "\n",
      "comments \\n<br/>Everything about the listing is exactly as described. I loved the quaint neighborhood, the outdoor space and the apartment itself. Perfect!   \\\n",
      "count                                                     1                                                                                                    \n",
      "unique                                                    1                                                                                                    \n",
      "top                                                  $80.00                                                                                                    \n",
      "freq                                                      1                                                                                                    \n",
      "\n",
      "comments \\n<br/>Everything was spot on perfect. Comfort, convenience, cleanliness, charm, location. Jim seems to have covered every detail quite nicely, including all the great magazines, maps and brochures. Highly recommended!    \\\n",
      "count                                                     1                                                                                                                                                                             \n",
      "unique                                                    1                                                                                                                                                                             \n",
      "top                                                 $155.00                                                                                                                                                                             \n",
      "freq                                                      1                                                                                                                                                                             \n",
      "\n",
      "comments  ...        🤍     🤗👌🏾       🤙🏼  🤞🏿🤞🏿👌🏿 🤩 🙏🏾💯💎🔥💪🏾👌🏾    🤷🏽‍♂️       🥰👍  \\\n",
      "count     ...        1       1        1       1           1        1        1   \n",
      "unique    ...        1       1        1       1           1        1        1   \n",
      "top       ...  $105.00  $48.00  $101.00  $44.00     $108.00  $294.00  $150.00   \n",
      "freq      ...        1       1        1       1           1        1        1   \n",
      "\n",
      "comments      🥰🥰🥰  \\\n",
      "count           1   \n",
      "unique          1   \n",
      "top       $136.00   \n",
      "freq            1   \n",
      "\n",
      "comments 🥳💕My family and I really enjoyed Janice's place!!  Definitely better than the pictures!  Thank you Janice for the great communication and awesome hospitality at your place!  \\\n",
      "count                                                     1                                                                                                                             \n",
      "unique                                                    1                                                                                                                             \n",
      "top                                                 $391.00                                                                                                                             \n",
      "freq                                                      1                                                                                                                             \n",
      "\n",
      "comments       🧐  \n",
      "count          1  \n",
      "unique         1  \n",
      "top       $60.00  \n",
      "freq           1  \n",
      "\n",
      "[4 rows x 374287 columns]\n"
     ]
    }
   ],
   "source": [
    "def describe_by_category(data, numeric, categorical, transpose=False):\n",
    "    grouped = data.groupby(categorical)\n",
    "    grouped_y = grouped[numeric].describe()\n",
    "    if transpose:\n",
    "        print(grouped_y.transpose())\n",
    "    else:\n",
    "        print(grouped_y)\n",
    "        \n",
    "describe_by_category(airbnbListings, \"price\", \"comments\", transpose=True)"
   ]
  },
  {
   "cell_type": "markdown",
   "id": "27ca7378",
   "metadata": {},
   "source": [
    "Looking at the data provided above, there seems to be no correlation between comment and the price of the listing they paid for. For comments with a high frequencey such as 🧐, the price seems to be closer to the mean but I believe this can be explained by regression. More samples suggests that the price would get closer and closer to our expected mean. I do not believe any chart could make any other suggestions about possible correlations for our final model."
   ]
  }
 ],
 "metadata": {
  "kernelspec": {
   "display_name": "Python 3 (ipykernel)",
   "language": "python",
   "name": "python3"
  },
  "language_info": {
   "codemirror_mode": {
    "name": "ipython",
    "version": 3
   },
   "file_extension": ".py",
   "mimetype": "text/x-python",
   "name": "python",
   "nbconvert_exporter": "python",
   "pygments_lexer": "ipython3",
   "version": "3.9.16"
  }
 },
 "nbformat": 4,
 "nbformat_minor": 5
}
