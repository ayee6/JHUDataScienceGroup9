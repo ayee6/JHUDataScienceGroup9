{
 "cells": [
  {
   "cell_type": "markdown",
   "id": "8959df39",
   "metadata": {},
   "source": [
    "## EDA"
   ]
  },
  {
   "cell_type": "code",
   "execution_count": 48,
   "id": "2b7a1969",
   "metadata": {},
   "outputs": [],
   "source": [
    "import sqlite3\n",
    "import pandas as pd\n",
    "import numpy as np\n",
    "import seaborn as sns\n",
    "import matplotlib.pyplot as plt"
   ]
  },
  {
   "cell_type": "code",
   "execution_count": 96,
   "id": "54ce3e00",
   "metadata": {},
   "outputs": [],
   "source": [
    "connection = sqlite3.connect('airbnb.db')"
   ]
  },
  {
   "cell_type": "code",
   "execution_count": 97,
   "id": "124e1b2b",
   "metadata": {},
   "outputs": [],
   "source": [
    "airbnbDF = pd.read_sql_query(\"SELECT * FROM airbnb_view\", connection)"
   ]
  },
  {
   "cell_type": "code",
   "execution_count": 98,
   "id": "fadd10b7",
   "metadata": {},
   "outputs": [
    {
     "data": {
      "text/html": [
       "<div>\n",
       "<style scoped>\n",
       "    .dataframe tbody tr th:only-of-type {\n",
       "        vertical-align: middle;\n",
       "    }\n",
       "\n",
       "    .dataframe tbody tr th {\n",
       "        vertical-align: top;\n",
       "    }\n",
       "\n",
       "    .dataframe thead th {\n",
       "        text-align: right;\n",
       "    }\n",
       "</style>\n",
       "<table border=\"1\" class=\"dataframe\">\n",
       "  <thead>\n",
       "    <tr style=\"text-align: right;\">\n",
       "      <th></th>\n",
       "      <th>listing_id</th>\n",
       "      <th>MAX(date)</th>\n",
       "      <th>available</th>\n",
       "      <th>price</th>\n",
       "      <th>adjusted_price</th>\n",
       "      <th>minimum_nights</th>\n",
       "      <th>maximum_nights</th>\n",
       "      <th>source_name</th>\n",
       "      <th>id</th>\n",
       "      <th>MAX(last_scraped)</th>\n",
       "      <th>...</th>\n",
       "      <th>review_scores_communication</th>\n",
       "      <th>review_scores_location</th>\n",
       "      <th>review_scores_value</th>\n",
       "      <th>license</th>\n",
       "      <th>instant_bookable</th>\n",
       "      <th>calculated_host_listings_count</th>\n",
       "      <th>calculated_host_listings_count_entire_homes</th>\n",
       "      <th>calculated_host_listings_count_private_rooms</th>\n",
       "      <th>calculated_host_listings_count_shared_rooms</th>\n",
       "      <th>reviews_per_month</th>\n",
       "    </tr>\n",
       "  </thead>\n",
       "  <tbody>\n",
       "    <tr>\n",
       "      <th>0</th>\n",
       "      <td>3571</td>\n",
       "      <td>2023-09-13</td>\n",
       "      <td>t</td>\n",
       "      <td>$200.00</td>\n",
       "      <td>$200.00</td>\n",
       "      <td>90</td>\n",
       "      <td>730</td>\n",
       "      <td>calendar_9_2022</td>\n",
       "      <td>3571</td>\n",
       "      <td>2022-09-14</td>\n",
       "      <td>...</td>\n",
       "      <td>4.83</td>\n",
       "      <td>4.83</td>\n",
       "      <td>4.67</td>\n",
       "      <td></td>\n",
       "      <td>f</td>\n",
       "      <td>1</td>\n",
       "      <td>1</td>\n",
       "      <td>0</td>\n",
       "      <td>0</td>\n",
       "      <td>0.06</td>\n",
       "    </tr>\n",
       "    <tr>\n",
       "      <th>1</th>\n",
       "      <td>3686</td>\n",
       "      <td>2024-03-17</td>\n",
       "      <td>t</td>\n",
       "      <td>$67.00</td>\n",
       "      <td>$67.00</td>\n",
       "      <td>31</td>\n",
       "      <td>365</td>\n",
       "      <td>calendar_3_2023</td>\n",
       "      <td>3686</td>\n",
       "      <td>2023-03-19</td>\n",
       "      <td>...</td>\n",
       "      <td>4.83</td>\n",
       "      <td>3.86</td>\n",
       "      <td>4.62</td>\n",
       "      <td></td>\n",
       "      <td>f</td>\n",
       "      <td>1</td>\n",
       "      <td>0</td>\n",
       "      <td>1</td>\n",
       "      <td>0</td>\n",
       "      <td>0.54</td>\n",
       "    </tr>\n",
       "    <tr>\n",
       "      <th>2</th>\n",
       "      <td>3943</td>\n",
       "      <td>2024-03-17</td>\n",
       "      <td>t</td>\n",
       "      <td>$85.00</td>\n",
       "      <td>$85.00</td>\n",
       "      <td>1</td>\n",
       "      <td>1125</td>\n",
       "      <td>calendar_3_2023</td>\n",
       "      <td>3943</td>\n",
       "      <td>2023-03-19</td>\n",
       "      <td>...</td>\n",
       "      <td>4.9</td>\n",
       "      <td>4.57</td>\n",
       "      <td>4.74</td>\n",
       "      <td>Hosted License: 5007242201001033</td>\n",
       "      <td>f</td>\n",
       "      <td>5</td>\n",
       "      <td>0</td>\n",
       "      <td>5</td>\n",
       "      <td>0</td>\n",
       "      <td>2.7</td>\n",
       "    </tr>\n",
       "    <tr>\n",
       "      <th>3</th>\n",
       "      <td>4197</td>\n",
       "      <td>2024-03-17</td>\n",
       "      <td>t</td>\n",
       "      <td>$90.00</td>\n",
       "      <td>$90.00</td>\n",
       "      <td>14</td>\n",
       "      <td>1125</td>\n",
       "      <td>calendar_3_2023</td>\n",
       "      <td>4197</td>\n",
       "      <td>2023-03-19</td>\n",
       "      <td>...</td>\n",
       "      <td>4.98</td>\n",
       "      <td>4.96</td>\n",
       "      <td>4.94</td>\n",
       "      <td>Hosted License: 5007242201000749</td>\n",
       "      <td>f</td>\n",
       "      <td>1</td>\n",
       "      <td>0</td>\n",
       "      <td>1</td>\n",
       "      <td>0</td>\n",
       "      <td>0.31</td>\n",
       "    </tr>\n",
       "    <tr>\n",
       "      <th>4</th>\n",
       "      <td>4373</td>\n",
       "      <td>2023-09-13</td>\n",
       "      <td>t</td>\n",
       "      <td>$40.00</td>\n",
       "      <td>$40.00</td>\n",
       "      <td>28</td>\n",
       "      <td>1125</td>\n",
       "      <td>calendar_9_2022</td>\n",
       "      <td>4373</td>\n",
       "      <td>2022-09-14</td>\n",
       "      <td>...</td>\n",
       "      <td>4.86</td>\n",
       "      <td>4.81</td>\n",
       "      <td>4.71</td>\n",
       "      <td></td>\n",
       "      <td>f</td>\n",
       "      <td>2</td>\n",
       "      <td>0</td>\n",
       "      <td>2</td>\n",
       "      <td>0</td>\n",
       "      <td>0.14</td>\n",
       "    </tr>\n",
       "    <tr>\n",
       "      <th>...</th>\n",
       "      <td>...</td>\n",
       "      <td>...</td>\n",
       "      <td>...</td>\n",
       "      <td>...</td>\n",
       "      <td>...</td>\n",
       "      <td>...</td>\n",
       "      <td>...</td>\n",
       "      <td>...</td>\n",
       "      <td>...</td>\n",
       "      <td>...</td>\n",
       "      <td>...</td>\n",
       "      <td>...</td>\n",
       "      <td>...</td>\n",
       "      <td>...</td>\n",
       "      <td>...</td>\n",
       "      <td>...</td>\n",
       "      <td>...</td>\n",
       "      <td>...</td>\n",
       "      <td>...</td>\n",
       "      <td>...</td>\n",
       "      <td>...</td>\n",
       "    </tr>\n",
       "    <tr>\n",
       "      <th>8621</th>\n",
       "      <td>849293688249908869</td>\n",
       "      <td>2024-03-17</td>\n",
       "      <td>t</td>\n",
       "      <td>$215.00</td>\n",
       "      <td>$215.00</td>\n",
       "      <td>1</td>\n",
       "      <td>365</td>\n",
       "      <td>calendar_3_2023</td>\n",
       "      <td>849293688249908869</td>\n",
       "      <td>2023-03-19</td>\n",
       "      <td>...</td>\n",
       "      <td></td>\n",
       "      <td></td>\n",
       "      <td></td>\n",
       "      <td>Hosted License: 5007242201002035</td>\n",
       "      <td>f</td>\n",
       "      <td>5</td>\n",
       "      <td>1</td>\n",
       "      <td>4</td>\n",
       "      <td>0</td>\n",
       "      <td></td>\n",
       "    </tr>\n",
       "    <tr>\n",
       "      <th>8622</th>\n",
       "      <td>849304474004984024</td>\n",
       "      <td>2024-03-17</td>\n",
       "      <td>f</td>\n",
       "      <td>$602.00</td>\n",
       "      <td>$602.00</td>\n",
       "      <td>2</td>\n",
       "      <td>365</td>\n",
       "      <td>calendar_3_2023</td>\n",
       "      <td>849304474004984024</td>\n",
       "      <td>2023-03-19</td>\n",
       "      <td>...</td>\n",
       "      <td></td>\n",
       "      <td></td>\n",
       "      <td></td>\n",
       "      <td>Hosted License: 5007242201001806</td>\n",
       "      <td>f</td>\n",
       "      <td>7</td>\n",
       "      <td>4</td>\n",
       "      <td>3</td>\n",
       "      <td>0</td>\n",
       "      <td></td>\n",
       "    </tr>\n",
       "    <tr>\n",
       "      <th>8623</th>\n",
       "      <td>849310766288741827</td>\n",
       "      <td>2024-03-17</td>\n",
       "      <td>t</td>\n",
       "      <td>$173.00</td>\n",
       "      <td>$173.00</td>\n",
       "      <td>30</td>\n",
       "      <td>1125</td>\n",
       "      <td>calendar_3_2023</td>\n",
       "      <td>849310766288741827</td>\n",
       "      <td>2023-03-19</td>\n",
       "      <td>...</td>\n",
       "      <td></td>\n",
       "      <td></td>\n",
       "      <td></td>\n",
       "      <td>Exempt</td>\n",
       "      <td>t</td>\n",
       "      <td>1</td>\n",
       "      <td>1</td>\n",
       "      <td>0</td>\n",
       "      <td>0</td>\n",
       "      <td></td>\n",
       "    </tr>\n",
       "    <tr>\n",
       "      <th>8624</th>\n",
       "      <td>849479534479786096</td>\n",
       "      <td>2024-03-17</td>\n",
       "      <td>t</td>\n",
       "      <td>$84.00</td>\n",
       "      <td>$84.00</td>\n",
       "      <td>1</td>\n",
       "      <td>365</td>\n",
       "      <td>calendar_3_2023</td>\n",
       "      <td>849479534479786096</td>\n",
       "      <td>2023-03-19</td>\n",
       "      <td>...</td>\n",
       "      <td></td>\n",
       "      <td></td>\n",
       "      <td></td>\n",
       "      <td>Exempt</td>\n",
       "      <td>t</td>\n",
       "      <td>45</td>\n",
       "      <td>16</td>\n",
       "      <td>28</td>\n",
       "      <td>1</td>\n",
       "      <td></td>\n",
       "    </tr>\n",
       "    <tr>\n",
       "      <th>8625</th>\n",
       "      <td>849521381332726773</td>\n",
       "      <td>2024-03-17</td>\n",
       "      <td>f</td>\n",
       "      <td>$151.00</td>\n",
       "      <td>$151.00</td>\n",
       "      <td>2</td>\n",
       "      <td>1125</td>\n",
       "      <td>calendar_3_2023</td>\n",
       "      <td>849521381332726773</td>\n",
       "      <td>2023-03-19</td>\n",
       "      <td>...</td>\n",
       "      <td></td>\n",
       "      <td></td>\n",
       "      <td></td>\n",
       "      <td>Hosted License: 5007242201002658</td>\n",
       "      <td>t</td>\n",
       "      <td>1</td>\n",
       "      <td>1</td>\n",
       "      <td>0</td>\n",
       "      <td>0</td>\n",
       "      <td></td>\n",
       "    </tr>\n",
       "  </tbody>\n",
       "</table>\n",
       "<p>8626 rows × 74 columns</p>\n",
       "</div>"
      ],
      "text/plain": [
       "              listing_id   MAX(date) available    price adjusted_price  \\\n",
       "0                   3571  2023-09-13         t  $200.00        $200.00   \n",
       "1                   3686  2024-03-17         t   $67.00         $67.00   \n",
       "2                   3943  2024-03-17         t   $85.00         $85.00   \n",
       "3                   4197  2024-03-17         t   $90.00         $90.00   \n",
       "4                   4373  2023-09-13         t   $40.00         $40.00   \n",
       "...                  ...         ...       ...      ...            ...   \n",
       "8621  849293688249908869  2024-03-17         t  $215.00        $215.00   \n",
       "8622  849304474004984024  2024-03-17         f  $602.00        $602.00   \n",
       "8623  849310766288741827  2024-03-17         t  $173.00        $173.00   \n",
       "8624  849479534479786096  2024-03-17         t   $84.00         $84.00   \n",
       "8625  849521381332726773  2024-03-17         f  $151.00        $151.00   \n",
       "\n",
       "      minimum_nights  maximum_nights      source_name                  id  \\\n",
       "0                 90             730  calendar_9_2022                3571   \n",
       "1                 31             365  calendar_3_2023                3686   \n",
       "2                  1            1125  calendar_3_2023                3943   \n",
       "3                 14            1125  calendar_3_2023                4197   \n",
       "4                 28            1125  calendar_9_2022                4373   \n",
       "...              ...             ...              ...                 ...   \n",
       "8621               1             365  calendar_3_2023  849293688249908869   \n",
       "8622               2             365  calendar_3_2023  849304474004984024   \n",
       "8623              30            1125  calendar_3_2023  849310766288741827   \n",
       "8624               1             365  calendar_3_2023  849479534479786096   \n",
       "8625               2            1125  calendar_3_2023  849521381332726773   \n",
       "\n",
       "     MAX(last_scraped)  ... review_scores_communication  \\\n",
       "0           2022-09-14  ...                        4.83   \n",
       "1           2023-03-19  ...                        4.83   \n",
       "2           2023-03-19  ...                         4.9   \n",
       "3           2023-03-19  ...                        4.98   \n",
       "4           2022-09-14  ...                        4.86   \n",
       "...                ...  ...                         ...   \n",
       "8621        2023-03-19  ...                               \n",
       "8622        2023-03-19  ...                               \n",
       "8623        2023-03-19  ...                               \n",
       "8624        2023-03-19  ...                               \n",
       "8625        2023-03-19  ...                               \n",
       "\n",
       "      review_scores_location review_scores_value  \\\n",
       "0                       4.83                4.67   \n",
       "1                       3.86                4.62   \n",
       "2                       4.57                4.74   \n",
       "3                       4.96                4.94   \n",
       "4                       4.81                4.71   \n",
       "...                      ...                 ...   \n",
       "8621                                               \n",
       "8622                                               \n",
       "8623                                               \n",
       "8624                                               \n",
       "8625                                               \n",
       "\n",
       "                               license instant_bookable  \\\n",
       "0                                                     f   \n",
       "1                                                     f   \n",
       "2     Hosted License: 5007242201001033                f   \n",
       "3     Hosted License: 5007242201000749                f   \n",
       "4                                                     f   \n",
       "...                                ...              ...   \n",
       "8621  Hosted License: 5007242201002035                f   \n",
       "8622  Hosted License: 5007242201001806                f   \n",
       "8623                            Exempt                t   \n",
       "8624                            Exempt                t   \n",
       "8625  Hosted License: 5007242201002658                t   \n",
       "\n",
       "     calculated_host_listings_count  \\\n",
       "0                                 1   \n",
       "1                                 1   \n",
       "2                                 5   \n",
       "3                                 1   \n",
       "4                                 2   \n",
       "...                             ...   \n",
       "8621                              5   \n",
       "8622                              7   \n",
       "8623                              1   \n",
       "8624                             45   \n",
       "8625                              1   \n",
       "\n",
       "      calculated_host_listings_count_entire_homes  \\\n",
       "0                                               1   \n",
       "1                                               0   \n",
       "2                                               0   \n",
       "3                                               0   \n",
       "4                                               0   \n",
       "...                                           ...   \n",
       "8621                                            1   \n",
       "8622                                            4   \n",
       "8623                                            1   \n",
       "8624                                           16   \n",
       "8625                                            1   \n",
       "\n",
       "     calculated_host_listings_count_private_rooms  \\\n",
       "0                                               0   \n",
       "1                                               1   \n",
       "2                                               5   \n",
       "3                                               1   \n",
       "4                                               2   \n",
       "...                                           ...   \n",
       "8621                                            4   \n",
       "8622                                            3   \n",
       "8623                                            0   \n",
       "8624                                           28   \n",
       "8625                                            0   \n",
       "\n",
       "     calculated_host_listings_count_shared_rooms reviews_per_month  \n",
       "0                                              0              0.06  \n",
       "1                                              0              0.54  \n",
       "2                                              0               2.7  \n",
       "3                                              0              0.31  \n",
       "4                                              0              0.14  \n",
       "...                                          ...               ...  \n",
       "8621                                           0                    \n",
       "8622                                           0                    \n",
       "8623                                           0                    \n",
       "8624                                           1                    \n",
       "8625                                           0                    \n",
       "\n",
       "[8626 rows x 74 columns]"
      ]
     },
     "execution_count": 98,
     "metadata": {},
     "output_type": "execute_result"
    }
   ],
   "source": [
    "airbnbDF"
   ]
  },
  {
   "cell_type": "markdown",
   "id": "239862b1",
   "metadata": {},
   "source": [
    "## Single Variable EDA"
   ]
  },
  {
   "cell_type": "markdown",
   "id": "870087b3",
   "metadata": {},
   "source": [
    "## Neighbourhood"
   ]
  },
  {
   "cell_type": "markdown",
   "id": "08e57bd7",
   "metadata": {},
   "source": [
    "Neighbourhood is a categorical variable which represents the neighbourhood that the Airbnb listings resides in. Domain knowledge would lead us to believe that it affects the price of an Airbnb where desirable and in-demand neighbourhoods would have higher prices and neighbourhoods with less to do and higher crime rate would have lower prices."
   ]
  },
  {
   "cell_type": "code",
   "execution_count": 107,
   "id": "c05a68f6",
   "metadata": {},
   "outputs": [],
   "source": [
    "tempDF = airbnbDF\n",
    "tempDF[\"neighbourhood\"].replace('', np.nan, inplace=True)\n",
    "tempDF.dropna(subset=['neighbourhood'], inplace=True)"
   ]
  },
  {
   "cell_type": "code",
   "execution_count": 109,
   "id": "50cb04d7",
   "metadata": {},
   "outputs": [
    {
     "data": {
      "text/plain": [
       "count                                                5551\n",
       "unique                                                 31\n",
       "top       Washington, District of Columbia, United States\n",
       "freq                                                 5032\n",
       "Name: neighbourhood, dtype: object"
      ]
     },
     "execution_count": 109,
     "metadata": {},
     "output_type": "execute_result"
    }
   ],
   "source": [
    "tempDF[\"neighbourhood\"].describe()"
   ]
  },
  {
   "cell_type": "markdown",
   "id": "b9e2b46e",
   "metadata": {},
   "source": [
    "There are 31 unique neighborhoods in the DC dataset for Airbnb listings. The most frequent count is Washington D.C. which has 5032 listings within the neighbourhood."
   ]
  },
  {
   "cell_type": "code",
   "execution_count": 110,
   "id": "435044f3",
   "metadata": {},
   "outputs": [
    {
     "data": {
      "text/html": [
       "<div>\n",
       "<style scoped>\n",
       "    .dataframe tbody tr th:only-of-type {\n",
       "        vertical-align: middle;\n",
       "    }\n",
       "\n",
       "    .dataframe tbody tr th {\n",
       "        vertical-align: top;\n",
       "    }\n",
       "\n",
       "    .dataframe thead th {\n",
       "        text-align: right;\n",
       "    }\n",
       "</style>\n",
       "<table border=\"1\" class=\"dataframe\">\n",
       "  <thead>\n",
       "    <tr style=\"text-align: right;\">\n",
       "      <th></th>\n",
       "      <th>neighbourhood</th>\n",
       "    </tr>\n",
       "  </thead>\n",
       "  <tbody>\n",
       "    <tr>\n",
       "      <th>Washington, District of Columbia, United States</th>\n",
       "      <td>5032</td>\n",
       "    </tr>\n",
       "    <tr>\n",
       "      <th>Arlington, Virginia, United States</th>\n",
       "      <td>160</td>\n",
       "    </tr>\n",
       "    <tr>\n",
       "      <th>Silver Spring, Maryland, United States</th>\n",
       "      <td>93</td>\n",
       "    </tr>\n",
       "    <tr>\n",
       "      <th>Takoma Park, Maryland, United States</th>\n",
       "      <td>49</td>\n",
       "    </tr>\n",
       "    <tr>\n",
       "      <th>Washington, D.C., District of Columbia, United States</th>\n",
       "      <td>38</td>\n",
       "    </tr>\n",
       "    <tr>\n",
       "      <th>Capitol Heights, Maryland, United States</th>\n",
       "      <td>35</td>\n",
       "    </tr>\n",
       "    <tr>\n",
       "      <th>Chevy Chase, Maryland, United States</th>\n",
       "      <td>35</td>\n",
       "    </tr>\n",
       "    <tr>\n",
       "      <th>Bethesda, Maryland, United States</th>\n",
       "      <td>24</td>\n",
       "    </tr>\n",
       "    <tr>\n",
       "      <th>Oxon Hill, Maryland, United States</th>\n",
       "      <td>22</td>\n",
       "    </tr>\n",
       "    <tr>\n",
       "      <th>Hyattsville, Maryland, United States</th>\n",
       "      <td>14</td>\n",
       "    </tr>\n",
       "    <tr>\n",
       "      <th>Mount Rainier, Maryland, United States</th>\n",
       "      <td>9</td>\n",
       "    </tr>\n",
       "    <tr>\n",
       "      <th>Brentwood, Maryland, United States</th>\n",
       "      <td>6</td>\n",
       "    </tr>\n",
       "    <tr>\n",
       "      <th>Cheverly, Maryland, United States</th>\n",
       "      <td>6</td>\n",
       "    </tr>\n",
       "    <tr>\n",
       "      <th>Chillum, Maryland, United States</th>\n",
       "      <td>4</td>\n",
       "    </tr>\n",
       "    <tr>\n",
       "      <th>Temple Hills, Maryland, United States</th>\n",
       "      <td>4</td>\n",
       "    </tr>\n",
       "    <tr>\n",
       "      <th>Washington, United States</th>\n",
       "      <td>4</td>\n",
       "    </tr>\n",
       "    <tr>\n",
       "      <th>Hillcrest Heights, Maryland, United States</th>\n",
       "      <td>2</td>\n",
       "    </tr>\n",
       "    <tr>\n",
       "      <th>Alexandria, Virginia, United States</th>\n",
       "      <td>1</td>\n",
       "    </tr>\n",
       "    <tr>\n",
       "      <th>Mount Rainier , Md, United States</th>\n",
       "      <td>1</td>\n",
       "    </tr>\n",
       "    <tr>\n",
       "      <th>McLean, Virginia, United States</th>\n",
       "      <td>1</td>\n",
       "    </tr>\n",
       "    <tr>\n",
       "      <th>El Chorro, Departamento de Maldonado, Uruguay</th>\n",
       "      <td>1</td>\n",
       "    </tr>\n",
       "    <tr>\n",
       "      <th>Chevy Chase, Maryland, US, Maryland, United States</th>\n",
       "      <td>1</td>\n",
       "    </tr>\n",
       "    <tr>\n",
       "      <th>Washington, Dc, United States</th>\n",
       "      <td>1</td>\n",
       "    </tr>\n",
       "    <tr>\n",
       "      <th>Suitland-Silver Hill, Maryland, United States</th>\n",
       "      <td>1</td>\n",
       "    </tr>\n",
       "    <tr>\n",
       "      <th>, United States</th>\n",
       "      <td>1</td>\n",
       "    </tr>\n",
       "    <tr>\n",
       "      <th>Bladensburg, Maryland, United States</th>\n",
       "      <td>1</td>\n",
       "    </tr>\n",
       "    <tr>\n",
       "      <th>Virginia, United States</th>\n",
       "      <td>1</td>\n",
       "    </tr>\n",
       "    <tr>\n",
       "      <th>Georgetown, District of Columbia, United States</th>\n",
       "      <td>1</td>\n",
       "    </tr>\n",
       "    <tr>\n",
       "      <th>Dupont Circle, District of Columbia, United States</th>\n",
       "      <td>1</td>\n",
       "    </tr>\n",
       "    <tr>\n",
       "      <th>Dupont Circle, Washington, District of Columbia, United States</th>\n",
       "      <td>1</td>\n",
       "    </tr>\n",
       "    <tr>\n",
       "      <th>Fairmount Heights, Maryland, United States</th>\n",
       "      <td>1</td>\n",
       "    </tr>\n",
       "  </tbody>\n",
       "</table>\n",
       "</div>"
      ],
      "text/plain": [
       "                                                    neighbourhood\n",
       "Washington, District of Columbia, United States              5032\n",
       "Arlington, Virginia, United States                            160\n",
       "Silver Spring, Maryland, United States                         93\n",
       "Takoma Park, Maryland, United States                           49\n",
       "Washington, D.C., District of Columbia, United ...             38\n",
       "Capitol Heights, Maryland, United States                       35\n",
       "Chevy Chase, Maryland, United States                           35\n",
       "Bethesda, Maryland, United States                              24\n",
       "Oxon Hill, Maryland, United States                             22\n",
       "Hyattsville, Maryland, United States                           14\n",
       "Mount Rainier, Maryland, United States                          9\n",
       "Brentwood, Maryland, United States                              6\n",
       "Cheverly, Maryland, United States                               6\n",
       "Chillum, Maryland, United States                                4\n",
       "Temple Hills, Maryland, United States                           4\n",
       "Washington, United States                                       4\n",
       "Hillcrest Heights, Maryland, United States                      2\n",
       "Alexandria, Virginia, United States                             1\n",
       "Mount Rainier , Md, United States                               1\n",
       "McLean, Virginia, United States                                 1\n",
       "El Chorro, Departamento de Maldonado, Uruguay                   1\n",
       "Chevy Chase, Maryland, US, Maryland, United States              1\n",
       "Washington, Dc, United States                                   1\n",
       "Suitland-Silver Hill, Maryland, United States                   1\n",
       " , United States                                                1\n",
       "Bladensburg, Maryland, United States                            1\n",
       "Virginia, United States                                         1\n",
       "Georgetown, District of Columbia, United States                 1\n",
       "Dupont Circle, District of Columbia, United States              1\n",
       "Dupont Circle, Washington, District of Columbia...              1\n",
       "Fairmount Heights, Maryland, United States                      1"
      ]
     },
     "execution_count": 110,
     "metadata": {},
     "output_type": "execute_result"
    }
   ],
   "source": [
    "pd.DataFrame(tempDF[\"neighbourhood\"].value_counts())"
   ]
  },
  {
   "cell_type": "markdown",
   "id": "0b4de552",
   "metadata": {},
   "source": [
    "The most frequent count is Washington D.C. which has 5032 listings within the neighbourhood. The next most is Arlington Virginia with 160 listings in the neighbourhood. There is potential for noise in this column as there is a listing that just says \", United States\" and another listing with a duplicate Washington, DC. Aditionally, there are some listings with Washington, United States and Virginia, United States. These values have potential to create noise."
   ]
  },
  {
   "cell_type": "markdown",
   "id": "412680f1",
   "metadata": {},
   "source": [
    "## Neighbourhood_cleansed"
   ]
  },
  {
   "cell_type": "markdown",
   "id": "5b42a1d8",
   "metadata": {},
   "source": [
    "Neighbourhood_cleansed is a much more useful variable than neighborhood as it corresponds with the neighbourhood table in the Airbnb data. While neighbourhood has duplicate neighbourhood values as well as vague value such as \", United States\", neighbourhood_cleansed has specific neighbourhoods of Washington D.C. and have grouped them by proximity of one another. This would be much more useful in terms of determining a correlation of price as there is much less noise in this column. Domain knowledge would lead us to believe that it affects the price of an Airbnb where desirable and in-demand neighbourhoods would have higher prices and neighbourhoods with less to do and higher crime rate would have lower prices. "
   ]
  },
  {
   "cell_type": "code",
   "execution_count": 111,
   "id": "9d049ed6",
   "metadata": {},
   "outputs": [],
   "source": [
    "tempDF = airbnbDF\n",
    "tempDF[\"neighbourhood_cleansed\"].replace('', np.nan, inplace=True)\n",
    "tempDF.dropna(subset=['neighbourhood_cleansed'], inplace=True)"
   ]
  },
  {
   "cell_type": "code",
   "execution_count": 113,
   "id": "ff4093d1",
   "metadata": {},
   "outputs": [
    {
     "data": {
      "text/plain": [
       "count                                          5551\n",
       "unique                                           39\n",
       "top       Union Station, Stanton Park, Kingman Park\n",
       "freq                                            622\n",
       "Name: neighbourhood_cleansed, dtype: object"
      ]
     },
     "execution_count": 113,
     "metadata": {},
     "output_type": "execute_result"
    }
   ],
   "source": [
    "tempDF[\"neighbourhood_cleansed\"].describe()"
   ]
  },
  {
   "cell_type": "markdown",
   "id": "9699bef8",
   "metadata": {},
   "source": [
    "As it corresponds with the neighbourhood table, there are 39 unique neighbourhoods in Washington D.C. under the Airbnb listings data. The top neighbourhood is Union Station, Stanton Park, Kingman Park with 622 listings in the neighbourhood."
   ]
  },
  {
   "cell_type": "code",
   "execution_count": 114,
   "id": "afbc7c46",
   "metadata": {},
   "outputs": [
    {
     "data": {
      "text/html": [
       "<div>\n",
       "<style scoped>\n",
       "    .dataframe tbody tr th:only-of-type {\n",
       "        vertical-align: middle;\n",
       "    }\n",
       "\n",
       "    .dataframe tbody tr th {\n",
       "        vertical-align: top;\n",
       "    }\n",
       "\n",
       "    .dataframe thead th {\n",
       "        text-align: right;\n",
       "    }\n",
       "</style>\n",
       "<table border=\"1\" class=\"dataframe\">\n",
       "  <thead>\n",
       "    <tr style=\"text-align: right;\">\n",
       "      <th></th>\n",
       "      <th>neighbourhood_cleansed</th>\n",
       "    </tr>\n",
       "  </thead>\n",
       "  <tbody>\n",
       "    <tr>\n",
       "      <th>Union Station, Stanton Park, Kingman Park</th>\n",
       "      <td>622</td>\n",
       "    </tr>\n",
       "    <tr>\n",
       "      <th>Capitol Hill, Lincoln Park</th>\n",
       "      <td>508</td>\n",
       "    </tr>\n",
       "    <tr>\n",
       "      <th>Columbia Heights, Mt. Pleasant, Pleasant Plains, Park View</th>\n",
       "      <td>394</td>\n",
       "    </tr>\n",
       "    <tr>\n",
       "      <th>Dupont Circle, Connecticut Avenue/K Street</th>\n",
       "      <td>376</td>\n",
       "    </tr>\n",
       "    <tr>\n",
       "      <th>Edgewood, Bloomingdale, Truxton Circle, Eckington</th>\n",
       "      <td>365</td>\n",
       "    </tr>\n",
       "    <tr>\n",
       "      <th>Shaw, Logan Circle</th>\n",
       "      <td>288</td>\n",
       "    </tr>\n",
       "    <tr>\n",
       "      <th>Brightwood Park, Crestwood, Petworth</th>\n",
       "      <td>282</td>\n",
       "    </tr>\n",
       "    <tr>\n",
       "      <th>Georgetown, Burleith/Hillandale</th>\n",
       "      <td>234</td>\n",
       "    </tr>\n",
       "    <tr>\n",
       "      <th>Downtown, Chinatown, Penn Quarters, Mount Vernon Square, North Capitol Street</th>\n",
       "      <td>212</td>\n",
       "    </tr>\n",
       "    <tr>\n",
       "      <th>Howard University, Le Droit Park, Cardozo/Shaw</th>\n",
       "      <td>198</td>\n",
       "    </tr>\n",
       "    <tr>\n",
       "      <th>Kalorama Heights, Adams Morgan, Lanier Heights</th>\n",
       "      <td>186</td>\n",
       "    </tr>\n",
       "    <tr>\n",
       "      <th>West End, Foggy Bottom, GWU</th>\n",
       "      <td>179</td>\n",
       "    </tr>\n",
       "    <tr>\n",
       "      <th>Ivy City, Arboretum, Trinidad, Carver Langston</th>\n",
       "      <td>177</td>\n",
       "    </tr>\n",
       "    <tr>\n",
       "      <th>Takoma, Brightwood, Manor Park</th>\n",
       "      <td>144</td>\n",
       "    </tr>\n",
       "    <tr>\n",
       "      <th>Spring Valley, Palisades, Wesley Heights, Foxhall Crescent, Foxhall Village, Georgetown Reservoir</th>\n",
       "      <td>110</td>\n",
       "    </tr>\n",
       "    <tr>\n",
       "      <th>Congress Heights, Bellevue, Washington Highlands</th>\n",
       "      <td>98</td>\n",
       "    </tr>\n",
       "    <tr>\n",
       "      <th>Colonial Village, Shepherd Park, North Portal Estates</th>\n",
       "      <td>96</td>\n",
       "    </tr>\n",
       "    <tr>\n",
       "      <th>Brookland, Brentwood, Langdon</th>\n",
       "      <td>90</td>\n",
       "    </tr>\n",
       "    <tr>\n",
       "      <th>Lamont Riggs, Queens Chapel, Fort Totten, Pleasant Hill</th>\n",
       "      <td>85</td>\n",
       "    </tr>\n",
       "    <tr>\n",
       "      <th>Southwest Employment Area, Southwest/Waterfront, Fort McNair, Buzzard Point</th>\n",
       "      <td>81</td>\n",
       "    </tr>\n",
       "    <tr>\n",
       "      <th>Friendship Heights, American University Park, Tenleytown</th>\n",
       "      <td>77</td>\n",
       "    </tr>\n",
       "    <tr>\n",
       "      <th>Capitol View, Marshall Heights, Benning Heights</th>\n",
       "      <td>75</td>\n",
       "    </tr>\n",
       "    <tr>\n",
       "      <th>Twining, Fairlawn, Randle Highlands, Penn Branch, Fort Davis Park, Fort Dupont</th>\n",
       "      <td>75</td>\n",
       "    </tr>\n",
       "    <tr>\n",
       "      <th>Deanwood, Burrville, Grant Park, Lincoln Heights, Fairmont Heights</th>\n",
       "      <td>68</td>\n",
       "    </tr>\n",
       "    <tr>\n",
       "      <th>Near Southeast, Navy Yard</th>\n",
       "      <td>62</td>\n",
       "    </tr>\n",
       "    <tr>\n",
       "      <th>Woodridge, Fort Lincoln, Gateway</th>\n",
       "      <td>57</td>\n",
       "    </tr>\n",
       "    <tr>\n",
       "      <th>North Michigan Park, Michigan Park, University Heights</th>\n",
       "      <td>57</td>\n",
       "    </tr>\n",
       "    <tr>\n",
       "      <th>Hawthorne, Barnaby Woods, Chevy Chase</th>\n",
       "      <td>53</td>\n",
       "    </tr>\n",
       "    <tr>\n",
       "      <th>Cleveland Park, Woodley Park, Massachusetts Avenue Heights, Woodland-Normanstone Terrace</th>\n",
       "      <td>50</td>\n",
       "    </tr>\n",
       "    <tr>\n",
       "      <th>Cathedral Heights, McLean Gardens, Glover Park</th>\n",
       "      <td>47</td>\n",
       "    </tr>\n",
       "    <tr>\n",
       "      <th>River Terrace, Benning, Greenway, Dupont Park</th>\n",
       "      <td>35</td>\n",
       "    </tr>\n",
       "    <tr>\n",
       "      <th>Historic Anacostia</th>\n",
       "      <td>33</td>\n",
       "    </tr>\n",
       "    <tr>\n",
       "      <th>North Cleveland Park, Forest Hills, Van Ness</th>\n",
       "      <td>27</td>\n",
       "    </tr>\n",
       "    <tr>\n",
       "      <th>Douglas, Shipley Terrace</th>\n",
       "      <td>23</td>\n",
       "    </tr>\n",
       "    <tr>\n",
       "      <th>Sheridan, Barry Farm, Buena Vista</th>\n",
       "      <td>23</td>\n",
       "    </tr>\n",
       "    <tr>\n",
       "      <th>Fairfax Village, Naylor Gardens, Hillcrest, Summit Park</th>\n",
       "      <td>22</td>\n",
       "    </tr>\n",
       "    <tr>\n",
       "      <th>Mayfair, Hillbrook, Mahaning Heights</th>\n",
       "      <td>19</td>\n",
       "    </tr>\n",
       "    <tr>\n",
       "      <th>Eastland Gardens, Kenilworth</th>\n",
       "      <td>17</td>\n",
       "    </tr>\n",
       "    <tr>\n",
       "      <th>Woodland/Fort Stanton, Garfield Heights, Knox Hill</th>\n",
       "      <td>6</td>\n",
       "    </tr>\n",
       "  </tbody>\n",
       "</table>\n",
       "</div>"
      ],
      "text/plain": [
       "                                                    neighbourhood_cleansed\n",
       "Union Station, Stanton Park, Kingman Park                              622\n",
       "Capitol Hill, Lincoln Park                                             508\n",
       "Columbia Heights, Mt. Pleasant, Pleasant Plains...                     394\n",
       "Dupont Circle, Connecticut Avenue/K Street                             376\n",
       "Edgewood, Bloomingdale, Truxton Circle, Eckington                      365\n",
       "Shaw, Logan Circle                                                     288\n",
       "Brightwood Park, Crestwood, Petworth                                   282\n",
       "Georgetown, Burleith/Hillandale                                        234\n",
       "Downtown, Chinatown, Penn Quarters, Mount Verno...                     212\n",
       "Howard University, Le Droit Park, Cardozo/Shaw                         198\n",
       "Kalorama Heights, Adams Morgan, Lanier Heights                         186\n",
       "West End, Foggy Bottom, GWU                                            179\n",
       "Ivy City, Arboretum, Trinidad, Carver Langston                         177\n",
       "Takoma, Brightwood, Manor Park                                         144\n",
       "Spring Valley, Palisades, Wesley Heights, Foxha...                     110\n",
       "Congress Heights, Bellevue, Washington Highlands                        98\n",
       "Colonial Village, Shepherd Park, North Portal E...                      96\n",
       "Brookland, Brentwood, Langdon                                           90\n",
       "Lamont Riggs, Queens Chapel, Fort Totten, Pleas...                      85\n",
       "Southwest Employment Area, Southwest/Waterfront...                      81\n",
       "Friendship Heights, American University Park, T...                      77\n",
       "Capitol View, Marshall Heights, Benning Heights                         75\n",
       "Twining, Fairlawn, Randle Highlands, Penn Branc...                      75\n",
       "Deanwood, Burrville, Grant Park, Lincoln Height...                      68\n",
       "Near Southeast, Navy Yard                                               62\n",
       "Woodridge, Fort Lincoln, Gateway                                        57\n",
       "North Michigan Park, Michigan Park, University ...                      57\n",
       "Hawthorne, Barnaby Woods, Chevy Chase                                   53\n",
       "Cleveland Park, Woodley Park, Massachusetts Ave...                      50\n",
       "Cathedral Heights, McLean Gardens, Glover Park                          47\n",
       "River Terrace, Benning, Greenway, Dupont Park                           35\n",
       "Historic Anacostia                                                      33\n",
       "North Cleveland Park, Forest Hills, Van Ness                            27\n",
       "Douglas, Shipley Terrace                                                23\n",
       "Sheridan, Barry Farm, Buena Vista                                       23\n",
       "Fairfax Village, Naylor Gardens, Hillcrest, Sum...                      22\n",
       "Mayfair, Hillbrook, Mahaning Heights                                    19\n",
       "Eastland Gardens, Kenilworth                                            17\n",
       "Woodland/Fort Stanton, Garfield Heights, Knox Hill                       6"
      ]
     },
     "execution_count": 114,
     "metadata": {},
     "output_type": "execute_result"
    }
   ],
   "source": [
    "pd.DataFrame(tempDF[\"neighbourhood_cleansed\"].value_counts())"
   ]
  },
  {
   "cell_type": "markdown",
   "id": "7ce11890",
   "metadata": {},
   "source": [
    "## Accommodates"
   ]
  },
  {
   "cell_type": "markdown",
   "id": "5483ef75",
   "metadata": {},
   "source": [
    "Accommodates describes the number of people that an Airbnb can accommodate. This is a ordered numerical variable and would lead us to believe that it would affect the listing's price. The more a listing can accommodate, the higher the price of the Airbnb due to factors such as size, resources provided, and number of guests who can split the price of the Airbnb. "
   ]
  },
  {
   "cell_type": "code",
   "execution_count": 137,
   "id": "8ab3e9e4",
   "metadata": {},
   "outputs": [],
   "source": [
    "tempDF = airbnbDF\n",
    "tempDF[\"accommodates\"].replace('', np.nan, inplace=True)\n",
    "tempDF.dropna(subset=['accommodates'], inplace=True)"
   ]
  },
  {
   "cell_type": "code",
   "execution_count": 139,
   "id": "8427e622",
   "metadata": {},
   "outputs": [
    {
     "data": {
      "text/plain": [
       "count    5051.000000\n",
       "mean        3.878638\n",
       "std         2.456779\n",
       "min         1.000000\n",
       "25%         2.000000\n",
       "50%         4.000000\n",
       "75%         5.000000\n",
       "max        16.000000\n",
       "Name: accommodates, dtype: float64"
      ]
     },
     "execution_count": 139,
     "metadata": {},
     "output_type": "execute_result"
    }
   ],
   "source": [
    "tempDF[\"accommodates\"].describe()"
   ]
  },
  {
   "cell_type": "code",
   "execution_count": 118,
   "id": "df415138",
   "metadata": {},
   "outputs": [
    {
     "data": {
      "text/plain": [
       "1      468\n",
       "2     1725\n",
       "3      668\n",
       "4     1260\n",
       "5      370\n",
       "6      532\n",
       "7       88\n",
       "8      213\n",
       "9       31\n",
       "10      78\n",
       "11      12\n",
       "12      58\n",
       "13       6\n",
       "14      12\n",
       "15       5\n",
       "16      25\n",
       "Name: accommodates, dtype: int64"
      ]
     },
     "execution_count": 118,
     "metadata": {},
     "output_type": "execute_result"
    }
   ],
   "source": [
    "tempDF[\"accommodates\"].value_counts().sort_index()"
   ]
  },
  {
   "cell_type": "code",
   "execution_count": 154,
   "id": "31b93076",
   "metadata": {},
   "outputs": [
    {
     "data": {
      "image/png": "[encoded data removed]",
      "text/plain": [
       "<Figure size 1000x600 with 1 Axes>"
      ]
     },
     "metadata": {},
     "output_type": "display_data"
    }
   ],
   "source": [
    "counts = tempDF[\"accommodates\"].value_counts().sort_index()\n",
    "proportions = tempDF[\"accommodates\"].value_counts(normalize=True).sort_index()\n",
    "x = range( len( counts))\n",
    "width = 1/1.5\n",
    "\n",
    "figure = plt.figure(figsize=(10, 6))\n",
    "\n",
    "axes = figure.add_subplot(1, 1, 1)\n",
    "axes.bar(x, proportions, width, color=\"dimgray\", align=\"center\")\n",
    "axes.set_xlabel(\"Accommodates\")\n",
    "axes.set_xticks(x)\n",
    "axes.set_xticklabels(proportions.axes[0])\n",
    "axes.set_title( \"Relative Frequency of Accomodates\")\n",
    "axes.set_ylabel( \"Percent\")\n",
    "axes.xaxis.grid(False)\n",
    "\n",
    "plt.show()\n",
    "plt.close()"
   ]
  },
  {
   "cell_type": "markdown",
   "id": "5f157b34",
   "metadata": {},
   "source": [
    "## Bathrooms_text"
   ]
  },
  {
   "cell_type": "markdown",
   "id": "8273480c",
   "metadata": {},
   "source": [
    "Bathrooms_text corresponds to the number of bathrooms in an Airbnb listing. Some listings give specific details on whether or not the bathrooms are shared or are private. Domain knowledge would lead us to believe that more bathrooms would positively affect the price of a listing as well as the bathrooms being private. As opposed to being shared which would lead the price to be less or if there are lesser bathrooms."
   ]
  },
  {
   "cell_type": "code",
   "execution_count": 120,
   "id": "8110e7ae",
   "metadata": {},
   "outputs": [],
   "source": [
    "tempDF = airbnbDF\n",
    "tempDF[\"bathrooms_text\"].replace('', np.nan, inplace=True)\n",
    "tempDF.dropna(subset=['bathrooms_text'], inplace=True)"
   ]
  },
  {
   "cell_type": "code",
   "execution_count": 121,
   "id": "8d8af0e6",
   "metadata": {
    "scrolled": true
   },
   "outputs": [
    {
     "data": {
      "text/plain": [
       "count       5549\n",
       "unique        27\n",
       "top       1 bath\n",
       "freq        3189\n",
       "Name: bathrooms_text, dtype: object"
      ]
     },
     "execution_count": 121,
     "metadata": {},
     "output_type": "execute_result"
    }
   ],
   "source": [
    "tempDF[\"bathrooms_text\"].describe()"
   ]
  },
  {
   "cell_type": "code",
   "execution_count": 127,
   "id": "ab1f5bb7",
   "metadata": {},
   "outputs": [
    {
     "data": {
      "text/html": [
       "<div>\n",
       "<style scoped>\n",
       "    .dataframe tbody tr th:only-of-type {\n",
       "        vertical-align: middle;\n",
       "    }\n",
       "\n",
       "    .dataframe tbody tr th {\n",
       "        vertical-align: top;\n",
       "    }\n",
       "\n",
       "    .dataframe thead th {\n",
       "        text-align: right;\n",
       "    }\n",
       "</style>\n",
       "<table border=\"1\" class=\"dataframe\">\n",
       "  <thead>\n",
       "    <tr style=\"text-align: right;\">\n",
       "      <th></th>\n",
       "      <th>bathrooms_text</th>\n",
       "    </tr>\n",
       "  </thead>\n",
       "  <tbody>\n",
       "    <tr>\n",
       "      <th>1 bath</th>\n",
       "      <td>2762</td>\n",
       "    </tr>\n",
       "    <tr>\n",
       "      <th>2 baths</th>\n",
       "      <td>553</td>\n",
       "    </tr>\n",
       "    <tr>\n",
       "      <th>1 shared bath</th>\n",
       "      <td>350</td>\n",
       "    </tr>\n",
       "    <tr>\n",
       "      <th>2.5 baths</th>\n",
       "      <td>304</td>\n",
       "    </tr>\n",
       "    <tr>\n",
       "      <th>1 private bath</th>\n",
       "      <td>277</td>\n",
       "    </tr>\n",
       "    <tr>\n",
       "      <th>1.5 baths</th>\n",
       "      <td>266</td>\n",
       "    </tr>\n",
       "    <tr>\n",
       "      <th>3.5 baths</th>\n",
       "      <td>121</td>\n",
       "    </tr>\n",
       "    <tr>\n",
       "      <th>1.5 shared baths</th>\n",
       "      <td>101</td>\n",
       "    </tr>\n",
       "    <tr>\n",
       "      <th>3 baths</th>\n",
       "      <td>100</td>\n",
       "    </tr>\n",
       "    <tr>\n",
       "      <th>2 shared baths</th>\n",
       "      <td>71</td>\n",
       "    </tr>\n",
       "    <tr>\n",
       "      <th>0 shared baths</th>\n",
       "      <td>49</td>\n",
       "    </tr>\n",
       "    <tr>\n",
       "      <th>2.5 shared baths</th>\n",
       "      <td>39</td>\n",
       "    </tr>\n",
       "    <tr>\n",
       "      <th>4 baths</th>\n",
       "      <td>37</td>\n",
       "    </tr>\n",
       "    <tr>\n",
       "      <th>4.5 baths</th>\n",
       "      <td>19</td>\n",
       "    </tr>\n",
       "    <tr>\n",
       "      <th>3 shared baths</th>\n",
       "      <td>16</td>\n",
       "    </tr>\n",
       "    <tr>\n",
       "      <th>4.5 shared baths</th>\n",
       "      <td>8</td>\n",
       "    </tr>\n",
       "    <tr>\n",
       "      <th>5 baths</th>\n",
       "      <td>7</td>\n",
       "    </tr>\n",
       "    <tr>\n",
       "      <th>3.5 shared baths</th>\n",
       "      <td>4</td>\n",
       "    </tr>\n",
       "    <tr>\n",
       "      <th>5.5 baths</th>\n",
       "      <td>3</td>\n",
       "    </tr>\n",
       "    <tr>\n",
       "      <th>11 shared baths</th>\n",
       "      <td>2</td>\n",
       "    </tr>\n",
       "    <tr>\n",
       "      <th>0 baths</th>\n",
       "      <td>2</td>\n",
       "    </tr>\n",
       "    <tr>\n",
       "      <th>5.5 shared baths</th>\n",
       "      <td>2</td>\n",
       "    </tr>\n",
       "    <tr>\n",
       "      <th>6 baths</th>\n",
       "      <td>1</td>\n",
       "    </tr>\n",
       "    <tr>\n",
       "      <th>7 baths</th>\n",
       "      <td>1</td>\n",
       "    </tr>\n",
       "    <tr>\n",
       "      <th>7.5 baths</th>\n",
       "      <td>1</td>\n",
       "    </tr>\n",
       "    <tr>\n",
       "      <th>15 baths</th>\n",
       "      <td>1</td>\n",
       "    </tr>\n",
       "  </tbody>\n",
       "</table>\n",
       "</div>"
      ],
      "text/plain": [
       "                  bathrooms_text\n",
       "1 bath                      2762\n",
       "2 baths                      553\n",
       "1 shared bath                350\n",
       "2.5 baths                    304\n",
       "1 private bath               277\n",
       "1.5 baths                    266\n",
       "3.5 baths                    121\n",
       "1.5 shared baths             101\n",
       "3 baths                      100\n",
       "2 shared baths                71\n",
       "0 shared baths                49\n",
       "2.5 shared baths              39\n",
       "4 baths                       37\n",
       "4.5 baths                     19\n",
       "3 shared baths                16\n",
       "4.5 shared baths               8\n",
       "5 baths                        7\n",
       "3.5 shared baths               4\n",
       "5.5 baths                      3\n",
       "11 shared baths                2\n",
       "0 baths                        2\n",
       "5.5 shared baths               2\n",
       "6 baths                        1\n",
       "7 baths                        1\n",
       "7.5 baths                      1\n",
       "15 baths                       1"
      ]
     },
     "execution_count": 127,
     "metadata": {},
     "output_type": "execute_result"
    }
   ],
   "source": [
    "pd.DataFrame(tempDF[\"bathrooms_text\"].value_counts())"
   ]
  },
  {
   "cell_type": "markdown",
   "id": "ba5000cb",
   "metadata": {},
   "source": [
    "Overall, most listings have only 1 bathroom while the next most have only 2 bathrooms. The third most listings have 1 shared bath followed by listings with 2.5 baths. There are outlier values such as 11 shared baths, 0 baths, and 15 baths in an Airbnb listing. "
   ]
  },
  {
   "cell_type": "markdown",
   "id": "f0584ec4",
   "metadata": {},
   "source": [
    "## Bedrooms"
   ]
  },
  {
   "cell_type": "markdown",
   "id": "78636f88",
   "metadata": {},
   "source": [
    "bedrooms is a numerical variable that corresponds to the number of bedrooms in an airbnb listing. It is a key feature of an Airbnb and based on our domain knowledge would suggest that it significant affects the price of it. With more bedrooms, the price of the Airbnb listing would increase."
   ]
  },
  {
   "cell_type": "code",
   "execution_count": 122,
   "id": "83e3ff29",
   "metadata": {},
   "outputs": [],
   "source": [
    "tempDF = airbnbDF\n",
    "tempDF[\"bedrooms\"].replace('', np.nan, inplace=True)\n",
    "tempDF.dropna(subset=['bedrooms'], inplace=True)"
   ]
  },
  {
   "cell_type": "code",
   "execution_count": 123,
   "id": "599ddaab",
   "metadata": {},
   "outputs": [
    {
     "data": {
      "text/plain": [
       "count    5097.000000\n",
       "mean        1.639200\n",
       "std         1.031441\n",
       "min         1.000000\n",
       "25%         1.000000\n",
       "50%         1.000000\n",
       "75%         2.000000\n",
       "max        15.000000\n",
       "Name: bedrooms, dtype: float64"
      ]
     },
     "execution_count": 123,
     "metadata": {},
     "output_type": "execute_result"
    }
   ],
   "source": [
    "tempDF[\"bedrooms\"].describe()"
   ]
  },
  {
   "cell_type": "markdown",
   "id": "6ecd8556",
   "metadata": {},
   "source": [
    "When we look at the descriptive statistics of number of bedrooms in an Airbnb listing, the first thing we notice is that the extreme maximum value of 15 bedrooms is much more extreme than most of the distribution of bedrooms. Each Airbnb has at least 1 bedroom but the majority of listings in the Airbnb data contain only 1 to 2 bedrooms, given that the 75% quartile is 2 bedrooms. The mean number of bedrooms is 1.65 and the median is one bedroom. "
   ]
  },
  {
   "cell_type": "code",
   "execution_count": 124,
   "id": "27d80222",
   "metadata": {},
   "outputs": [
    {
     "data": {
      "text/plain": [
       "1.0     3161\n",
       "2.0     1122\n",
       "3.0      479\n",
       "4.0      218\n",
       "5.0       84\n",
       "6.0       22\n",
       "7.0        7\n",
       "8.0        2\n",
       "9.0        1\n",
       "15.0       1\n",
       "Name: bedrooms, dtype: int64"
      ]
     },
     "execution_count": 124,
     "metadata": {},
     "output_type": "execute_result"
    }
   ],
   "source": [
    "tempDF[\"bedrooms\"].value_counts().sort_index()"
   ]
  },
  {
   "cell_type": "markdown",
   "id": "4e0a11f9",
   "metadata": {},
   "source": [
    "Taking a look at the value counts, only one listing has 15 bedrooms while 1 listing has 9 bedrooms. A majority of listings have 1 and 2 bedrooms which correspond to the descriptive statistics. Additionally, there are a sizeable number of Airbnb listings with 3-5 bedrooms with 429, 218 and 84 listings respectively with these number of bedrooms. "
   ]
  },
  {
   "cell_type": "code",
   "execution_count": 125,
   "id": "4e19846b",
   "metadata": {},
   "outputs": [
    {
     "data": {
      "image/png": "[encoded data removed]",
      "text/plain": [
       "<Figure size 1000x600 with 1 Axes>"
      ]
     },
     "metadata": {},
     "output_type": "display_data"
    }
   ],
   "source": [
    "counts = tempDF[\"bedrooms\"].value_counts().sort_index()\n",
    "proportions = tempDF[\"bedrooms\"].value_counts(normalize=True).sort_index()\n",
    "x = range( len( counts))\n",
    "width = 1/1.5\n",
    "\n",
    "figure = plt.figure(figsize=(10, 6))\n",
    "\n",
    "axes = figure.add_subplot(1, 1, 1)\n",
    "axes.bar(x, proportions, width, color=\"dimgray\", align=\"center\")\n",
    "axes.set_xlabel(\"Bedrooms\")\n",
    "axes.set_xticks(x)\n",
    "axes.set_xticklabels(proportions.axes[0])\n",
    "axes.set_title( \"Relative Frequency of bedrooms\")\n",
    "axes.set_ylabel( \"Percent\")\n",
    "axes.xaxis.grid(False)\n",
    "\n",
    "plt.show()\n",
    "plt.close()"
   ]
  },
  {
   "cell_type": "markdown",
   "id": "76aafbba",
   "metadata": {},
   "source": [
    "## Beds"
   ]
  },
  {
   "cell_type": "code",
   "execution_count": 128,
   "id": "700447d8",
   "metadata": {},
   "outputs": [],
   "source": [
    "tempDF = airbnbDF\n",
    "tempDF[\"beds\"].replace('', np.nan, inplace=True)\n",
    "tempDF.dropna(subset=['beds'], inplace=True)"
   ]
  },
  {
   "cell_type": "code",
   "execution_count": 129,
   "id": "b6a90ec9",
   "metadata": {},
   "outputs": [
    {
     "data": {
      "text/plain": [
       "count    5051.000000\n",
       "mean        2.114829\n",
       "std         1.461953\n",
       "min         1.000000\n",
       "25%         1.000000\n",
       "50%         2.000000\n",
       "75%         3.000000\n",
       "max        20.000000\n",
       "Name: beds, dtype: float64"
      ]
     },
     "execution_count": 129,
     "metadata": {},
     "output_type": "execute_result"
    }
   ],
   "source": [
    "tempDF[\"beds\"].describe()"
   ]
  },
  {
   "cell_type": "code",
   "execution_count": 130,
   "id": "ca236b4c",
   "metadata": {},
   "outputs": [
    {
     "data": {
      "text/plain": [
       "1.0     2142\n",
       "2.0     1560\n",
       "3.0      708\n",
       "4.0      306\n",
       "5.0      138\n",
       "6.0      113\n",
       "7.0       31\n",
       "8.0       30\n",
       "9.0        8\n",
       "10.0       6\n",
       "11.0       1\n",
       "12.0       7\n",
       "20.0       1\n",
       "Name: beds, dtype: int64"
      ]
     },
     "execution_count": 130,
     "metadata": {},
     "output_type": "execute_result"
    }
   ],
   "source": [
    "tempDF[\"beds\"].value_counts().sort_index()"
   ]
  },
  {
   "cell_type": "code",
   "execution_count": 131,
   "id": "cbc182c8",
   "metadata": {},
   "outputs": [
    {
     "data": {
      "image/png": "[encoded data removed]",
      "text/plain": [
       "<Figure size 1000x600 with 1 Axes>"
      ]
     },
     "metadata": {},
     "output_type": "display_data"
    }
   ],
   "source": [
    "counts = tempDF[\"beds\"].value_counts().sort_index()\n",
    "proportions = tempDF[\"beds\"].value_counts(normalize=True).sort_index()\n",
    "x = range( len( counts))\n",
    "width = 1/1.5\n",
    "\n",
    "figure = plt.figure(figsize=(10, 6))\n",
    "\n",
    "axes = figure.add_subplot(1, 1, 1)\n",
    "axes.bar(x, proportions, width, color=\"dimgray\", align=\"center\")\n",
    "axes.set_xlabel(\"beds\")\n",
    "axes.set_xticks(x)\n",
    "axes.set_xticklabels(proportions.axes[0])\n",
    "axes.set_title( \"Relative Frequency of beds\")\n",
    "axes.set_ylabel( \"Percent\")\n",
    "axes.xaxis.grid(False)\n",
    "\n",
    "plt.show()\n",
    "plt.close()"
   ]
  },
  {
   "cell_type": "markdown",
   "id": "7ce472e8",
   "metadata": {},
   "source": [
    "## Amenities"
   ]
  },
  {
   "cell_type": "markdown",
   "id": "9ce5599f",
   "metadata": {},
   "source": []
  },
  {
   "cell_type": "code",
   "execution_count": 132,
   "id": "3bbc6b1b",
   "metadata": {},
   "outputs": [],
   "source": [
    "tempDF = airbnbDF\n",
    "tempDF[\"amenities\"].replace('', np.nan, inplace=True)\n",
    "tempDF.dropna(subset=['amenities'], inplace=True)"
   ]
  },
  {
   "cell_type": "code",
   "execution_count": 133,
   "id": "23ff1555",
   "metadata": {},
   "outputs": [
    {
     "data": {
      "text/plain": [
       "count                                                  5051\n",
       "unique                                                 4510\n",
       "top       [\"Bathtub\", \"Coffee\", \"Pool\", \"Paid parking of...\n",
       "freq                                                     90\n",
       "Name: amenities, dtype: object"
      ]
     },
     "execution_count": 133,
     "metadata": {},
     "output_type": "execute_result"
    }
   ],
   "source": [
    "tempDF[\"amenities\"].describe()"
   ]
  },
  {
   "cell_type": "code",
   "execution_count": 136,
   "id": "82a1f83c",
   "metadata": {},
   "outputs": [
    {
     "data": {
      "text/html": [
       "<div>\n",
       "<style scoped>\n",
       "    .dataframe tbody tr th:only-of-type {\n",
       "        vertical-align: middle;\n",
       "    }\n",
       "\n",
       "    .dataframe tbody tr th {\n",
       "        vertical-align: top;\n",
       "    }\n",
       "\n",
       "    .dataframe thead th {\n",
       "        text-align: right;\n",
       "    }\n",
       "</style>\n",
       "<table border=\"1\" class=\"dataframe\">\n",
       "  <thead>\n",
       "    <tr style=\"text-align: right;\">\n",
       "      <th></th>\n",
       "      <th>amenities</th>\n",
       "    </tr>\n",
       "  </thead>\n",
       "  <tbody>\n",
       "    <tr>\n",
       "      <th>[\"Bathtub\", \"Coffee\", \"Pool\", \"Paid parking off premises\", \"Ethernet connection\", \"Air conditioning\", \"Baking sheet\", \"Long term stays allowed\", \"TV\", \"Carbon monoxide alarm\", \"Elevator\", \"Clothing storage\", \"Toaster\", \"Bed linens\", \"Smoke alarm\", \"Crib - available upon request\", \"Microwave\", \"Shampoo\", \"Hair dryer\", \"Pets allowed\", \"Shower gel\", \"Cooking basics\", \"Dishwasher\", \"Conditioner\", \"Outdoor furniture\", \"Extra pillows and blankets\", \"Refrigerator\", \"Cleaning products\", \"Hot water\", \"Oven\", \"Blender\", \"Body soap\", \"Hangers\", \"Dishes and silverware\", \"Freezer\", \"Heating\", \"Smart lock\", \"Washer\", \"Coffee maker\", \"Dining table\", \"Essentials\", \"Kitchen\", \"Exercise equipment\", \"Window guards\", \"Wifi\", \"Dryer\", \"Iron\", \"Wine glasses\", \"Self check-in\", \"Stove\", \"Hot water kettle\", \"Gym\"]</th>\n",
       "      <td>90</td>\n",
       "    </tr>\n",
       "    <tr>\n",
       "      <th>[\"Air conditioning\", \"Paid parking on premises\", \"Carbon monoxide alarm\", \"Bed linens\", \"Smoke alarm\", \"Microwave\", \"Shampoo\", \"Hair dryer\", \"Pets allowed\", \"First aid kit\", \"TV with standard cable\", \"Extra pillows and blankets\", \"Dedicated workspace\", \"Hot water\", \"Hangers\", \"Heating\", \"Luggage dropoff allowed\", \"Fire extinguisher\", \"Essentials\", \"Building staff\", \"Wifi\", \"Iron\", \"Self check-in\", \"Gym\"]</th>\n",
       "      <td>42</td>\n",
       "    </tr>\n",
       "    <tr>\n",
       "      <th>[\"Air conditioning\", \"Private entrance\", \"Carbon monoxide alarm\", \"Bed linens\", \"Smoke alarm\", \"Shampoo\", \"Hair dryer\", \"First aid kit\", \"TV with standard cable\", \"Extra pillows and blankets\", \"Hot water\", \"Hangers\", \"Heating\", \"Washer\", \"Coffee maker\", \"Luggage dropoff allowed\", \"Fire extinguisher\", \"Essentials\", \"Building staff\", \"Wifi\", \"Dryer\", \"Iron\", \"Self check-in\", \"Gym\"]</th>\n",
       "      <td>21</td>\n",
       "    </tr>\n",
       "    <tr>\n",
       "      <th>[\"Air conditioning\", \"Long term stays allowed\", \"Carbon monoxide alarm\", \"Room-darkening shades\", \"Bed linens\", \"Smoke alarm\", \"Microwave\", \"Shampoo\", \"Hair dryer\", \"First aid kit\", \"Cooking basics\", \"Keypad\", \"Refrigerator\", \"Oven\", \"Hangers\", \"Dishes and silverware\", \"Heating\", \"Fire extinguisher\", \"Essentials\", \"Kitchen\", \"Wifi\", \"Breakfast\", \"Iron\", \"Self check-in\", \"Stove\"]</th>\n",
       "      <td>19</td>\n",
       "    </tr>\n",
       "    <tr>\n",
       "      <th>[\"Bathtub\", \"Air conditioning\", \"Private entrance\", \"Long term stays allowed\", \"TV\", \"Carbon monoxide alarm\", \"Elevator\", \"Dryer \\u2013\\u00a0In unit\", \"Bed linens\", \"Smoke alarm\", \"Microwave\", \"Shampoo\", \"Hair dryer\", \"Pets allowed\", \"Dishwasher\", \"Refrigerator\", \"Hot water\", \"Oven\", \"Hangers\", \"Lockbox\", \"Heating\", \"Coffee maker\", \"Washer \\u2013\\u00a0In unit\", \"Essentials\", \"Kitchen\", \"Wifi\", \"Iron\", \"Self check-in\", \"Gym\"]</th>\n",
       "      <td>17</td>\n",
       "    </tr>\n",
       "    <tr>\n",
       "      <th>...</th>\n",
       "      <td>...</td>\n",
       "    </tr>\n",
       "    <tr>\n",
       "      <th>[\"Single level home\", \"Air conditioning\", \"Private entrance\", \"TV\", \"Carbon monoxide alarm\", \"Smoke alarm\", \"Free street parking\", \"Microwave\", \"Shampoo\", \"Hair dryer\", \"First aid kit\", \"Cooking basics\", \"Dishwasher\", \"Extra pillows and blankets\", \"Refrigerator\", \"Hot water\", \"Oven\", \"Free parking on premises\", \"Hangers\", \"Dishes and silverware\", \"Heating\", \"Smart lock\", \"Washer\", \"Coffee maker\", \"Backyard\", \"Luggage dropoff allowed\", \"Fire extinguisher\", \"Essentials\", \"Kitchen\", \"Wifi\", \"Dryer\", \"Iron\", \"Self check-in\", \"Stove\"]</th>\n",
       "      <td>1</td>\n",
       "    </tr>\n",
       "    <tr>\n",
       "      <th>[\"Hangers\", \"Cooking basics\", \"Essentials\", \"Breakfast\", \"Hair dryer\", \"Kitchen\", \"Bed linens\", \"Oven\", \"Washer\", \"Private entrance\", \"Iron\", \"Smart lock\", \"Coffee maker\", \"Lock on bedroom door\", \"Dishes and silverware\", \"Wifi\", \"Outdoor furniture\", \"First aid kit\", \"Dishwasher\", \"Extra pillows and blankets\", \"Smoke alarm\", \"Air conditioning\", \"Refrigerator\", \"Heating\", \"Dryer\", \"Stove\", \"Free street parking\", \"Microwave\", \"Hot water\", \"Long term stays allowed\", \"Shampoo\", \"Fire extinguisher\", \"Carbon monoxide alarm\"]</th>\n",
       "      <td>1</td>\n",
       "    </tr>\n",
       "    <tr>\n",
       "      <th>[\"Paid parking off premises\", \"Ethernet connection\", \"Air conditioning\", \"Paid parking on premises\", \"TV\", \"Carbon monoxide alarm\", \"Bed linens\", \"Smoke alarm\", \"Shampoo\", \"Hair dryer\", \"Extra pillows and blankets\", \"Hot water\", \"Hangers\", \"Lockbox\", \"Heating\", \"Washer\", \"Essentials\", \"Kitchen\", \"Wifi\", \"Dryer\", \"Iron\", \"Self check-in\"]</th>\n",
       "      <td>1</td>\n",
       "    </tr>\n",
       "    <tr>\n",
       "      <th>[\"Private backyard \\u2013 Fully fenced\", \"Long term stays allowed\", \"Smoke alarm\", \"Microwave\", \"Shampoo\", \"Hair dryer\", \"First aid kit\", \"Cooking basics\", \"Outdoor furniture\", \"Dedicated workspace\", \"Refrigerator\", \"Hot water\", \"Oven\", \"Hangers\", \"Dishes and silverware\", \"Patio or balcony\", \"Heating\", \"Smart lock\", \"Washer\", \"Coffee maker\", \"Window AC unit\", \"Fire extinguisher\", \"Essentials\", \"Kitchen\", \"Wifi\", \"Breakfast\", \"Iron\", \"Self check-in\", \"Stove\"]</th>\n",
       "      <td>1</td>\n",
       "    </tr>\n",
       "    <tr>\n",
       "      <th>[\"Bathtub\", \"Garnier conditioner\", \"Private gym in building\", \"Air conditioning\", \"Baking sheet\", \"Paid parking on premises\", \"TV\", \"Long term stays allowed\", \"Carbon monoxide alarm\", \"Elevator\", \"Room-darkening shades\", \"Bed linens\", \"Smoke alarm\", \"Outdoor dining area\", \"Free street parking\", \"Microwave\", \"Free dryer \\u2013 In unit\", \"Hair dryer\", \"First aid kit\", \"Dove/ Suave body soap\", \"GE electric stove\", \"Barbecue utensils\", \"Dishwasher\", \"Private pool - available seasonally, open specific hours\", \"Outdoor furniture\", \"Host greets you\", \"Extra pillows and blankets\", \"Trash compactor\", \"Cleaning products\", \"Hot water\", \"Blender\", \"Hangers\", \"Dishes and silverware\", \"Freezer\", \"General Electric  refrigerator\", \"Washer\", \"Ceiling fan\", \"Central heating\", \"Dove shampoo\", \"Board games\", \"Fire extinguisher\", \"BBQ grill\", \"Essentials\", \"Kitchen\", \"General Electric  stainless steel oven\", \"City skyline view\", \"Exercise equipment\", \"Security cameras on property\", \"Wifi\", \"Iron\", \"Fireplace guards\", \"Indoor fireplace\"]</th>\n",
       "      <td>1</td>\n",
       "    </tr>\n",
       "  </tbody>\n",
       "</table>\n",
       "<p>4510 rows × 1 columns</p>\n",
       "</div>"
      ],
      "text/plain": [
       "                                                    amenities\n",
       "[\"Bathtub\", \"Coffee\", \"Pool\", \"Paid parking off...         90\n",
       "[\"Air conditioning\", \"Paid parking on premises\"...         42\n",
       "[\"Air conditioning\", \"Private entrance\", \"Carbo...         21\n",
       "[\"Air conditioning\", \"Long term stays allowed\",...         19\n",
       "[\"Bathtub\", \"Air conditioning\", \"Private entran...         17\n",
       "...                                                       ...\n",
       "[\"Single level home\", \"Air conditioning\", \"Priv...          1\n",
       "[\"Hangers\", \"Cooking basics\", \"Essentials\", \"Br...          1\n",
       "[\"Paid parking off premises\", \"Ethernet connect...          1\n",
       "[\"Private backyard \\u2013 Fully fenced\", \"Long ...          1\n",
       "[\"Bathtub\", \"Garnier conditioner\", \"Private gym...          1\n",
       "\n",
       "[4510 rows x 1 columns]"
      ]
     },
     "execution_count": 136,
     "metadata": {},
     "output_type": "execute_result"
    }
   ],
   "source": [
    "pd.DataFrame(tempDF[\"amenities\"].value_counts())"
   ]
  },
  {
   "cell_type": "code",
   "execution_count": null,
   "id": "7ab0d29b",
   "metadata": {},
   "outputs": [],
   "source": []
  },
  {
   "cell_type": "markdown",
   "id": "49ad4ac2",
   "metadata": {},
   "source": [
    "## Minimum_minimum_nights"
   ]
  },
  {
   "cell_type": "code",
   "execution_count": 140,
   "id": "1f4b8ecf",
   "metadata": {},
   "outputs": [],
   "source": [
    "tempDF = airbnbDF\n",
    "tempDF[\"minimum_minimum_nights\"].replace('', np.nan, inplace=True)\n",
    "tempDF.dropna(subset=['minimum_minimum_nights'], inplace=True)"
   ]
  },
  {
   "cell_type": "code",
   "execution_count": 142,
   "id": "3a1e0b96",
   "metadata": {},
   "outputs": [
    {
     "data": {
      "text/plain": [
       "count    5051.000000\n",
       "mean       21.703623\n",
       "std        48.325270\n",
       "min         1.000000\n",
       "25%         2.000000\n",
       "50%         3.000000\n",
       "75%        31.000000\n",
       "max      1125.000000\n",
       "Name: minimum_minimum_nights, dtype: float64"
      ]
     },
     "execution_count": 142,
     "metadata": {},
     "output_type": "execute_result"
    }
   ],
   "source": [
    "tempDF[\"minimum_minimum_nights\"].describe()"
   ]
  },
  {
   "cell_type": "code",
   "execution_count": 144,
   "id": "8ff0cd4c",
   "metadata": {},
   "outputs": [
    {
     "data": {
      "text/plain": [
       "1       1155\n",
       "2       1084\n",
       "3        391\n",
       "4         99\n",
       "5         57\n",
       "6         11\n",
       "7         62\n",
       "8          4\n",
       "9          1\n",
       "10        12\n",
       "12         1\n",
       "13         3\n",
       "14        28\n",
       "15         7\n",
       "16         1\n",
       "17         1\n",
       "20         1\n",
       "21         7\n",
       "22         1\n",
       "25         5\n",
       "27         1\n",
       "28        31\n",
       "29         2\n",
       "30        71\n",
       "31      1492\n",
       "32       216\n",
       "33         2\n",
       "35         2\n",
       "40         2\n",
       "42         1\n",
       "45         4\n",
       "48         1\n",
       "50         3\n",
       "55         1\n",
       "56         1\n",
       "60        47\n",
       "65         1\n",
       "70        10\n",
       "75         1\n",
       "77         2\n",
       "80         1\n",
       "87         1\n",
       "89         2\n",
       "90        40\n",
       "91        84\n",
       "110        1\n",
       "120        5\n",
       "135        1\n",
       "150        3\n",
       "180       20\n",
       "181        1\n",
       "183        1\n",
       "184        4\n",
       "185        1\n",
       "200        1\n",
       "360       48\n",
       "365       12\n",
       "600        1\n",
       "730        1\n",
       "1125       1\n",
       "Name: minimum_minimum_nights, dtype: int64"
      ]
     },
     "execution_count": 144,
     "metadata": {},
     "output_type": "execute_result"
    }
   ],
   "source": [
    "tempDF[\"minimum_minimum_nights\"].value_counts().sort_index()"
   ]
  },
  {
   "cell_type": "code",
   "execution_count": null,
   "id": "f74ed9e6",
   "metadata": {},
   "outputs": [],
   "source": []
  },
  {
   "cell_type": "markdown",
   "id": "01057d80",
   "metadata": {},
   "source": [
    "## Maximum_minimum_nights"
   ]
  },
  {
   "cell_type": "code",
   "execution_count": null,
   "id": "873a36ba",
   "metadata": {},
   "outputs": [],
   "source": []
  },
  {
   "cell_type": "code",
   "execution_count": 146,
   "id": "8d50bdcb",
   "metadata": {},
   "outputs": [],
   "source": [
    "tempDF = airbnbDF\n",
    "tempDF[\"maximum_minimum_nights\"].replace('', np.nan, inplace=True)\n",
    "tempDF.dropna(subset=['maximum_minimum_nights'], inplace=True)"
   ]
  },
  {
   "cell_type": "code",
   "execution_count": 147,
   "id": "be4b9fd6",
   "metadata": {},
   "outputs": [
    {
     "data": {
      "text/plain": [
       "count    5051.000000\n",
       "mean       38.908929\n",
       "std        95.998420\n",
       "min         1.000000\n",
       "25%         2.000000\n",
       "50%         5.000000\n",
       "75%        31.000000\n",
       "max      1125.000000\n",
       "Name: maximum_minimum_nights, dtype: float64"
      ]
     },
     "execution_count": 147,
     "metadata": {},
     "output_type": "execute_result"
    }
   ],
   "source": [
    "tempDF[\"maximum_minimum_nights\"].describe()"
   ]
  },
  {
   "cell_type": "code",
   "execution_count": 148,
   "id": "ad1317db",
   "metadata": {},
   "outputs": [
    {
     "data": {
      "text/plain": [
       "1       600\n",
       "2       965\n",
       "3       610\n",
       "4       301\n",
       "5       112\n",
       "       ... \n",
       "365      18\n",
       "366     158\n",
       "600       1\n",
       "730      34\n",
       "1125      1\n",
       "Name: maximum_minimum_nights, Length: 63, dtype: int64"
      ]
     },
     "execution_count": 148,
     "metadata": {},
     "output_type": "execute_result"
    }
   ],
   "source": [
    "tempDF[\"maximum_minimum_nights\"].value_counts().sort_index()"
   ]
  },
  {
   "cell_type": "code",
   "execution_count": null,
   "id": "3bf992e6",
   "metadata": {},
   "outputs": [],
   "source": []
  },
  {
   "cell_type": "markdown",
   "id": "83e6a2e5",
   "metadata": {},
   "source": [
    "## Minimum_maximum_nights"
   ]
  },
  {
   "cell_type": "code",
   "execution_count": null,
   "id": "96179f5f",
   "metadata": {},
   "outputs": [],
   "source": []
  },
  {
   "cell_type": "code",
   "execution_count": 151,
   "id": "4a4b6abb",
   "metadata": {},
   "outputs": [],
   "source": [
    "tempDF = airbnbDF\n",
    "tempDF[\"minimum_maximum_nights\"].replace('', np.nan, inplace=True)\n",
    "tempDF.dropna(subset=['minimum_maximum_nights'], inplace=True)"
   ]
  },
  {
   "cell_type": "code",
   "execution_count": 152,
   "id": "ee4b17e4",
   "metadata": {},
   "outputs": [
    {
     "data": {
      "text/plain": [
       "count    5.051000e+03\n",
       "mean     2.795788e+03\n",
       "std      1.406949e+05\n",
       "min      1.000000e+00\n",
       "25%      3.650000e+02\n",
       "50%      1.125000e+03\n",
       "75%      1.125000e+03\n",
       "max      9.999999e+06\n",
       "Name: minimum_maximum_nights, dtype: float64"
      ]
     },
     "execution_count": 152,
     "metadata": {},
     "output_type": "execute_result"
    }
   ],
   "source": [
    "tempDF[\"minimum_maximum_nights\"].describe()"
   ]
  },
  {
   "cell_type": "code",
   "execution_count": 153,
   "id": "9bfa6476",
   "metadata": {},
   "outputs": [
    {
     "data": {
      "text/plain": [
       "1           154\n",
       "2            15\n",
       "3            13\n",
       "4             4\n",
       "5            53\n",
       "           ... \n",
       "1125       3358\n",
       "1825          1\n",
       "3365          1\n",
       "10000         1\n",
       "9999999       1\n",
       "Name: minimum_maximum_nights, Length: 111, dtype: int64"
      ]
     },
     "execution_count": 153,
     "metadata": {},
     "output_type": "execute_result"
    }
   ],
   "source": [
    "tempDF[\"minimum_maximum_nights\"].value_counts().sort_index()"
   ]
  },
  {
   "cell_type": "code",
   "execution_count": null,
   "id": "ebf66fd8",
   "metadata": {},
   "outputs": [],
   "source": []
  },
  {
   "cell_type": "code",
   "execution_count": null,
   "id": "1f0d1f71",
   "metadata": {},
   "outputs": [],
   "source": []
  },
  {
   "cell_type": "code",
   "execution_count": null,
   "id": "bb975479",
   "metadata": {},
   "outputs": [],
   "source": []
  },
  {
   "cell_type": "code",
   "execution_count": null,
   "id": "b055f34c",
   "metadata": {},
   "outputs": [],
   "source": []
  },
  {
   "cell_type": "markdown",
   "id": "8caec290",
   "metadata": {},
   "source": [
    "## Maximum_maximum_nights"
   ]
  },
  {
   "cell_type": "code",
   "execution_count": null,
   "id": "e442c47b",
   "metadata": {},
   "outputs": [],
   "source": []
  },
  {
   "cell_type": "code",
   "execution_count": null,
   "id": "dddb04f1",
   "metadata": {},
   "outputs": [],
   "source": []
  },
  {
   "cell_type": "code",
   "execution_count": null,
   "id": "0c6ad7ff",
   "metadata": {},
   "outputs": [],
   "source": []
  },
  {
   "cell_type": "code",
   "execution_count": null,
   "id": "1e5cf311",
   "metadata": {},
   "outputs": [],
   "source": []
  },
  {
   "cell_type": "markdown",
   "id": "4256d5e2",
   "metadata": {},
   "source": [
    "## Pairwise Variable EDA"
   ]
  },
  {
   "cell_type": "code",
   "execution_count": null,
   "id": "b6fef704",
   "metadata": {},
   "outputs": [],
   "source": []
  },
  {
   "cell_type": "markdown",
   "id": "90a749f0",
   "metadata": {},
   "source": [
    "## Neighbourhood_cleansed vs. price"
   ]
  },
  {
   "cell_type": "code",
   "execution_count": null,
   "id": "c63b3898",
   "metadata": {},
   "outputs": [],
   "source": []
  },
  {
   "cell_type": "code",
   "execution_count": null,
   "id": "9cbeca82",
   "metadata": {},
   "outputs": [],
   "source": []
  },
  {
   "cell_type": "code",
   "execution_count": null,
   "id": "bee50cea",
   "metadata": {},
   "outputs": [],
   "source": []
  },
  {
   "cell_type": "code",
   "execution_count": null,
   "id": "62634f7a",
   "metadata": {},
   "outputs": [],
   "source": []
  },
  {
   "cell_type": "code",
   "execution_count": null,
   "id": "86abf7f0",
   "metadata": {},
   "outputs": [],
   "source": []
  },
  {
   "cell_type": "markdown",
   "id": "b21233a0",
   "metadata": {},
   "source": [
    "## Accommodates vs. price"
   ]
  },
  {
   "cell_type": "code",
   "execution_count": null,
   "id": "404077d2",
   "metadata": {},
   "outputs": [],
   "source": []
  },
  {
   "cell_type": "code",
   "execution_count": null,
   "id": "2d2520c1",
   "metadata": {},
   "outputs": [],
   "source": []
  },
  {
   "cell_type": "code",
   "execution_count": null,
   "id": "d8bb13cf",
   "metadata": {},
   "outputs": [],
   "source": []
  },
  {
   "cell_type": "code",
   "execution_count": null,
   "id": "cee64ef6",
   "metadata": {},
   "outputs": [],
   "source": []
  },
  {
   "cell_type": "markdown",
   "id": "15a056a8",
   "metadata": {},
   "source": [
    "## Bathrooms_text vs. price"
   ]
  },
  {
   "cell_type": "code",
   "execution_count": null,
   "id": "3e9eec17",
   "metadata": {},
   "outputs": [],
   "source": []
  },
  {
   "cell_type": "code",
   "execution_count": null,
   "id": "956cf2ab",
   "metadata": {},
   "outputs": [],
   "source": []
  },
  {
   "cell_type": "code",
   "execution_count": null,
   "id": "fb070e84",
   "metadata": {},
   "outputs": [],
   "source": []
  },
  {
   "cell_type": "code",
   "execution_count": null,
   "id": "1d73f953",
   "metadata": {},
   "outputs": [],
   "source": []
  },
  {
   "cell_type": "markdown",
   "id": "f50a271a",
   "metadata": {},
   "source": [
    "## Bedrooms vs. price"
   ]
  },
  {
   "cell_type": "code",
   "execution_count": null,
   "id": "688fc81a",
   "metadata": {},
   "outputs": [],
   "source": []
  },
  {
   "cell_type": "code",
   "execution_count": null,
   "id": "5888e47d",
   "metadata": {},
   "outputs": [],
   "source": []
  },
  {
   "cell_type": "code",
   "execution_count": null,
   "id": "8d12fbde",
   "metadata": {},
   "outputs": [],
   "source": []
  },
  {
   "cell_type": "markdown",
   "id": "894cb8c3",
   "metadata": {},
   "source": [
    "## Beds vs. price"
   ]
  },
  {
   "cell_type": "code",
   "execution_count": null,
   "id": "807ddbe6",
   "metadata": {},
   "outputs": [],
   "source": []
  },
  {
   "cell_type": "code",
   "execution_count": null,
   "id": "a293b859",
   "metadata": {},
   "outputs": [],
   "source": []
  },
  {
   "cell_type": "code",
   "execution_count": null,
   "id": "93a621e1",
   "metadata": {},
   "outputs": [],
   "source": []
  },
  {
   "cell_type": "markdown",
   "id": "9cd04da5",
   "metadata": {},
   "source": [
    "## Amenities vs. price"
   ]
  },
  {
   "cell_type": "code",
   "execution_count": null,
   "id": "7f75fef7",
   "metadata": {},
   "outputs": [],
   "source": []
  },
  {
   "cell_type": "code",
   "execution_count": null,
   "id": "2438c62d",
   "metadata": {},
   "outputs": [],
   "source": []
  },
  {
   "cell_type": "code",
   "execution_count": null,
   "id": "f0bd9acc",
   "metadata": {},
   "outputs": [],
   "source": []
  },
  {
   "cell_type": "code",
   "execution_count": null,
   "id": "8e80de06",
   "metadata": {},
   "outputs": [],
   "source": []
  },
  {
   "cell_type": "code",
   "execution_count": null,
   "id": "2fe98505",
   "metadata": {},
   "outputs": [],
   "source": []
  }
 ],
 "metadata": {
  "kernelspec": {
   "display_name": "Python 3 (ipykernel)",
   "language": "python",
   "name": "python3"
  },
  "language_info": {
   "codemirror_mode": {
    "name": "ipython",
    "version": 3
   },
   "file_extension": ".py",
   "mimetype": "text/x-python",
   "name": "python",
   "nbconvert_exporter": "python",
   "pygments_lexer": "ipython3",
   "version": "3.8.5"
  }
 },
 "nbformat": 4,
 "nbformat_minor": 5
}
