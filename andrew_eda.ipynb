{
 "cells": [
  {
   "cell_type": "markdown",
   "id": "1a98c515",
   "metadata": {},
   "source": [
    "## EDA"
   ]
  },
  {
   "cell_type": "code",
   "execution_count": 1,
   "id": "caf8c03b",
   "metadata": {},
   "outputs": [],
   "source": [
    "import sqlite3\n",
    "import numpy as np\n",
    "import scipy.stats as stats\n",
    "import seaborn as sns\n",
    "import matplotlib.pyplot as plt\n",
    "import pandas as pd\n",
    "import random\n",
    "import statsmodels.api as sm\n",
    "\n",
    "import sys\n",
    "sys.path.append('resources')\n",
    "\n",
    "sns.set(style=\"whitegrid\")\n",
    "\n",
    "pd.set_option('display.max_rows', 500)\n",
    "pd.set_option('display.max_columns', 500)\n",
    "pd.set_option('display.width', 200)"
   ]
  },
  {
   "cell_type": "code",
   "execution_count": 2,
   "id": "6467c939",
   "metadata": {},
   "outputs": [],
   "source": [
    "connection = sqlite3.connect('airbnb.db')"
   ]
  },
  {
   "cell_type": "code",
   "execution_count": 3,
   "id": "244dddc3",
   "metadata": {},
   "outputs": [],
   "source": [
    "vwListings = pd.read_sql_query(\"SELECT * FROM airbnb_view\", connection)"
   ]
  },
  {
   "cell_type": "code",
   "execution_count": 4,
   "id": "f9a93e1f",
   "metadata": {
    "scrolled": true
   },
   "outputs": [
    {
     "data": {
      "text/html": [
       "<div>\n",
       "<style scoped>\n",
       "    .dataframe tbody tr th:only-of-type {\n",
       "        vertical-align: middle;\n",
       "    }\n",
       "\n",
       "    .dataframe tbody tr th {\n",
       "        vertical-align: top;\n",
       "    }\n",
       "\n",
       "    .dataframe thead th {\n",
       "        text-align: right;\n",
       "    }\n",
       "</style>\n",
       "<table border=\"1\" class=\"dataframe\">\n",
       "  <thead>\n",
       "    <tr style=\"text-align: right;\">\n",
       "      <th></th>\n",
       "      <th>listing_id</th>\n",
       "      <th>MAX(date)</th>\n",
       "      <th>available</th>\n",
       "      <th>price</th>\n",
       "      <th>adjusted_price</th>\n",
       "      <th>minimum_nights</th>\n",
       "      <th>maximum_nights</th>\n",
       "      <th>source_name</th>\n",
       "      <th>id</th>\n",
       "      <th>MAX(last_scraped)</th>\n",
       "      <th>source_name:1</th>\n",
       "      <th>scrape_id</th>\n",
       "      <th>source</th>\n",
       "      <th>name</th>\n",
       "      <th>description</th>\n",
       "      <th>neighborhood_overview</th>\n",
       "      <th>host_id</th>\n",
       "      <th>host_name</th>\n",
       "      <th>host_since</th>\n",
       "      <th>host_location</th>\n",
       "      <th>host_about</th>\n",
       "      <th>host_response_time</th>\n",
       "      <th>host_response_rate</th>\n",
       "      <th>host_acceptance_rate</th>\n",
       "      <th>host_is_superhost</th>\n",
       "      <th>host_neighbourhood</th>\n",
       "      <th>host_listings_count</th>\n",
       "      <th>host_total_listings_count</th>\n",
       "      <th>host_verifications</th>\n",
       "      <th>host_has_profile_pic</th>\n",
       "      <th>host_identity_verified</th>\n",
       "      <th>neighbourhood</th>\n",
       "      <th>neighbourhood_cleansed</th>\n",
       "      <th>latitude</th>\n",
       "      <th>longitude</th>\n",
       "      <th>property_type</th>\n",
       "      <th>room_type</th>\n",
       "      <th>accommodates</th>\n",
       "      <th>bathrooms</th>\n",
       "      <th>bathrooms_text</th>\n",
       "      <th>bedrooms</th>\n",
       "      <th>beds</th>\n",
       "      <th>amenities</th>\n",
       "      <th>minimum_minimum_nights</th>\n",
       "      <th>maximum_minimum_nights</th>\n",
       "      <th>minimum_maximum_nights</th>\n",
       "      <th>maximum_maximum_nights</th>\n",
       "      <th>minimum_nights_avg_ntm</th>\n",
       "      <th>maximum_nights_avg_ntm</th>\n",
       "      <th>has_availability</th>\n",
       "      <th>availability_30</th>\n",
       "      <th>availability_60</th>\n",
       "      <th>availability_90</th>\n",
       "      <th>availability_365</th>\n",
       "      <th>calendar_last_scraped</th>\n",
       "      <th>number_of_reviews</th>\n",
       "      <th>number_of_reviews_ltm</th>\n",
       "      <th>number_of_reviews_l30d</th>\n",
       "      <th>first_review</th>\n",
       "      <th>last_review</th>\n",
       "      <th>review_scores_rating</th>\n",
       "      <th>review_scores_accuracy</th>\n",
       "      <th>review_scores_cleanliness</th>\n",
       "      <th>review_scores_checkin</th>\n",
       "      <th>review_scores_communication</th>\n",
       "      <th>review_scores_location</th>\n",
       "      <th>review_scores_value</th>\n",
       "      <th>license</th>\n",
       "      <th>instant_bookable</th>\n",
       "      <th>calculated_host_listings_count</th>\n",
       "      <th>calculated_host_listings_count_entire_homes</th>\n",
       "      <th>calculated_host_listings_count_private_rooms</th>\n",
       "      <th>calculated_host_listings_count_shared_rooms</th>\n",
       "      <th>reviews_per_month</th>\n",
       "    </tr>\n",
       "  </thead>\n",
       "  <tbody>\n",
       "    <tr>\n",
       "      <th>0</th>\n",
       "      <td>3571</td>\n",
       "      <td>2023-09-13</td>\n",
       "      <td>t</td>\n",
       "      <td>$200.00</td>\n",
       "      <td>$200.00</td>\n",
       "      <td>90</td>\n",
       "      <td>730</td>\n",
       "      <td>calendar_9_2022</td>\n",
       "      <td>3571</td>\n",
       "      <td>2022-09-14</td>\n",
       "      <td>listings_9_2022</td>\n",
       "      <td>20220914194735</td>\n",
       "      <td>city scrape</td>\n",
       "      <td>River Place</td>\n",
       "      <td>&lt;b&gt;The space&lt;/b&gt;&lt;br /&gt;Penthouse apartment with...</td>\n",
       "      <td></td>\n",
       "      <td>4517</td>\n",
       "      <td>Don</td>\n",
       "      <td>2008-11-22</td>\n",
       "      <td>Arlington, VA</td>\n",
       "      <td>We are from Arlington Virginia and enjoy our a...</td>\n",
       "      <td>N/A</td>\n",
       "      <td>N/A</td>\n",
       "      <td>N/A</td>\n",
       "      <td>f</td>\n",
       "      <td></td>\n",
       "      <td>1</td>\n",
       "      <td>3</td>\n",
       "      <td>['email', 'phone']</td>\n",
       "      <td>t</td>\n",
       "      <td>f</td>\n",
       "      <td></td>\n",
       "      <td>Georgetown, Burleith/Hillandale</td>\n",
       "      <td>38.895860</td>\n",
       "      <td>-77.069980</td>\n",
       "      <td>Entire condo</td>\n",
       "      <td>Entire home/apt</td>\n",
       "      <td>6</td>\n",
       "      <td></td>\n",
       "      <td>2 baths</td>\n",
       "      <td>2</td>\n",
       "      <td>2</td>\n",
       "      <td>[\"Dryer\", \"Smoke alarm\", \"TV with standard cab...</td>\n",
       "      <td>90</td>\n",
       "      <td>90</td>\n",
       "      <td>730</td>\n",
       "      <td>730</td>\n",
       "      <td>90.0</td>\n",
       "      <td>730.0</td>\n",
       "      <td>t</td>\n",
       "      <td>0</td>\n",
       "      <td>0</td>\n",
       "      <td>12</td>\n",
       "      <td>287</td>\n",
       "      <td>2022-09-14</td>\n",
       "      <td>9</td>\n",
       "      <td>0</td>\n",
       "      <td>0</td>\n",
       "      <td>2010-04-18</td>\n",
       "      <td>2013-05-21</td>\n",
       "      <td>4.5</td>\n",
       "      <td>4.33</td>\n",
       "      <td>4.67</td>\n",
       "      <td>4.67</td>\n",
       "      <td>4.83</td>\n",
       "      <td>4.83</td>\n",
       "      <td>4.67</td>\n",
       "      <td></td>\n",
       "      <td>f</td>\n",
       "      <td>1</td>\n",
       "      <td>1</td>\n",
       "      <td>0</td>\n",
       "      <td>0</td>\n",
       "      <td>0.06</td>\n",
       "    </tr>\n",
       "    <tr>\n",
       "      <th>1</th>\n",
       "      <td>3686</td>\n",
       "      <td>2024-03-17</td>\n",
       "      <td>t</td>\n",
       "      <td>$67.00</td>\n",
       "      <td>$67.00</td>\n",
       "      <td>31</td>\n",
       "      <td>365</td>\n",
       "      <td>calendar_3_2023</td>\n",
       "      <td>3686</td>\n",
       "      <td>2023-03-19</td>\n",
       "      <td>listings_3_2023</td>\n",
       "      <td>20230319041206</td>\n",
       "      <td>city scrape</td>\n",
       "      <td>Vita's Hideaway</td>\n",
       "      <td>IMPORTANT NOTES&lt;br /&gt;* Carefully read and be s...</td>\n",
       "      <td>We love that our neighborhood is up and coming...</td>\n",
       "      <td>4645</td>\n",
       "      <td>Vita</td>\n",
       "      <td>2008-11-26</td>\n",
       "      <td>Washington, DC</td>\n",
       "      <td>I am a literary scholar, teacher, poet, vegan ...</td>\n",
       "      <td>within a few hours</td>\n",
       "      <td>100%</td>\n",
       "      <td>100%</td>\n",
       "      <td>t</td>\n",
       "      <td>Anacostia</td>\n",
       "      <td>1</td>\n",
       "      <td>4</td>\n",
       "      <td>['email', 'phone', 'work_email']</td>\n",
       "      <td>t</td>\n",
       "      <td>t</td>\n",
       "      <td>Washington, District of Columbia, United States</td>\n",
       "      <td>Historic Anacostia</td>\n",
       "      <td>38.863390</td>\n",
       "      <td>-76.988890</td>\n",
       "      <td>Private room in home</td>\n",
       "      <td>Private room</td>\n",
       "      <td>1</td>\n",
       "      <td></td>\n",
       "      <td>1 private bath</td>\n",
       "      <td>1</td>\n",
       "      <td>1</td>\n",
       "      <td>[\"Carbon monoxide alarm\", \"Bed linens\", \"Smoke...</td>\n",
       "      <td>31</td>\n",
       "      <td>31</td>\n",
       "      <td>365</td>\n",
       "      <td>365</td>\n",
       "      <td>31.0</td>\n",
       "      <td>365.0</td>\n",
       "      <td>t</td>\n",
       "      <td>30</td>\n",
       "      <td>42</td>\n",
       "      <td>42</td>\n",
       "      <td>211</td>\n",
       "      <td>2023-03-19</td>\n",
       "      <td>81</td>\n",
       "      <td>2</td>\n",
       "      <td>0</td>\n",
       "      <td>2010-11-01</td>\n",
       "      <td>2022-07-06</td>\n",
       "      <td>4.63</td>\n",
       "      <td>4.72</td>\n",
       "      <td>4.43</td>\n",
       "      <td>4.9</td>\n",
       "      <td>4.83</td>\n",
       "      <td>3.86</td>\n",
       "      <td>4.62</td>\n",
       "      <td></td>\n",
       "      <td>f</td>\n",
       "      <td>1</td>\n",
       "      <td>0</td>\n",
       "      <td>1</td>\n",
       "      <td>0</td>\n",
       "      <td>0.54</td>\n",
       "    </tr>\n",
       "    <tr>\n",
       "      <th>2</th>\n",
       "      <td>3943</td>\n",
       "      <td>2024-03-17</td>\n",
       "      <td>t</td>\n",
       "      <td>$85.00</td>\n",
       "      <td>$85.00</td>\n",
       "      <td>1</td>\n",
       "      <td>1125</td>\n",
       "      <td>calendar_3_2023</td>\n",
       "      <td>3943</td>\n",
       "      <td>2023-03-19</td>\n",
       "      <td>listings_3_2023</td>\n",
       "      <td>20230319041206</td>\n",
       "      <td>city scrape</td>\n",
       "      <td>Historic Rowhouse Near Monuments</td>\n",
       "      <td>You will be staying in high ceiling  bedroom w...</td>\n",
       "      <td>This rowhouse is centrally located in the hear...</td>\n",
       "      <td>5059</td>\n",
       "      <td>Vasa</td>\n",
       "      <td>2008-12-12</td>\n",
       "      <td>Washington, DC</td>\n",
       "      <td>I have been living and working in DC for the l...</td>\n",
       "      <td>within an hour</td>\n",
       "      <td>100%</td>\n",
       "      <td>82%</td>\n",
       "      <td>t</td>\n",
       "      <td>Eckington</td>\n",
       "      <td>5</td>\n",
       "      <td>5</td>\n",
       "      <td>['email', 'phone']</td>\n",
       "      <td>t</td>\n",
       "      <td>t</td>\n",
       "      <td>Washington, District of Columbia, United States</td>\n",
       "      <td>Edgewood, Bloomingdale, Truxton Circle, Eckington</td>\n",
       "      <td>38.911950</td>\n",
       "      <td>-77.004560</td>\n",
       "      <td>Private room in townhouse</td>\n",
       "      <td>Private room</td>\n",
       "      <td>2</td>\n",
       "      <td></td>\n",
       "      <td>1 private bath</td>\n",
       "      <td>1</td>\n",
       "      <td>1</td>\n",
       "      <td>[\"Portable fans\", \"Single level home\", \"Centra...</td>\n",
       "      <td>1</td>\n",
       "      <td>1</td>\n",
       "      <td>1125</td>\n",
       "      <td>1125</td>\n",
       "      <td>1.0</td>\n",
       "      <td>1125.0</td>\n",
       "      <td>t</td>\n",
       "      <td>6</td>\n",
       "      <td>24</td>\n",
       "      <td>33</td>\n",
       "      <td>289</td>\n",
       "      <td>2023-03-19</td>\n",
       "      <td>455</td>\n",
       "      <td>17</td>\n",
       "      <td>2</td>\n",
       "      <td>2009-05-10</td>\n",
       "      <td>2023-03-12</td>\n",
       "      <td>4.82</td>\n",
       "      <td>4.88</td>\n",
       "      <td>4.92</td>\n",
       "      <td>4.94</td>\n",
       "      <td>4.9</td>\n",
       "      <td>4.57</td>\n",
       "      <td>4.74</td>\n",
       "      <td>Hosted License: 5007242201001033</td>\n",
       "      <td>f</td>\n",
       "      <td>5</td>\n",
       "      <td>0</td>\n",
       "      <td>5</td>\n",
       "      <td>0</td>\n",
       "      <td>2.7</td>\n",
       "    </tr>\n",
       "    <tr>\n",
       "      <th>3</th>\n",
       "      <td>4197</td>\n",
       "      <td>2024-03-17</td>\n",
       "      <td>t</td>\n",
       "      <td>$90.00</td>\n",
       "      <td>$90.00</td>\n",
       "      <td>14</td>\n",
       "      <td>1125</td>\n",
       "      <td>calendar_3_2023</td>\n",
       "      <td>4197</td>\n",
       "      <td>2023-03-19</td>\n",
       "      <td>listings_3_2023</td>\n",
       "      <td>20230319041206</td>\n",
       "      <td>city scrape</td>\n",
       "      <td>Capitol Hill Bedroom walk to Metro</td>\n",
       "      <td>This is the middle bedroom upstairs in a resto...</td>\n",
       "      <td>Our area, the Eastern Market neighborhood of C...</td>\n",
       "      <td>5061</td>\n",
       "      <td>Sandra</td>\n",
       "      <td>2008-12-12</td>\n",
       "      <td>Washington, DC</td>\n",
       "      <td>I’m a California native who came to work for t...</td>\n",
       "      <td>within an hour</td>\n",
       "      <td>100%</td>\n",
       "      <td>96%</td>\n",
       "      <td>t</td>\n",
       "      <td>Capitol Hill</td>\n",
       "      <td>1</td>\n",
       "      <td>2</td>\n",
       "      <td>['email', 'phone']</td>\n",
       "      <td>t</td>\n",
       "      <td>t</td>\n",
       "      <td>Washington, District of Columbia, United States</td>\n",
       "      <td>Capitol Hill, Lincoln Park</td>\n",
       "      <td>38.887190</td>\n",
       "      <td>-76.994720</td>\n",
       "      <td>Private room in home</td>\n",
       "      <td>Private room</td>\n",
       "      <td>1</td>\n",
       "      <td></td>\n",
       "      <td>1.5 shared baths</td>\n",
       "      <td>1</td>\n",
       "      <td>1</td>\n",
       "      <td>[\"Bathtub\", \"31\\\" HDTV with Amazon Prime Video...</td>\n",
       "      <td>14</td>\n",
       "      <td>14</td>\n",
       "      <td>1125</td>\n",
       "      <td>1125</td>\n",
       "      <td>14.0</td>\n",
       "      <td>1125.0</td>\n",
       "      <td>t</td>\n",
       "      <td>7</td>\n",
       "      <td>24</td>\n",
       "      <td>44</td>\n",
       "      <td>319</td>\n",
       "      <td>2023-03-19</td>\n",
       "      <td>52</td>\n",
       "      <td>7</td>\n",
       "      <td>0</td>\n",
       "      <td>2009-05-14</td>\n",
       "      <td>2022-11-09</td>\n",
       "      <td>4.84</td>\n",
       "      <td>4.98</td>\n",
       "      <td>4.86</td>\n",
       "      <td>5</td>\n",
       "      <td>4.98</td>\n",
       "      <td>4.96</td>\n",
       "      <td>4.94</td>\n",
       "      <td>Hosted License: 5007242201000749</td>\n",
       "      <td>f</td>\n",
       "      <td>1</td>\n",
       "      <td>0</td>\n",
       "      <td>1</td>\n",
       "      <td>0</td>\n",
       "      <td>0.31</td>\n",
       "    </tr>\n",
       "    <tr>\n",
       "      <th>4</th>\n",
       "      <td>4373</td>\n",
       "      <td>2023-09-13</td>\n",
       "      <td>t</td>\n",
       "      <td>$40.00</td>\n",
       "      <td>$40.00</td>\n",
       "      <td>28</td>\n",
       "      <td>1125</td>\n",
       "      <td>calendar_9_2022</td>\n",
       "      <td>4373</td>\n",
       "      <td>2022-09-14</td>\n",
       "      <td>listings_9_2022</td>\n",
       "      <td>20220914194735</td>\n",
       "      <td>city scrape</td>\n",
       "      <td>1,2 bdrm sitrm bath nr AIRP kitchen</td>\n",
       "      <td>You will have as much privacy as you wish.  Th...</td>\n",
       "      <td>Our neighborhood is quiet, safe, and friendly....</td>\n",
       "      <td>5623</td>\n",
       "      <td>Nancy And Don</td>\n",
       "      <td>2008-12-27</td>\n",
       "      <td>Washington, DC</td>\n",
       "      <td>We are an easy-going \"semi-retired\" couple.  W...</td>\n",
       "      <td>N/A</td>\n",
       "      <td>N/A</td>\n",
       "      <td>62%</td>\n",
       "      <td>t</td>\n",
       "      <td></td>\n",
       "      <td>2</td>\n",
       "      <td>3</td>\n",
       "      <td>['email', 'phone']</td>\n",
       "      <td>t</td>\n",
       "      <td>t</td>\n",
       "      <td>Silver Spring, Maryland, United States</td>\n",
       "      <td>Takoma, Brightwood, Manor Park</td>\n",
       "      <td>38.989080</td>\n",
       "      <td>-77.015820</td>\n",
       "      <td>Private room in home</td>\n",
       "      <td>Private room</td>\n",
       "      <td>2</td>\n",
       "      <td></td>\n",
       "      <td>2 shared baths</td>\n",
       "      <td>1</td>\n",
       "      <td>1</td>\n",
       "      <td>[\"Private patio or balcony\", \"Dryer\", \"Smoke a...</td>\n",
       "      <td>28</td>\n",
       "      <td>28</td>\n",
       "      <td>1125</td>\n",
       "      <td>1125</td>\n",
       "      <td>28.0</td>\n",
       "      <td>1125.0</td>\n",
       "      <td>t</td>\n",
       "      <td>0</td>\n",
       "      <td>0</td>\n",
       "      <td>0</td>\n",
       "      <td>64</td>\n",
       "      <td>2022-09-14</td>\n",
       "      <td>24</td>\n",
       "      <td>1</td>\n",
       "      <td>0</td>\n",
       "      <td>2009-01-20</td>\n",
       "      <td>2022-05-21</td>\n",
       "      <td>4.9</td>\n",
       "      <td>4.73</td>\n",
       "      <td>4.55</td>\n",
       "      <td>4.86</td>\n",
       "      <td>4.86</td>\n",
       "      <td>4.81</td>\n",
       "      <td>4.71</td>\n",
       "      <td></td>\n",
       "      <td>f</td>\n",
       "      <td>2</td>\n",
       "      <td>0</td>\n",
       "      <td>2</td>\n",
       "      <td>0</td>\n",
       "      <td>0.14</td>\n",
       "    </tr>\n",
       "    <tr>\n",
       "      <th>...</th>\n",
       "      <td>...</td>\n",
       "      <td>...</td>\n",
       "      <td>...</td>\n",
       "      <td>...</td>\n",
       "      <td>...</td>\n",
       "      <td>...</td>\n",
       "      <td>...</td>\n",
       "      <td>...</td>\n",
       "      <td>...</td>\n",
       "      <td>...</td>\n",
       "      <td>...</td>\n",
       "      <td>...</td>\n",
       "      <td>...</td>\n",
       "      <td>...</td>\n",
       "      <td>...</td>\n",
       "      <td>...</td>\n",
       "      <td>...</td>\n",
       "      <td>...</td>\n",
       "      <td>...</td>\n",
       "      <td>...</td>\n",
       "      <td>...</td>\n",
       "      <td>...</td>\n",
       "      <td>...</td>\n",
       "      <td>...</td>\n",
       "      <td>...</td>\n",
       "      <td>...</td>\n",
       "      <td>...</td>\n",
       "      <td>...</td>\n",
       "      <td>...</td>\n",
       "      <td>...</td>\n",
       "      <td>...</td>\n",
       "      <td>...</td>\n",
       "      <td>...</td>\n",
       "      <td>...</td>\n",
       "      <td>...</td>\n",
       "      <td>...</td>\n",
       "      <td>...</td>\n",
       "      <td>...</td>\n",
       "      <td>...</td>\n",
       "      <td>...</td>\n",
       "      <td>...</td>\n",
       "      <td>...</td>\n",
       "      <td>...</td>\n",
       "      <td>...</td>\n",
       "      <td>...</td>\n",
       "      <td>...</td>\n",
       "      <td>...</td>\n",
       "      <td>...</td>\n",
       "      <td>...</td>\n",
       "      <td>...</td>\n",
       "      <td>...</td>\n",
       "      <td>...</td>\n",
       "      <td>...</td>\n",
       "      <td>...</td>\n",
       "      <td>...</td>\n",
       "      <td>...</td>\n",
       "      <td>...</td>\n",
       "      <td>...</td>\n",
       "      <td>...</td>\n",
       "      <td>...</td>\n",
       "      <td>...</td>\n",
       "      <td>...</td>\n",
       "      <td>...</td>\n",
       "      <td>...</td>\n",
       "      <td>...</td>\n",
       "      <td>...</td>\n",
       "      <td>...</td>\n",
       "      <td>...</td>\n",
       "      <td>...</td>\n",
       "      <td>...</td>\n",
       "      <td>...</td>\n",
       "      <td>...</td>\n",
       "      <td>...</td>\n",
       "      <td>...</td>\n",
       "    </tr>\n",
       "    <tr>\n",
       "      <th>8621</th>\n",
       "      <td>849293688249908869</td>\n",
       "      <td>2024-03-17</td>\n",
       "      <td>t</td>\n",
       "      <td>$215.00</td>\n",
       "      <td>$215.00</td>\n",
       "      <td>1</td>\n",
       "      <td>365</td>\n",
       "      <td>calendar_3_2023</td>\n",
       "      <td>849293688249908869</td>\n",
       "      <td>2023-03-19</td>\n",
       "      <td>listings_3_2023</td>\n",
       "      <td>20230319041206</td>\n",
       "      <td>city scrape</td>\n",
       "      <td>Top-floor Glover Park apartment</td>\n",
       "      <td>Enjoy this centrally located Washington DC Apa...</td>\n",
       "      <td></td>\n",
       "      <td>9286163</td>\n",
       "      <td>Olena</td>\n",
       "      <td>2013-10-07</td>\n",
       "      <td>Washington, DC</td>\n",
       "      <td>My name is Olena and I live in the upper Georg...</td>\n",
       "      <td>within an hour</td>\n",
       "      <td>70%</td>\n",
       "      <td>39%</td>\n",
       "      <td>f</td>\n",
       "      <td>Glover Park</td>\n",
       "      <td>5</td>\n",
       "      <td>6</td>\n",
       "      <td>['email', 'phone']</td>\n",
       "      <td>t</td>\n",
       "      <td>t</td>\n",
       "      <td></td>\n",
       "      <td>Cathedral Heights, McLean Gardens, Glover Park</td>\n",
       "      <td>38.926012</td>\n",
       "      <td>-77.081296</td>\n",
       "      <td>Entire rental unit</td>\n",
       "      <td>Entire home/apt</td>\n",
       "      <td>4</td>\n",
       "      <td></td>\n",
       "      <td>1 bath</td>\n",
       "      <td>1</td>\n",
       "      <td>1</td>\n",
       "      <td>[\"BBQ grill\", \"Fire extinguisher\", \"Dedicated ...</td>\n",
       "      <td>1</td>\n",
       "      <td>1</td>\n",
       "      <td>365</td>\n",
       "      <td>365</td>\n",
       "      <td>1.0</td>\n",
       "      <td>365.0</td>\n",
       "      <td>t</td>\n",
       "      <td>29</td>\n",
       "      <td>59</td>\n",
       "      <td>89</td>\n",
       "      <td>364</td>\n",
       "      <td>2023-03-19</td>\n",
       "      <td>0</td>\n",
       "      <td>0</td>\n",
       "      <td>0</td>\n",
       "      <td></td>\n",
       "      <td></td>\n",
       "      <td></td>\n",
       "      <td></td>\n",
       "      <td></td>\n",
       "      <td></td>\n",
       "      <td></td>\n",
       "      <td></td>\n",
       "      <td></td>\n",
       "      <td>Hosted License: 5007242201002035</td>\n",
       "      <td>f</td>\n",
       "      <td>5</td>\n",
       "      <td>1</td>\n",
       "      <td>4</td>\n",
       "      <td>0</td>\n",
       "      <td></td>\n",
       "    </tr>\n",
       "    <tr>\n",
       "      <th>8622</th>\n",
       "      <td>849304474004984024</td>\n",
       "      <td>2024-03-17</td>\n",
       "      <td>f</td>\n",
       "      <td>$602.00</td>\n",
       "      <td>$602.00</td>\n",
       "      <td>2</td>\n",
       "      <td>365</td>\n",
       "      <td>calendar_3_2023</td>\n",
       "      <td>849304474004984024</td>\n",
       "      <td>2023-03-19</td>\n",
       "      <td>listings_3_2023</td>\n",
       "      <td>20230319041206</td>\n",
       "      <td>city scrape</td>\n",
       "      <td>5 Bedroom 3 Story Townhome in DC</td>\n",
       "      <td>Welcome to your next memorable Airbnb experien...</td>\n",
       "      <td></td>\n",
       "      <td>140334352</td>\n",
       "      <td>Beko</td>\n",
       "      <td>2017-07-13</td>\n",
       "      <td>Washington, DC</td>\n",
       "      <td>I love to travel.</td>\n",
       "      <td>within a few hours</td>\n",
       "      <td>100%</td>\n",
       "      <td>76%</td>\n",
       "      <td>f</td>\n",
       "      <td>Central Northeast/Mahaning Heights</td>\n",
       "      <td>9</td>\n",
       "      <td>17</td>\n",
       "      <td>['email', 'phone', 'work_email']</td>\n",
       "      <td>t</td>\n",
       "      <td>t</td>\n",
       "      <td></td>\n",
       "      <td>Mayfair, Hillbrook, Mahaning Heights</td>\n",
       "      <td>38.892826</td>\n",
       "      <td>-76.941717</td>\n",
       "      <td>Entire home</td>\n",
       "      <td>Entire home/apt</td>\n",
       "      <td>14</td>\n",
       "      <td></td>\n",
       "      <td>3.5 baths</td>\n",
       "      <td>5</td>\n",
       "      <td>7</td>\n",
       "      <td>[\"Fire extinguisher\", \"Dedicated workspace\", \"...</td>\n",
       "      <td>2</td>\n",
       "      <td>2</td>\n",
       "      <td>365</td>\n",
       "      <td>365</td>\n",
       "      <td>2.0</td>\n",
       "      <td>365.0</td>\n",
       "      <td>t</td>\n",
       "      <td>0</td>\n",
       "      <td>22</td>\n",
       "      <td>52</td>\n",
       "      <td>52</td>\n",
       "      <td>2023-03-19</td>\n",
       "      <td>0</td>\n",
       "      <td>0</td>\n",
       "      <td>0</td>\n",
       "      <td></td>\n",
       "      <td></td>\n",
       "      <td></td>\n",
       "      <td></td>\n",
       "      <td></td>\n",
       "      <td></td>\n",
       "      <td></td>\n",
       "      <td></td>\n",
       "      <td></td>\n",
       "      <td>Hosted License: 5007242201001806</td>\n",
       "      <td>f</td>\n",
       "      <td>7</td>\n",
       "      <td>4</td>\n",
       "      <td>3</td>\n",
       "      <td>0</td>\n",
       "      <td></td>\n",
       "    </tr>\n",
       "    <tr>\n",
       "      <th>8623</th>\n",
       "      <td>849310766288741827</td>\n",
       "      <td>2024-03-17</td>\n",
       "      <td>t</td>\n",
       "      <td>$173.00</td>\n",
       "      <td>$173.00</td>\n",
       "      <td>30</td>\n",
       "      <td>1125</td>\n",
       "      <td>calendar_3_2023</td>\n",
       "      <td>849310766288741827</td>\n",
       "      <td>2023-03-19</td>\n",
       "      <td>listings_3_2023</td>\n",
       "      <td>20230319041206</td>\n",
       "      <td>city scrape</td>\n",
       "      <td>2 br U st Condo with rooftop</td>\n",
       "      <td>This spacious two bedroom condo is walking dis...</td>\n",
       "      <td></td>\n",
       "      <td>177084854</td>\n",
       "      <td>NIna</td>\n",
       "      <td>2018-03-07</td>\n",
       "      <td></td>\n",
       "      <td></td>\n",
       "      <td>N/A</td>\n",
       "      <td>N/A</td>\n",
       "      <td>N/A</td>\n",
       "      <td>f</td>\n",
       "      <td>Northwest Washington</td>\n",
       "      <td>1</td>\n",
       "      <td>1</td>\n",
       "      <td>['email', 'phone']</td>\n",
       "      <td>t</td>\n",
       "      <td>t</td>\n",
       "      <td></td>\n",
       "      <td>Dupont Circle, Connecticut Avenue/K Street</td>\n",
       "      <td>38.915722</td>\n",
       "      <td>-77.036979</td>\n",
       "      <td>Entire home</td>\n",
       "      <td>Entire home/apt</td>\n",
       "      <td>4</td>\n",
       "      <td></td>\n",
       "      <td>2 baths</td>\n",
       "      <td>2</td>\n",
       "      <td>3</td>\n",
       "      <td>[\"BBQ grill\", \"Fire extinguisher\", \"Kitchen\", ...</td>\n",
       "      <td>30</td>\n",
       "      <td>30</td>\n",
       "      <td>1125</td>\n",
       "      <td>1125</td>\n",
       "      <td>30.0</td>\n",
       "      <td>1125.0</td>\n",
       "      <td>t</td>\n",
       "      <td>30</td>\n",
       "      <td>60</td>\n",
       "      <td>90</td>\n",
       "      <td>365</td>\n",
       "      <td>2023-03-19</td>\n",
       "      <td>0</td>\n",
       "      <td>0</td>\n",
       "      <td>0</td>\n",
       "      <td></td>\n",
       "      <td></td>\n",
       "      <td></td>\n",
       "      <td></td>\n",
       "      <td></td>\n",
       "      <td></td>\n",
       "      <td></td>\n",
       "      <td></td>\n",
       "      <td></td>\n",
       "      <td>Exempt</td>\n",
       "      <td>t</td>\n",
       "      <td>1</td>\n",
       "      <td>1</td>\n",
       "      <td>0</td>\n",
       "      <td>0</td>\n",
       "      <td></td>\n",
       "    </tr>\n",
       "    <tr>\n",
       "      <th>8624</th>\n",
       "      <td>849479534479786096</td>\n",
       "      <td>2024-03-17</td>\n",
       "      <td>t</td>\n",
       "      <td>$84.00</td>\n",
       "      <td>$84.00</td>\n",
       "      <td>1</td>\n",
       "      <td>365</td>\n",
       "      <td>calendar_3_2023</td>\n",
       "      <td>849479534479786096</td>\n",
       "      <td>2023-03-19</td>\n",
       "      <td>listings_3_2023</td>\n",
       "      <td>20230319041206</td>\n",
       "      <td>city scrape</td>\n",
       "      <td>cozy Suite on Rhode Island IIII</td>\n",
       "      <td>Come enjoy a private room inside of a two bedr...</td>\n",
       "      <td></td>\n",
       "      <td>390256204</td>\n",
       "      <td>Collin</td>\n",
       "      <td>2021-02-26</td>\n",
       "      <td></td>\n",
       "      <td></td>\n",
       "      <td>within an hour</td>\n",
       "      <td>92%</td>\n",
       "      <td>100%</td>\n",
       "      <td>f</td>\n",
       "      <td>Northeast Washington</td>\n",
       "      <td>82</td>\n",
       "      <td>95</td>\n",
       "      <td>['email', 'phone']</td>\n",
       "      <td>t</td>\n",
       "      <td>t</td>\n",
       "      <td></td>\n",
       "      <td>Edgewood, Bloomingdale, Truxton Circle, Eckington</td>\n",
       "      <td>38.917595</td>\n",
       "      <td>-77.008247</td>\n",
       "      <td>Private room in rental unit</td>\n",
       "      <td>Private room</td>\n",
       "      <td>2</td>\n",
       "      <td></td>\n",
       "      <td>1 shared bath</td>\n",
       "      <td>1</td>\n",
       "      <td>1</td>\n",
       "      <td>[\"Dedicated workspace\", \"Kitchen\", \"Air condit...</td>\n",
       "      <td>1</td>\n",
       "      <td>1</td>\n",
       "      <td>365</td>\n",
       "      <td>365</td>\n",
       "      <td>1.0</td>\n",
       "      <td>365.0</td>\n",
       "      <td>t</td>\n",
       "      <td>21</td>\n",
       "      <td>21</td>\n",
       "      <td>21</td>\n",
       "      <td>275</td>\n",
       "      <td>2023-03-19</td>\n",
       "      <td>0</td>\n",
       "      <td>0</td>\n",
       "      <td>0</td>\n",
       "      <td></td>\n",
       "      <td></td>\n",
       "      <td></td>\n",
       "      <td></td>\n",
       "      <td></td>\n",
       "      <td></td>\n",
       "      <td></td>\n",
       "      <td></td>\n",
       "      <td></td>\n",
       "      <td>Exempt</td>\n",
       "      <td>t</td>\n",
       "      <td>45</td>\n",
       "      <td>16</td>\n",
       "      <td>28</td>\n",
       "      <td>1</td>\n",
       "      <td></td>\n",
       "    </tr>\n",
       "    <tr>\n",
       "      <th>8625</th>\n",
       "      <td>849521381332726773</td>\n",
       "      <td>2024-03-17</td>\n",
       "      <td>f</td>\n",
       "      <td>$151.00</td>\n",
       "      <td>$151.00</td>\n",
       "      <td>2</td>\n",
       "      <td>1125</td>\n",
       "      <td>calendar_3_2023</td>\n",
       "      <td>849521381332726773</td>\n",
       "      <td>2023-03-19</td>\n",
       "      <td>listings_3_2023</td>\n",
       "      <td>20230319041206</td>\n",
       "      <td>city scrape</td>\n",
       "      <td>Charm Chic Cozy Apartment DC</td>\n",
       "      <td>Welcome to our quaint, stylish apartment in th...</td>\n",
       "      <td></td>\n",
       "      <td>505882163</td>\n",
       "      <td>Jonathan</td>\n",
       "      <td>2023-03-17</td>\n",
       "      <td></td>\n",
       "      <td></td>\n",
       "      <td>N/A</td>\n",
       "      <td>N/A</td>\n",
       "      <td>N/A</td>\n",
       "      <td>f</td>\n",
       "      <td>Northwest Washington</td>\n",
       "      <td>1</td>\n",
       "      <td>2</td>\n",
       "      <td>['email', 'phone']</td>\n",
       "      <td>t</td>\n",
       "      <td>t</td>\n",
       "      <td></td>\n",
       "      <td>Columbia Heights, Mt. Pleasant, Pleasant Plain...</td>\n",
       "      <td>38.927146</td>\n",
       "      <td>-77.022330</td>\n",
       "      <td>Entire rental unit</td>\n",
       "      <td>Entire home/apt</td>\n",
       "      <td>5</td>\n",
       "      <td></td>\n",
       "      <td>1 bath</td>\n",
       "      <td>2</td>\n",
       "      <td>2</td>\n",
       "      <td>[\"Fire extinguisher\", \"Dedicated workspace\", \"...</td>\n",
       "      <td>2</td>\n",
       "      <td>2</td>\n",
       "      <td>10</td>\n",
       "      <td>1125</td>\n",
       "      <td>2.0</td>\n",
       "      <td>1122.5</td>\n",
       "      <td>t</td>\n",
       "      <td>30</td>\n",
       "      <td>60</td>\n",
       "      <td>79</td>\n",
       "      <td>151</td>\n",
       "      <td>2023-03-19</td>\n",
       "      <td>0</td>\n",
       "      <td>0</td>\n",
       "      <td>0</td>\n",
       "      <td></td>\n",
       "      <td></td>\n",
       "      <td></td>\n",
       "      <td></td>\n",
       "      <td></td>\n",
       "      <td></td>\n",
       "      <td></td>\n",
       "      <td></td>\n",
       "      <td></td>\n",
       "      <td>Hosted License: 5007242201002658</td>\n",
       "      <td>t</td>\n",
       "      <td>1</td>\n",
       "      <td>1</td>\n",
       "      <td>0</td>\n",
       "      <td>0</td>\n",
       "      <td></td>\n",
       "    </tr>\n",
       "  </tbody>\n",
       "</table>\n",
       "<p>8626 rows × 74 columns</p>\n",
       "</div>"
      ],
      "text/plain": [
       "              listing_id   MAX(date) available    price adjusted_price  minimum_nights  maximum_nights      source_name                  id MAX(last_scraped)    source_name:1       scrape_id  \\\n",
       "0                   3571  2023-09-13         t  $200.00        $200.00              90             730  calendar_9_2022                3571        2022-09-14  listings_9_2022  20220914194735   \n",
       "1                   3686  2024-03-17         t   $67.00         $67.00              31             365  calendar_3_2023                3686        2023-03-19  listings_3_2023  20230319041206   \n",
       "2                   3943  2024-03-17         t   $85.00         $85.00               1            1125  calendar_3_2023                3943        2023-03-19  listings_3_2023  20230319041206   \n",
       "3                   4197  2024-03-17         t   $90.00         $90.00              14            1125  calendar_3_2023                4197        2023-03-19  listings_3_2023  20230319041206   \n",
       "4                   4373  2023-09-13         t   $40.00         $40.00              28            1125  calendar_9_2022                4373        2022-09-14  listings_9_2022  20220914194735   \n",
       "...                  ...         ...       ...      ...            ...             ...             ...              ...                 ...               ...              ...             ...   \n",
       "8621  849293688249908869  2024-03-17         t  $215.00        $215.00               1             365  calendar_3_2023  849293688249908869        2023-03-19  listings_3_2023  20230319041206   \n",
       "8622  849304474004984024  2024-03-17         f  $602.00        $602.00               2             365  calendar_3_2023  849304474004984024        2023-03-19  listings_3_2023  20230319041206   \n",
       "8623  849310766288741827  2024-03-17         t  $173.00        $173.00              30            1125  calendar_3_2023  849310766288741827        2023-03-19  listings_3_2023  20230319041206   \n",
       "8624  849479534479786096  2024-03-17         t   $84.00         $84.00               1             365  calendar_3_2023  849479534479786096        2023-03-19  listings_3_2023  20230319041206   \n",
       "8625  849521381332726773  2024-03-17         f  $151.00        $151.00               2            1125  calendar_3_2023  849521381332726773        2023-03-19  listings_3_2023  20230319041206   \n",
       "\n",
       "           source                                 name                                        description                              neighborhood_overview    host_id      host_name  host_since  \\\n",
       "0     city scrape                          River Place  <b>The space</b><br />Penthouse apartment with...                                                          4517            Don  2008-11-22   \n",
       "1     city scrape                      Vita's Hideaway  IMPORTANT NOTES<br />* Carefully read and be s...  We love that our neighborhood is up and coming...       4645           Vita  2008-11-26   \n",
       "2     city scrape     Historic Rowhouse Near Monuments  You will be staying in high ceiling  bedroom w...  This rowhouse is centrally located in the hear...       5059           Vasa  2008-12-12   \n",
       "3     city scrape   Capitol Hill Bedroom walk to Metro  This is the middle bedroom upstairs in a resto...  Our area, the Eastern Market neighborhood of C...       5061         Sandra  2008-12-12   \n",
       "4     city scrape  1,2 bdrm sitrm bath nr AIRP kitchen  You will have as much privacy as you wish.  Th...  Our neighborhood is quiet, safe, and friendly....       5623  Nancy And Don  2008-12-27   \n",
       "...           ...                                  ...                                                ...                                                ...        ...            ...         ...   \n",
       "8621  city scrape      Top-floor Glover Park apartment  Enjoy this centrally located Washington DC Apa...                                                       9286163          Olena  2013-10-07   \n",
       "8622  city scrape     5 Bedroom 3 Story Townhome in DC  Welcome to your next memorable Airbnb experien...                                                     140334352           Beko  2017-07-13   \n",
       "8623  city scrape         2 br U st Condo with rooftop  This spacious two bedroom condo is walking dis...                                                     177084854           NIna  2018-03-07   \n",
       "8624  city scrape      cozy Suite on Rhode Island IIII  Come enjoy a private room inside of a two bedr...                                                     390256204         Collin  2021-02-26   \n",
       "8625  city scrape         Charm Chic Cozy Apartment DC  Welcome to our quaint, stylish apartment in th...                                                     505882163       Jonathan  2023-03-17   \n",
       "\n",
       "       host_location                                         host_about  host_response_time host_response_rate host_acceptance_rate host_is_superhost                  host_neighbourhood  \\\n",
       "0      Arlington, VA  We are from Arlington Virginia and enjoy our a...                 N/A                N/A                  N/A                 f                                       \n",
       "1     Washington, DC  I am a literary scholar, teacher, poet, vegan ...  within a few hours               100%                 100%                 t                           Anacostia   \n",
       "2     Washington, DC  I have been living and working in DC for the l...      within an hour               100%                  82%                 t                           Eckington   \n",
       "3     Washington, DC  I’m a California native who came to work for t...      within an hour               100%                  96%                 t                        Capitol Hill   \n",
       "4     Washington, DC  We are an easy-going \"semi-retired\" couple.  W...                 N/A                N/A                  62%                 t                                       \n",
       "...              ...                                                ...                 ...                ...                  ...               ...                                 ...   \n",
       "8621  Washington, DC  My name is Olena and I live in the upper Georg...      within an hour                70%                  39%                 f                         Glover Park   \n",
       "8622  Washington, DC                                 I love to travel.   within a few hours               100%                  76%                 f  Central Northeast/Mahaning Heights   \n",
       "8623                                                                                    N/A                N/A                  N/A                 f                Northwest Washington   \n",
       "8624                                                                         within an hour                92%                 100%                 f                Northeast Washington   \n",
       "8625                                                                                    N/A                N/A                  N/A                 f                Northwest Washington   \n",
       "\n",
       "     host_listings_count host_total_listings_count                host_verifications host_has_profile_pic host_identity_verified                                    neighbourhood  \\\n",
       "0                      1                         3                ['email', 'phone']                    t                      f                                                    \n",
       "1                      1                         4  ['email', 'phone', 'work_email']                    t                      t  Washington, District of Columbia, United States   \n",
       "2                      5                         5                ['email', 'phone']                    t                      t  Washington, District of Columbia, United States   \n",
       "3                      1                         2                ['email', 'phone']                    t                      t  Washington, District of Columbia, United States   \n",
       "4                      2                         3                ['email', 'phone']                    t                      t           Silver Spring, Maryland, United States   \n",
       "...                  ...                       ...                               ...                  ...                    ...                                              ...   \n",
       "8621                   5                         6                ['email', 'phone']                    t                      t                                                    \n",
       "8622                   9                        17  ['email', 'phone', 'work_email']                    t                      t                                                    \n",
       "8623                   1                         1                ['email', 'phone']                    t                      t                                                    \n",
       "8624                  82                        95                ['email', 'phone']                    t                      t                                                    \n",
       "8625                   1                         2                ['email', 'phone']                    t                      t                                                    \n",
       "\n",
       "                                 neighbourhood_cleansed   latitude  longitude                property_type        room_type  accommodates bathrooms    bathrooms_text bedrooms beds  \\\n",
       "0                       Georgetown, Burleith/Hillandale  38.895860 -77.069980                 Entire condo  Entire home/apt             6                     2 baths        2    2   \n",
       "1                                    Historic Anacostia  38.863390 -76.988890         Private room in home     Private room             1              1 private bath        1    1   \n",
       "2     Edgewood, Bloomingdale, Truxton Circle, Eckington  38.911950 -77.004560    Private room in townhouse     Private room             2              1 private bath        1    1   \n",
       "3                            Capitol Hill, Lincoln Park  38.887190 -76.994720         Private room in home     Private room             1            1.5 shared baths        1    1   \n",
       "4                        Takoma, Brightwood, Manor Park  38.989080 -77.015820         Private room in home     Private room             2              2 shared baths        1    1   \n",
       "...                                                 ...        ...        ...                          ...              ...           ...       ...               ...      ...  ...   \n",
       "8621     Cathedral Heights, McLean Gardens, Glover Park  38.926012 -77.081296           Entire rental unit  Entire home/apt             4                      1 bath        1    1   \n",
       "8622               Mayfair, Hillbrook, Mahaning Heights  38.892826 -76.941717                  Entire home  Entire home/apt            14                   3.5 baths        5    7   \n",
       "8623         Dupont Circle, Connecticut Avenue/K Street  38.915722 -77.036979                  Entire home  Entire home/apt             4                     2 baths        2    3   \n",
       "8624  Edgewood, Bloomingdale, Truxton Circle, Eckington  38.917595 -77.008247  Private room in rental unit     Private room             2               1 shared bath        1    1   \n",
       "8625  Columbia Heights, Mt. Pleasant, Pleasant Plain...  38.927146 -77.022330           Entire rental unit  Entire home/apt             5                      1 bath        2    2   \n",
       "\n",
       "                                              amenities  minimum_minimum_nights  maximum_minimum_nights  minimum_maximum_nights  maximum_maximum_nights  minimum_nights_avg_ntm  \\\n",
       "0     [\"Dryer\", \"Smoke alarm\", \"TV with standard cab...                      90                      90                     730                     730                    90.0   \n",
       "1     [\"Carbon monoxide alarm\", \"Bed linens\", \"Smoke...                      31                      31                     365                     365                    31.0   \n",
       "2     [\"Portable fans\", \"Single level home\", \"Centra...                       1                       1                    1125                    1125                     1.0   \n",
       "3     [\"Bathtub\", \"31\\\" HDTV with Amazon Prime Video...                      14                      14                    1125                    1125                    14.0   \n",
       "4     [\"Private patio or balcony\", \"Dryer\", \"Smoke a...                      28                      28                    1125                    1125                    28.0   \n",
       "...                                                 ...                     ...                     ...                     ...                     ...                     ...   \n",
       "8621  [\"BBQ grill\", \"Fire extinguisher\", \"Dedicated ...                       1                       1                     365                     365                     1.0   \n",
       "8622  [\"Fire extinguisher\", \"Dedicated workspace\", \"...                       2                       2                     365                     365                     2.0   \n",
       "8623  [\"BBQ grill\", \"Fire extinguisher\", \"Kitchen\", ...                      30                      30                    1125                    1125                    30.0   \n",
       "8624  [\"Dedicated workspace\", \"Kitchen\", \"Air condit...                       1                       1                     365                     365                     1.0   \n",
       "8625  [\"Fire extinguisher\", \"Dedicated workspace\", \"...                       2                       2                      10                    1125                     2.0   \n",
       "\n",
       "      maximum_nights_avg_ntm has_availability  availability_30  availability_60  availability_90  availability_365 calendar_last_scraped  number_of_reviews  number_of_reviews_ltm  \\\n",
       "0                      730.0                t                0                0               12               287            2022-09-14                  9                      0   \n",
       "1                      365.0                t               30               42               42               211            2023-03-19                 81                      2   \n",
       "2                     1125.0                t                6               24               33               289            2023-03-19                455                     17   \n",
       "3                     1125.0                t                7               24               44               319            2023-03-19                 52                      7   \n",
       "4                     1125.0                t                0                0                0                64            2022-09-14                 24                      1   \n",
       "...                      ...              ...              ...              ...              ...               ...                   ...                ...                    ...   \n",
       "8621                   365.0                t               29               59               89               364            2023-03-19                  0                      0   \n",
       "8622                   365.0                t                0               22               52                52            2023-03-19                  0                      0   \n",
       "8623                  1125.0                t               30               60               90               365            2023-03-19                  0                      0   \n",
       "8624                   365.0                t               21               21               21               275            2023-03-19                  0                      0   \n",
       "8625                  1122.5                t               30               60               79               151            2023-03-19                  0                      0   \n",
       "\n",
       "      number_of_reviews_l30d first_review last_review review_scores_rating review_scores_accuracy review_scores_cleanliness review_scores_checkin review_scores_communication review_scores_location  \\\n",
       "0                          0   2010-04-18  2013-05-21                  4.5                   4.33                      4.67                  4.67                        4.83                   4.83   \n",
       "1                          0   2010-11-01  2022-07-06                 4.63                   4.72                      4.43                   4.9                        4.83                   3.86   \n",
       "2                          2   2009-05-10  2023-03-12                 4.82                   4.88                      4.92                  4.94                         4.9                   4.57   \n",
       "3                          0   2009-05-14  2022-11-09                 4.84                   4.98                      4.86                     5                        4.98                   4.96   \n",
       "4                          0   2009-01-20  2022-05-21                  4.9                   4.73                      4.55                  4.86                        4.86                   4.81   \n",
       "...                      ...          ...         ...                  ...                    ...                       ...                   ...                         ...                    ...   \n",
       "8621                       0                                                                                                                                                                           \n",
       "8622                       0                                                                                                                                                                           \n",
       "8623                       0                                                                                                                                                                           \n",
       "8624                       0                                                                                                                                                                           \n",
       "8625                       0                                                                                                                                                                           \n",
       "\n",
       "     review_scores_value                           license instant_bookable  calculated_host_listings_count  calculated_host_listings_count_entire_homes  \\\n",
       "0                   4.67                                                  f                               1                                            1   \n",
       "1                   4.62                                                  f                               1                                            0   \n",
       "2                   4.74  Hosted License: 5007242201001033                f                               5                                            0   \n",
       "3                   4.94  Hosted License: 5007242201000749                f                               1                                            0   \n",
       "4                   4.71                                                  f                               2                                            0   \n",
       "...                  ...                               ...              ...                             ...                                          ...   \n",
       "8621                      Hosted License: 5007242201002035                f                               5                                            1   \n",
       "8622                      Hosted License: 5007242201001806                f                               7                                            4   \n",
       "8623                                                Exempt                t                               1                                            1   \n",
       "8624                                                Exempt                t                              45                                           16   \n",
       "8625                      Hosted License: 5007242201002658                t                               1                                            1   \n",
       "\n",
       "      calculated_host_listings_count_private_rooms  calculated_host_listings_count_shared_rooms reviews_per_month  \n",
       "0                                                0                                            0              0.06  \n",
       "1                                                1                                            0              0.54  \n",
       "2                                                5                                            0               2.7  \n",
       "3                                                1                                            0              0.31  \n",
       "4                                                2                                            0              0.14  \n",
       "...                                            ...                                          ...               ...  \n",
       "8621                                             4                                            0                    \n",
       "8622                                             3                                            0                    \n",
       "8623                                             0                                            0                    \n",
       "8624                                            28                                            1                    \n",
       "8625                                             0                                            0                    \n",
       "\n",
       "[8626 rows x 74 columns]"
      ]
     },
     "execution_count": 4,
     "metadata": {},
     "output_type": "execute_result"
    }
   ],
   "source": [
    "vwListings"
   ]
  },
  {
   "cell_type": "markdown",
   "id": "7854dd99",
   "metadata": {},
   "source": [
    "## Single Variable EDA"
   ]
  },
  {
   "cell_type": "markdown",
   "id": "ff79d344",
   "metadata": {},
   "source": [
    "## Neighbourhood"
   ]
  },
  {
   "cell_type": "markdown",
   "id": "d35a1fea",
   "metadata": {},
   "source": [
    "Neighbourhood is a categorical variable which represents the neighbourhood that the Airbnb listings resides in. Domain knowledge would lead us to believe that it affects the price of an Airbnb where desirable and in-demand neighbourhoods would have higher prices and neighbourhoods with less to do and higher crime rate would have lower prices."
   ]
  },
  {
   "cell_type": "code",
   "execution_count": 5,
   "id": "ffebaa1b",
   "metadata": {},
   "outputs": [],
   "source": [
    "tempDF = vwListings\n",
    "tempDF[\"neighbourhood\"].replace('', np.nan, inplace=True)\n",
    "tempDF.dropna(subset=['neighbourhood'], inplace=True)"
   ]
  },
  {
   "cell_type": "code",
   "execution_count": 6,
   "id": "3772b396",
   "metadata": {},
   "outputs": [
    {
     "data": {
      "text/plain": [
       "count                                                5551\n",
       "unique                                                 31\n",
       "top       Washington, District of Columbia, United States\n",
       "freq                                                 5032\n",
       "Name: neighbourhood, dtype: object"
      ]
     },
     "execution_count": 6,
     "metadata": {},
     "output_type": "execute_result"
    }
   ],
   "source": [
    "tempDF[\"neighbourhood\"].describe()"
   ]
  },
  {
   "cell_type": "markdown",
   "id": "36e31b60",
   "metadata": {},
   "source": [
    "There are 31 unique neighborhoods in the DC dataset for Airbnb listings. The most frequent count is Washington D.C. which has 5032 listings within the neighbourhood."
   ]
  },
  {
   "cell_type": "code",
   "execution_count": 7,
   "id": "bc5ee7f3",
   "metadata": {},
   "outputs": [
    {
     "data": {
      "text/html": [
       "<div>\n",
       "<style scoped>\n",
       "    .dataframe tbody tr th:only-of-type {\n",
       "        vertical-align: middle;\n",
       "    }\n",
       "\n",
       "    .dataframe tbody tr th {\n",
       "        vertical-align: top;\n",
       "    }\n",
       "\n",
       "    .dataframe thead th {\n",
       "        text-align: right;\n",
       "    }\n",
       "</style>\n",
       "<table border=\"1\" class=\"dataframe\">\n",
       "  <thead>\n",
       "    <tr style=\"text-align: right;\">\n",
       "      <th></th>\n",
       "      <th>neighbourhood</th>\n",
       "    </tr>\n",
       "  </thead>\n",
       "  <tbody>\n",
       "    <tr>\n",
       "      <th>Washington, District of Columbia, United States</th>\n",
       "      <td>5032</td>\n",
       "    </tr>\n",
       "    <tr>\n",
       "      <th>Arlington, Virginia, United States</th>\n",
       "      <td>160</td>\n",
       "    </tr>\n",
       "    <tr>\n",
       "      <th>Silver Spring, Maryland, United States</th>\n",
       "      <td>93</td>\n",
       "    </tr>\n",
       "    <tr>\n",
       "      <th>Takoma Park, Maryland, United States</th>\n",
       "      <td>49</td>\n",
       "    </tr>\n",
       "    <tr>\n",
       "      <th>Washington, D.C., District of Columbia, United States</th>\n",
       "      <td>38</td>\n",
       "    </tr>\n",
       "    <tr>\n",
       "      <th>Capitol Heights, Maryland, United States</th>\n",
       "      <td>35</td>\n",
       "    </tr>\n",
       "    <tr>\n",
       "      <th>Chevy Chase, Maryland, United States</th>\n",
       "      <td>35</td>\n",
       "    </tr>\n",
       "    <tr>\n",
       "      <th>Bethesda, Maryland, United States</th>\n",
       "      <td>24</td>\n",
       "    </tr>\n",
       "    <tr>\n",
       "      <th>Oxon Hill, Maryland, United States</th>\n",
       "      <td>22</td>\n",
       "    </tr>\n",
       "    <tr>\n",
       "      <th>Hyattsville, Maryland, United States</th>\n",
       "      <td>14</td>\n",
       "    </tr>\n",
       "    <tr>\n",
       "      <th>Mount Rainier, Maryland, United States</th>\n",
       "      <td>9</td>\n",
       "    </tr>\n",
       "    <tr>\n",
       "      <th>Brentwood, Maryland, United States</th>\n",
       "      <td>6</td>\n",
       "    </tr>\n",
       "    <tr>\n",
       "      <th>Cheverly, Maryland, United States</th>\n",
       "      <td>6</td>\n",
       "    </tr>\n",
       "    <tr>\n",
       "      <th>Chillum, Maryland, United States</th>\n",
       "      <td>4</td>\n",
       "    </tr>\n",
       "    <tr>\n",
       "      <th>Temple Hills, Maryland, United States</th>\n",
       "      <td>4</td>\n",
       "    </tr>\n",
       "    <tr>\n",
       "      <th>Washington, United States</th>\n",
       "      <td>4</td>\n",
       "    </tr>\n",
       "    <tr>\n",
       "      <th>Hillcrest Heights, Maryland, United States</th>\n",
       "      <td>2</td>\n",
       "    </tr>\n",
       "    <tr>\n",
       "      <th>Alexandria, Virginia, United States</th>\n",
       "      <td>1</td>\n",
       "    </tr>\n",
       "    <tr>\n",
       "      <th>Mount Rainier , Md, United States</th>\n",
       "      <td>1</td>\n",
       "    </tr>\n",
       "    <tr>\n",
       "      <th>McLean, Virginia, United States</th>\n",
       "      <td>1</td>\n",
       "    </tr>\n",
       "    <tr>\n",
       "      <th>El Chorro, Departamento de Maldonado, Uruguay</th>\n",
       "      <td>1</td>\n",
       "    </tr>\n",
       "    <tr>\n",
       "      <th>Chevy Chase, Maryland, US, Maryland, United States</th>\n",
       "      <td>1</td>\n",
       "    </tr>\n",
       "    <tr>\n",
       "      <th>Washington, Dc, United States</th>\n",
       "      <td>1</td>\n",
       "    </tr>\n",
       "    <tr>\n",
       "      <th>Suitland-Silver Hill, Maryland, United States</th>\n",
       "      <td>1</td>\n",
       "    </tr>\n",
       "    <tr>\n",
       "      <th>, United States</th>\n",
       "      <td>1</td>\n",
       "    </tr>\n",
       "    <tr>\n",
       "      <th>Bladensburg, Maryland, United States</th>\n",
       "      <td>1</td>\n",
       "    </tr>\n",
       "    <tr>\n",
       "      <th>Virginia, United States</th>\n",
       "      <td>1</td>\n",
       "    </tr>\n",
       "    <tr>\n",
       "      <th>Georgetown, District of Columbia, United States</th>\n",
       "      <td>1</td>\n",
       "    </tr>\n",
       "    <tr>\n",
       "      <th>Dupont Circle, District of Columbia, United States</th>\n",
       "      <td>1</td>\n",
       "    </tr>\n",
       "    <tr>\n",
       "      <th>Dupont Circle, Washington, District of Columbia, United States</th>\n",
       "      <td>1</td>\n",
       "    </tr>\n",
       "    <tr>\n",
       "      <th>Fairmount Heights, Maryland, United States</th>\n",
       "      <td>1</td>\n",
       "    </tr>\n",
       "  </tbody>\n",
       "</table>\n",
       "</div>"
      ],
      "text/plain": [
       "                                                    neighbourhood\n",
       "Washington, District of Columbia, United States              5032\n",
       "Arlington, Virginia, United States                            160\n",
       "Silver Spring, Maryland, United States                         93\n",
       "Takoma Park, Maryland, United States                           49\n",
       "Washington, D.C., District of Columbia, United ...             38\n",
       "Capitol Heights, Maryland, United States                       35\n",
       "Chevy Chase, Maryland, United States                           35\n",
       "Bethesda, Maryland, United States                              24\n",
       "Oxon Hill, Maryland, United States                             22\n",
       "Hyattsville, Maryland, United States                           14\n",
       "Mount Rainier, Maryland, United States                          9\n",
       "Brentwood, Maryland, United States                              6\n",
       "Cheverly, Maryland, United States                               6\n",
       "Chillum, Maryland, United States                                4\n",
       "Temple Hills, Maryland, United States                           4\n",
       "Washington, United States                                       4\n",
       "Hillcrest Heights, Maryland, United States                      2\n",
       "Alexandria, Virginia, United States                             1\n",
       "Mount Rainier , Md, United States                               1\n",
       "McLean, Virginia, United States                                 1\n",
       "El Chorro, Departamento de Maldonado, Uruguay                   1\n",
       "Chevy Chase, Maryland, US, Maryland, United States              1\n",
       "Washington, Dc, United States                                   1\n",
       "Suitland-Silver Hill, Maryland, United States                   1\n",
       " , United States                                                1\n",
       "Bladensburg, Maryland, United States                            1\n",
       "Virginia, United States                                         1\n",
       "Georgetown, District of Columbia, United States                 1\n",
       "Dupont Circle, District of Columbia, United States              1\n",
       "Dupont Circle, Washington, District of Columbia...              1\n",
       "Fairmount Heights, Maryland, United States                      1"
      ]
     },
     "execution_count": 7,
     "metadata": {},
     "output_type": "execute_result"
    }
   ],
   "source": [
    "pd.DataFrame(tempDF[\"neighbourhood\"].value_counts())"
   ]
  },
  {
   "cell_type": "markdown",
   "id": "b82bc0c8",
   "metadata": {},
   "source": [
    "The most frequent count is Washington D.C. which has 5032 listings within the neighbourhood. The next most is Arlington Virginia with 160 listings in the neighbourhood. There is potential for noise in this column as there is a listing that just says \", United States\" and another listing with a duplicate Washington, DC. Aditionally, there are some listings with Washington, United States and Virginia, United States. These values have potential to create noise."
   ]
  },
  {
   "cell_type": "markdown",
   "id": "ac891b8a",
   "metadata": {},
   "source": [
    "## Neighbourhood_cleansed"
   ]
  },
  {
   "cell_type": "markdown",
   "id": "dbf91cce",
   "metadata": {},
   "source": [
    "Neighbourhood_cleansed is a much more useful variable than neighborhood as it corresponds with the neighbourhood table in the Airbnb data. It is the neighbourhood as geoencoded using the latitude and longitude against neighbourhoods as defined by open or public digital shapefiles. While neighbourhood has duplicate neighbourhood values as well as vague value such as \", United States\", neighbourhood_cleansed has specific neighbourhoods of Washington D.C. and have grouped them by proximity of one another. This would be much more useful in terms of determining a correlation of price as there is much less noise in this column. Domain knowledge would lead us to believe that it affects the price of an Airbnb where desirable and in-demand neighbourhoods would have higher prices and neighbourhoods with less to do and higher crime rate would have lower prices. "
   ]
  },
  {
   "cell_type": "code",
   "execution_count": 8,
   "id": "476cd9bd",
   "metadata": {},
   "outputs": [],
   "source": [
    "tempDF = vwListings\n",
    "tempDF[\"neighbourhood_cleansed\"].replace('', np.nan, inplace=True)\n",
    "tempDF.dropna(subset=['neighbourhood_cleansed'], inplace=True)"
   ]
  },
  {
   "cell_type": "code",
   "execution_count": 9,
   "id": "59dacb99",
   "metadata": {},
   "outputs": [
    {
     "data": {
      "text/plain": [
       "count                                          5551\n",
       "unique                                           39\n",
       "top       Union Station, Stanton Park, Kingman Park\n",
       "freq                                            622\n",
       "Name: neighbourhood_cleansed, dtype: object"
      ]
     },
     "execution_count": 9,
     "metadata": {},
     "output_type": "execute_result"
    }
   ],
   "source": [
    "tempDF[\"neighbourhood_cleansed\"].describe()"
   ]
  },
  {
   "cell_type": "markdown",
   "id": "1efbe544",
   "metadata": {},
   "source": [
    "As it corresponds with the neighbourhood table, there are 39 unique neighbourhoods in Washington D.C. under the Airbnb listings data. The top neighbourhood is Union Station, Stanton Park, Kingman Park with 622 listings in the neighbourhood."
   ]
  },
  {
   "cell_type": "code",
   "execution_count": 10,
   "id": "98d7475b",
   "metadata": {},
   "outputs": [
    {
     "data": {
      "text/html": [
       "<div>\n",
       "<style scoped>\n",
       "    .dataframe tbody tr th:only-of-type {\n",
       "        vertical-align: middle;\n",
       "    }\n",
       "\n",
       "    .dataframe tbody tr th {\n",
       "        vertical-align: top;\n",
       "    }\n",
       "\n",
       "    .dataframe thead th {\n",
       "        text-align: right;\n",
       "    }\n",
       "</style>\n",
       "<table border=\"1\" class=\"dataframe\">\n",
       "  <thead>\n",
       "    <tr style=\"text-align: right;\">\n",
       "      <th></th>\n",
       "      <th>neighbourhood_cleansed</th>\n",
       "    </tr>\n",
       "  </thead>\n",
       "  <tbody>\n",
       "    <tr>\n",
       "      <th>Union Station, Stanton Park, Kingman Park</th>\n",
       "      <td>622</td>\n",
       "    </tr>\n",
       "    <tr>\n",
       "      <th>Capitol Hill, Lincoln Park</th>\n",
       "      <td>508</td>\n",
       "    </tr>\n",
       "    <tr>\n",
       "      <th>Columbia Heights, Mt. Pleasant, Pleasant Plains, Park View</th>\n",
       "      <td>394</td>\n",
       "    </tr>\n",
       "    <tr>\n",
       "      <th>Dupont Circle, Connecticut Avenue/K Street</th>\n",
       "      <td>376</td>\n",
       "    </tr>\n",
       "    <tr>\n",
       "      <th>Edgewood, Bloomingdale, Truxton Circle, Eckington</th>\n",
       "      <td>365</td>\n",
       "    </tr>\n",
       "    <tr>\n",
       "      <th>Shaw, Logan Circle</th>\n",
       "      <td>288</td>\n",
       "    </tr>\n",
       "    <tr>\n",
       "      <th>Brightwood Park, Crestwood, Petworth</th>\n",
       "      <td>282</td>\n",
       "    </tr>\n",
       "    <tr>\n",
       "      <th>Georgetown, Burleith/Hillandale</th>\n",
       "      <td>234</td>\n",
       "    </tr>\n",
       "    <tr>\n",
       "      <th>Downtown, Chinatown, Penn Quarters, Mount Vernon Square, North Capitol Street</th>\n",
       "      <td>212</td>\n",
       "    </tr>\n",
       "    <tr>\n",
       "      <th>Howard University, Le Droit Park, Cardozo/Shaw</th>\n",
       "      <td>198</td>\n",
       "    </tr>\n",
       "    <tr>\n",
       "      <th>Kalorama Heights, Adams Morgan, Lanier Heights</th>\n",
       "      <td>186</td>\n",
       "    </tr>\n",
       "    <tr>\n",
       "      <th>West End, Foggy Bottom, GWU</th>\n",
       "      <td>179</td>\n",
       "    </tr>\n",
       "    <tr>\n",
       "      <th>Ivy City, Arboretum, Trinidad, Carver Langston</th>\n",
       "      <td>177</td>\n",
       "    </tr>\n",
       "    <tr>\n",
       "      <th>Takoma, Brightwood, Manor Park</th>\n",
       "      <td>144</td>\n",
       "    </tr>\n",
       "    <tr>\n",
       "      <th>Spring Valley, Palisades, Wesley Heights, Foxhall Crescent, Foxhall Village, Georgetown Reservoir</th>\n",
       "      <td>110</td>\n",
       "    </tr>\n",
       "    <tr>\n",
       "      <th>Congress Heights, Bellevue, Washington Highlands</th>\n",
       "      <td>98</td>\n",
       "    </tr>\n",
       "    <tr>\n",
       "      <th>Colonial Village, Shepherd Park, North Portal Estates</th>\n",
       "      <td>96</td>\n",
       "    </tr>\n",
       "    <tr>\n",
       "      <th>Brookland, Brentwood, Langdon</th>\n",
       "      <td>90</td>\n",
       "    </tr>\n",
       "    <tr>\n",
       "      <th>Lamont Riggs, Queens Chapel, Fort Totten, Pleasant Hill</th>\n",
       "      <td>85</td>\n",
       "    </tr>\n",
       "    <tr>\n",
       "      <th>Southwest Employment Area, Southwest/Waterfront, Fort McNair, Buzzard Point</th>\n",
       "      <td>81</td>\n",
       "    </tr>\n",
       "    <tr>\n",
       "      <th>Friendship Heights, American University Park, Tenleytown</th>\n",
       "      <td>77</td>\n",
       "    </tr>\n",
       "    <tr>\n",
       "      <th>Capitol View, Marshall Heights, Benning Heights</th>\n",
       "      <td>75</td>\n",
       "    </tr>\n",
       "    <tr>\n",
       "      <th>Twining, Fairlawn, Randle Highlands, Penn Branch, Fort Davis Park, Fort Dupont</th>\n",
       "      <td>75</td>\n",
       "    </tr>\n",
       "    <tr>\n",
       "      <th>Deanwood, Burrville, Grant Park, Lincoln Heights, Fairmont Heights</th>\n",
       "      <td>68</td>\n",
       "    </tr>\n",
       "    <tr>\n",
       "      <th>Near Southeast, Navy Yard</th>\n",
       "      <td>62</td>\n",
       "    </tr>\n",
       "    <tr>\n",
       "      <th>Woodridge, Fort Lincoln, Gateway</th>\n",
       "      <td>57</td>\n",
       "    </tr>\n",
       "    <tr>\n",
       "      <th>North Michigan Park, Michigan Park, University Heights</th>\n",
       "      <td>57</td>\n",
       "    </tr>\n",
       "    <tr>\n",
       "      <th>Hawthorne, Barnaby Woods, Chevy Chase</th>\n",
       "      <td>53</td>\n",
       "    </tr>\n",
       "    <tr>\n",
       "      <th>Cleveland Park, Woodley Park, Massachusetts Avenue Heights, Woodland-Normanstone Terrace</th>\n",
       "      <td>50</td>\n",
       "    </tr>\n",
       "    <tr>\n",
       "      <th>Cathedral Heights, McLean Gardens, Glover Park</th>\n",
       "      <td>47</td>\n",
       "    </tr>\n",
       "    <tr>\n",
       "      <th>River Terrace, Benning, Greenway, Dupont Park</th>\n",
       "      <td>35</td>\n",
       "    </tr>\n",
       "    <tr>\n",
       "      <th>Historic Anacostia</th>\n",
       "      <td>33</td>\n",
       "    </tr>\n",
       "    <tr>\n",
       "      <th>North Cleveland Park, Forest Hills, Van Ness</th>\n",
       "      <td>27</td>\n",
       "    </tr>\n",
       "    <tr>\n",
       "      <th>Douglas, Shipley Terrace</th>\n",
       "      <td>23</td>\n",
       "    </tr>\n",
       "    <tr>\n",
       "      <th>Sheridan, Barry Farm, Buena Vista</th>\n",
       "      <td>23</td>\n",
       "    </tr>\n",
       "    <tr>\n",
       "      <th>Fairfax Village, Naylor Gardens, Hillcrest, Summit Park</th>\n",
       "      <td>22</td>\n",
       "    </tr>\n",
       "    <tr>\n",
       "      <th>Mayfair, Hillbrook, Mahaning Heights</th>\n",
       "      <td>19</td>\n",
       "    </tr>\n",
       "    <tr>\n",
       "      <th>Eastland Gardens, Kenilworth</th>\n",
       "      <td>17</td>\n",
       "    </tr>\n",
       "    <tr>\n",
       "      <th>Woodland/Fort Stanton, Garfield Heights, Knox Hill</th>\n",
       "      <td>6</td>\n",
       "    </tr>\n",
       "  </tbody>\n",
       "</table>\n",
       "</div>"
      ],
      "text/plain": [
       "                                                    neighbourhood_cleansed\n",
       "Union Station, Stanton Park, Kingman Park                              622\n",
       "Capitol Hill, Lincoln Park                                             508\n",
       "Columbia Heights, Mt. Pleasant, Pleasant Plains...                     394\n",
       "Dupont Circle, Connecticut Avenue/K Street                             376\n",
       "Edgewood, Bloomingdale, Truxton Circle, Eckington                      365\n",
       "Shaw, Logan Circle                                                     288\n",
       "Brightwood Park, Crestwood, Petworth                                   282\n",
       "Georgetown, Burleith/Hillandale                                        234\n",
       "Downtown, Chinatown, Penn Quarters, Mount Verno...                     212\n",
       "Howard University, Le Droit Park, Cardozo/Shaw                         198\n",
       "Kalorama Heights, Adams Morgan, Lanier Heights                         186\n",
       "West End, Foggy Bottom, GWU                                            179\n",
       "Ivy City, Arboretum, Trinidad, Carver Langston                         177\n",
       "Takoma, Brightwood, Manor Park                                         144\n",
       "Spring Valley, Palisades, Wesley Heights, Foxha...                     110\n",
       "Congress Heights, Bellevue, Washington Highlands                        98\n",
       "Colonial Village, Shepherd Park, North Portal E...                      96\n",
       "Brookland, Brentwood, Langdon                                           90\n",
       "Lamont Riggs, Queens Chapel, Fort Totten, Pleas...                      85\n",
       "Southwest Employment Area, Southwest/Waterfront...                      81\n",
       "Friendship Heights, American University Park, T...                      77\n",
       "Capitol View, Marshall Heights, Benning Heights                         75\n",
       "Twining, Fairlawn, Randle Highlands, Penn Branc...                      75\n",
       "Deanwood, Burrville, Grant Park, Lincoln Height...                      68\n",
       "Near Southeast, Navy Yard                                               62\n",
       "Woodridge, Fort Lincoln, Gateway                                        57\n",
       "North Michigan Park, Michigan Park, University ...                      57\n",
       "Hawthorne, Barnaby Woods, Chevy Chase                                   53\n",
       "Cleveland Park, Woodley Park, Massachusetts Ave...                      50\n",
       "Cathedral Heights, McLean Gardens, Glover Park                          47\n",
       "River Terrace, Benning, Greenway, Dupont Park                           35\n",
       "Historic Anacostia                                                      33\n",
       "North Cleveland Park, Forest Hills, Van Ness                            27\n",
       "Douglas, Shipley Terrace                                                23\n",
       "Sheridan, Barry Farm, Buena Vista                                       23\n",
       "Fairfax Village, Naylor Gardens, Hillcrest, Sum...                      22\n",
       "Mayfair, Hillbrook, Mahaning Heights                                    19\n",
       "Eastland Gardens, Kenilworth                                            17\n",
       "Woodland/Fort Stanton, Garfield Heights, Knox Hill                       6"
      ]
     },
     "execution_count": 10,
     "metadata": {},
     "output_type": "execute_result"
    }
   ],
   "source": [
    "pd.DataFrame(tempDF[\"neighbourhood_cleansed\"].value_counts())"
   ]
  },
  {
   "cell_type": "markdown",
   "id": "26e26345",
   "metadata": {},
   "source": [
    "## Accommodates"
   ]
  },
  {
   "cell_type": "markdown",
   "id": "2688ef2e",
   "metadata": {},
   "source": [
    "Accommodates describes the number of people that an Airbnb can accommodate. In other words this is the maximum capacity of the listing. This is a ordered numerical variable and would lead us to believe that it would affect the listing's price. The more a listing can accommodate, the higher the price of the Airbnb due to factors such as size, resources provided, and number of guests who can split the price of the Airbnb. "
   ]
  },
  {
   "cell_type": "code",
   "execution_count": 11,
   "id": "d54b282a",
   "metadata": {},
   "outputs": [],
   "source": [
    "tempDF = vwListings\n",
    "tempDF[\"accommodates\"].replace('', np.nan, inplace=True)\n",
    "tempDF.dropna(subset=['accommodates'], inplace=True)"
   ]
  },
  {
   "cell_type": "code",
   "execution_count": 12,
   "id": "c77bb732",
   "metadata": {},
   "outputs": [
    {
     "data": {
      "text/plain": [
       "count    5551.000000\n",
       "mean        3.770852\n",
       "std         2.399719\n",
       "min         1.000000\n",
       "25%         2.000000\n",
       "50%         3.000000\n",
       "75%         5.000000\n",
       "max        16.000000\n",
       "Name: accommodates, dtype: float64"
      ]
     },
     "execution_count": 12,
     "metadata": {},
     "output_type": "execute_result"
    }
   ],
   "source": [
    "tempDF[\"accommodates\"].describe()"
   ]
  },
  {
   "cell_type": "code",
   "execution_count": 13,
   "id": "5d0f4da8",
   "metadata": {},
   "outputs": [
    {
     "data": {
      "text/plain": [
       "1      468\n",
       "2     1725\n",
       "3      668\n",
       "4     1260\n",
       "5      370\n",
       "6      532\n",
       "7       88\n",
       "8      213\n",
       "9       31\n",
       "10      78\n",
       "11      12\n",
       "12      58\n",
       "13       6\n",
       "14      12\n",
       "15       5\n",
       "16      25\n",
       "Name: accommodates, dtype: int64"
      ]
     },
     "execution_count": 13,
     "metadata": {},
     "output_type": "execute_result"
    }
   ],
   "source": [
    "tempDF[\"accommodates\"].value_counts().sort_index()"
   ]
  },
  {
   "cell_type": "code",
   "execution_count": 14,
   "id": "bc5bec5f",
   "metadata": {},
   "outputs": [
    {
     "data": {
      "image/png": "[encoded data removed]",
      "text/plain": [
       "<Figure size 1000x600 with 1 Axes>"
      ]
     },
     "metadata": {},
     "output_type": "display_data"
    }
   ],
   "source": [
    "counts = tempDF[\"accommodates\"].value_counts().sort_index()\n",
    "proportions = tempDF[\"accommodates\"].value_counts(normalize=True).sort_index()\n",
    "x = range( len( counts))\n",
    "width = 1/1.5\n",
    "\n",
    "figure = plt.figure(figsize=(10, 6))\n",
    "\n",
    "axes = figure.add_subplot(1, 1, 1)\n",
    "axes.bar(x, proportions, width, color=\"dimgray\", align=\"center\")\n",
    "axes.set_xlabel(\"Accommodates\")\n",
    "axes.set_xticks(x)\n",
    "axes.set_xticklabels(proportions.axes[0])\n",
    "axes.set_title( \"Relative Frequency of Accomodates\")\n",
    "axes.set_ylabel( \"Percent\")\n",
    "axes.xaxis.grid(False)\n",
    "\n",
    "plt.show()\n",
    "plt.close()"
   ]
  },
  {
   "cell_type": "markdown",
   "id": "ebd26919",
   "metadata": {},
   "source": [
    "## Bathrooms_text"
   ]
  },
  {
   "cell_type": "markdown",
   "id": "a3c2b300",
   "metadata": {},
   "source": [
    "Bathrooms_text corresponds to the number of bathrooms in an Airbnb listing. It is a string type variable which makes it a categorical variable. For our analysis we extracted the number of bathrooms and made it a numerical variable in the bathroom_numbers column via a regular expression. Domain knowledge would lead us to believe that more bathrooms would positively affect the price of a listing. As opposed to being less bathrooms which would lead the price to be less."
   ]
  },
  {
   "cell_type": "code",
   "execution_count": 15,
   "id": "5bbd21d2",
   "metadata": {},
   "outputs": [],
   "source": [
    "tempDF = vwListings\n",
    "tempDF[\"bathrooms_text\"].replace('', np.nan, inplace=True)\n",
    "tempDF.dropna(subset=['bathrooms_text'], inplace=True)"
   ]
  },
  {
   "cell_type": "code",
   "execution_count": 16,
   "id": "63423487",
   "metadata": {},
   "outputs": [],
   "source": [
    "tempDF['bathroom_numbers'] = tempDF['bathrooms_text'].str.extract('(\\d+)')"
   ]
  },
  {
   "cell_type": "code",
   "execution_count": 17,
   "id": "5c4b0286",
   "metadata": {
    "scrolled": true
   },
   "outputs": [
    {
     "data": {
      "text/plain": [
       "count     5548\n",
       "unique      10\n",
       "top          1\n",
       "freq      4205\n",
       "Name: bathroom_numbers, dtype: object"
      ]
     },
     "execution_count": 17,
     "metadata": {},
     "output_type": "execute_result"
    }
   ],
   "source": [
    "tempDF[\"bathroom_numbers\"].describe()"
   ]
  },
  {
   "cell_type": "code",
   "execution_count": 18,
   "id": "d88d38a3",
   "metadata": {},
   "outputs": [
    {
     "data": {
      "text/html": [
       "<div>\n",
       "<style scoped>\n",
       "    .dataframe tbody tr th:only-of-type {\n",
       "        vertical-align: middle;\n",
       "    }\n",
       "\n",
       "    .dataframe tbody tr th {\n",
       "        vertical-align: top;\n",
       "    }\n",
       "\n",
       "    .dataframe thead th {\n",
       "        text-align: right;\n",
       "    }\n",
       "</style>\n",
       "<table border=\"1\" class=\"dataframe\">\n",
       "  <thead>\n",
       "    <tr style=\"text-align: right;\">\n",
       "      <th></th>\n",
       "      <th>bathroom_numbers</th>\n",
       "    </tr>\n",
       "  </thead>\n",
       "  <tbody>\n",
       "    <tr>\n",
       "      <th>1</th>\n",
       "      <td>4205</td>\n",
       "    </tr>\n",
       "    <tr>\n",
       "      <th>2</th>\n",
       "      <td>968</td>\n",
       "    </tr>\n",
       "    <tr>\n",
       "      <th>3</th>\n",
       "      <td>241</td>\n",
       "    </tr>\n",
       "    <tr>\n",
       "      <th>4</th>\n",
       "      <td>64</td>\n",
       "    </tr>\n",
       "    <tr>\n",
       "      <th>0</th>\n",
       "      <td>52</td>\n",
       "    </tr>\n",
       "    <tr>\n",
       "      <th>5</th>\n",
       "      <td>12</td>\n",
       "    </tr>\n",
       "    <tr>\n",
       "      <th>11</th>\n",
       "      <td>2</td>\n",
       "    </tr>\n",
       "    <tr>\n",
       "      <th>7</th>\n",
       "      <td>2</td>\n",
       "    </tr>\n",
       "    <tr>\n",
       "      <th>6</th>\n",
       "      <td>1</td>\n",
       "    </tr>\n",
       "    <tr>\n",
       "      <th>15</th>\n",
       "      <td>1</td>\n",
       "    </tr>\n",
       "  </tbody>\n",
       "</table>\n",
       "</div>"
      ],
      "text/plain": [
       "    bathroom_numbers\n",
       "1               4205\n",
       "2                968\n",
       "3                241\n",
       "4                 64\n",
       "0                 52\n",
       "5                 12\n",
       "11                 2\n",
       "7                  2\n",
       "6                  1\n",
       "15                 1"
      ]
     },
     "execution_count": 18,
     "metadata": {},
     "output_type": "execute_result"
    }
   ],
   "source": [
    "pd.DataFrame(tempDF[\"bathroom_numbers\"].value_counts())"
   ]
  },
  {
   "cell_type": "markdown",
   "id": "8f3fcd14",
   "metadata": {},
   "source": [
    "Overall, most listings have only 1 bathroom while the next most have only 2 bathrooms. The third most listings have 1 shared bath followed by listings with 2.5 baths. There are outlier values such as 11 shared baths, 0 baths, and 15 baths in an Airbnb listing. "
   ]
  },
  {
   "cell_type": "code",
   "execution_count": 19,
   "id": "e7b5c529",
   "metadata": {},
   "outputs": [
    {
     "data": {
      "image/png": "[encoded data removed]",
      "text/plain": [
       "<Figure size 1000x600 with 1 Axes>"
      ]
     },
     "metadata": {},
     "output_type": "display_data"
    }
   ],
   "source": [
    "counts = tempDF[\"bathroom_numbers\"].value_counts().sort_index()\n",
    "proportions = tempDF[\"bathroom_numbers\"].value_counts(normalize=True)\n",
    "x = range( len( counts))\n",
    "width = 1/1.5\n",
    "\n",
    "figure = plt.figure(figsize=(10, 6))\n",
    "\n",
    "axes = figure.add_subplot(1, 1, 1)\n",
    "axes.bar(x, proportions, width, color=\"dimgray\", align=\"center\")\n",
    "axes.set_xlabel(\"Bathrooms\")\n",
    "axes.set_xticks(x)\n",
    "axes.set_xticklabels(proportions.axes[0])\n",
    "axes.set_title( \"Relative Frequency of Bathrooms\")\n",
    "axes.set_ylabel( \"Percent\")\n",
    "axes.xaxis.grid(False)\n",
    "\n",
    "plt.show()\n",
    "plt.close()"
   ]
  },
  {
   "cell_type": "markdown",
   "id": "8f5192c4",
   "metadata": {},
   "source": [
    "## Bedrooms"
   ]
  },
  {
   "cell_type": "markdown",
   "id": "6faa0cf9",
   "metadata": {},
   "source": [
    "bedrooms is a numerical variable that corresponds to the number of bedrooms in an Airbnb listing. It is a key feature of an Airbnb and based on our domain knowledge would suggest that it significant affects the price of it. With more bedrooms, the price of the Airbnb listing would increase."
   ]
  },
  {
   "cell_type": "code",
   "execution_count": 20,
   "id": "47df7a2c",
   "metadata": {},
   "outputs": [],
   "source": [
    "tempDF = vwListings\n",
    "tempDF[\"bedrooms\"].replace('', np.nan, inplace=True)\n",
    "tempDF.dropna(subset=['bedrooms'], inplace=True)"
   ]
  },
  {
   "cell_type": "code",
   "execution_count": 21,
   "id": "47fb79e1",
   "metadata": {},
   "outputs": [
    {
     "data": {
      "text/plain": [
       "count    5097.000000\n",
       "mean        1.639200\n",
       "std         1.031441\n",
       "min         1.000000\n",
       "25%         1.000000\n",
       "50%         1.000000\n",
       "75%         2.000000\n",
       "max        15.000000\n",
       "Name: bedrooms, dtype: float64"
      ]
     },
     "execution_count": 21,
     "metadata": {},
     "output_type": "execute_result"
    }
   ],
   "source": [
    "tempDF[\"bedrooms\"].describe()"
   ]
  },
  {
   "cell_type": "markdown",
   "id": "47ccdde7",
   "metadata": {},
   "source": [
    "When we look at the descriptive statistics of number of bedrooms in an Airbnb listing, the first thing we notice is that the extreme maximum value of 15 bedrooms is much more extreme than most of the distribution of bedrooms. Each Airbnb has at least 1 bedroom but the majority of listings in the Airbnb data contain only 1 to 2 bedrooms, given that the 75% quartile is 2 bedrooms. The mean number of bedrooms is 1.65 and the median is one bedroom. "
   ]
  },
  {
   "cell_type": "code",
   "execution_count": 22,
   "id": "e972bc27",
   "metadata": {},
   "outputs": [
    {
     "data": {
      "text/plain": [
       "1.0     3161\n",
       "2.0     1122\n",
       "3.0      479\n",
       "4.0      218\n",
       "5.0       84\n",
       "6.0       22\n",
       "7.0        7\n",
       "8.0        2\n",
       "9.0        1\n",
       "15.0       1\n",
       "Name: bedrooms, dtype: int64"
      ]
     },
     "execution_count": 22,
     "metadata": {},
     "output_type": "execute_result"
    }
   ],
   "source": [
    "tempDF[\"bedrooms\"].value_counts().sort_index()"
   ]
  },
  {
   "cell_type": "markdown",
   "id": "4e64c952",
   "metadata": {},
   "source": [
    "Taking a look at the value counts, only one listing has 15 bedrooms while 1 listing has 9 bedrooms. A majority of listings have 1 and 2 bedrooms which correspond to the descriptive statistics. Additionally, there are a sizeable number of Airbnb listings with 3-5 bedrooms with 429, 218 and 84 listings respectively with these number of bedrooms. "
   ]
  },
  {
   "cell_type": "code",
   "execution_count": 23,
   "id": "f91fabd7",
   "metadata": {},
   "outputs": [
    {
     "data": {
      "image/png": "[encoded data removed]",
      "text/plain": [
       "<Figure size 1000x600 with 1 Axes>"
      ]
     },
     "metadata": {},
     "output_type": "display_data"
    }
   ],
   "source": [
    "counts = tempDF[\"bedrooms\"].value_counts().sort_index()\n",
    "proportions = tempDF[\"bedrooms\"].value_counts(normalize=True).sort_index()\n",
    "x = range( len( counts))\n",
    "width = 1/1.5\n",
    "\n",
    "figure = plt.figure(figsize=(10, 6))\n",
    "\n",
    "axes = figure.add_subplot(1, 1, 1)\n",
    "axes.bar(x, proportions, width, color=\"dimgray\", align=\"center\")\n",
    "axes.set_xlabel(\"Bedrooms\")\n",
    "axes.set_xticks(x)\n",
    "axes.set_xticklabels(proportions.axes[0])\n",
    "axes.set_title( \"Relative Frequency of bedrooms\")\n",
    "axes.set_ylabel( \"Percent\")\n",
    "axes.xaxis.grid(False)\n",
    "\n",
    "plt.show()\n",
    "plt.close()"
   ]
  },
  {
   "cell_type": "markdown",
   "id": "fdccf319",
   "metadata": {},
   "source": [
    "## Beds"
   ]
  },
  {
   "cell_type": "markdown",
   "id": "85cc5970",
   "metadata": {},
   "source": [
    "Beds corresponds to the number of beds in an Airbnb listing. This column is not the same as bedrooms due to the fact that a bed or futon could be classified as a bed which means there could be beds not in a bedroom. Additionally there could be more than one bed in a bedroom. Domain knowledge would lead us to believe that more beds would demand higher prices which is the same intuition as bedrooms and accommodates."
   ]
  },
  {
   "cell_type": "code",
   "execution_count": 24,
   "id": "1d00ae8d",
   "metadata": {},
   "outputs": [],
   "source": [
    "tempDF = vwListings\n",
    "tempDF[\"beds\"].replace('', np.nan, inplace=True)\n",
    "tempDF.dropna(subset=['beds'], inplace=True)"
   ]
  },
  {
   "cell_type": "code",
   "execution_count": 25,
   "id": "ad284506",
   "metadata": {},
   "outputs": [
    {
     "data": {
      "text/plain": [
       "count    5051.000000\n",
       "mean        2.114829\n",
       "std         1.461953\n",
       "min         1.000000\n",
       "25%         1.000000\n",
       "50%         2.000000\n",
       "75%         3.000000\n",
       "max        20.000000\n",
       "Name: beds, dtype: float64"
      ]
     },
     "execution_count": 25,
     "metadata": {},
     "output_type": "execute_result"
    }
   ],
   "source": [
    "tempDF[\"beds\"].describe()"
   ]
  },
  {
   "cell_type": "code",
   "execution_count": 26,
   "id": "7487db94",
   "metadata": {},
   "outputs": [
    {
     "data": {
      "text/plain": [
       "1.0     2142\n",
       "2.0     1560\n",
       "3.0      708\n",
       "4.0      306\n",
       "5.0      138\n",
       "6.0      113\n",
       "7.0       31\n",
       "8.0       30\n",
       "9.0        8\n",
       "10.0       6\n",
       "11.0       1\n",
       "12.0       7\n",
       "20.0       1\n",
       "Name: beds, dtype: int64"
      ]
     },
     "execution_count": 26,
     "metadata": {},
     "output_type": "execute_result"
    }
   ],
   "source": [
    "tempDF[\"beds\"].value_counts().sort_index()"
   ]
  },
  {
   "cell_type": "code",
   "execution_count": 27,
   "id": "1b0cbe6a",
   "metadata": {},
   "outputs": [
    {
     "data": {
      "image/png": "[encoded data removed]",
      "text/plain": [
       "<Figure size 1000x600 with 1 Axes>"
      ]
     },
     "metadata": {},
     "output_type": "display_data"
    }
   ],
   "source": [
    "counts = tempDF[\"beds\"].value_counts().sort_index()\n",
    "proportions = tempDF[\"beds\"].value_counts(normalize=True).sort_index()\n",
    "x = range( len( counts))\n",
    "width = 1/1.5\n",
    "\n",
    "figure = plt.figure(figsize=(10, 6))\n",
    "\n",
    "axes = figure.add_subplot(1, 1, 1)\n",
    "axes.bar(x, proportions, width, color=\"dimgray\", align=\"center\")\n",
    "axes.set_xlabel(\"beds\")\n",
    "axes.set_xticks(x)\n",
    "axes.set_xticklabels(proportions.axes[0])\n",
    "axes.set_title( \"Relative Frequency of beds\")\n",
    "axes.set_ylabel( \"Percent\")\n",
    "axes.xaxis.grid(False)\n",
    "\n",
    "plt.show()\n",
    "plt.close()"
   ]
  },
  {
   "cell_type": "markdown",
   "id": "0552fc23",
   "metadata": {},
   "source": [
    "## Amenities"
   ]
  },
  {
   "cell_type": "markdown",
   "id": "eddb28c8",
   "metadata": {},
   "source": [
    "Amenities is a description of the amenities provided by the listing. It is a JSON type variable and provides a list of amenities by the Airbnb. This column is potentially very noise as the list of amenities have no correlation with one another and each duplicate description could be from the same owner of the Airbnb. "
   ]
  },
  {
   "cell_type": "code",
   "execution_count": 28,
   "id": "d68f2da0",
   "metadata": {},
   "outputs": [],
   "source": [
    "tempDF = vwListings\n",
    "tempDF[\"amenities\"].replace('', np.nan, inplace=True)\n",
    "tempDF.dropna(subset=['amenities'], inplace=True)"
   ]
  },
  {
   "cell_type": "code",
   "execution_count": 29,
   "id": "8d24a3e4",
   "metadata": {},
   "outputs": [
    {
     "data": {
      "text/plain": [
       "count                                                  5051\n",
       "unique                                                 4510\n",
       "top       [\"Bathtub\", \"Coffee\", \"Pool\", \"Paid parking of...\n",
       "freq                                                     90\n",
       "Name: amenities, dtype: object"
      ]
     },
     "execution_count": 29,
     "metadata": {},
     "output_type": "execute_result"
    }
   ],
   "source": [
    "tempDF[\"amenities\"].describe()"
   ]
  },
  {
   "cell_type": "markdown",
   "id": "2f669005",
   "metadata": {},
   "source": [
    "There are 4510 unique descriptions of amenities so essentially each listing of amenities almost has its own unique amenities description."
   ]
  },
  {
   "cell_type": "code",
   "execution_count": 30,
   "id": "131c2e8b",
   "metadata": {},
   "outputs": [
    {
     "data": {
      "text/html": [
       "<div>\n",
       "<style scoped>\n",
       "    .dataframe tbody tr th:only-of-type {\n",
       "        vertical-align: middle;\n",
       "    }\n",
       "\n",
       "    .dataframe tbody tr th {\n",
       "        vertical-align: top;\n",
       "    }\n",
       "\n",
       "    .dataframe thead th {\n",
       "        text-align: right;\n",
       "    }\n",
       "</style>\n",
       "<table border=\"1\" class=\"dataframe\">\n",
       "  <thead>\n",
       "    <tr style=\"text-align: right;\">\n",
       "      <th></th>\n",
       "      <th>amenities</th>\n",
       "    </tr>\n",
       "  </thead>\n",
       "  <tbody>\n",
       "    <tr>\n",
       "      <th>[\"Bathtub\", \"Coffee\", \"Pool\", \"Paid parking off premises\", \"Ethernet connection\", \"Air conditioning\", \"Baking sheet\", \"Long term stays allowed\", \"TV\", \"Carbon monoxide alarm\", \"Elevator\", \"Clothing storage\", \"Toaster\", \"Bed linens\", \"Smoke alarm\", \"Crib - available upon request\", \"Microwave\", \"Shampoo\", \"Hair dryer\", \"Pets allowed\", \"Shower gel\", \"Cooking basics\", \"Dishwasher\", \"Conditioner\", \"Outdoor furniture\", \"Extra pillows and blankets\", \"Refrigerator\", \"Cleaning products\", \"Hot water\", \"Oven\", \"Blender\", \"Body soap\", \"Hangers\", \"Dishes and silverware\", \"Freezer\", \"Heating\", \"Smart lock\", \"Washer\", \"Coffee maker\", \"Dining table\", \"Essentials\", \"Kitchen\", \"Exercise equipment\", \"Window guards\", \"Wifi\", \"Dryer\", \"Iron\", \"Wine glasses\", \"Self check-in\", \"Stove\", \"Hot water kettle\", \"Gym\"]</th>\n",
       "      <td>90</td>\n",
       "    </tr>\n",
       "    <tr>\n",
       "      <th>[\"Air conditioning\", \"Paid parking on premises\", \"Carbon monoxide alarm\", \"Bed linens\", \"Smoke alarm\", \"Microwave\", \"Shampoo\", \"Hair dryer\", \"Pets allowed\", \"First aid kit\", \"TV with standard cable\", \"Extra pillows and blankets\", \"Dedicated workspace\", \"Hot water\", \"Hangers\", \"Heating\", \"Luggage dropoff allowed\", \"Fire extinguisher\", \"Essentials\", \"Building staff\", \"Wifi\", \"Iron\", \"Self check-in\", \"Gym\"]</th>\n",
       "      <td>42</td>\n",
       "    </tr>\n",
       "    <tr>\n",
       "      <th>[\"Air conditioning\", \"Private entrance\", \"Carbon monoxide alarm\", \"Bed linens\", \"Smoke alarm\", \"Shampoo\", \"Hair dryer\", \"First aid kit\", \"TV with standard cable\", \"Extra pillows and blankets\", \"Hot water\", \"Hangers\", \"Heating\", \"Washer\", \"Coffee maker\", \"Luggage dropoff allowed\", \"Fire extinguisher\", \"Essentials\", \"Building staff\", \"Wifi\", \"Dryer\", \"Iron\", \"Self check-in\", \"Gym\"]</th>\n",
       "      <td>21</td>\n",
       "    </tr>\n",
       "    <tr>\n",
       "      <th>[\"Air conditioning\", \"Long term stays allowed\", \"Carbon monoxide alarm\", \"Room-darkening shades\", \"Bed linens\", \"Smoke alarm\", \"Microwave\", \"Shampoo\", \"Hair dryer\", \"First aid kit\", \"Cooking basics\", \"Keypad\", \"Refrigerator\", \"Oven\", \"Hangers\", \"Dishes and silverware\", \"Heating\", \"Fire extinguisher\", \"Essentials\", \"Kitchen\", \"Wifi\", \"Breakfast\", \"Iron\", \"Self check-in\", \"Stove\"]</th>\n",
       "      <td>19</td>\n",
       "    </tr>\n",
       "    <tr>\n",
       "      <th>[\"Bathtub\", \"Air conditioning\", \"Private entrance\", \"Long term stays allowed\", \"TV\", \"Carbon monoxide alarm\", \"Elevator\", \"Dryer \\u2013\\u00a0In unit\", \"Bed linens\", \"Smoke alarm\", \"Microwave\", \"Shampoo\", \"Hair dryer\", \"Pets allowed\", \"Dishwasher\", \"Refrigerator\", \"Hot water\", \"Oven\", \"Hangers\", \"Lockbox\", \"Heating\", \"Coffee maker\", \"Washer \\u2013\\u00a0In unit\", \"Essentials\", \"Kitchen\", \"Wifi\", \"Iron\", \"Self check-in\", \"Gym\"]</th>\n",
       "      <td>17</td>\n",
       "    </tr>\n",
       "    <tr>\n",
       "      <th>...</th>\n",
       "      <td>...</td>\n",
       "    </tr>\n",
       "    <tr>\n",
       "      <th>[\"Single level home\", \"Air conditioning\", \"Private entrance\", \"TV\", \"Carbon monoxide alarm\", \"Smoke alarm\", \"Free street parking\", \"Microwave\", \"Shampoo\", \"Hair dryer\", \"First aid kit\", \"Cooking basics\", \"Dishwasher\", \"Extra pillows and blankets\", \"Refrigerator\", \"Hot water\", \"Oven\", \"Free parking on premises\", \"Hangers\", \"Dishes and silverware\", \"Heating\", \"Smart lock\", \"Washer\", \"Coffee maker\", \"Backyard\", \"Luggage dropoff allowed\", \"Fire extinguisher\", \"Essentials\", \"Kitchen\", \"Wifi\", \"Dryer\", \"Iron\", \"Self check-in\", \"Stove\"]</th>\n",
       "      <td>1</td>\n",
       "    </tr>\n",
       "    <tr>\n",
       "      <th>[\"Hangers\", \"Cooking basics\", \"Essentials\", \"Breakfast\", \"Hair dryer\", \"Kitchen\", \"Bed linens\", \"Oven\", \"Washer\", \"Private entrance\", \"Iron\", \"Smart lock\", \"Coffee maker\", \"Lock on bedroom door\", \"Dishes and silverware\", \"Wifi\", \"Outdoor furniture\", \"First aid kit\", \"Dishwasher\", \"Extra pillows and blankets\", \"Smoke alarm\", \"Air conditioning\", \"Refrigerator\", \"Heating\", \"Dryer\", \"Stove\", \"Free street parking\", \"Microwave\", \"Hot water\", \"Long term stays allowed\", \"Shampoo\", \"Fire extinguisher\", \"Carbon monoxide alarm\"]</th>\n",
       "      <td>1</td>\n",
       "    </tr>\n",
       "    <tr>\n",
       "      <th>[\"Paid parking off premises\", \"Ethernet connection\", \"Air conditioning\", \"Paid parking on premises\", \"TV\", \"Carbon monoxide alarm\", \"Bed linens\", \"Smoke alarm\", \"Shampoo\", \"Hair dryer\", \"Extra pillows and blankets\", \"Hot water\", \"Hangers\", \"Lockbox\", \"Heating\", \"Washer\", \"Essentials\", \"Kitchen\", \"Wifi\", \"Dryer\", \"Iron\", \"Self check-in\"]</th>\n",
       "      <td>1</td>\n",
       "    </tr>\n",
       "    <tr>\n",
       "      <th>[\"Private backyard \\u2013 Fully fenced\", \"Long term stays allowed\", \"Smoke alarm\", \"Microwave\", \"Shampoo\", \"Hair dryer\", \"First aid kit\", \"Cooking basics\", \"Outdoor furniture\", \"Dedicated workspace\", \"Refrigerator\", \"Hot water\", \"Oven\", \"Hangers\", \"Dishes and silverware\", \"Patio or balcony\", \"Heating\", \"Smart lock\", \"Washer\", \"Coffee maker\", \"Window AC unit\", \"Fire extinguisher\", \"Essentials\", \"Kitchen\", \"Wifi\", \"Breakfast\", \"Iron\", \"Self check-in\", \"Stove\"]</th>\n",
       "      <td>1</td>\n",
       "    </tr>\n",
       "    <tr>\n",
       "      <th>[\"Bathtub\", \"Garnier conditioner\", \"Private gym in building\", \"Air conditioning\", \"Baking sheet\", \"Paid parking on premises\", \"TV\", \"Long term stays allowed\", \"Carbon monoxide alarm\", \"Elevator\", \"Room-darkening shades\", \"Bed linens\", \"Smoke alarm\", \"Outdoor dining area\", \"Free street parking\", \"Microwave\", \"Free dryer \\u2013 In unit\", \"Hair dryer\", \"First aid kit\", \"Dove/ Suave body soap\", \"GE electric stove\", \"Barbecue utensils\", \"Dishwasher\", \"Private pool - available seasonally, open specific hours\", \"Outdoor furniture\", \"Host greets you\", \"Extra pillows and blankets\", \"Trash compactor\", \"Cleaning products\", \"Hot water\", \"Blender\", \"Hangers\", \"Dishes and silverware\", \"Freezer\", \"General Electric  refrigerator\", \"Washer\", \"Ceiling fan\", \"Central heating\", \"Dove shampoo\", \"Board games\", \"Fire extinguisher\", \"BBQ grill\", \"Essentials\", \"Kitchen\", \"General Electric  stainless steel oven\", \"City skyline view\", \"Exercise equipment\", \"Security cameras on property\", \"Wifi\", \"Iron\", \"Fireplace guards\", \"Indoor fireplace\"]</th>\n",
       "      <td>1</td>\n",
       "    </tr>\n",
       "  </tbody>\n",
       "</table>\n",
       "<p>4510 rows × 1 columns</p>\n",
       "</div>"
      ],
      "text/plain": [
       "                                                    amenities\n",
       "[\"Bathtub\", \"Coffee\", \"Pool\", \"Paid parking off...         90\n",
       "[\"Air conditioning\", \"Paid parking on premises\"...         42\n",
       "[\"Air conditioning\", \"Private entrance\", \"Carbo...         21\n",
       "[\"Air conditioning\", \"Long term stays allowed\",...         19\n",
       "[\"Bathtub\", \"Air conditioning\", \"Private entran...         17\n",
       "...                                                       ...\n",
       "[\"Single level home\", \"Air conditioning\", \"Priv...          1\n",
       "[\"Hangers\", \"Cooking basics\", \"Essentials\", \"Br...          1\n",
       "[\"Paid parking off premises\", \"Ethernet connect...          1\n",
       "[\"Private backyard \\u2013 Fully fenced\", \"Long ...          1\n",
       "[\"Bathtub\", \"Garnier conditioner\", \"Private gym...          1\n",
       "\n",
       "[4510 rows x 1 columns]"
      ]
     },
     "execution_count": 30,
     "metadata": {},
     "output_type": "execute_result"
    }
   ],
   "source": [
    "pd.DataFrame(tempDF[\"amenities\"].value_counts())"
   ]
  },
  {
   "cell_type": "markdown",
   "id": "78d864f8",
   "metadata": {},
   "source": [
    "As we can see from our EDA, this column has a lot of noise as there are 4510 unique amenties descriptions. The top frequency is 90 where it could potentially be coming from the same Airbnb host copying their amenities description across their Airbnb listings. Overall, this column may be difficult to serve as useful for our model unless we can extract key words from each amenities JSON body. "
   ]
  },
  {
   "cell_type": "markdown",
   "id": "603639e8",
   "metadata": {},
   "source": [
    "## Minimum_minimum_nights"
   ]
  },
  {
   "cell_type": "markdown",
   "id": "04fdb21b",
   "metadata": {},
   "source": [
    "Minimum_minimum_nights is a numerical variable that describes the smallest minimum_night value from the calendar table of the listing. It accounts for all 365 nights in the future. This is the minimum required nights that need to be booked in order to be able to book the listing. "
   ]
  },
  {
   "cell_type": "code",
   "execution_count": 31,
   "id": "e4735816",
   "metadata": {},
   "outputs": [],
   "source": [
    "tempDF = vwListings\n",
    "tempDF[\"minimum_minimum_nights\"].replace('', np.nan, inplace=True)\n",
    "tempDF.dropna(subset=['minimum_minimum_nights'], inplace=True)"
   ]
  },
  {
   "cell_type": "code",
   "execution_count": 32,
   "id": "57894768",
   "metadata": {},
   "outputs": [
    {
     "data": {
      "text/plain": [
       "count    5051.000000\n",
       "mean       21.703623\n",
       "std        48.325270\n",
       "min         1.000000\n",
       "25%         2.000000\n",
       "50%         3.000000\n",
       "75%        31.000000\n",
       "max      1125.000000\n",
       "Name: minimum_minimum_nights, dtype: float64"
      ]
     },
     "execution_count": 32,
     "metadata": {},
     "output_type": "execute_result"
    }
   ],
   "source": [
    "tempDF[\"minimum_minimum_nights\"].describe()"
   ]
  },
  {
   "cell_type": "markdown",
   "id": "ada85d5c",
   "metadata": {},
   "source": [
    "Looking at the summary statistics, most of the airbnb listings have a minimum night requirement 1-3 nights. However there are a lot of outliers that make the distribution look skewed to the right because the max value is 1125 nights. "
   ]
  },
  {
   "cell_type": "code",
   "execution_count": 33,
   "id": "0f733fcf",
   "metadata": {},
   "outputs": [
    {
     "data": {
      "text/plain": [
       "1       1155\n",
       "2       1084\n",
       "3        391\n",
       "4         99\n",
       "5         57\n",
       "6         11\n",
       "7         62\n",
       "8          4\n",
       "9          1\n",
       "10        12\n",
       "12         1\n",
       "13         3\n",
       "14        28\n",
       "15         7\n",
       "16         1\n",
       "17         1\n",
       "20         1\n",
       "21         7\n",
       "22         1\n",
       "25         5\n",
       "27         1\n",
       "28        31\n",
       "29         2\n",
       "30        71\n",
       "31      1492\n",
       "32       216\n",
       "33         2\n",
       "35         2\n",
       "40         2\n",
       "42         1\n",
       "45         4\n",
       "48         1\n",
       "50         3\n",
       "55         1\n",
       "56         1\n",
       "60        47\n",
       "65         1\n",
       "70        10\n",
       "75         1\n",
       "77         2\n",
       "80         1\n",
       "87         1\n",
       "89         2\n",
       "90        40\n",
       "91        84\n",
       "110        1\n",
       "120        5\n",
       "135        1\n",
       "150        3\n",
       "180       20\n",
       "181        1\n",
       "183        1\n",
       "184        4\n",
       "185        1\n",
       "200        1\n",
       "360       48\n",
       "365       12\n",
       "600        1\n",
       "730        1\n",
       "1125       1\n",
       "Name: minimum_minimum_nights, dtype: int64"
      ]
     },
     "execution_count": 33,
     "metadata": {},
     "output_type": "execute_result"
    }
   ],
   "source": [
    "tempDF[\"minimum_minimum_nights\"].value_counts().sort_index()"
   ]
  },
  {
   "cell_type": "markdown",
   "id": "2b495e16",
   "metadata": {},
   "source": [
    "As we see from looking at the value counts of each of the minimum nights, most listings require 1-3 nights in order to book their listing. However, there are a significant amount of listings who need at least 30 nights which means that you would have to book the listing for at least a month in order to stay. These are most likely long term stays for Airbnb."
   ]
  },
  {
   "cell_type": "markdown",
   "id": "b7ed0dac",
   "metadata": {},
   "source": [
    "## Maximum_minimum_nights"
   ]
  },
  {
   "cell_type": "markdown",
   "id": "41c71e67",
   "metadata": {},
   "source": [
    "Maximum_minimum nights is a numeric variable that describes the largest minimum_night value from the calendar. It accounts for all 365 nights in the future. This is the minimum required nights that need to be booked in order to be able to book the listing."
   ]
  },
  {
   "cell_type": "code",
   "execution_count": 34,
   "id": "8ea6fd07",
   "metadata": {},
   "outputs": [],
   "source": [
    "tempDF = vwListings\n",
    "tempDF[\"maximum_minimum_nights\"].replace('', np.nan, inplace=True)\n",
    "tempDF.dropna(subset=['maximum_minimum_nights'], inplace=True)"
   ]
  },
  {
   "cell_type": "code",
   "execution_count": 35,
   "id": "db576cd0",
   "metadata": {},
   "outputs": [
    {
     "data": {
      "text/plain": [
       "count    5051.000000\n",
       "mean       38.908929\n",
       "std        95.998420\n",
       "min         1.000000\n",
       "25%         2.000000\n",
       "50%         5.000000\n",
       "75%        31.000000\n",
       "max      1125.000000\n",
       "Name: maximum_minimum_nights, dtype: float64"
      ]
     },
     "execution_count": 35,
     "metadata": {},
     "output_type": "execute_result"
    }
   ],
   "source": [
    "tempDF[\"maximum_minimum_nights\"].describe()"
   ]
  },
  {
   "cell_type": "markdown",
   "id": "70ce4bb6",
   "metadata": {},
   "source": [
    "Looking at the summary statistics, most of the airbnb listings have a minimum night requirement 1-5 nights. However there are a lot of outliers that make the distribution look skewed to the right because the max value is 1125 nights."
   ]
  },
  {
   "cell_type": "code",
   "execution_count": 36,
   "id": "31849456",
   "metadata": {},
   "outputs": [
    {
     "data": {
      "text/plain": [
       "1        600\n",
       "2        965\n",
       "3        610\n",
       "4        301\n",
       "5        112\n",
       "6         25\n",
       "7         83\n",
       "8          3\n",
       "10        20\n",
       "13         3\n",
       "14        30\n",
       "15         7\n",
       "16         1\n",
       "17         1\n",
       "20         4\n",
       "21         9\n",
       "22         1\n",
       "25         2\n",
       "26         3\n",
       "27         1\n",
       "28        41\n",
       "29         2\n",
       "30       163\n",
       "31      1513\n",
       "32        19\n",
       "33         2\n",
       "35         2\n",
       "40         2\n",
       "42         1\n",
       "45         6\n",
       "48         1\n",
       "50         3\n",
       "55         2\n",
       "56         1\n",
       "60        28\n",
       "65         1\n",
       "70        10\n",
       "75         1\n",
       "77         2\n",
       "80         2\n",
       "89         2\n",
       "90        49\n",
       "91        84\n",
       "99         1\n",
       "100        1\n",
       "110        2\n",
       "115       20\n",
       "120       14\n",
       "135        1\n",
       "150        5\n",
       "180       20\n",
       "181        1\n",
       "183        1\n",
       "184        4\n",
       "185        1\n",
       "200        1\n",
       "250        1\n",
       "360       48\n",
       "365       18\n",
       "366      158\n",
       "600        1\n",
       "730       34\n",
       "1125       1\n",
       "Name: maximum_minimum_nights, dtype: int64"
      ]
     },
     "execution_count": 36,
     "metadata": {},
     "output_type": "execute_result"
    }
   ],
   "source": [
    "tempDF[\"maximum_minimum_nights\"].value_counts().sort_index()"
   ]
  },
  {
   "cell_type": "markdown",
   "id": "92fbea72",
   "metadata": {},
   "source": [
    "As we see from looking at the value counts of each of the minimum nights, most listings require 1-3 nights in order to book their listing. There are more longer term requirements due to the maximum value that is scraped from the calendar."
   ]
  },
  {
   "cell_type": "markdown",
   "id": "5402af07",
   "metadata": {},
   "source": [
    "## Pairwise Variable EDA"
   ]
  },
  {
   "cell_type": "code",
   "execution_count": 37,
   "id": "2db46072",
   "metadata": {},
   "outputs": [],
   "source": [
    "def correlation(data, x, y):\n",
    "    print(\"Correlation coefficients:\")\n",
    "    r = stats.pearsonr(data[x], data[y])[0]\n",
    "    print( \"r   =\", r, f\"({classify_correlation(r)})\")\n",
    "    rho = stats.spearmanr(data[x], data[y])[0]\n",
    "    print( \"rho =\", rho, f\"({classify_correlation(rho)})\")"
   ]
  },
  {
   "cell_type": "code",
   "execution_count": 38,
   "id": "6ae3b8c8",
   "metadata": {},
   "outputs": [],
   "source": [
    "def classify_correlation(r):\n",
    "    r = abs(r)\n",
    "    if r < 0.16:\n",
    "        return \"very weak\"\n",
    "    if r < 0.29:\n",
    "        return \"weak\"\n",
    "    if r < 0.49:\n",
    "        return \"low\"\n",
    "    if r < 0.69:\n",
    "        return \"moderate\"\n",
    "    if r < 0.89:\n",
    "        return \"strong\"\n",
    "    return \"very strong\""
   ]
  },
  {
   "cell_type": "code",
   "execution_count": 39,
   "id": "b0da825e",
   "metadata": {},
   "outputs": [],
   "source": [
    "def describe_by_category(data, numeric, categorical, transpose=False):\n",
    "    grouped = data.groupby(categorical)\n",
    "    grouped_y = grouped[numeric].describe()\n",
    "    if transpose:\n",
    "        print(grouped_y.transpose())\n",
    "    else:\n",
    "        print(grouped_y)"
   ]
  },
  {
   "cell_type": "code",
   "execution_count": 40,
   "id": "dc4eb836",
   "metadata": {},
   "outputs": [],
   "source": [
    "vwListings['price_number'] = tempDF['price'].str.extract('(\\d+)').astype(float)"
   ]
  },
  {
   "cell_type": "code",
   "execution_count": 41,
   "id": "d23e216c",
   "metadata": {},
   "outputs": [
    {
     "data": {
      "text/plain": [
       "1        67.0\n",
       "2        85.0\n",
       "3        90.0\n",
       "4        40.0\n",
       "5        40.0\n",
       "        ...  \n",
       "8604    595.0\n",
       "8607     69.0\n",
       "8611    272.0\n",
       "8612    200.0\n",
       "8613    176.0\n",
       "Name: price_number, Length: 5051, dtype: float64"
      ]
     },
     "execution_count": 41,
     "metadata": {},
     "output_type": "execute_result"
    }
   ],
   "source": [
    "vwListings['price_number']"
   ]
  },
  {
   "cell_type": "markdown",
   "id": "43654066",
   "metadata": {},
   "source": [
    "## Neighbourhood_cleansed vs. price"
   ]
  },
  {
   "cell_type": "markdown",
   "id": "45eb5616",
   "metadata": {},
   "source": [
    "Overall, neighbourhood_cleansed should affect price and there should be noticeable differences in price based on where the listing is located. Factors that help determine this could be things to do around the area, public transportation available, safety and crime, and income levels. "
   ]
  },
  {
   "cell_type": "code",
   "execution_count": 42,
   "id": "e116aabc",
   "metadata": {},
   "outputs": [],
   "source": [
    "tempDF = vwListings\n",
    "tempDF[\"neighbourhood_cleansed\"].replace('', np.nan, inplace=True)\n",
    "tempDF.dropna(subset=['neighbourhood_cleansed'], inplace=True)"
   ]
  },
  {
   "cell_type": "code",
   "execution_count": 43,
   "id": "431afc6c",
   "metadata": {},
   "outputs": [
    {
     "name": "stdout",
     "output_type": "stream",
     "text": [
      "neighbourhood_cleansed  Brightwood Park, Crestwood, Petworth  Brookland, Brentwood, Langdon  Capitol Hill, Lincoln Park  Capitol View, Marshall Heights, Benning Heights  \\\n",
      "count                                             259.000000                      78.000000                  451.000000                                        73.000000   \n",
      "mean                                              147.135135                     169.910256                  209.756098                                       142.835616   \n",
      "std                                               118.750182                     111.825953                  160.912835                                       127.259360   \n",
      "min                                                30.000000                      29.000000                    1.000000                                        34.000000   \n",
      "25%                                                74.500000                      99.250000                  115.500000                                        57.000000   \n",
      "50%                                               102.000000                     145.000000                  162.000000                                        80.000000   \n",
      "75%                                               184.000000                     200.000000                  257.500000                                       175.000000   \n",
      "max                                               764.000000                     717.000000                  999.000000                                       597.000000   \n",
      "\n",
      "neighbourhood_cleansed  Cathedral Heights, McLean Gardens, Glover Park  Cleveland Park, Woodley Park, Massachusetts Avenue Heights, Woodland-Normanstone Terrace  \\\n",
      "count                                                        44.000000                                          40.000000                                          \n",
      "mean                                                        161.454545                                         169.525000                                          \n",
      "std                                                         135.467572                                         168.132425                                          \n",
      "min                                                           1.000000                                          48.000000                                          \n",
      "25%                                                          86.500000                                          83.750000                                          \n",
      "50%                                                         126.500000                                         117.000000                                          \n",
      "75%                                                         200.750000                                         186.250000                                          \n",
      "max                                                         750.000000                                         750.000000                                          \n",
      "\n",
      "neighbourhood_cleansed  Colonial Village, Shepherd Park, North Portal Estates  Columbia Heights, Mt. Pleasant, Pleasant Plains, Park View  Congress Heights, Bellevue, Washington Highlands  \\\n",
      "count                                                           91.000000                                             364.000000                                                  91.000000   \n",
      "mean                                                           122.054945                                             162.637363                                                 106.164835   \n",
      "std                                                             82.098635                                             125.236197                                                  81.913812   \n",
      "min                                                              1.000000                                               1.000000                                                  25.000000   \n",
      "25%                                                             70.000000                                              81.000000                                                  49.500000   \n",
      "50%                                                            100.000000                                             125.000000                                                  89.000000   \n",
      "75%                                                            159.500000                                             189.500000                                                 122.500000   \n",
      "max                                                            545.000000                                             899.000000                                                 496.000000   \n",
      "\n",
      "neighbourhood_cleansed  Deanwood, Burrville, Grant Park, Lincoln Heights, Fairmont Heights  Douglas, Shipley Terrace  Downtown, Chinatown, Penn Quarters, Mount Vernon Square, North Capitol Street  \\\n",
      "count                                                           64.000000                                  23.000000                                         197.000000                               \n",
      "mean                                                           136.906250                                 219.347826                                         240.568528                               \n",
      "std                                                            110.487623                                 233.853219                                         141.860494                               \n",
      "min                                                             32.000000                                  35.000000                                           7.000000                               \n",
      "25%                                                             69.500000                                  66.500000                                         139.000000                               \n",
      "50%                                                             89.500000                                 125.000000                                         191.000000                               \n",
      "75%                                                            161.000000                                 300.500000                                         389.000000                               \n",
      "max                                                            529.000000                                 999.000000                                         616.000000                               \n",
      "\n",
      "neighbourhood_cleansed  Dupont Circle, Connecticut Avenue/K Street  Eastland Gardens, Kenilworth  Edgewood, Bloomingdale, Truxton Circle, Eckington  \\\n",
      "count                                                   323.000000                     17.000000                                         351.000000   \n",
      "mean                                                    285.885449                    127.294118                                         174.188034   \n",
      "std                                                     277.718001                     95.582271                                         137.934577   \n",
      "min                                                       1.000000                     34.000000                                           1.000000   \n",
      "25%                                                     111.500000                     54.000000                                          89.500000   \n",
      "50%                                                     167.000000                     87.000000                                         135.000000   \n",
      "75%                                                     341.000000                    199.000000                                         199.000000   \n",
      "max                                                     999.000000                    350.000000                                         961.000000   \n",
      "\n",
      "neighbourhood_cleansed  Fairfax Village, Naylor Gardens, Hillcrest, Summit Park  Friendship Heights, American University Park, Tenleytown  Georgetown, Burleith/Hillandale  \\\n",
      "count                                                           22.000000                                                69.000000                              187.000000   \n",
      "mean                                                           152.272727                                               169.347826                              229.609626   \n",
      "std                                                             68.472575                                               129.673099                              184.295761   \n",
      "min                                                             47.000000                                                42.000000                                1.000000   \n",
      "25%                                                            104.750000                                                89.000000                               95.000000   \n",
      "50%                                                            142.500000                                               125.000000                              177.000000   \n",
      "75%                                                            192.250000                                               200.000000                              279.500000   \n",
      "max                                                            317.000000                                               653.000000                              999.000000   \n",
      "\n",
      "neighbourhood_cleansed  Hawthorne, Barnaby Woods, Chevy Chase  Historic Anacostia  Howard University, Le Droit Park, Cardozo/Shaw  Ivy City, Arboretum, Trinidad, Carver Langston  \\\n",
      "count                                               48.000000           32.000000                                      185.000000                                      167.000000   \n",
      "mean                                               182.541667          159.687500                                      203.367568                                      175.898204   \n",
      "std                                                174.251952          135.908992                                      140.559035                                      117.014243   \n",
      "min                                                  1.000000           37.000000                                        1.000000                                       34.000000   \n",
      "25%                                                 88.000000           72.250000                                      113.000000                                       99.500000   \n",
      "50%                                                139.500000           97.000000                                      163.000000                                      139.000000   \n",
      "75%                                                205.000000          236.000000                                      247.000000                                      210.000000   \n",
      "max                                                950.000000          525.000000                                      799.000000                                      660.000000   \n",
      "\n",
      "neighbourhood_cleansed  Kalorama Heights, Adams Morgan, Lanier Heights  Lamont Riggs, Queens Chapel, Fort Totten, Pleasant Hill  Mayfair, Hillbrook, Mahaning Heights  Near Southeast, Navy Yard  \\\n",
      "count                                                       162.000000                                          76.000000                                    18.00000                  52.000000   \n",
      "mean                                                        185.617284                                         125.236842                                   215.00000                 244.692308   \n",
      "std                                                         148.657894                                          87.647456                                   201.04638                 172.513772   \n",
      "min                                                           1.000000                                          26.000000                                    23.00000                  33.000000   \n",
      "25%                                                         112.750000                                          72.750000                                    90.75000                 149.000000   \n",
      "50%                                                         140.000000                                          97.000000                                   129.50000                 188.000000   \n",
      "75%                                                         201.750000                                         149.750000                                   236.50000                 273.750000   \n",
      "max                                                         999.000000                                         465.000000                                   750.00000                 800.000000   \n",
      "\n",
      "neighbourhood_cleansed  North Cleveland Park, Forest Hills, Van Ness  North Michigan Park, Michigan Park, University Heights  River Terrace, Benning, Greenway, Dupont Park  Shaw, Logan Circle  \\\n",
      "count                                                      27.000000                                          53.000000                                           32.000000          264.000000   \n",
      "mean                                                      188.333333                                         125.754717                                           89.156250          230.087121   \n",
      "std                                                       160.191952                                          79.226769                                           53.229333          168.842053   \n",
      "min                                                         1.000000                                          33.000000                                            2.000000            1.000000   \n",
      "25%                                                       104.500000                                          77.000000                                           50.000000          127.000000   \n",
      "50%                                                       137.000000                                          99.000000                                           81.000000          180.000000   \n",
      "75%                                                       206.000000                                         143.000000                                          111.000000          269.000000   \n",
      "max                                                       750.000000                                         375.000000                                          261.000000          972.000000   \n",
      "\n",
      "neighbourhood_cleansed  Sheridan, Barry Farm, Buena Vista  Southwest Employment Area, Southwest/Waterfront, Fort McNair, Buzzard Point  \\\n",
      "count                                           20.000000                                          73.000000                             \n",
      "mean                                           163.350000                                         275.424658                             \n",
      "std                                            117.912668                                         202.099461                             \n",
      "min                                             45.000000                                           2.000000                             \n",
      "25%                                             77.250000                                         140.000000                             \n",
      "50%                                            115.500000                                         215.000000                             \n",
      "75%                                            218.500000                                         348.000000                             \n",
      "max                                            435.000000                                         876.000000                             \n",
      "\n",
      "neighbourhood_cleansed  Spring Valley, Palisades, Wesley Heights, Foxhall Crescent, Foxhall Village, Georgetown Reservoir  Takoma, Brightwood, Manor Park  \\\n",
      "count                                                          106.000000                                                                      133.000000   \n",
      "mean                                                           215.047170                                                                      129.451128   \n",
      "std                                                            199.810643                                                                      125.950535   \n",
      "min                                                              1.000000                                                                        1.000000   \n",
      "25%                                                             98.500000                                                                       58.000000   \n",
      "50%                                                            154.000000                                                                       85.000000   \n",
      "75%                                                            222.500000                                                                      130.000000   \n",
      "max                                                            999.000000                                                                      700.000000   \n",
      "\n",
      "neighbourhood_cleansed  Twining, Fairlawn, Randle Highlands, Penn Branch, Fort Davis Park, Fort Dupont  Union Station, Stanton Park, Kingman Park  West End, Foggy Bottom, GWU  \\\n",
      "count                                                           75.000000                                                              581.000000                   143.000000   \n",
      "mean                                                           147.373333                                                              192.943201                   306.132867   \n",
      "std                                                            104.512093                                                              149.585203                   285.509484   \n",
      "min                                                              1.000000                                                                1.000000                     1.000000   \n",
      "25%                                                             79.000000                                                              119.000000                   142.500000   \n",
      "50%                                                            121.000000                                                              147.000000                   198.000000   \n",
      "75%                                                            195.500000                                                              201.000000                   305.500000   \n",
      "max                                                            484.000000                                                              999.000000                   999.000000   \n",
      "\n",
      "neighbourhood_cleansed  Woodland/Fort Stanton, Garfield Heights, Knox Hill  Woodridge, Fort Lincoln, Gateway  \n",
      "count                                                            6.000000                          54.000000  \n",
      "mean                                                           209.833333                         148.481481  \n",
      "std                                                            132.200479                         119.711720  \n",
      "min                                                             46.000000                          29.000000  \n",
      "25%                                                            101.250000                          71.250000  \n",
      "50%                                                            230.000000                         115.000000  \n",
      "75%                                                            316.000000                         156.750000  \n",
      "max                                                            350.000000                         571.000000  \n"
     ]
    }
   ],
   "source": [
    "describe_by_category(tempDF, \"price_number\", \"neighbourhood_cleansed\", transpose=True)"
   ]
  },
  {
   "cell_type": "markdown",
   "id": "c1c2aae3",
   "metadata": {},
   "source": [
    "Overall, there are noticeable differences in different neighbourhoods and their price. For example, the neighbourhoods with the lowest median price include \"Deanwood, Burrville, Grant Park, Lincoln Heights, Fairmont Heights\", \"Congress Heights, Bellevue, Washington Highlands\", \"Capitol View, Marshall Heights, Benning Heights\". Each of these neighbourhoods have a median price listing of 80 to 89. For the neighbourhoods with the highest median price, there is a significant gap in comparison with the lower median prices. For example, \"Southwest Employment Area, Southwest/Waterfront, Fort McNair, Buzzard Point\" has a median listing price of 215. West End, Foggy Bottom, GWU has a median price listing of 198 which is the neighbourhood around George Washington University which is a significant factor in driving up the price of the listings in the area. The most expensive neighbourhood is Woodland/Fort Stanton, Garfield Heights, Knox Hill with a median listing price of 230. "
   ]
  },
  {
   "cell_type": "markdown",
   "id": "8e598ddd",
   "metadata": {},
   "source": [
    "## Accommodates vs. price"
   ]
  },
  {
   "cell_type": "markdown",
   "id": "c4d244b4",
   "metadata": {},
   "source": [
    "Accommodates describes the maximum capacity of the Airbnb listing. Overall, it should affect price as it would mean more guests would be staying at the listing. More resources are required to host the guests therefore increasing cost for the owner and needing to increase the price. We expect there to be a moderate to strong correlation between accommodates and price."
   ]
  },
  {
   "cell_type": "code",
   "execution_count": 44,
   "id": "5471cab5",
   "metadata": {},
   "outputs": [],
   "source": [
    "tempDF = vwListings\n",
    "tempDF[\"accommodates\"].replace('', np.nan, inplace=True)\n",
    "tempDF.dropna(subset=['accommodates'], inplace=True)"
   ]
  },
  {
   "cell_type": "code",
   "execution_count": 45,
   "id": "359659a0",
   "metadata": {},
   "outputs": [
    {
     "name": "stdout",
     "output_type": "stream",
     "text": [
      "Correlation coefficients:\n",
      "r   = 0.4400452070150463 (low)\n",
      "rho = 0.5592544357465467 (moderate)\n"
     ]
    }
   ],
   "source": [
    "correlation(tempDF, \"price_number\", \"accommodates\")"
   ]
  },
  {
   "cell_type": "markdown",
   "id": "5db883f0",
   "metadata": {},
   "source": [
    "Pearson's correlation coefficient 𝑟, outputs as 0.44 which indicates a low positive relationship. For Spearman's coefficient, it is slightly higher at 0.55 which indicates a moderate positive relationship. We can plot the data to get a visualization of this pairwise relationship."
   ]
  },
  {
   "cell_type": "code",
   "execution_count": 46,
   "id": "386c83c5",
   "metadata": {},
   "outputs": [
    {
     "data": {
      "image/png": "[encoded data removed]",
      "text/plain": [
       "<Figure size 1000x600 with 1 Axes>"
      ]
     },
     "metadata": {},
     "output_type": "display_data"
    }
   ],
   "source": [
    "figure = plt.figure(figsize=(10, 6))\n",
    "\n",
    "axes = figure.add_subplot(1, 1, 1)\n",
    "axes.scatter( tempDF[\"accommodates\"], tempDF[\"price_number\"], marker=\"o\", color=\"darkslategray\")\n",
    "\n",
    "axes.set_ylabel(\"price\")\n",
    "axes.set_xlabel(\"accommodates\")\n",
    "axes.set_title(\"Scatter Plot of Price vs. Accommodates\")\n",
    "\n",
    "plt.show()\n",
    "plt.close()"
   ]
  },
  {
   "cell_type": "markdown",
   "id": "bc2ecd35",
   "metadata": {},
   "source": [
    "When looking at the scatter plot visualization, there is a slight pattern as accommodates increases, then price increases. This would be reflective on the correlation coefficients that show a moderate positive relationship between accommodates and price. The scatter plot is indicative of that."
   ]
  },
  {
   "cell_type": "markdown",
   "id": "1eddaaf7",
   "metadata": {},
   "source": [
    "## Bathrooms_text vs. price"
   ]
  },
  {
   "cell_type": "markdown",
   "id": "7692061c",
   "metadata": {},
   "source": [
    "Overall, number of bathrooms should affect price as well as it would make a listing more desirable and could accommodate more guests for their stay. We expect there to be a moderate positive relationship between number of bathrooms and price."
   ]
  },
  {
   "cell_type": "code",
   "execution_count": 47,
   "id": "f77a8494",
   "metadata": {},
   "outputs": [],
   "source": [
    "tempDF = vwListings\n",
    "tempDF[\"bathrooms_text\"].replace('', np.nan, inplace=True)\n",
    "tempDF.dropna(subset=['bathrooms_text'], inplace=True)"
   ]
  },
  {
   "cell_type": "code",
   "execution_count": 48,
   "id": "f2c96473",
   "metadata": {},
   "outputs": [],
   "source": [
    "tempDF['bathroom_numbers'] = tempDF['bathrooms_text'].str.extract('(\\d+)').astype(float)"
   ]
  },
  {
   "cell_type": "code",
   "execution_count": 49,
   "id": "8a3b0896",
   "metadata": {},
   "outputs": [
    {
     "name": "stdout",
     "output_type": "stream",
     "text": [
      "Correlation coefficients:\n",
      "r   = 0.3623013038027523 (low)\n",
      "rho = 0.37360919929280917 (low)\n"
     ]
    }
   ],
   "source": [
    "correlation(tempDF, \"price_number\", \"bathroom_numbers\")"
   ]
  },
  {
   "cell_type": "markdown",
   "id": "6a38a254",
   "metadata": {},
   "source": [
    "Pearson's correlation coefficient 𝑟, outputs as 0.36 which indicates a low positive relationship. For Spearman's coefficient, it is slightly higher at 0.37 which also indicates a low positive relationship. This is contrary to our belief that there is a moderate positive relationship between the two variables. We can plot the data to get a visualization of this pairwise relationship."
   ]
  },
  {
   "cell_type": "code",
   "execution_count": 50,
   "id": "5bd3c8ec",
   "metadata": {},
   "outputs": [
    {
     "data": {
      "image/png": "[encoded data removed]",
      "text/plain": [
       "<Figure size 1000x600 with 1 Axes>"
      ]
     },
     "metadata": {},
     "output_type": "display_data"
    }
   ],
   "source": [
    "figure = plt.figure(figsize=(10, 6))\n",
    "\n",
    "axes = figure.add_subplot(1, 1, 1)\n",
    "axes.scatter( tempDF[\"bathroom_numbers\"], tempDF[\"price_number\"], marker=\"o\", color=\"darkslategray\")\n",
    "\n",
    "axes.set_ylabel(\"price\")\n",
    "axes.set_xlabel(\"number of bathrooms\")\n",
    "axes.set_title(\"Scatter Plot of Price vs. Number of Bathrooms\")\n",
    "\n",
    "plt.show()\n",
    "plt.close()"
   ]
  },
  {
   "cell_type": "markdown",
   "id": "eb418fc3",
   "metadata": {},
   "source": [
    "When looking at the scatter plot visualization, there is not really a pattern as number of bathrooms increases. This would be reflective on the correlation coefficients that show a low positive relationship between number of bathrooms and and price. However, there is a strong indication that a listing having no bathrooms will cap the ceiling of the airbnb listing price to under 200. As long as a listing has at least one bathroom then the price should be able to increase."
   ]
  },
  {
   "cell_type": "markdown",
   "id": "b1cdf88a",
   "metadata": {},
   "source": [
    "## Bedrooms vs. price"
   ]
  },
  {
   "cell_type": "markdown",
   "id": "3fa0dd14",
   "metadata": {},
   "source": [
    "Overall, number of bedrooms should affect price as well as it would make a listing more desirable and could accommodate more guests for their stay. We expect there to be a moderate positive relationship between number of bathrooms and price."
   ]
  },
  {
   "cell_type": "code",
   "execution_count": 51,
   "id": "261e2b79",
   "metadata": {},
   "outputs": [],
   "source": [
    "tempDF = vwListings\n",
    "tempDF[\"bedrooms\"].replace('', np.nan, inplace=True)\n",
    "tempDF.dropna(subset=['bedrooms'], inplace=True)"
   ]
  },
  {
   "cell_type": "code",
   "execution_count": 52,
   "id": "e8d75fa9",
   "metadata": {},
   "outputs": [
    {
     "name": "stdout",
     "output_type": "stream",
     "text": [
      "Correlation coefficients:\n",
      "r   = 0.37300530186648145 (low)\n",
      "rho = 0.48222218915945264 (low)\n"
     ]
    }
   ],
   "source": [
    "correlation(tempDF, \"price_number\", \"bedrooms\")"
   ]
  },
  {
   "cell_type": "markdown",
   "id": "b6a5edda",
   "metadata": {},
   "source": [
    "Pearson's correlation coefficient 𝑟, outputs as 0.37 which indicates a low positive relationship. For Spearman's coefficient, it is slightly higher at 0.48 which also indicates a low positive relationship. This is contrary to our belief that there is a moderate positive relationship between the two variables. We can plot the data to get a visualization of this pairwise relationship."
   ]
  },
  {
   "cell_type": "code",
   "execution_count": 53,
   "id": "c8521733",
   "metadata": {},
   "outputs": [
    {
     "data": {
      "image/png": "[encoded data removed]",
      "text/plain": [
       "<Figure size 1000x600 with 1 Axes>"
      ]
     },
     "metadata": {},
     "output_type": "display_data"
    }
   ],
   "source": [
    "figure = plt.figure(figsize=(10, 6))\n",
    "\n",
    "axes = figure.add_subplot(1, 1, 1)\n",
    "axes.scatter( tempDF[\"bedrooms\"], tempDF[\"price_number\"], marker=\"o\", color=\"darkslategray\")\n",
    "\n",
    "axes.set_ylabel(\"price\")\n",
    "axes.set_xlabel(\"bedrooms\")\n",
    "axes.set_title(\"Scatter Plot of Price vs. bedrooms\")\n",
    "\n",
    "plt.show()\n",
    "plt.close()"
   ]
  },
  {
   "cell_type": "markdown",
   "id": "e7dd5c7e",
   "metadata": {},
   "source": [
    "When looking at the scatter plot visualization, there is not really a pattern as number of bathrooms increases. This would be reflective on the correlation coefficients that show a low positive relationship between number of bedrooms and and price."
   ]
  },
  {
   "cell_type": "markdown",
   "id": "7886244b",
   "metadata": {},
   "source": [
    "Overall, number of beds should affect price as well as it would make a listing more desirable and could accommodate more guests for their stay. We expect there to be a moderate positive relationship between number of bathrooms and price."
   ]
  },
  {
   "cell_type": "code",
   "execution_count": 54,
   "id": "4f0d463c",
   "metadata": {},
   "outputs": [],
   "source": [
    "tempDF = vwListings\n",
    "tempDF[\"beds\"].replace('', np.nan, inplace=True)\n",
    "tempDF.dropna(subset=['beds'], inplace=True)"
   ]
  },
  {
   "cell_type": "code",
   "execution_count": 55,
   "id": "04a93a7a",
   "metadata": {},
   "outputs": [
    {
     "name": "stdout",
     "output_type": "stream",
     "text": [
      "Correlation coefficients:\n",
      "r   = 0.36134981435961805 (low)\n",
      "rho = 0.49005188742929223 (moderate)\n"
     ]
    }
   ],
   "source": [
    "correlation(tempDF, \"price_number\", \"beds\")"
   ]
  },
  {
   "cell_type": "markdown",
   "id": "63b5bd81",
   "metadata": {},
   "source": [
    "Pearson's correlation coefficient 𝑟, outputs as 0.37 which indicates a low positive relationship. For Spearman's coefficient, it is slightly higher at 0.49 which also indicates a moderate positive relationship. We can plot the data to get a visualization of this pairwise relationship."
   ]
  },
  {
   "cell_type": "code",
   "execution_count": 56,
   "id": "a035ff34",
   "metadata": {},
   "outputs": [
    {
     "data": {
      "image/png": "[encoded data removed]",
      "text/plain": [
       "<Figure size 1000x600 with 1 Axes>"
      ]
     },
     "metadata": {},
     "output_type": "display_data"
    }
   ],
   "source": [
    "figure = plt.figure(figsize=(10, 6))\n",
    "\n",
    "axes = figure.add_subplot(1, 1, 1)\n",
    "axes.scatter( tempDF[\"bedrooms\"], tempDF[\"price_number\"], marker=\"o\", color=\"darkslategray\")\n",
    "\n",
    "axes.set_ylabel(\"price\")\n",
    "axes.set_xlabel(\"beds\")\n",
    "axes.set_title(\"Scatter Plot of Price vs. beds\")\n",
    "\n",
    "plt.show()\n",
    "plt.close()"
   ]
  },
  {
   "cell_type": "markdown",
   "id": "f2f30cf4",
   "metadata": {},
   "source": [
    "When looking at the scatter plot visualization, there is not really a pattern as number of bathrooms increases. This would be reflective on the correlation coefficients that show a low positive to moderate relationship between number of beds and and price."
   ]
  }
 ],
 "metadata": {
  "kernelspec": {
   "display_name": "Python 3 (ipykernel)",
   "language": "python",
   "name": "python3"
  },
  "language_info": {
   "codemirror_mode": {
    "name": "ipython",
    "version": 3
   },
   "file_extension": ".py",
   "mimetype": "text/x-python",
   "name": "python",
   "nbconvert_exporter": "python",
   "pygments_lexer": "ipython3",
   "version": "3.8.5"
  }
 },
 "nbformat": 4,
 "nbformat_minor": 5
}
