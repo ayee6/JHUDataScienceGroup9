{
 "cells": [
  {
   "cell_type": "code",
   "execution_count": 41,
   "metadata": {},
   "outputs": [],
   "source": [
    "import sqlite3\n",
    "import pandas as pd\n",
    "import numpy as np\n",
    "import matplotlib.pyplot as plt\n",
    "import scipy.stats as stats\n",
    "import seaborn as sns\n",
    "import datetime\n",
    "from collections import Counter\n",
    "import models\n",
    "import math\n",
    "import random\n",
    "import patsy\n",
    "\n",
    "import warnings\n",
    "warnings.filterwarnings('ignore')"
   ]
  },
  {
   "cell_type": "code",
   "execution_count": 2,
   "metadata": {},
   "outputs": [],
   "source": [
    "# Connect to airbnb database\n",
    "connection = sqlite3.connect('airbnb.db')"
   ]
  },
  {
   "cell_type": "code",
   "execution_count": 3,
   "metadata": {},
   "outputs": [],
   "source": [
    "# Query the listings table in airbnb.db and convert the listings table to dataframe\n",
    "vwListings = pd.read_sql('SELECT * FROM most_recent_listings', connection)"
   ]
  },
  {
   "cell_type": "markdown",
   "metadata": {},
   "source": [
    "Since the original data set contains a lot of noise, we will clean it up before feeding to the model. After completing EDA, we decided to drop some observations, convert data types, and manipulate some variables."
   ]
  },
  {
   "cell_type": "code",
   "execution_count": 4,
   "metadata": {},
   "outputs": [],
   "source": [
    "## convert price to numeric\n",
    "vwListings['price'] = vwListings['price'].str.replace(',','',regex=False)\n",
    "vwListings['price'] = vwListings['price'].str.strip('$').astype('float')"
   ]
  },
  {
   "cell_type": "code",
   "execution_count": 5,
   "metadata": {},
   "outputs": [],
   "source": [
    "## STEVE: host_reponse_rate, host_acceptance_rate - fillna ('') with 0\n",
    "# Create room_type_mod grouping hotel rooms together\n",
    "vwListings['room_type_mod'] = vwListings['room_type']\n",
    "vwListings.loc[vwListings['property_type'].isin(['Room in hotel', 'Room in boutique hotel',\n",
    "        'Private room in bed and breakfast']), 'room_type_mod'] = 'Hotel room'\n",
    "\n",
    "# Drop the listings having price = 0\n",
    "vwListings.drop(vwListings.loc[vwListings['price']==0].index, inplace=True)\n",
    "\n",
    "# Drop the unavailable listings\n",
    "vwListings.drop(vwListings.loc[vwListings['has_availability']=='f'].index, inplace=True)\n",
    "vwListings = vwListings.reset_index(drop=True)\n",
    "\n",
    "# Replace null reviews_per_month = 0\n",
    "vwListings['reviews_per_month'] = vwListings['reviews_per_month'].replace({'': 0})\n",
    "\n",
    "# Drop 2 listings having over 31 reviews per month\n",
    "vwListings.drop(vwListings.loc[vwListings['reviews_per_month'] > 31].index, inplace=True)\n",
    "vwListings = vwListings.reset_index(drop=True)\n",
    "\n",
    "# Replace null year in host_since by the most common value 2019-09-13\n",
    "vwListings['host_since'] = vwListings['host_since'].replace({'': '2019-09-13'})\n",
    "vwListings['host_since'] = pd.to_datetime(vwListings['host_since'])\n",
    "\n",
    "# Replace null value by 'N/A' in host_response_time\n",
    "vwListings['host_response_time'] = vwListings['host_response_time'].replace({'': 'N/A'})\n",
    "\n",
    "# Replace N/A value in host_response_rate = 0\n",
    "vwListings['host_response_rate'] = vwListings['host_response_rate'].str.replace('N/A', '0%')\n",
    "vwListings['host_response_rate'] = vwListings['host_response_rate'].str.replace('%', '')\n",
    "vwListings['host_response_rate'] = pd.to_numeric(vwListings['host_response_rate'])\n",
    "vwListings['host_response_rate'] = vwListings['host_response_rate'].fillna(0)\n",
    "\n",
    "# Replace N/A value in host_acceptance_rate = 0\n",
    "vwListings['host_acceptance_rate'] = vwListings['host_acceptance_rate'].str.replace('N/A', '0%')\n",
    "vwListings['host_acceptance_rate'] = vwListings['host_acceptance_rate'].str.replace('%', '')\n",
    "vwListings['host_acceptance_rate'] = pd.to_numeric(vwListings['host_acceptance_rate'])\n",
    "vwListings['host_acceptance_rate'] = vwListings['host_acceptance_rate'].fillna(0)\n",
    "\n",
    "# Replace null value by 'f' in host_is_superhost\n",
    "vwListings['host_is_superhost'] = vwListings['host_is_superhost'].replace({'': 'f'})\n",
    "\n",
    "# Replace null value by 'f' in host_verifications\n",
    "vwListings['host_verifications'] = vwListings['host_verifications'].replace({'': 'f'})\n",
    "\n",
    "# Replace null value by 'f' in host_has_profile_pic\n",
    "vwListings['host_has_profile_pic'] = vwListings['host_has_profile_pic'].replace({'': 'f'})\n",
    "\n",
    "# Replace null value by 'f' in host_identity_verified\n",
    "vwListings['host_identity_verified'] = vwListings['host_identity_verified'].replace({'': 'f'})"
   ]
  },
  {
   "cell_type": "markdown",
   "metadata": {},
   "source": [
    "Next, we will clean the bedrooms variable. We will follow the rules below:\n",
    "- If the value of the bedrooms variable is null and the value of the beds variable is not null, bedrooms will be equal to the value of beds.\n",
    "- If the value of the beds variable is null and the value of the bedrooms variable is not null, beds will be equal to the value of bedrooms.\n",
    "- Otherwise, both of the variables will be equal the mean of corresponding variable."
   ]
  },
  {
   "cell_type": "code",
   "execution_count": 6,
   "metadata": {},
   "outputs": [],
   "source": [
    "vwListings.loc[(vwListings['bedrooms'] == '')&(vwListings['beds'] == ''), ['bedrooms', 'beds']] = [2, 2]\n",
    "vwListings.loc[vwListings['bedrooms'] == '', 'bedrooms'] = vwListings.loc[vwListings['bedrooms'] == '', 'beds']\n",
    "vwListings.loc[vwListings['beds'] == '', 'beds'] = vwListings.loc[vwListings['beds'] == '', 'bedrooms']\n",
    "\n",
    "vwListings['bedrooms'] = pd.to_numeric(vwListings['bedrooms'])\n",
    "vwListings['beds'] = pd.to_numeric(vwListings['beds'])"
   ]
  },
  {
   "cell_type": "markdown",
   "metadata": {},
   "source": [
    "We will convert some bathroom text to the number of bathrooms based on the human's interpretation. With the null values or the half bathroom only, we will assume the number of bathrooms is equal to the mean bathrooms which is 1."
   ]
  },
  {
   "cell_type": "code",
   "execution_count": 7,
   "metadata": {},
   "outputs": [],
   "source": [
    "vwListings.loc[vwListings['bathrooms_text'] == '0 shared baths', 'bathrooms_text'] = \\\n",
    "    vwListings.loc[vwListings['bathrooms_text'] == '0 shared baths', 'bedrooms'].astype('str') + ' baths'\n",
    "vwListings['bathrooms_text'] = vwListings['bathrooms_text'].replace(\n",
    "    ['0 baths', 'Half-bath', 'Private half-bath', 'Shared half-bath', ''], '1 bathroom')"
   ]
  },
  {
   "cell_type": "code",
   "execution_count": 8,
   "metadata": {
    "scrolled": false
   },
   "outputs": [],
   "source": [
    "# Extract the number of bathrooms from bathroom_text.\n",
    "vwListings['bathroom_numbers'] = vwListings['bathrooms_text'].str.split().str.get(0)\n",
    "vwListings['bathroom_numbers'] = pd.to_numeric(vwListings['bathroom_numbers'])"
   ]
  },
  {
   "cell_type": "code",
   "execution_count": 9,
   "metadata": {},
   "outputs": [],
   "source": [
    "# This step is to prepare for One Hot Encodings\n",
    "for i in range(len(vwListings['host_response_time'])):\n",
    "    if 'within an hour' in vwListings['host_response_time'][i]:\n",
    "        vwListings['host_response_time'][i] = 'within_an_hour'\n",
    "    elif 'N/A' in vwListings['host_response_time'][i]:\n",
    "        vwListings['host_response_time'][i] = 'na'\n",
    "    elif 'within a few hours' in vwListings['host_response_time'][i]:\n",
    "        vwListings['host_response_time'][i] = 'within_a_few_hours'\n",
    "    elif 'within a day' in vwListings['host_response_time'][i]:\n",
    "        vwListings['host_response_time'][i] = 'within_a_day'\n",
    "    elif 'a few days or more' in vwListings['host_response_time'][i]:\n",
    "        vwListings['host_response_time'][i] = 'a_few_days_or_more'\n",
    "\n",
    "        \n",
    "for i in range(len(vwListings['room_type_mod'])):\n",
    "    if 'Entire home/apt' in vwListings['room_type_mod'][i]:\n",
    "        vwListings['room_type_mod'][i] = 'entire_home_apt'\n",
    "    elif 'Private room' in vwListings['room_type_mod'][i]:\n",
    "        vwListings['room_type_mod'][i] = 'private_room'\n",
    "    elif 'Hotel room' in vwListings['room_type_mod'][i]:\n",
    "        vwListings['room_type_mod'][i] = 'hotel_room'\n",
    "    elif 'Shared room' in vwListings['room_type_mod'][i]:\n",
    "        vwListings['room_type_mod'][i] = 'shared_room'"
   ]
  },
  {
   "cell_type": "code",
   "execution_count": 10,
   "metadata": {},
   "outputs": [],
   "source": [
    "# Convert the all the review scores to numeric\n",
    "vwListings['review_scores_rating'] = pd.to_numeric(vwListings['review_scores_rating'])\n",
    "vwListings['review_scores_accuracy'] = pd.to_numeric(vwListings['review_scores_accuracy'])\n",
    "vwListings['review_scores_cleanliness'] = pd.to_numeric(vwListings['review_scores_cleanliness'])\n",
    "vwListings['review_scores_checkin'] = pd.to_numeric(vwListings['review_scores_checkin'])\n",
    "vwListings['review_scores_communication'] = pd.to_numeric(vwListings['review_scores_communication'])\n",
    "vwListings['review_scores_location'] = pd.to_numeric(vwListings['review_scores_location'])\n",
    "vwListings['review_scores_value'] = pd.to_numeric(vwListings['review_scores_value'])"
   ]
  },
  {
   "cell_type": "code",
   "execution_count": 11,
   "metadata": {},
   "outputs": [],
   "source": [
    "## STEVE: fill review_scores na with the mean\n",
    "for col in vwListings.columns:\n",
    "    if col.startswith('review_scores'):\n",
    "        x = vwListings[col]\n",
    "        vwListings[col] = vwListings[col].fillna(x.mean())"
   ]
  },
  {
   "cell_type": "code",
   "execution_count": 12,
   "metadata": {},
   "outputs": [],
   "source": [
    "#  the coordinates (latitude, longtitute of a place from google map )\n",
    "smithsonian_lat = 38.8889532077163\n",
    "smithsonian_long = -77.0259992316524\n",
    "lincoln_memorial_lat = 38.8893771334115\n",
    "lincoln_memorial_long = -77.0501761044084\n",
    "capitol_lat = 38.8900557831996\n",
    "capttol_long = -77.0090290467363\n",
    "white_house_lat = 38.9103145107623\n",
    "white_house_long = -77.0221504467353\n",
    "library_of_congress_lat = 38.8888008852652\n",
    "library_of_congress_long = -77.0047082755724\n",
    "nationals_park_lat = 38.8731981381059\n",
    "nationals_park_long = -77.0074329\n",
    "national_zoo_lat = 38.9294590679026\n",
    "national_zoo_long = -77.0492384835061\n",
    "union_station_lat = 38.8973065709087\n",
    "union_station_long = -77.00629767372\n",
    "mcpherson_sq_lat = 38.9028682064423\n",
    "mcpherson_sq_long = -77.0324745881233"
   ]
  },
  {
   "cell_type": "code",
   "execution_count": 13,
   "metadata": {},
   "outputs": [],
   "source": [
    "# distance unit = miles\n",
    "vwListings[\"distance_smithsonian\"] = np.arccos(np.sin(np.radians(vwListings[\"latitude\"]))\n",
    "                                            * np.sin(np.radians(smithsonian_lat)) \n",
    "                                            + np.cos(np.radians(vwListings[\"latitude\"]))\n",
    "                                            *np.cos(np.radians(smithsonian_lat))\n",
    "                                            *np.cos(np.radians(smithsonian_long-vwListings[\"longitude\"])) )*3963*1.15077945"
   ]
  },
  {
   "cell_type": "code",
   "execution_count": 14,
   "metadata": {},
   "outputs": [],
   "source": [
    "vwListings[\"distance_lincoln\"] = np.arccos(np.sin(np.radians(vwListings[\"latitude\"]))\n",
    "                                            * np.sin(np.radians(lincoln_memorial_lat)) \n",
    "                                            + np.cos(np.radians(vwListings[\"latitude\"]))\n",
    "                                            *np.cos(np.radians(lincoln_memorial_lat))\n",
    "                                            *np.cos(np.radians(lincoln_memorial_long-vwListings[\"longitude\"])) )*3963*1.15077945"
   ]
  },
  {
   "cell_type": "code",
   "execution_count": 15,
   "metadata": {},
   "outputs": [],
   "source": [
    "vwListings[\"distance_capitol\"] = np.arccos(np.sin(np.radians(vwListings[\"latitude\"]))\n",
    "                                            * np.sin(np.radians(capitol_lat)) \n",
    "                                            + np.cos(np.radians(vwListings[\"latitude\"]))\n",
    "                                            *np.cos(np.radians(capitol_lat))\n",
    "                                            *np.cos(np.radians(capttol_long-vwListings[\"longitude\"])) )*3963*1.15077945"
   ]
  },
  {
   "cell_type": "code",
   "execution_count": 16,
   "metadata": {},
   "outputs": [],
   "source": [
    "vwListings[\"distance_white_house\"] = np.arccos(np.sin(np.radians(vwListings[\"latitude\"]))\n",
    "                                            * np.sin(np.radians(white_house_lat)) \n",
    "                                            + np.cos(np.radians(vwListings[\"latitude\"]))\n",
    "                                            *np.cos(np.radians(white_house_lat))\n",
    "                                            *np.cos(np.radians(white_house_long-vwListings[\"longitude\"])) )*3963*1.15077945"
   ]
  },
  {
   "cell_type": "code",
   "execution_count": 17,
   "metadata": {},
   "outputs": [],
   "source": [
    "vwListings[\"distance_library_congress\"] = np.arccos(np.sin(np.radians(vwListings[\"latitude\"]))\n",
    "                                            * np.sin(np.radians(library_of_congress_lat)) \n",
    "                                            + np.cos(np.radians(vwListings[\"latitude\"]))\n",
    "                                            *np.cos(np.radians(library_of_congress_lat))\n",
    "                                            *np.cos(np.radians(library_of_congress_long-vwListings[\"longitude\"])))*3963*1.15077945"
   ]
  },
  {
   "cell_type": "code",
   "execution_count": 18,
   "metadata": {},
   "outputs": [],
   "source": [
    "vwListings[\"distance_nationals_park\"] = np.arccos(np.sin(np.radians(vwListings[\"latitude\"]))\n",
    "                                            * np.sin(np.radians(nationals_park_lat)) \n",
    "                                            + np.cos(np.radians(vwListings[\"latitude\"]))\n",
    "                                            *np.cos(np.radians(nationals_park_lat))\n",
    "                                            *np.cos(np.radians(nationals_park_long-vwListings[\"longitude\"])) )*3963*1.15077945"
   ]
  },
  {
   "cell_type": "code",
   "execution_count": 19,
   "metadata": {},
   "outputs": [],
   "source": [
    "vwListings[\"distance_national_zoo\"] = np.arccos(np.sin(np.radians(vwListings[\"latitude\"]))\n",
    "                                            * np.sin(np.radians(national_zoo_lat)) \n",
    "                                            + np.cos(np.radians(vwListings[\"latitude\"]))\n",
    "                                            *np.cos(np.radians(national_zoo_lat))\n",
    "                                            *np.cos(np.radians(national_zoo_long-vwListings[\"longitude\"])) )*3963*1.15077945"
   ]
  },
  {
   "cell_type": "code",
   "execution_count": 20,
   "metadata": {},
   "outputs": [],
   "source": [
    "vwListings[\"distance_railway\"] = np.arccos(np.sin(np.radians(vwListings[\"latitude\"]))\n",
    "                                            * np.sin(np.radians(union_station_lat)) \n",
    "                                            + np.cos(np.radians(vwListings[\"latitude\"]))\n",
    "                                            *np.cos(np.radians(union_station_lat))\n",
    "                                            *np.cos(np.radians(union_station_long-vwListings[\"longitude\"])) )*3963*1.15077945"
   ]
  },
  {
   "cell_type": "code",
   "execution_count": 21,
   "metadata": {},
   "outputs": [],
   "source": [
    "vwListings[\"distance_mcpherson\"] = np.arccos(np.sin(np.radians(vwListings[\"latitude\"]))\n",
    "                                            * np.sin(np.radians(mcpherson_sq_lat)) \n",
    "                                            + np.cos(np.radians(vwListings[\"latitude\"]))\n",
    "                                            *np.cos(np.radians(mcpherson_sq_lat))\n",
    "                                            *np.cos(np.radians(mcpherson_sq_long-vwListings[\"longitude\"])) )*3963*1.15077945"
   ]
  },
  {
   "cell_type": "markdown",
   "metadata": {},
   "source": [
    "We will convert one hot encodings for the following categorical variables host_response_time, host_is_superhost, host_has_profile_pic, host_identity_verified, room_type_mod"
   ]
  },
  {
   "cell_type": "code",
   "execution_count": 22,
   "metadata": {},
   "outputs": [],
   "source": [
    "vwListings = pd.concat([vwListings, pd.get_dummies(vwListings['host_response_time'], prefix='response_time', prefix_sep='_')], axis=1)\n",
    "vwListings = pd.concat([vwListings, pd.get_dummies(vwListings['host_is_superhost'], prefix='superhost', prefix_sep='_')], axis=1)\n",
    "vwListings = pd.concat([vwListings, pd.get_dummies(vwListings['host_identity_verified'], prefix='identity_verified', prefix_sep='_')], axis=1)\n",
    "vwListings = pd.concat([vwListings, pd.get_dummies(vwListings['host_has_profile_pic'], prefix='profile', prefix_sep='_')], axis=1)\n",
    "vwListings = pd.concat([vwListings, pd.get_dummies(vwListings['room_type_mod'])], axis=1)\n",
    "vwListings = pd.concat([vwListings, pd.get_dummies(vwListings['instant_bookable'], prefix='instant_bookable', prefix_sep='_')], axis=1) # ADDED"
   ]
  },
  {
   "cell_type": "code",
   "execution_count": 23,
   "metadata": {},
   "outputs": [],
   "source": [
    "vwListings.loc[(vwListings['host_id']==294545484)&(vwListings['room_type_mod']=='private_room'), 'bedrooms'] = 1\n",
    "vwListings.loc[vwListings['maximum_nights'] < vwListings['minimum_nights'], 'maximum_nights'] = vwListings.loc[\n",
    "    vwListings['maximum_nights'] < vwListings['minimum_nights'], 'minimum_nights']"
   ]
  },
  {
   "cell_type": "code",
   "execution_count": 24,
   "metadata": {},
   "outputs": [],
   "source": [
    "vwListings.loc[vwListings['maximum_nights'] > 1125, 'maximum_nights'] = 1125"
   ]
  },
  {
   "cell_type": "code",
   "execution_count": 25,
   "metadata": {},
   "outputs": [],
   "source": [
    "base_date = pd.Timestamp('2023-03-19')"
   ]
  },
  {
   "cell_type": "code",
   "execution_count": 26,
   "metadata": {},
   "outputs": [],
   "source": [
    "vwListings['last_review'] = pd.to_datetime(vwListings['last_review'])\n",
    "vwListings['days_since_last_review'] = vwListings['last_review'].apply(lambda x: (base_date - x).days)\n",
    "vwListings.loc[vwListings['days_since_last_review'].isna(), 'days_since_last_review'] =\\\n",
    "    vwListings['days_since_last_review'].mean()"
   ]
  },
  {
   "cell_type": "code",
   "execution_count": 27,
   "metadata": {},
   "outputs": [],
   "source": [
    "vwListings['days_since_host_joined'] = vwListings['host_since'].apply(lambda x: (base_date - x).days)"
   ]
  },
  {
   "cell_type": "markdown",
   "metadata": {},
   "source": [
    "## Regression Model"
   ]
  },
  {
   "cell_type": "markdown",
   "metadata": {},
   "source": [
    "Our initial model contains 39 features. We outline our expectations for their coefficients below (note that some features have been grouped together)."
   ]
  },
  {
   "cell_type": "markdown",
   "metadata": {},
   "source": [
    "<ol>\n",
    "    <li><b>response_time_a_few_days_or_more:</b> negative. A host with a bad history of responding probably has to charge a bit less to attract guests.</li>\n",
    "    <li><b>response_time_within_a_day:</b> negative. Within a day is still a long time compared to the other.</li>\n",
    "    <li><b>response_time_within_a_few_hours:</b> positive.</li>\n",
    "    <li><b>response_time_within_an_hour:</b> positive. Convsersely, hosts with good histories of responding can probably charge a bit more because they provide better service to potential guests.</li>\n",
    "    <li><b>host_response_rate:</b> positive. A more-responsive host probably attracts more guests, allowing them to charge more.</li>\n",
    "    <li><b>host_acceptance_rate:</b> positive. Guests are more likely to be attracted to a listing they think they're likely to be able to book.</li>\n",
    "    <li><b>superhost_t:</b> positive. Being a superhost is evidence of consistent good service.</li>\n",
    "    <li><b>profile_t:</b> positive.</li>\n",
    "    <li><b>identity_verified_t:</b> positive. Having a profile picture and verified identity is likely to build trust with prospective guests.</li>\n",
    "    <li><b>entire_home_apt, hotel_room, private_room:</b> positive. Each of these room_types are being compared to the shared room baseline, which should be cheaper than all of them.</li>\n",
    "    <li><b>accommodates, bathroom_numbers, bedroom, beds:</b> positive. As each of these increases, more people can stay comfortably at a listing. A higher price can be divided among more people.</li>\n",
    "    <li><b>minimum_nights, maximum_nights:</b> negative. Listings with higher numbers of nights are medium- or long-term rentals, and those can't command the prices that many short-term rentals can.</li>\n",
    "    <li><b>number_of_reviews:</b> positive. More reviews mean a more reliable record of the listing's quality.</li>\n",
    "    <li><b>review_scores:</b> all positive. Guests are willing to pay more for listings with a better track record.</li>\n",
    "    <li><b>instant_bookable_t:</b> positive. There might be a small premium for listings that allow instant bookings.</li>\n",
    "    <li><b>calculated_host_listings_count:</b> negative. Hosts with more listings might not provide the same personalized service. They also might be more likely to list medium- or long-term rentals.</li>\n",
    "    <li><b>distances:</b> all negative. Most of the landmarks in our secondary dataset are fairly close to the city center, so price should generally decrease as a listing gets further away from them. We expect some to be redundant.</li>\n",
    "    <li><b>days_since_last_review:</b> negative. More recent reviews means a listing has more reliable information available.</li>\n",
    "    <li><b>days_since_host_joined:</b> positive. The more experienced the host, the better.</li>\n",
    "<ol>"
   ]
  },
  {
   "cell_type": "markdown",
   "metadata": {},
   "source": [
    "## Model 1"
   ]
  },
  {
   "cell_type": "markdown",
   "metadata": {},
   "source": [
    "We use the bootstrap method to estimate the coefficients of the initial \"all-in\" model."
   ]
  },
  {
   "cell_type": "code",
   "execution_count": 28,
   "metadata": {},
   "outputs": [
    {
     "data": {
      "text/html": [
       "<p><strong>Model: price ~ response_time_a_few_days_or_more + response_time_within_a_day + response_time_within_a_few_hours + response_time_within_an_hour + host_response_rate + host_acceptance_rate + superhost_t + profile_t + identity_verified_t + entire_home_apt + hotel_room + private_room + accommodates + bathroom_numbers + bedrooms + beds + minimum_nights + maximum_nights + number_of_reviews + review_scores_rating + review_scores_accuracy + review_scores_cleanliness + review_scores_checkin + review_scores_communication + review_scores_location + review_scores_value + instant_bookable_t + calculated_host_listings_count + distance_smithsonian + distance_lincoln + distance_capitol + distance_white_house + distance_library_congress + distance_nationals_park + distance_national_zoo + distance_railway + distance_mcpherson + days_since_last_review + days_since_host_joined</strong><br/><table>\n",
       "<tbody>\n",
       "<tr><td>                                </td><td>                     </td><td>                     </td><td><strong>95% BCI</strong</td><td>                   </td></tr>\n",
       "<tr><td><strong>Coefficients</strong   </td><td>                     </td><td><strong>Mean</strong</td><td><strong>Lo</strong     </td><td><strong>Hi</strong</td></tr>\n",
       "<tr><td>                                </td><td>$\\beta_{0}$          </td><td>-232.5623            </td><td>-316.5111               </td><td>-172.3527          </td></tr>\n",
       "<tr><td>response_time_a_few_days_or_more</td><td>$\\beta_{1}$          </td><td>-4.9648              </td><td>-39.4306                </td><td>35.1272            </td></tr>\n",
       "<tr><td>response_time_within_a_day      </td><td>$\\beta_{2}$          </td><td>-12.9884             </td><td>-70.7150                </td><td>80.2422            </td></tr>\n",
       "<tr><td>response_time_within_a_few_hours</td><td>$\\beta_{3}$          </td><td>-40.4081             </td><td>-87.5234                </td><td>42.6008            </td></tr>\n",
       "<tr><td>response_time_within_an_hour    </td><td>$\\beta_{4}$          </td><td>-8.2019              </td><td>-60.3764                </td><td>82.1980            </td></tr>\n",
       "<tr><td>host_response_rate              </td><td>$\\beta_{5}$          </td><td>-0.0367              </td><td>-0.9417                 </td><td>0.5423             </td></tr>\n",
       "<tr><td>host_acceptance_rate            </td><td>$\\beta_{6}$          </td><td>0.2788               </td><td>0.0092                  </td><td>0.5600             </td></tr>\n",
       "<tr><td>superhost_t                     </td><td>$\\beta_{7}$          </td><td>10.5352              </td><td>0.6903                  </td><td>22.2581            </td></tr>\n",
       "<tr><td>profile_t                       </td><td>$\\beta_{8}$          </td><td>3.3246               </td><td>-18.7033                </td><td>25.5040            </td></tr>\n",
       "<tr><td>identity_verified_t             </td><td>$\\beta_{9}$          </td><td>-9.6995              </td><td>-22.3537                </td><td>2.2319             </td></tr>\n",
       "<tr><td>entire_home_apt                 </td><td>$\\beta_{10}$         </td><td>58.4831              </td><td>31.3396                 </td><td>92.1686            </td></tr>\n",
       "<tr><td>hotel_room                      </td><td>$\\beta_{11}$         </td><td>170.5072             </td><td>143.2289                </td><td>210.8974           </td></tr>\n",
       "<tr><td>private_room                    </td><td>$\\beta_{12}$         </td><td>32.8319              </td><td>12.0816                 </td><td>58.7108            </td></tr>\n",
       "<tr><td>accommodates                    </td><td>$\\beta_{13}$         </td><td>12.5436              </td><td>-6.5542                 </td><td>26.3580            </td></tr>\n",
       "<tr><td>bathroom_numbers                </td><td>$\\beta_{14}$         </td><td>38.3738              </td><td>23.0289                 </td><td>56.5491            </td></tr>\n",
       "<tr><td>bedrooms                        </td><td>$\\beta_{15}$         </td><td>52.8602              </td><td>36.5833                 </td><td>77.3207            </td></tr>\n",
       "<tr><td>beds                            </td><td>$\\beta_{16}$         </td><td>4.9499               </td><td>-10.3369                </td><td>22.3902            </td></tr>\n",
       "<tr><td>minimum_nights                  </td><td>$\\beta_{17}$         </td><td>-0.1441              </td><td>-0.3769                 </td><td>-0.0249            </td></tr>\n",
       "<tr><td>maximum_nights                  </td><td>$\\beta_{18}$         </td><td>-0.0065              </td><td>-0.0166                 </td><td>0.0034             </td></tr>\n",
       "<tr><td>number_of_reviews               </td><td>$\\beta_{19}$         </td><td>-0.1364              </td><td>-0.1822                 </td><td>-0.0773            </td></tr>\n",
       "<tr><td>review_scores_rating            </td><td>$\\beta_{20}$         </td><td>21.9120              </td><td>10.2134                 </td><td>35.9617            </td></tr>\n",
       "<tr><td>review_scores_accuracy          </td><td>$\\beta_{21}$         </td><td>3.6552               </td><td>-8.4624                 </td><td>17.1731            </td></tr>\n",
       "<tr><td>review_scores_cleanliness       </td><td>$\\beta_{22}$         </td><td>14.0113              </td><td>5.6568                  </td><td>23.1348            </td></tr>\n",
       "<tr><td>review_scores_checkin           </td><td>$\\beta_{23}$         </td><td>-8.3914              </td><td>-21.2239                </td><td>1.6381             </td></tr>\n",
       "<tr><td>review_scores_communication     </td><td>$\\beta_{24}$         </td><td>-3.8002              </td><td>-15.6497                </td><td>9.5900             </td></tr>\n",
       "<tr><td>review_scores_location          </td><td>$\\beta_{25}$         </td><td>10.8550              </td><td>0.9607                  </td><td>24.9921            </td></tr>\n",
       "<tr><td>review_scores_value             </td><td>$\\beta_{26}$         </td><td>-13.8589             </td><td>-31.6325                </td><td>0.1471             </td></tr>\n",
       "<tr><td>instant_bookable_t              </td><td>$\\beta_{27}$         </td><td>6.7920               </td><td>-0.5663                 </td><td>15.1543            </td></tr>\n",
       "<tr><td>calculated_host_listings_count  </td><td>$\\beta_{28}$         </td><td>-0.0836              </td><td>-0.1649                 </td><td>0.0053             </td></tr>\n",
       "<tr><td>distance_smithsonian            </td><td>$\\beta_{29}$         </td><td>106.4801             </td><td>-22.9203                </td><td>202.9068           </td></tr>\n",
       "<tr><td>distance_lincoln                </td><td>$\\beta_{30}$         </td><td>1.7054               </td><td>-13.5551                </td><td>29.3262            </td></tr>\n",
       "<tr><td>distance_capitol                </td><td>$\\beta_{31}$         </td><td>-498.3192            </td><td>-720.6110               </td><td>-233.6713          </td></tr>\n",
       "<tr><td>distance_white_house            </td><td>$\\beta_{32}$         </td><td>97.3392              </td><td>66.9882                 </td><td>124.5674           </td></tr>\n",
       "<tr><td>distance_library_congress       </td><td>$\\beta_{33}$         </td><td>295.7338             </td><td>152.4457                </td><td>425.6050           </td></tr>\n",
       "<tr><td>distance_nationals_park         </td><td>$\\beta_{34}$         </td><td>45.3555              </td><td>25.3796                 </td><td>69.2315            </td></tr>\n",
       "<tr><td>distance_national_zoo           </td><td>$\\beta_{35}$         </td><td>10.7596              </td><td>2.9737                  </td><td>19.7901            </td></tr>\n",
       "<tr><td>distance_railway                </td><td>$\\beta_{36}$         </td><td>57.3505              </td><td>6.0471                  </td><td>116.8297           </td></tr>\n",
       "<tr><td>distance_mcpherson              </td><td>$\\beta_{37}$         </td><td>-116.1625            </td><td>-157.8048               </td><td>-72.5360           </td></tr>\n",
       "<tr><td>days_since_last_review          </td><td>$\\beta_{38}$         </td><td>0.0220               </td><td>0.0010                  </td><td>0.0433             </td></tr>\n",
       "<tr><td>days_since_host_joined          </td><td>$\\beta_{39}$         </td><td>-0.0010              </td><td>-0.0061                 </td><td>0.0029             </td></tr>\n",
       "<tr><td>                                </td><td>                     </td><td>                     </td><td>                        </td><td>                   </td></tr>\n",
       "<tr><td><strong>Metrics</strong        </td><td><strong>Mean</strong</td><td><strong>Lo</strong  </td><td><strong>Hi</strong     </td><td>                   </td></tr>\n",
       "<tr><td>$\\sigma$                        </td><td>166.5861             </td><td>122.8810             </td><td>203.3583                </td><td>                   </td></tr>\n",
       "<tr><td>$R^2$                           </td><td>0.3463               </td><td>0.2756               </td><td>0.4348                  </td><td>                   </td></tr>\n",
       "</tbody>\n",
       "</table></p>"
      ],
      "text/latex": [
       "\\textbf{Model: price $\\sim$ response\\_time\\_a\\_few\\_days\\_or\\_more + response\\_time\\_within\\_a\\_day + response\\_time\\_within\\_a\\_few\\_hours + response\\_time\\_within\\_an\\_hour + host\\_response\\_rate + host\\_acceptance\\_rate + superhost\\_t + profile\\_t + identity\\_verified\\_t + entire\\_home\\_apt + hotel\\_room + private\\_room + accommodates + bathroom\\_numbers + bedrooms + beds + minimum\\_nights + maximum\\_nights + number\\_of\\_reviews + review\\_scores\\_rating + review\\_scores\\_accuracy + review\\_scores\\_cleanliness + review\\_scores\\_checkin + review\\_scores\\_communication + review\\_scores\\_location + review\\_scores\\_value + instant\\_bookable\\_t + calculated\\_host\\_listings\\_count + distance\\_smithsonian + distance\\_lincoln + distance\\_capitol + distance\\_white\\_house + distance\\_library\\_congress + distance\\_nationals\\_park + distance\\_national\\_zoo + distance\\_railway + distance\\_mcpherson + days\\_since\\_last\\_review + days\\_since\\_host\\_joined}\n",
       "\n",
       "\\begin{tabular}{lllll}\n",
       "\\toprule\n",
       "                                        &               &               & \\textbf{95\\% BCI} &             \\\\\n",
       " \\textbf{Coefficients}                  &               & \\textbf{Mean} & \\textbf{Lo}      & \\textbf{Hi} \\\\\n",
       "                                        & $\\beta_{0}$   & -232.5623     & -316.5111        & -172.3527   \\\\\n",
       " response\\_time\\_a\\_few\\_days\\_or\\_more & $\\beta_{1}$   & -4.9648       & -39.4306         & 35.1272     \\\\\n",
       " response\\_time\\_within\\_a\\_day         & $\\beta_{2}$   & -12.9884      & -70.7150         & 80.2422     \\\\\n",
       " response\\_time\\_within\\_a\\_few\\_hours  & $\\beta_{3}$   & -40.4081      & -87.5234         & 42.6008     \\\\\n",
       " response\\_time\\_within\\_an\\_hour       & $\\beta_{4}$   & -8.2019       & -60.3764         & 82.1980     \\\\\n",
       " host\\_response\\_rate                   & $\\beta_{5}$   & -0.0367       & -0.9417          & 0.5423      \\\\\n",
       " host\\_acceptance\\_rate                 & $\\beta_{6}$   & 0.2788        & 0.0092           & 0.5600      \\\\\n",
       " superhost\\_t                           & $\\beta_{7}$   & 10.5352       & 0.6903           & 22.2581     \\\\\n",
       " profile\\_t                             & $\\beta_{8}$   & 3.3246        & -18.7033         & 25.5040     \\\\\n",
       " identity\\_verified\\_t                  & $\\beta_{9}$   & -9.6995       & -22.3537         & 2.2319      \\\\\n",
       " entire\\_home\\_apt                      & $\\beta_{10}$  & 58.4831       & 31.3396          & 92.1686     \\\\\n",
       " hotel\\_room                            & $\\beta_{11}$  & 170.5072      & 143.2289         & 210.8974    \\\\\n",
       " private\\_room                          & $\\beta_{12}$  & 32.8319       & 12.0816          & 58.7108     \\\\\n",
       " accommodates                           & $\\beta_{13}$  & 12.5436       & -6.5542          & 26.3580     \\\\\n",
       " bathroom\\_numbers                      & $\\beta_{14}$  & 38.3738       & 23.0289          & 56.5491     \\\\\n",
       " bedrooms                               & $\\beta_{15}$  & 52.8602       & 36.5833          & 77.3207     \\\\\n",
       " beds                                   & $\\beta_{16}$  & 4.9499        & -10.3369         & 22.3902     \\\\\n",
       " minimum\\_nights                        & $\\beta_{17}$  & -0.1441       & -0.3769          & -0.0249     \\\\\n",
       " maximum\\_nights                        & $\\beta_{18}$  & -0.0065       & -0.0166          & 0.0034      \\\\\n",
       " number\\_of\\_reviews                    & $\\beta_{19}$  & -0.1364       & -0.1822          & -0.0773     \\\\\n",
       " review\\_scores\\_rating                 & $\\beta_{20}$  & 21.9120       & 10.2134          & 35.9617     \\\\\n",
       " review\\_scores\\_accuracy               & $\\beta_{21}$  & 3.6552        & -8.4624          & 17.1731     \\\\\n",
       " review\\_scores\\_cleanliness            & $\\beta_{22}$  & 14.0113       & 5.6568           & 23.1348     \\\\\n",
       " review\\_scores\\_checkin                & $\\beta_{23}$  & -8.3914       & -21.2239         & 1.6381      \\\\\n",
       " review\\_scores\\_communication          & $\\beta_{24}$  & -3.8002       & -15.6497         & 9.5900      \\\\\n",
       " review\\_scores\\_location               & $\\beta_{25}$  & 10.8550       & 0.9607           & 24.9921     \\\\\n",
       " review\\_scores\\_value                  & $\\beta_{26}$  & -13.8589      & -31.6325         & 0.1471      \\\\\n",
       " instant\\_bookable\\_t                   & $\\beta_{27}$  & 6.7920        & -0.5663          & 15.1543     \\\\\n",
       " calculated\\_host\\_listings\\_count      & $\\beta_{28}$  & -0.0836       & -0.1649          & 0.0053      \\\\\n",
       " distance\\_smithsonian                  & $\\beta_{29}$  & 106.4801      & -22.9203         & 202.9068    \\\\\n",
       " distance\\_lincoln                      & $\\beta_{30}$  & 1.7054        & -13.5551         & 29.3262     \\\\\n",
       " distance\\_capitol                      & $\\beta_{31}$  & -498.3192     & -720.6110        & -233.6713   \\\\\n",
       " distance\\_white\\_house                 & $\\beta_{32}$  & 97.3392       & 66.9882          & 124.5674    \\\\\n",
       " distance\\_library\\_congress            & $\\beta_{33}$  & 295.7338      & 152.4457         & 425.6050    \\\\\n",
       " distance\\_nationals\\_park              & $\\beta_{34}$  & 45.3555       & 25.3796          & 69.2315     \\\\\n",
       " distance\\_national\\_zoo                & $\\beta_{35}$  & 10.7596       & 2.9737           & 19.7901     \\\\\n",
       " distance\\_railway                      & $\\beta_{36}$  & 57.3505       & 6.0471           & 116.8297    \\\\\n",
       " distance\\_mcpherson                    & $\\beta_{37}$  & -116.1625     & -157.8048        & -72.5360    \\\\\n",
       " days\\_since\\_last\\_review              & $\\beta_{38}$  & 0.0220        & 0.0010           & 0.0433      \\\\\n",
       " days\\_since\\_host\\_joined              & $\\beta_{39}$  & -0.0010       & -0.0061          & 0.0029      \\\\\n",
       "                                        &               &               &                  &             \\\\\n",
       " \\textbf{Metrics}                       & \\textbf{Mean} & \\textbf{Lo}   & \\textbf{Hi}      &             \\\\\n",
       " $\\sigma$                               & 166.5861      & 122.8810      & 203.3583         &             \\\\\n",
       " $R^2$                                  & 0.3463        & 0.2756        & 0.4348           &             \\\\\n",
       "\\bottomrule\n",
       "\\end{tabular}"
      ],
      "text/markdown": [
       "Model: price ~ response_time_a_few_days_or_more + response_time_within_a_day + response_time_within_a_few_hours + response_time_within_an_hour + host_response_rate + host_acceptance_rate + superhost_t + profile_t + identity_verified_t + entire_home_apt + hotel_room + private_room + accommodates + bathroom_numbers + bedrooms + beds + minimum_nights + maximum_nights + number_of_reviews + review_scores_rating + review_scores_accuracy + review_scores_cleanliness + review_scores_checkin + review_scores_communication + review_scores_location + review_scores_value + instant_bookable_t + calculated_host_listings_count + distance_smithsonian + distance_lincoln + distance_capitol + distance_white_house + distance_library_congress + distance_nationals_park + distance_national_zoo + distance_railway + distance_mcpherson + days_since_last_review + days_since_host_joined\n",
       "|----------------------------------|--------------|-----------|-------------|-----------|\n",
       "|                                  |              |           | **95% BCI** |           |\n",
       "| **Coefficients**                 |              | **Mean**  | **Lo**      | **Hi**    |\n",
       "|                                  | $\\beta_{0}$  | -232.5623 | -316.5111   | -172.3527 |\n",
       "| response_time_a_few_days_or_more | $\\beta_{1}$  | -4.9648   | -39.4306    | 35.1272   |\n",
       "| response_time_within_a_day       | $\\beta_{2}$  | -12.9884  | -70.7150    | 80.2422   |\n",
       "| response_time_within_a_few_hours | $\\beta_{3}$  | -40.4081  | -87.5234    | 42.6008   |\n",
       "| response_time_within_an_hour     | $\\beta_{4}$  | -8.2019   | -60.3764    | 82.1980   |\n",
       "| host_response_rate               | $\\beta_{5}$  | -0.0367   | -0.9417     | 0.5423    |\n",
       "| host_acceptance_rate             | $\\beta_{6}$  | 0.2788    | 0.0092      | 0.5600    |\n",
       "| superhost_t                      | $\\beta_{7}$  | 10.5352   | 0.6903      | 22.2581   |\n",
       "| profile_t                        | $\\beta_{8}$  | 3.3246    | -18.7033    | 25.5040   |\n",
       "| identity_verified_t              | $\\beta_{9}$  | -9.6995   | -22.3537    | 2.2319    |\n",
       "| entire_home_apt                  | $\\beta_{10}$ | 58.4831   | 31.3396     | 92.1686   |\n",
       "| hotel_room                       | $\\beta_{11}$ | 170.5072  | 143.2289    | 210.8974  |\n",
       "| private_room                     | $\\beta_{12}$ | 32.8319   | 12.0816     | 58.7108   |\n",
       "| accommodates                     | $\\beta_{13}$ | 12.5436   | -6.5542     | 26.3580   |\n",
       "| bathroom_numbers                 | $\\beta_{14}$ | 38.3738   | 23.0289     | 56.5491   |\n",
       "| bedrooms                         | $\\beta_{15}$ | 52.8602   | 36.5833     | 77.3207   |\n",
       "| beds                             | $\\beta_{16}$ | 4.9499    | -10.3369    | 22.3902   |\n",
       "| minimum_nights                   | $\\beta_{17}$ | -0.1441   | -0.3769     | -0.0249   |\n",
       "| maximum_nights                   | $\\beta_{18}$ | -0.0065   | -0.0166     | 0.0034    |\n",
       "| number_of_reviews                | $\\beta_{19}$ | -0.1364   | -0.1822     | -0.0773   |\n",
       "| review_scores_rating             | $\\beta_{20}$ | 21.9120   | 10.2134     | 35.9617   |\n",
       "| review_scores_accuracy           | $\\beta_{21}$ | 3.6552    | -8.4624     | 17.1731   |\n",
       "| review_scores_cleanliness        | $\\beta_{22}$ | 14.0113   | 5.6568      | 23.1348   |\n",
       "| review_scores_checkin            | $\\beta_{23}$ | -8.3914   | -21.2239    | 1.6381    |\n",
       "| review_scores_communication      | $\\beta_{24}$ | -3.8002   | -15.6497    | 9.5900    |\n",
       "| review_scores_location           | $\\beta_{25}$ | 10.8550   | 0.9607      | 24.9921   |\n",
       "| review_scores_value              | $\\beta_{26}$ | -13.8589  | -31.6325    | 0.1471    |\n",
       "| instant_bookable_t               | $\\beta_{27}$ | 6.7920    | -0.5663     | 15.1543   |\n",
       "| calculated_host_listings_count   | $\\beta_{28}$ | -0.0836   | -0.1649     | 0.0053    |\n",
       "| distance_smithsonian             | $\\beta_{29}$ | 106.4801  | -22.9203    | 202.9068  |\n",
       "| distance_lincoln                 | $\\beta_{30}$ | 1.7054    | -13.5551    | 29.3262   |\n",
       "| distance_capitol                 | $\\beta_{31}$ | -498.3192 | -720.6110   | -233.6713 |\n",
       "| distance_white_house             | $\\beta_{32}$ | 97.3392   | 66.9882     | 124.5674  |\n",
       "| distance_library_congress        | $\\beta_{33}$ | 295.7338  | 152.4457    | 425.6050  |\n",
       "| distance_nationals_park          | $\\beta_{34}$ | 45.3555   | 25.3796     | 69.2315   |\n",
       "| distance_national_zoo            | $\\beta_{35}$ | 10.7596   | 2.9737      | 19.7901   |\n",
       "| distance_railway                 | $\\beta_{36}$ | 57.3505   | 6.0471      | 116.8297  |\n",
       "| distance_mcpherson               | $\\beta_{37}$ | -116.1625 | -157.8048   | -72.5360  |\n",
       "| days_since_last_review           | $\\beta_{38}$ | 0.0220    | 0.0010      | 0.0433    |\n",
       "| days_since_host_joined           | $\\beta_{39}$ | -0.0010   | -0.0061     | 0.0029    |\n",
       "|                                  |              |           |             |           |\n",
       "| **Metrics**                      | **Mean**     | **Lo**    | **Hi**      |           |\n",
       "| $\\sigma$                         | 166.5861     | 122.8810  | 203.3583    |           |\n",
       "| $R^2$                            | 0.3463       | 0.2756    | 0.4348      |           |"
      ],
      "text/plain": [
       "<models.ResultsWrapper at 0x18d7ffa1e50>"
      ]
     },
     "execution_count": 28,
     "metadata": {},
     "output_type": "execute_result"
    }
   ],
   "source": [
    "np.random.seed(1453496)\n",
    "model1 = (\"price ~ response_time_a_few_days_or_more + response_time_within_a_day \"\n",
    "        \"+ response_time_within_a_few_hours + response_time_within_an_hour + host_response_rate \"\n",
    "        \"+ host_acceptance_rate + superhost_t \"\n",
    "        \"+ profile_t + identity_verified_t + entire_home_apt + hotel_room + private_room + accommodates \"\n",
    "        \"+ bathroom_numbers + bedrooms + beds + minimum_nights + maximum_nights + number_of_reviews \"\n",
    "        \"+ review_scores_rating + review_scores_accuracy + review_scores_cleanliness + review_scores_checkin \"\n",
    "        \"+ review_scores_communication + review_scores_location + review_scores_value + instant_bookable_t \"\n",
    "        \"+ calculated_host_listings_count + distance_smithsonian + distance_lincoln + distance_capitol \"\n",
    "        \"+ distance_white_house + distance_library_congress + distance_nationals_park + distance_national_zoo \"\n",
    "        \"+ distance_railway + distance_mcpherson + days_since_last_review + days_since_host_joined\")\n",
    "result1 = models.bootstrap_linear_regression(model1, data=vwListings)\n",
    "models.describe_bootstrap_lr(result1, sd=4)"
   ]
  },
  {
   "cell_type": "code",
   "execution_count": 29,
   "metadata": {},
   "outputs": [
    {
     "data": {
      "text/plain": [
       "8161"
      ]
     },
     "execution_count": 29,
     "metadata": {},
     "output_type": "execute_result"
    }
   ],
   "source": [
    "len(result1[\"residuals\"])"
   ]
  },
  {
   "cell_type": "markdown",
   "metadata": {},
   "source": [
    "The $R^2$ is 0.346, with a standard error of 166.59. The mean price is 178.81, so the error isn't great compared to the scale of the data. However, it is a marked improvement over the standard error of the null model, which is 205.54."
   ]
  },
  {
   "cell_type": "markdown",
   "metadata": {},
   "source": [
    "Comparing the bootstrap coefficients to our prior beliefs shows some clear candidates to be dropped from the model:\n",
    "<ul>\n",
    "    <li><b>response_time_within_a_few_hours:</b> expected positive, estimated weak negative</li>\n",
    "    <li><b>response_time_within_an_hour:</b> expected positive, estimated weak negative</li>\n",
    "    <li><b>host_response_rate:</b> expected positive, estimated weak negative</li>\n",
    "    <li><b>identity_verified_t:</b> expected positive, estimated weak negative</li>\n",
    "    <li><b>review_scores_checkin, review_scores_communication:</b> expected positive, estimated weak negative</li>\n",
    "    <li><b>distance_lincoln:</b> expected negative, estimated weak positive</li>\n",
    "    <li><b>days_since_host_joined:</b> expected positive, estimated weak negative</li>\n",
    "</ul>\n",
    "\n",
    "We will drop those features and keep an eye on some others. review_scores_value was expected to have a positive coefficient, but its estimated coefficient is negative and barely includes zero in its 95% confidence interval. A negative coefficient does also make sense, though. distance_smithsonian was expected negative but its estimated coefficient is positive and includes zero in its 95% confidence interval. Zero is towards the end of the range, however, so we keep it in for now."
   ]
  },
  {
   "cell_type": "markdown",
   "metadata": {},
   "source": [
    "### Model 2"
   ]
  },
  {
   "cell_type": "markdown",
   "metadata": {},
   "source": [
    "We use the bootstrap method to estimate the new, trimmed-down model."
   ]
  },
  {
   "cell_type": "code",
   "execution_count": 30,
   "metadata": {
    "scrolled": false
   },
   "outputs": [
    {
     "data": {
      "text/html": [
       "<p><strong>Model: price ~ response_time_a_few_days_or_more + response_time_within_a_day + host_acceptance_rate + superhost_t + profile_t + entire_home_apt + hotel_room + private_room + accommodates + bathroom_numbers + bedrooms + beds + minimum_nights + maximum_nights + number_of_reviews + review_scores_rating + review_scores_accuracy + review_scores_cleanliness + review_scores_location + review_scores_value + instant_bookable_t + calculated_host_listings_count + distance_smithsonian + distance_capitol + distance_white_house + distance_library_congress + distance_nationals_park + distance_national_zoo + distance_railway + distance_mcpherson + days_since_last_review</strong><br/><table>\n",
       "<tbody>\n",
       "<tr><td>                                </td><td>                     </td><td>                     </td><td><strong>95% BCI</strong</td><td>                   </td></tr>\n",
       "<tr><td><strong>Coefficients</strong   </td><td>                     </td><td><strong>Mean</strong</td><td><strong>Lo</strong     </td><td><strong>Hi</strong</td></tr>\n",
       "<tr><td>                                </td><td>$\\beta_{0}$          </td><td>-290.3472            </td><td>-376.0987               </td><td>-221.8026          </td></tr>\n",
       "<tr><td>response_time_a_few_days_or_more</td><td>$\\beta_{1}$          </td><td>8.4557               </td><td>-26.4725                </td><td>41.4873            </td></tr>\n",
       "<tr><td>response_time_within_a_day      </td><td>$\\beta_{2}$          </td><td>-0.0052              </td><td>-17.7019                </td><td>24.6040            </td></tr>\n",
       "<tr><td>host_acceptance_rate            </td><td>$\\beta_{3}$          </td><td>0.2410               </td><td>-0.0509                 </td><td>0.5140             </td></tr>\n",
       "<tr><td>superhost_t                     </td><td>$\\beta_{4}$          </td><td>10.0362              </td><td>1.0641                  </td><td>21.6564            </td></tr>\n",
       "<tr><td>profile_t                       </td><td>$\\beta_{5}$          </td><td>-1.7201              </td><td>-29.0018                </td><td>26.2517            </td></tr>\n",
       "<tr><td>entire_home_apt                 </td><td>$\\beta_{6}$          </td><td>68.1921              </td><td>46.1110                 </td><td>99.3625            </td></tr>\n",
       "<tr><td>hotel_room                      </td><td>$\\beta_{7}$          </td><td>179.7294             </td><td>149.9088                </td><td>211.8742           </td></tr>\n",
       "<tr><td>private_room                    </td><td>$\\beta_{8}$          </td><td>38.9381              </td><td>19.5618                 </td><td>66.0031            </td></tr>\n",
       "<tr><td>accommodates                    </td><td>$\\beta_{9}$          </td><td>12.7133              </td><td>-5.9544                 </td><td>24.2587            </td></tr>\n",
       "<tr><td>bathroom_numbers                </td><td>$\\beta_{10}$         </td><td>35.6025              </td><td>21.7707                 </td><td>61.4147            </td></tr>\n",
       "<tr><td>bedrooms                        </td><td>$\\beta_{11}$         </td><td>54.7421              </td><td>37.9300                 </td><td>80.7111            </td></tr>\n",
       "<tr><td>beds                            </td><td>$\\beta_{12}$         </td><td>4.5468               </td><td>-11.2304                </td><td>25.6197            </td></tr>\n",
       "<tr><td>minimum_nights                  </td><td>$\\beta_{13}$         </td><td>-0.1647              </td><td>-0.3933                 </td><td>0.0126             </td></tr>\n",
       "<tr><td>maximum_nights                  </td><td>$\\beta_{14}$         </td><td>-0.0073              </td><td>-0.0144                 </td><td>0.0006             </td></tr>\n",
       "<tr><td>number_of_reviews               </td><td>$\\beta_{15}$         </td><td>-0.1306              </td><td>-0.1719                 </td><td>-0.0923            </td></tr>\n",
       "<tr><td>review_scores_rating            </td><td>$\\beta_{16}$         </td><td>19.2319              </td><td>6.9043                  </td><td>29.4237            </td></tr>\n",
       "<tr><td>review_scores_accuracy          </td><td>$\\beta_{17}$         </td><td>1.0557               </td><td>-10.7591                </td><td>17.8679            </td></tr>\n",
       "<tr><td>review_scores_cleanliness       </td><td>$\\beta_{18}$         </td><td>16.7696              </td><td>8.2614                  </td><td>27.9093            </td></tr>\n",
       "<tr><td>review_scores_location          </td><td>$\\beta_{19}$         </td><td>9.5109               </td><td>-2.0493                 </td><td>23.5394            </td></tr>\n",
       "<tr><td>review_scores_value             </td><td>$\\beta_{20}$         </td><td>-15.8784             </td><td>-34.7844                </td><td>2.0710             </td></tr>\n",
       "<tr><td>instant_bookable_t              </td><td>$\\beta_{21}$         </td><td>10.6918              </td><td>4.3236                  </td><td>17.7157            </td></tr>\n",
       "<tr><td>calculated_host_listings_count  </td><td>$\\beta_{22}$         </td><td>-0.1017              </td><td>-0.1971                 </td><td>-0.0182            </td></tr>\n",
       "<tr><td>distance_smithsonian            </td><td>$\\beta_{23}$         </td><td>120.0060             </td><td>60.9785                 </td><td>182.4584           </td></tr>\n",
       "<tr><td>distance_capitol                </td><td>$\\beta_{24}$         </td><td>-531.9574            </td><td>-678.6941               </td><td>-395.5348          </td></tr>\n",
       "<tr><td>distance_white_house            </td><td>$\\beta_{25}$         </td><td>100.5994             </td><td>78.8109                 </td><td>133.9225           </td></tr>\n",
       "<tr><td>distance_library_congress       </td><td>$\\beta_{26}$         </td><td>324.9624             </td><td>223.9598                </td><td>437.0329           </td></tr>\n",
       "<tr><td>distance_nationals_park         </td><td>$\\beta_{27}$         </td><td>41.8042              </td><td>23.3640                 </td><td>63.9964            </td></tr>\n",
       "<tr><td>distance_national_zoo           </td><td>$\\beta_{28}$         </td><td>11.5938              </td><td>5.3444                  </td><td>22.3660            </td></tr>\n",
       "<tr><td>distance_railway                </td><td>$\\beta_{29}$         </td><td>54.5155              </td><td>11.8710                 </td><td>87.1381            </td></tr>\n",
       "<tr><td>distance_mcpherson              </td><td>$\\beta_{30}$         </td><td>-121.3962            </td><td>-175.9248               </td><td>-87.4287           </td></tr>\n",
       "<tr><td>days_since_last_review          </td><td>$\\beta_{31}$         </td><td>0.0259               </td><td>0.0052                  </td><td>0.0453             </td></tr>\n",
       "<tr><td>                                </td><td>                     </td><td>                     </td><td>                        </td><td>                   </td></tr>\n",
       "<tr><td><strong>Metrics</strong        </td><td><strong>Mean</strong</td><td><strong>Lo</strong  </td><td><strong>Hi</strong     </td><td>                   </td></tr>\n",
       "<tr><td>$\\sigma$                        </td><td>166.9483             </td><td>135.9189             </td><td>203.3062                </td><td>                   </td></tr>\n",
       "<tr><td>$R^2$                           </td><td>0.3428               </td><td>0.2741               </td><td>0.4280                  </td><td>                   </td></tr>\n",
       "</tbody>\n",
       "</table></p>"
      ],
      "text/latex": [
       "\\textbf{Model: price $\\sim$ response\\_time\\_a\\_few\\_days\\_or\\_more + response\\_time\\_within\\_a\\_day + host\\_acceptance\\_rate + superhost\\_t + profile\\_t + entire\\_home\\_apt + hotel\\_room + private\\_room + accommodates + bathroom\\_numbers + bedrooms + beds + minimum\\_nights + maximum\\_nights + number\\_of\\_reviews + review\\_scores\\_rating + review\\_scores\\_accuracy + review\\_scores\\_cleanliness + review\\_scores\\_location + review\\_scores\\_value + instant\\_bookable\\_t + calculated\\_host\\_listings\\_count + distance\\_smithsonian + distance\\_capitol + distance\\_white\\_house + distance\\_library\\_congress + distance\\_nationals\\_park + distance\\_national\\_zoo + distance\\_railway + distance\\_mcpherson + days\\_since\\_last\\_review}\n",
       "\n",
       "\\begin{tabular}{lllll}\n",
       "\\toprule\n",
       "                                        &               &               & \\textbf{95\\% BCI} &             \\\\\n",
       " \\textbf{Coefficients}                  &               & \\textbf{Mean} & \\textbf{Lo}      & \\textbf{Hi} \\\\\n",
       "                                        & $\\beta_{0}$   & -290.3472     & -376.0987        & -221.8026   \\\\\n",
       " response\\_time\\_a\\_few\\_days\\_or\\_more & $\\beta_{1}$   & 8.4557        & -26.4725         & 41.4873     \\\\\n",
       " response\\_time\\_within\\_a\\_day         & $\\beta_{2}$   & -0.0052       & -17.7019         & 24.6040     \\\\\n",
       " host\\_acceptance\\_rate                 & $\\beta_{3}$   & 0.2410        & -0.0509          & 0.5140      \\\\\n",
       " superhost\\_t                           & $\\beta_{4}$   & 10.0362       & 1.0641           & 21.6564     \\\\\n",
       " profile\\_t                             & $\\beta_{5}$   & -1.7201       & -29.0018         & 26.2517     \\\\\n",
       " entire\\_home\\_apt                      & $\\beta_{6}$   & 68.1921       & 46.1110          & 99.3625     \\\\\n",
       " hotel\\_room                            & $\\beta_{7}$   & 179.7294      & 149.9088         & 211.8742    \\\\\n",
       " private\\_room                          & $\\beta_{8}$   & 38.9381       & 19.5618          & 66.0031     \\\\\n",
       " accommodates                           & $\\beta_{9}$   & 12.7133       & -5.9544          & 24.2587     \\\\\n",
       " bathroom\\_numbers                      & $\\beta_{10}$  & 35.6025       & 21.7707          & 61.4147     \\\\\n",
       " bedrooms                               & $\\beta_{11}$  & 54.7421       & 37.9300          & 80.7111     \\\\\n",
       " beds                                   & $\\beta_{12}$  & 4.5468        & -11.2304         & 25.6197     \\\\\n",
       " minimum\\_nights                        & $\\beta_{13}$  & -0.1647       & -0.3933          & 0.0126      \\\\\n",
       " maximum\\_nights                        & $\\beta_{14}$  & -0.0073       & -0.0144          & 0.0006      \\\\\n",
       " number\\_of\\_reviews                    & $\\beta_{15}$  & -0.1306       & -0.1719          & -0.0923     \\\\\n",
       " review\\_scores\\_rating                 & $\\beta_{16}$  & 19.2319       & 6.9043           & 29.4237     \\\\\n",
       " review\\_scores\\_accuracy               & $\\beta_{17}$  & 1.0557        & -10.7591         & 17.8679     \\\\\n",
       " review\\_scores\\_cleanliness            & $\\beta_{18}$  & 16.7696       & 8.2614           & 27.9093     \\\\\n",
       " review\\_scores\\_location               & $\\beta_{19}$  & 9.5109        & -2.0493          & 23.5394     \\\\\n",
       " review\\_scores\\_value                  & $\\beta_{20}$  & -15.8784      & -34.7844         & 2.0710      \\\\\n",
       " instant\\_bookable\\_t                   & $\\beta_{21}$  & 10.6918       & 4.3236           & 17.7157     \\\\\n",
       " calculated\\_host\\_listings\\_count      & $\\beta_{22}$  & -0.1017       & -0.1971          & -0.0182     \\\\\n",
       " distance\\_smithsonian                  & $\\beta_{23}$  & 120.0060      & 60.9785          & 182.4584    \\\\\n",
       " distance\\_capitol                      & $\\beta_{24}$  & -531.9574     & -678.6941        & -395.5348   \\\\\n",
       " distance\\_white\\_house                 & $\\beta_{25}$  & 100.5994      & 78.8109          & 133.9225    \\\\\n",
       " distance\\_library\\_congress            & $\\beta_{26}$  & 324.9624      & 223.9598         & 437.0329    \\\\\n",
       " distance\\_nationals\\_park              & $\\beta_{27}$  & 41.8042       & 23.3640          & 63.9964     \\\\\n",
       " distance\\_national\\_zoo                & $\\beta_{28}$  & 11.5938       & 5.3444           & 22.3660     \\\\\n",
       " distance\\_railway                      & $\\beta_{29}$  & 54.5155       & 11.8710          & 87.1381     \\\\\n",
       " distance\\_mcpherson                    & $\\beta_{30}$  & -121.3962     & -175.9248        & -87.4287    \\\\\n",
       " days\\_since\\_last\\_review              & $\\beta_{31}$  & 0.0259        & 0.0052           & 0.0453      \\\\\n",
       "                                        &               &               &                  &             \\\\\n",
       " \\textbf{Metrics}                       & \\textbf{Mean} & \\textbf{Lo}   & \\textbf{Hi}      &             \\\\\n",
       " $\\sigma$                               & 166.9483      & 135.9189      & 203.3062         &             \\\\\n",
       " $R^2$                                  & 0.3428        & 0.2741        & 0.4280           &             \\\\\n",
       "\\bottomrule\n",
       "\\end{tabular}"
      ],
      "text/markdown": [
       "Model: price ~ response_time_a_few_days_or_more + response_time_within_a_day + host_acceptance_rate + superhost_t + profile_t + entire_home_apt + hotel_room + private_room + accommodates + bathroom_numbers + bedrooms + beds + minimum_nights + maximum_nights + number_of_reviews + review_scores_rating + review_scores_accuracy + review_scores_cleanliness + review_scores_location + review_scores_value + instant_bookable_t + calculated_host_listings_count + distance_smithsonian + distance_capitol + distance_white_house + distance_library_congress + distance_nationals_park + distance_national_zoo + distance_railway + distance_mcpherson + days_since_last_review\n",
       "|----------------------------------|--------------|-----------|-------------|-----------|\n",
       "|                                  |              |           | **95% BCI** |           |\n",
       "| **Coefficients**                 |              | **Mean**  | **Lo**      | **Hi**    |\n",
       "|                                  | $\\beta_{0}$  | -290.3472 | -376.0987   | -221.8026 |\n",
       "| response_time_a_few_days_or_more | $\\beta_{1}$  | 8.4557    | -26.4725    | 41.4873   |\n",
       "| response_time_within_a_day       | $\\beta_{2}$  | -0.0052   | -17.7019    | 24.6040   |\n",
       "| host_acceptance_rate             | $\\beta_{3}$  | 0.2410    | -0.0509     | 0.5140    |\n",
       "| superhost_t                      | $\\beta_{4}$  | 10.0362   | 1.0641      | 21.6564   |\n",
       "| profile_t                        | $\\beta_{5}$  | -1.7201   | -29.0018    | 26.2517   |\n",
       "| entire_home_apt                  | $\\beta_{6}$  | 68.1921   | 46.1110     | 99.3625   |\n",
       "| hotel_room                       | $\\beta_{7}$  | 179.7294  | 149.9088    | 211.8742  |\n",
       "| private_room                     | $\\beta_{8}$  | 38.9381   | 19.5618     | 66.0031   |\n",
       "| accommodates                     | $\\beta_{9}$  | 12.7133   | -5.9544     | 24.2587   |\n",
       "| bathroom_numbers                 | $\\beta_{10}$ | 35.6025   | 21.7707     | 61.4147   |\n",
       "| bedrooms                         | $\\beta_{11}$ | 54.7421   | 37.9300     | 80.7111   |\n",
       "| beds                             | $\\beta_{12}$ | 4.5468    | -11.2304    | 25.6197   |\n",
       "| minimum_nights                   | $\\beta_{13}$ | -0.1647   | -0.3933     | 0.0126    |\n",
       "| maximum_nights                   | $\\beta_{14}$ | -0.0073   | -0.0144     | 0.0006    |\n",
       "| number_of_reviews                | $\\beta_{15}$ | -0.1306   | -0.1719     | -0.0923   |\n",
       "| review_scores_rating             | $\\beta_{16}$ | 19.2319   | 6.9043      | 29.4237   |\n",
       "| review_scores_accuracy           | $\\beta_{17}$ | 1.0557    | -10.7591    | 17.8679   |\n",
       "| review_scores_cleanliness        | $\\beta_{18}$ | 16.7696   | 8.2614      | 27.9093   |\n",
       "| review_scores_location           | $\\beta_{19}$ | 9.5109    | -2.0493     | 23.5394   |\n",
       "| review_scores_value              | $\\beta_{20}$ | -15.8784  | -34.7844    | 2.0710    |\n",
       "| instant_bookable_t               | $\\beta_{21}$ | 10.6918   | 4.3236      | 17.7157   |\n",
       "| calculated_host_listings_count   | $\\beta_{22}$ | -0.1017   | -0.1971     | -0.0182   |\n",
       "| distance_smithsonian             | $\\beta_{23}$ | 120.0060  | 60.9785     | 182.4584  |\n",
       "| distance_capitol                 | $\\beta_{24}$ | -531.9574 | -678.6941   | -395.5348 |\n",
       "| distance_white_house             | $\\beta_{25}$ | 100.5994  | 78.8109     | 133.9225  |\n",
       "| distance_library_congress        | $\\beta_{26}$ | 324.9624  | 223.9598    | 437.0329  |\n",
       "| distance_nationals_park          | $\\beta_{27}$ | 41.8042   | 23.3640     | 63.9964   |\n",
       "| distance_national_zoo            | $\\beta_{28}$ | 11.5938   | 5.3444      | 22.3660   |\n",
       "| distance_railway                 | $\\beta_{29}$ | 54.5155   | 11.8710     | 87.1381   |\n",
       "| distance_mcpherson               | $\\beta_{30}$ | -121.3962 | -175.9248   | -87.4287  |\n",
       "| days_since_last_review           | $\\beta_{31}$ | 0.0259    | 0.0052      | 0.0453    |\n",
       "|                                  |              |           |             |           |\n",
       "| **Metrics**                      | **Mean**     | **Lo**    | **Hi**      |           |\n",
       "| $\\sigma$                         | 166.9483     | 135.9189  | 203.3062    |           |\n",
       "| $R^2$                            | 0.3428       | 0.2741    | 0.4280      |           |"
      ],
      "text/plain": [
       "<models.ResultsWrapper at 0x18d70d8abb0>"
      ]
     },
     "execution_count": 30,
     "metadata": {},
     "output_type": "execute_result"
    }
   ],
   "source": [
    "np.random.seed(1457896)\n",
    "model2 = (\"price ~ response_time_a_few_days_or_more + response_time_within_a_day \"\n",
    "        \"+ host_acceptance_rate + superhost_t \"\n",
    "        \"+ profile_t + entire_home_apt + hotel_room + private_room + accommodates \"\n",
    "        \"+ bathroom_numbers + bedrooms + beds + minimum_nights + maximum_nights + number_of_reviews \"\n",
    "        \"+ review_scores_rating + review_scores_accuracy + review_scores_cleanliness \"\n",
    "        \"+ review_scores_location + review_scores_value + instant_bookable_t \"\n",
    "        \"+ calculated_host_listings_count + distance_smithsonian + distance_capitol \"\n",
    "        \"+ distance_white_house + distance_library_congress + distance_nationals_park + distance_national_zoo \"\n",
    "        \"+ distance_railway + distance_mcpherson + days_since_last_review\")\n",
    "result2 = models.bootstrap_linear_regression(model2, data=vwListings)\n",
    "models.describe_bootstrap_lr(result2, sd=4)"
   ]
  },
  {
   "cell_type": "markdown",
   "metadata": {},
   "source": [
    "After removing eight features, the $R^2$ of the new model is 0.343. This is only lower than the old $R^2$ by 0.003. The standard error is 166.95, only slightly higher than the old standard error of 166.59. The increased simplicity of the new model is worth these small tradeoffs."
   ]
  },
  {
   "cell_type": "markdown",
   "metadata": {},
   "source": [
    "Comparing the bootstrap coefficients to our prior beliefs shows a couple more clear candidates to be dropped from the model:\n",
    "<ul>\n",
    "    <li><b>response_time_a_few_days_or_more:</b> expected negative, estimated weak positive</li>\n",
    "    <li><b>profile_t:</b> expected positive, estimated weak negative</li>\n",
    "</ul>\n",
    "\n",
    "review_scores_value and distance_smithsonian still have the opposite sign of the initial prediction. The confidence interval for distance_smithsonian no longer includes zero, and the confidence interval for review_scores_value still barely includes zero, so we keep both in the model."
   ]
  },
  {
   "cell_type": "markdown",
   "metadata": {},
   "source": [
    "### Model 3"
   ]
  },
  {
   "cell_type": "markdown",
   "metadata": {},
   "source": [
    "We use the bootstrap method to estimate the third model."
   ]
  },
  {
   "cell_type": "code",
   "execution_count": 31,
   "metadata": {},
   "outputs": [
    {
     "data": {
      "text/html": [
       "<p><strong>Model: price ~ response_time_within_a_day + host_acceptance_rate + superhost_t + entire_home_apt + hotel_room + private_room + accommodates + bathroom_numbers + bedrooms + beds + minimum_nights + maximum_nights + number_of_reviews + review_scores_rating + review_scores_accuracy + review_scores_cleanliness + review_scores_location + review_scores_value + instant_bookable_t + calculated_host_listings_count + distance_smithsonian + distance_capitol + distance_white_house + distance_library_congress + distance_nationals_park + distance_national_zoo + distance_railway + distance_mcpherson + days_since_last_review</strong><br/><table>\n",
       "<tbody>\n",
       "<tr><td>                              </td><td>                     </td><td>                     </td><td><strong>95% BCI</strong</td><td>                   </td></tr>\n",
       "<tr><td><strong>Coefficients</strong </td><td>                     </td><td><strong>Mean</strong</td><td><strong>Lo</strong     </td><td><strong>Hi</strong</td></tr>\n",
       "<tr><td>                              </td><td>$\\beta_{0}$          </td><td>-290.9995            </td><td>-382.2209               </td><td>-214.5899          </td></tr>\n",
       "<tr><td>response_time_within_a_day    </td><td>$\\beta_{1}$          </td><td>-0.1986              </td><td>-19.3994                </td><td>23.6507            </td></tr>\n",
       "<tr><td>host_acceptance_rate          </td><td>$\\beta_{2}$          </td><td>0.2378               </td><td>-0.0839                 </td><td>0.5777             </td></tr>\n",
       "<tr><td>superhost_t                   </td><td>$\\beta_{3}$          </td><td>9.9441               </td><td>0.1071                  </td><td>18.4711            </td></tr>\n",
       "<tr><td>entire_home_apt               </td><td>$\\beta_{4}$          </td><td>68.3110              </td><td>45.9902                 </td><td>107.3268           </td></tr>\n",
       "<tr><td>hotel_room                    </td><td>$\\beta_{5}$          </td><td>179.9870             </td><td>147.8385                </td><td>223.6419           </td></tr>\n",
       "<tr><td>private_room                  </td><td>$\\beta_{6}$          </td><td>39.0506              </td><td>21.1274                 </td><td>66.1441            </td></tr>\n",
       "<tr><td>accommodates                  </td><td>$\\beta_{7}$          </td><td>12.7088              </td><td>-4.7417                 </td><td>24.4314            </td></tr>\n",
       "<tr><td>bathroom_numbers              </td><td>$\\beta_{8}$          </td><td>35.5862              </td><td>20.8528                 </td><td>59.4055            </td></tr>\n",
       "<tr><td>bedrooms                      </td><td>$\\beta_{9}$          </td><td>54.7882              </td><td>39.7183                 </td><td>74.3939            </td></tr>\n",
       "<tr><td>beds                          </td><td>$\\beta_{10}$         </td><td>4.5329               </td><td>-13.6705                </td><td>29.6712            </td></tr>\n",
       "<tr><td>minimum_nights                </td><td>$\\beta_{11}$         </td><td>-0.1640              </td><td>-0.3997                 </td><td>-0.0191            </td></tr>\n",
       "<tr><td>maximum_nights                </td><td>$\\beta_{12}$         </td><td>-0.0073              </td><td>-0.0155                 </td><td>-0.0006            </td></tr>\n",
       "<tr><td>number_of_reviews             </td><td>$\\beta_{13}$         </td><td>-0.1307              </td><td>-0.1702                 </td><td>-0.0902            </td></tr>\n",
       "<tr><td>review_scores_rating          </td><td>$\\beta_{14}$         </td><td>19.2762              </td><td>8.1848                  </td><td>33.7507            </td></tr>\n",
       "<tr><td>review_scores_accuracy        </td><td>$\\beta_{15}$         </td><td>1.0074               </td><td>-14.1537                </td><td>11.7944            </td></tr>\n",
       "<tr><td>review_scores_cleanliness     </td><td>$\\beta_{16}$         </td><td>16.7017              </td><td>7.2856                  </td><td>27.4268            </td></tr>\n",
       "<tr><td>review_scores_location        </td><td>$\\beta_{17}$         </td><td>9.4151               </td><td>-0.9950                 </td><td>21.6814            </td></tr>\n",
       "<tr><td>review_scores_value           </td><td>$\\beta_{18}$         </td><td>-15.8905             </td><td>-30.5819                </td><td>-5.2657            </td></tr>\n",
       "<tr><td>instant_bookable_t            </td><td>$\\beta_{19}$         </td><td>10.6875              </td><td>3.8444                  </td><td>16.9629            </td></tr>\n",
       "<tr><td>calculated_host_listings_count</td><td>$\\beta_{20}$         </td><td>-0.1027              </td><td>-0.1903                 </td><td>-0.0374            </td></tr>\n",
       "<tr><td>distance_smithsonian          </td><td>$\\beta_{21}$         </td><td>119.8094             </td><td>65.1381                 </td><td>178.0390           </td></tr>\n",
       "<tr><td>distance_capitol              </td><td>$\\beta_{22}$         </td><td>-532.2057            </td><td>-662.5459               </td><td>-395.6666          </td></tr>\n",
       "<tr><td>distance_white_house          </td><td>$\\beta_{23}$         </td><td>100.4714             </td><td>73.1070                 </td><td>135.2802           </td></tr>\n",
       "<tr><td>distance_library_congress     </td><td>$\\beta_{24}$         </td><td>324.7017             </td><td>243.6845                </td><td>416.4456           </td></tr>\n",
       "<tr><td>distance_nationals_park       </td><td>$\\beta_{25}$         </td><td>42.0126              </td><td>21.9728                 </td><td>65.7744            </td></tr>\n",
       "<tr><td>distance_national_zoo         </td><td>$\\beta_{26}$         </td><td>11.6084              </td><td>4.7637                  </td><td>18.4128            </td></tr>\n",
       "<tr><td>distance_railway              </td><td>$\\beta_{27}$         </td><td>54.9741              </td><td>14.0042                 </td><td>99.2240            </td></tr>\n",
       "<tr><td>distance_mcpherson            </td><td>$\\beta_{28}$         </td><td>-121.2252            </td><td>-166.6742               </td><td>-78.8779           </td></tr>\n",
       "<tr><td>days_since_last_review        </td><td>$\\beta_{29}$         </td><td>0.0259               </td><td>0.0030                  </td><td>0.0563             </td></tr>\n",
       "<tr><td>                              </td><td>                     </td><td>                     </td><td>                        </td><td>                   </td></tr>\n",
       "<tr><td><strong>Metrics</strong      </td><td><strong>Mean</strong</td><td><strong>Lo</strong  </td><td><strong>Hi</strong     </td><td>                   </td></tr>\n",
       "<tr><td>$\\sigma$                      </td><td>166.9302             </td><td>135.7450             </td><td>203.9874                </td><td>                   </td></tr>\n",
       "<tr><td>$R^2$                         </td><td>0.3428               </td><td>0.2817               </td><td>0.4428                  </td><td>                   </td></tr>\n",
       "</tbody>\n",
       "</table></p>"
      ],
      "text/latex": [
       "\\textbf{Model: price $\\sim$ response\\_time\\_within\\_a\\_day + host\\_acceptance\\_rate + superhost\\_t + entire\\_home\\_apt + hotel\\_room + private\\_room + accommodates + bathroom\\_numbers + bedrooms + beds + minimum\\_nights + maximum\\_nights + number\\_of\\_reviews + review\\_scores\\_rating + review\\_scores\\_accuracy + review\\_scores\\_cleanliness + review\\_scores\\_location + review\\_scores\\_value + instant\\_bookable\\_t + calculated\\_host\\_listings\\_count + distance\\_smithsonian + distance\\_capitol + distance\\_white\\_house + distance\\_library\\_congress + distance\\_nationals\\_park + distance\\_national\\_zoo + distance\\_railway + distance\\_mcpherson + days\\_since\\_last\\_review}\n",
       "\n",
       "\\begin{tabular}{lllll}\n",
       "\\toprule\n",
       "                                   &               &               & \\textbf{95\\% BCI} &             \\\\\n",
       " \\textbf{Coefficients}             &               & \\textbf{Mean} & \\textbf{Lo}      & \\textbf{Hi} \\\\\n",
       "                                   & $\\beta_{0}$   & -290.9995     & -382.2209        & -214.5899   \\\\\n",
       " response\\_time\\_within\\_a\\_day    & $\\beta_{1}$   & -0.1986       & -19.3994         & 23.6507     \\\\\n",
       " host\\_acceptance\\_rate            & $\\beta_{2}$   & 0.2378        & -0.0839          & 0.5777      \\\\\n",
       " superhost\\_t                      & $\\beta_{3}$   & 9.9441        & 0.1071           & 18.4711     \\\\\n",
       " entire\\_home\\_apt                 & $\\beta_{4}$   & 68.3110       & 45.9902          & 107.3268    \\\\\n",
       " hotel\\_room                       & $\\beta_{5}$   & 179.9870      & 147.8385         & 223.6419    \\\\\n",
       " private\\_room                     & $\\beta_{6}$   & 39.0506       & 21.1274          & 66.1441     \\\\\n",
       " accommodates                      & $\\beta_{7}$   & 12.7088       & -4.7417          & 24.4314     \\\\\n",
       " bathroom\\_numbers                 & $\\beta_{8}$   & 35.5862       & 20.8528          & 59.4055     \\\\\n",
       " bedrooms                          & $\\beta_{9}$   & 54.7882       & 39.7183          & 74.3939     \\\\\n",
       " beds                              & $\\beta_{10}$  & 4.5329        & -13.6705         & 29.6712     \\\\\n",
       " minimum\\_nights                   & $\\beta_{11}$  & -0.1640       & -0.3997          & -0.0191     \\\\\n",
       " maximum\\_nights                   & $\\beta_{12}$  & -0.0073       & -0.0155          & -0.0006     \\\\\n",
       " number\\_of\\_reviews               & $\\beta_{13}$  & -0.1307       & -0.1702          & -0.0902     \\\\\n",
       " review\\_scores\\_rating            & $\\beta_{14}$  & 19.2762       & 8.1848           & 33.7507     \\\\\n",
       " review\\_scores\\_accuracy          & $\\beta_{15}$  & 1.0074        & -14.1537         & 11.7944     \\\\\n",
       " review\\_scores\\_cleanliness       & $\\beta_{16}$  & 16.7017       & 7.2856           & 27.4268     \\\\\n",
       " review\\_scores\\_location          & $\\beta_{17}$  & 9.4151        & -0.9950          & 21.6814     \\\\\n",
       " review\\_scores\\_value             & $\\beta_{18}$  & -15.8905      & -30.5819         & -5.2657     \\\\\n",
       " instant\\_bookable\\_t              & $\\beta_{19}$  & 10.6875       & 3.8444           & 16.9629     \\\\\n",
       " calculated\\_host\\_listings\\_count & $\\beta_{20}$  & -0.1027       & -0.1903          & -0.0374     \\\\\n",
       " distance\\_smithsonian             & $\\beta_{21}$  & 119.8094      & 65.1381          & 178.0390    \\\\\n",
       " distance\\_capitol                 & $\\beta_{22}$  & -532.2057     & -662.5459        & -395.6666   \\\\\n",
       " distance\\_white\\_house            & $\\beta_{23}$  & 100.4714      & 73.1070          & 135.2802    \\\\\n",
       " distance\\_library\\_congress       & $\\beta_{24}$  & 324.7017      & 243.6845         & 416.4456    \\\\\n",
       " distance\\_nationals\\_park         & $\\beta_{25}$  & 42.0126       & 21.9728          & 65.7744     \\\\\n",
       " distance\\_national\\_zoo           & $\\beta_{26}$  & 11.6084       & 4.7637           & 18.4128     \\\\\n",
       " distance\\_railway                 & $\\beta_{27}$  & 54.9741       & 14.0042          & 99.2240     \\\\\n",
       " distance\\_mcpherson               & $\\beta_{28}$  & -121.2252     & -166.6742        & -78.8779    \\\\\n",
       " days\\_since\\_last\\_review         & $\\beta_{29}$  & 0.0259        & 0.0030           & 0.0563      \\\\\n",
       "                                   &               &               &                  &             \\\\\n",
       " \\textbf{Metrics}                  & \\textbf{Mean} & \\textbf{Lo}   & \\textbf{Hi}      &             \\\\\n",
       " $\\sigma$                          & 166.9302      & 135.7450      & 203.9874         &             \\\\\n",
       " $R^2$                             & 0.3428        & 0.2817        & 0.4428           &             \\\\\n",
       "\\bottomrule\n",
       "\\end{tabular}"
      ],
      "text/markdown": [
       "Model: price ~ response_time_within_a_day + host_acceptance_rate + superhost_t + entire_home_apt + hotel_room + private_room + accommodates + bathroom_numbers + bedrooms + beds + minimum_nights + maximum_nights + number_of_reviews + review_scores_rating + review_scores_accuracy + review_scores_cleanliness + review_scores_location + review_scores_value + instant_bookable_t + calculated_host_listings_count + distance_smithsonian + distance_capitol + distance_white_house + distance_library_congress + distance_nationals_park + distance_national_zoo + distance_railway + distance_mcpherson + days_since_last_review\n",
       "|--------------------------------|--------------|-----------|-------------|-----------|\n",
       "|                                |              |           | **95% BCI** |           |\n",
       "| **Coefficients**               |              | **Mean**  | **Lo**      | **Hi**    |\n",
       "|                                | $\\beta_{0}$  | -290.9995 | -382.2209   | -214.5899 |\n",
       "| response_time_within_a_day     | $\\beta_{1}$  | -0.1986   | -19.3994    | 23.6507   |\n",
       "| host_acceptance_rate           | $\\beta_{2}$  | 0.2378    | -0.0839     | 0.5777    |\n",
       "| superhost_t                    | $\\beta_{3}$  | 9.9441    | 0.1071      | 18.4711   |\n",
       "| entire_home_apt                | $\\beta_{4}$  | 68.3110   | 45.9902     | 107.3268  |\n",
       "| hotel_room                     | $\\beta_{5}$  | 179.9870  | 147.8385    | 223.6419  |\n",
       "| private_room                   | $\\beta_{6}$  | 39.0506   | 21.1274     | 66.1441   |\n",
       "| accommodates                   | $\\beta_{7}$  | 12.7088   | -4.7417     | 24.4314   |\n",
       "| bathroom_numbers               | $\\beta_{8}$  | 35.5862   | 20.8528     | 59.4055   |\n",
       "| bedrooms                       | $\\beta_{9}$  | 54.7882   | 39.7183     | 74.3939   |\n",
       "| beds                           | $\\beta_{10}$ | 4.5329    | -13.6705    | 29.6712   |\n",
       "| minimum_nights                 | $\\beta_{11}$ | -0.1640   | -0.3997     | -0.0191   |\n",
       "| maximum_nights                 | $\\beta_{12}$ | -0.0073   | -0.0155     | -0.0006   |\n",
       "| number_of_reviews              | $\\beta_{13}$ | -0.1307   | -0.1702     | -0.0902   |\n",
       "| review_scores_rating           | $\\beta_{14}$ | 19.2762   | 8.1848      | 33.7507   |\n",
       "| review_scores_accuracy         | $\\beta_{15}$ | 1.0074    | -14.1537    | 11.7944   |\n",
       "| review_scores_cleanliness      | $\\beta_{16}$ | 16.7017   | 7.2856      | 27.4268   |\n",
       "| review_scores_location         | $\\beta_{17}$ | 9.4151    | -0.9950     | 21.6814   |\n",
       "| review_scores_value            | $\\beta_{18}$ | -15.8905  | -30.5819    | -5.2657   |\n",
       "| instant_bookable_t             | $\\beta_{19}$ | 10.6875   | 3.8444      | 16.9629   |\n",
       "| calculated_host_listings_count | $\\beta_{20}$ | -0.1027   | -0.1903     | -0.0374   |\n",
       "| distance_smithsonian           | $\\beta_{21}$ | 119.8094  | 65.1381     | 178.0390  |\n",
       "| distance_capitol               | $\\beta_{22}$ | -532.2057 | -662.5459   | -395.6666 |\n",
       "| distance_white_house           | $\\beta_{23}$ | 100.4714  | 73.1070     | 135.2802  |\n",
       "| distance_library_congress      | $\\beta_{24}$ | 324.7017  | 243.6845    | 416.4456  |\n",
       "| distance_nationals_park        | $\\beta_{25}$ | 42.0126   | 21.9728     | 65.7744   |\n",
       "| distance_national_zoo          | $\\beta_{26}$ | 11.6084   | 4.7637      | 18.4128   |\n",
       "| distance_railway               | $\\beta_{27}$ | 54.9741   | 14.0042     | 99.2240   |\n",
       "| distance_mcpherson             | $\\beta_{28}$ | -121.2252 | -166.6742   | -78.8779  |\n",
       "| days_since_last_review         | $\\beta_{29}$ | 0.0259    | 0.0030      | 0.0563    |\n",
       "|                                |              |           |             |           |\n",
       "| **Metrics**                    | **Mean**     | **Lo**    | **Hi**      |           |\n",
       "| $\\sigma$                       | 166.9302     | 135.7450  | 203.9874    |           |\n",
       "| $R^2$                          | 0.3428       | 0.2817    | 0.4428      |           |"
      ],
      "text/plain": [
       "<models.ResultsWrapper at 0x18d70df86d0>"
      ]
     },
     "execution_count": 31,
     "metadata": {},
     "output_type": "execute_result"
    }
   ],
   "source": [
    "np.random.seed(1432896)\n",
    "model3 = (\"price ~ response_time_within_a_day \"\n",
    "        \"+ host_acceptance_rate + superhost_t \"\n",
    "        \"+ entire_home_apt + hotel_room + private_room + accommodates \"\n",
    "        \"+ bathroom_numbers + bedrooms + beds + minimum_nights + maximum_nights + number_of_reviews \"\n",
    "        \"+ review_scores_rating + review_scores_accuracy + review_scores_cleanliness \"\n",
    "        \"+ review_scores_location + review_scores_value + instant_bookable_t \"\n",
    "        \"+ calculated_host_listings_count + distance_smithsonian + distance_capitol \"\n",
    "        \"+ distance_white_house + distance_library_congress + distance_nationals_park + distance_national_zoo \"\n",
    "        \"+ distance_railway + distance_mcpherson + days_since_last_review\")\n",
    "result3 = models.bootstrap_linear_regression(model3, data=vwListings)\n",
    "models.describe_bootstrap_lr(result3, sd=4)"
   ]
  },
  {
   "cell_type": "markdown",
   "metadata": {},
   "source": [
    "After removing two more features, the $R^2$ of the new model is 0.343, within a rounding error of the old $R^2$. The standard error is 166.93, again nearly the same as Model 2."
   ]
  },
  {
   "cell_type": "code",
   "execution_count": 32,
   "metadata": {},
   "outputs": [],
   "source": [
    "def plot_residuals(result, variables):\n",
    "    figure = plt.figure(figsize=(20,6))\n",
    "\n",
    "    variables = [\"hotel_room\", \"distance_capitol\", \"distance_mcpherson\", \"distance_library_congress\", \"number_of_reviews\"]\n",
    "\n",
    "    plots = len( variables)\n",
    "    rows = (plots // 3) + 1\n",
    "\n",
    "    residuals = np.array([r[0] for r in result[\"residuals\"]])\n",
    "    limits = max(np.abs(residuals.min()), residuals.max())\n",
    "    \n",
    "    n = result[\"n\"]\n",
    "    for i, variable in enumerate( variables):\n",
    "        axes = figure.add_subplot(rows, 3, i + 1)\n",
    "\n",
    "        keyed_values = sorted(zip(vwListings[variable].values, residuals), key=lambda x: x[ 0])\n",
    "        ordered_residuals = [x[ 1] for x in keyed_values]\n",
    "\n",
    "        axes.plot(list(range(0, n)), ordered_residuals, '.', color=\"dimgray\", alpha=0.75)\n",
    "        axes.axhline(y=0.0, xmin=0, xmax=n, c=\"firebrick\", alpha=0.5)\n",
    "        axes.set_ylim((-limits, limits))\n",
    "        axes.set_ylabel(\"residuals\")\n",
    "        axes.set_xlabel(variable)\n",
    "\n",
    "    plt.show()\n",
    "    plt.close()\n",
    "    \n",
    "    return residuals"
   ]
  },
  {
   "cell_type": "code",
   "execution_count": 33,
   "metadata": {
    "scrolled": true
   },
   "outputs": [
    {
     "data": {
      "image/png": "[encoded data removed]",
      "text/plain": [
       "<Figure size 2000x600 with 5 Axes>"
      ]
     },
     "metadata": {},
     "output_type": "display_data"
    }
   ],
   "source": [
    "residuals1 = plot_residuals(result1, [\"hotel_room\", \"distance_capitol\", \"distance_mcpherson\",\"distance_library_congress\", \"number_of_reviews\"])"
   ]
  },
  {
   "cell_type": "markdown",
   "metadata": {},
   "source": [
    "### Model 4"
   ]
  },
  {
   "cell_type": "markdown",
   "metadata": {},
   "source": [
    "We use the bootstrap method to estimate the fourth model."
   ]
  },
  {
   "cell_type": "code",
   "execution_count": 34,
   "metadata": {},
   "outputs": [],
   "source": [
    "vwListings['log_minimum_nights'] = vwListings['minimum_nights'].apply(math.log)\n",
    "vwListings['log_days_since_last_review'] = vwListings['days_since_last_review'].apply(math.log)"
   ]
  },
  {
   "cell_type": "code",
   "execution_count": 35,
   "metadata": {},
   "outputs": [],
   "source": [
    "vwListings['beds_sq'] = vwListings['beds'].apply(lambda x: x ** 2)\n",
    "vwListings['bedrooms_sq'] = vwListings['bedrooms'].apply(lambda x: x ** 2)\n",
    "vwListings['bathroom_numbers_sq'] = vwListings['bathroom_numbers'].apply(lambda x: x ** 2)\n",
    "vwListings['review_scores_rating_sq'] = vwListings['review_scores_rating'].apply(lambda x: x ** 2)\n",
    "vwListings['review_scores_cleanliness_sq'] = vwListings['review_scores_cleanliness'].apply(lambda x: x ** 2)\n",
    "vwListings['entire_home_apt_sq'] = vwListings['entire_home_apt'].apply(lambda x: x ** 2)\n",
    "vwListings['review_scores_location_sq'] = vwListings['review_scores_location'].apply(lambda x: x ** 2)\n",
    "vwListings['host_response_rate_sq'] = vwListings['host_response_rate'].apply(lambda x: x ** 2)\n",
    "vwListings['host_acceptance_rate_sq'] = vwListings['host_acceptance_rate'].apply(lambda x: x ** 2)"
   ]
  },
  {
   "cell_type": "code",
   "execution_count": 62,
   "metadata": {},
   "outputs": [
    {
     "data": {
      "text/html": [
       "<p><strong>Model: price ~ beds_sq + bedrooms_sq + bathroom_numbers_sq + log_minimum_nights + accommodates         + entire_home_apt_sq + hotel_room + private_room + response_time_within_a_day + instant_bookable_t         + number_of_reviews + review_scores_rating_sq + review_scores_cleanliness_sq + identity_verified_t         + review_scores_accuracy + host_response_rate_sq + host_acceptance_rate_sq         + review_scores_location_sq + log_days_since_last_review + superhost_t         + distance_white_house + distance_capitol + distance_nationals_park + distance_library_congress        + distance_railway + distance_national_zoo + distance_smithsonian + distance_mcpherson</strong><br/><table>\n",
       "<tbody>\n",
       "<tr><td>                             </td><td>                     </td><td>                     </td><td><strong>95% BCI</strong</td><td>                   </td></tr>\n",
       "<tr><td><strong>Coefficients</strong</td><td>                     </td><td><strong>Mean</strong</td><td><strong>Lo</strong     </td><td><strong>Hi</strong</td></tr>\n",
       "<tr><td>                             </td><td>$\\beta_{0}$          </td><td>-164.0985            </td><td>-221.7215               </td><td>-91.0673           </td></tr>\n",
       "<tr><td>beds_sq                      </td><td>$\\beta_{1}$          </td><td>1.2022               </td><td>-1.1698                 </td><td>3.1710             </td></tr>\n",
       "<tr><td>bedrooms_sq                  </td><td>$\\beta_{2}$          </td><td>8.5848               </td><td>3.9488                  </td><td>16.2436            </td></tr>\n",
       "<tr><td>bathroom_numbers_sq          </td><td>$\\beta_{3}$          </td><td>6.6168               </td><td>2.1930                  </td><td>11.0136            </td></tr>\n",
       "<tr><td>log_minimum_nights           </td><td>$\\beta_{4}$          </td><td>-16.7198             </td><td>-20.5950                </td><td>-11.1838           </td></tr>\n",
       "<tr><td>accommodates                 </td><td>$\\beta_{5}$          </td><td>13.3484              </td><td>-1.1717                 </td><td>29.0528            </td></tr>\n",
       "<tr><td>entire_home_apt_sq           </td><td>$\\beta_{6}$          </td><td>108.6368             </td><td>61.4360                 </td><td>149.5148           </td></tr>\n",
       "<tr><td>hotel_room                   </td><td>$\\beta_{7}$          </td><td>183.0778             </td><td>134.8009                </td><td>220.5558           </td></tr>\n",
       "<tr><td>private_room                 </td><td>$\\beta_{8}$          </td><td>69.7592              </td><td>38.4673                 </td><td>98.1431            </td></tr>\n",
       "<tr><td>response_time_within_a_day   </td><td>$\\beta_{9}$          </td><td>-2.7816              </td><td>-16.4224                </td><td>10.7935            </td></tr>\n",
       "<tr><td>instant_bookable_t           </td><td>$\\beta_{10}$         </td><td>6.1125               </td><td>-0.0940                 </td><td>15.3375            </td></tr>\n",
       "<tr><td>number_of_reviews            </td><td>$\\beta_{11}$         </td><td>-0.1518              </td><td>-0.1958                 </td><td>-0.1089            </td></tr>\n",
       "<tr><td>review_scores_rating_sq      </td><td>$\\beta_{12}$         </td><td>2.7296               </td><td>1.2951                  </td><td>4.0964             </td></tr>\n",
       "<tr><td>review_scores_cleanliness_sq </td><td>$\\beta_{13}$         </td><td>1.6749               </td><td>0.3233                  </td><td>2.9956             </td></tr>\n",
       "<tr><td>identity_verified_t          </td><td>$\\beta_{14}$         </td><td>-7.0289              </td><td>-17.8695                </td><td>6.7213             </td></tr>\n",
       "<tr><td>review_scores_accuracy       </td><td>$\\beta_{15}$         </td><td>-6.9688              </td><td>-16.1575                </td><td>1.7117             </td></tr>\n",
       "<tr><td>host_response_rate_sq        </td><td>$\\beta_{16}$         </td><td>-0.0022              </td><td>-0.0035                 </td><td>-0.0003            </td></tr>\n",
       "<tr><td>host_acceptance_rate_sq      </td><td>$\\beta_{17}$         </td><td>0.0024               </td><td>-0.0001                 </td><td>0.0040             </td></tr>\n",
       "<tr><td>review_scores_location_sq    </td><td>$\\beta_{18}$         </td><td>0.8234               </td><td>-0.4896                 </td><td>2.3325             </td></tr>\n",
       "<tr><td>log_days_since_last_review   </td><td>$\\beta_{19}$         </td><td>10.3796              </td><td>6.6343                  </td><td>13.8895            </td></tr>\n",
       "<tr><td>superhost_t                  </td><td>$\\beta_{20}$         </td><td>11.9120              </td><td>4.0965                  </td><td>20.1640            </td></tr>\n",
       "<tr><td>distance_white_house         </td><td>$\\beta_{21}$         </td><td>95.7866              </td><td>60.9506                 </td><td>122.0236           </td></tr>\n",
       "<tr><td>distance_capitol             </td><td>$\\beta_{22}$         </td><td>-496.2629            </td><td>-628.6958               </td><td>-367.8584          </td></tr>\n",
       "<tr><td>distance_nationals_park      </td><td>$\\beta_{23}$         </td><td>40.8330              </td><td>22.0157                 </td><td>61.3205            </td></tr>\n",
       "<tr><td>distance_library_congress    </td><td>$\\beta_{24}$         </td><td>290.9601             </td><td>187.9808                </td><td>386.3493           </td></tr>\n",
       "<tr><td>distance_railway             </td><td>$\\beta_{25}$         </td><td>59.7765              </td><td>21.0052                 </td><td>93.3419            </td></tr>\n",
       "<tr><td>distance_national_zoo        </td><td>$\\beta_{26}$         </td><td>13.3101              </td><td>5.8730                  </td><td>22.5079            </td></tr>\n",
       "<tr><td>distance_smithsonian         </td><td>$\\beta_{27}$         </td><td>120.8231             </td><td>57.3260                 </td><td>168.3926           </td></tr>\n",
       "<tr><td>distance_mcpherson           </td><td>$\\beta_{28}$         </td><td>-126.5842            </td><td>-157.5197               </td><td>-83.5537           </td></tr>\n",
       "<tr><td>                             </td><td>                     </td><td>                     </td><td>                        </td><td>                   </td></tr>\n",
       "<tr><td><strong>Metrics</strong     </td><td><strong>Mean</strong</td><td><strong>Lo</strong  </td><td><strong>Hi</strong     </td><td>                   </td></tr>\n",
       "<tr><td>$\\sigma$                     </td><td>159.4779             </td><td>125.4998             </td><td>188.5331                </td><td>                   </td></tr>\n",
       "<tr><td>$R^2$                        </td><td>0.4001               </td><td>0.2983               </td><td>0.5952                  </td><td>                   </td></tr>\n",
       "</tbody>\n",
       "</table></p>"
      ],
      "text/latex": [
       "\\textbf{Model: price $\\sim$ beds\\_sq + bedrooms\\_sq + bathroom\\_numbers\\_sq + log\\_minimum\\_nights + accommodates         + entire\\_home\\_apt\\_sq + hotel\\_room + private\\_room + response\\_time\\_within\\_a\\_day + instant\\_bookable\\_t         + number\\_of\\_reviews + review\\_scores\\_rating\\_sq + review\\_scores\\_cleanliness\\_sq + identity\\_verified\\_t         + review\\_scores\\_accuracy + host\\_response\\_rate\\_sq + host\\_acceptance\\_rate\\_sq         + review\\_scores\\_location\\_sq + log\\_days\\_since\\_last\\_review + superhost\\_t         + distance\\_white\\_house + distance\\_capitol + distance\\_nationals\\_park + distance\\_library\\_congress        + distance\\_railway + distance\\_national\\_zoo + distance\\_smithsonian + distance\\_mcpherson}\n",
       "\n",
       "\\begin{tabular}{lllll}\n",
       "\\toprule\n",
       "                                 &               &               & \\textbf{95\\% BCI} &             \\\\\n",
       " \\textbf{Coefficients}           &               & \\textbf{Mean} & \\textbf{Lo}      & \\textbf{Hi} \\\\\n",
       "                                 & $\\beta_{0}$   & -164.0985     & -221.7215        & -91.0673    \\\\\n",
       " beds\\_sq                        & $\\beta_{1}$   & 1.2022        & -1.1698          & 3.1710      \\\\\n",
       " bedrooms\\_sq                    & $\\beta_{2}$   & 8.5848        & 3.9488           & 16.2436     \\\\\n",
       " bathroom\\_numbers\\_sq           & $\\beta_{3}$   & 6.6168        & 2.1930           & 11.0136     \\\\\n",
       " log\\_minimum\\_nights            & $\\beta_{4}$   & -16.7198      & -20.5950         & -11.1838    \\\\\n",
       " accommodates                    & $\\beta_{5}$   & 13.3484       & -1.1717          & 29.0528     \\\\\n",
       " entire\\_home\\_apt\\_sq           & $\\beta_{6}$   & 108.6368      & 61.4360          & 149.5148    \\\\\n",
       " hotel\\_room                     & $\\beta_{7}$   & 183.0778      & 134.8009         & 220.5558    \\\\\n",
       " private\\_room                   & $\\beta_{8}$   & 69.7592       & 38.4673          & 98.1431     \\\\\n",
       " response\\_time\\_within\\_a\\_day  & $\\beta_{9}$   & -2.7816       & -16.4224         & 10.7935     \\\\\n",
       " instant\\_bookable\\_t            & $\\beta_{10}$  & 6.1125        & -0.0940          & 15.3375     \\\\\n",
       " number\\_of\\_reviews             & $\\beta_{11}$  & -0.1518       & -0.1958          & -0.1089     \\\\\n",
       " review\\_scores\\_rating\\_sq      & $\\beta_{12}$  & 2.7296        & 1.2951           & 4.0964      \\\\\n",
       " review\\_scores\\_cleanliness\\_sq & $\\beta_{13}$  & 1.6749        & 0.3233           & 2.9956      \\\\\n",
       " identity\\_verified\\_t           & $\\beta_{14}$  & -7.0289       & -17.8695         & 6.7213      \\\\\n",
       " review\\_scores\\_accuracy        & $\\beta_{15}$  & -6.9688       & -16.1575         & 1.7117      \\\\\n",
       " host\\_response\\_rate\\_sq        & $\\beta_{16}$  & -0.0022       & -0.0035          & -0.0003     \\\\\n",
       " host\\_acceptance\\_rate\\_sq      & $\\beta_{17}$  & 0.0024        & -0.0001          & 0.0040      \\\\\n",
       " review\\_scores\\_location\\_sq    & $\\beta_{18}$  & 0.8234        & -0.4896          & 2.3325      \\\\\n",
       " log\\_days\\_since\\_last\\_review  & $\\beta_{19}$  & 10.3796       & 6.6343           & 13.8895     \\\\\n",
       " superhost\\_t                    & $\\beta_{20}$  & 11.9120       & 4.0965           & 20.1640     \\\\\n",
       " distance\\_white\\_house          & $\\beta_{21}$  & 95.7866       & 60.9506          & 122.0236    \\\\\n",
       " distance\\_capitol               & $\\beta_{22}$  & -496.2629     & -628.6958        & -367.8584   \\\\\n",
       " distance\\_nationals\\_park       & $\\beta_{23}$  & 40.8330       & 22.0157          & 61.3205     \\\\\n",
       " distance\\_library\\_congress     & $\\beta_{24}$  & 290.9601      & 187.9808         & 386.3493    \\\\\n",
       " distance\\_railway               & $\\beta_{25}$  & 59.7765       & 21.0052          & 93.3419     \\\\\n",
       " distance\\_national\\_zoo         & $\\beta_{26}$  & 13.3101       & 5.8730           & 22.5079     \\\\\n",
       " distance\\_smithsonian           & $\\beta_{27}$  & 120.8231      & 57.3260          & 168.3926    \\\\\n",
       " distance\\_mcpherson             & $\\beta_{28}$  & -126.5842     & -157.5197        & -83.5537    \\\\\n",
       "                                 &               &               &                  &             \\\\\n",
       " \\textbf{Metrics}                & \\textbf{Mean} & \\textbf{Lo}   & \\textbf{Hi}      &             \\\\\n",
       " $\\sigma$                        & 159.4779      & 125.4998      & 188.5331         &             \\\\\n",
       " $R^2$                           & 0.4001        & 0.2983        & 0.5952           &             \\\\\n",
       "\\bottomrule\n",
       "\\end{tabular}"
      ],
      "text/markdown": [
       "Model: price ~ beds_sq + bedrooms_sq + bathroom_numbers_sq + log_minimum_nights + accommodates         + entire_home_apt_sq + hotel_room + private_room + response_time_within_a_day + instant_bookable_t         + number_of_reviews + review_scores_rating_sq + review_scores_cleanliness_sq + identity_verified_t         + review_scores_accuracy + host_response_rate_sq + host_acceptance_rate_sq         + review_scores_location_sq + log_days_since_last_review + superhost_t         + distance_white_house + distance_capitol + distance_nationals_park + distance_library_congress        + distance_railway + distance_national_zoo + distance_smithsonian + distance_mcpherson\n",
       "|------------------------------|--------------|-----------|-------------|-----------|\n",
       "|                              |              |           | **95% BCI** |           |\n",
       "| **Coefficients**             |              | **Mean**  | **Lo**      | **Hi**    |\n",
       "|                              | $\\beta_{0}$  | -164.0985 | -221.7215   | -91.0673  |\n",
       "| beds_sq                      | $\\beta_{1}$  | 1.2022    | -1.1698     | 3.1710    |\n",
       "| bedrooms_sq                  | $\\beta_{2}$  | 8.5848    | 3.9488      | 16.2436   |\n",
       "| bathroom_numbers_sq          | $\\beta_{3}$  | 6.6168    | 2.1930      | 11.0136   |\n",
       "| log_minimum_nights           | $\\beta_{4}$  | -16.7198  | -20.5950    | -11.1838  |\n",
       "| accommodates                 | $\\beta_{5}$  | 13.3484   | -1.1717     | 29.0528   |\n",
       "| entire_home_apt_sq           | $\\beta_{6}$  | 108.6368  | 61.4360     | 149.5148  |\n",
       "| hotel_room                   | $\\beta_{7}$  | 183.0778  | 134.8009    | 220.5558  |\n",
       "| private_room                 | $\\beta_{8}$  | 69.7592   | 38.4673     | 98.1431   |\n",
       "| response_time_within_a_day   | $\\beta_{9}$  | -2.7816   | -16.4224    | 10.7935   |\n",
       "| instant_bookable_t           | $\\beta_{10}$ | 6.1125    | -0.0940     | 15.3375   |\n",
       "| number_of_reviews            | $\\beta_{11}$ | -0.1518   | -0.1958     | -0.1089   |\n",
       "| review_scores_rating_sq      | $\\beta_{12}$ | 2.7296    | 1.2951      | 4.0964    |\n",
       "| review_scores_cleanliness_sq | $\\beta_{13}$ | 1.6749    | 0.3233      | 2.9956    |\n",
       "| identity_verified_t          | $\\beta_{14}$ | -7.0289   | -17.8695    | 6.7213    |\n",
       "| review_scores_accuracy       | $\\beta_{15}$ | -6.9688   | -16.1575    | 1.7117    |\n",
       "| host_response_rate_sq        | $\\beta_{16}$ | -0.0022   | -0.0035     | -0.0003   |\n",
       "| host_acceptance_rate_sq      | $\\beta_{17}$ | 0.0024    | -0.0001     | 0.0040    |\n",
       "| review_scores_location_sq    | $\\beta_{18}$ | 0.8234    | -0.4896     | 2.3325    |\n",
       "| log_days_since_last_review   | $\\beta_{19}$ | 10.3796   | 6.6343      | 13.8895   |\n",
       "| superhost_t                  | $\\beta_{20}$ | 11.9120   | 4.0965      | 20.1640   |\n",
       "| distance_white_house         | $\\beta_{21}$ | 95.7866   | 60.9506     | 122.0236  |\n",
       "| distance_capitol             | $\\beta_{22}$ | -496.2629 | -628.6958   | -367.8584 |\n",
       "| distance_nationals_park      | $\\beta_{23}$ | 40.8330   | 22.0157     | 61.3205   |\n",
       "| distance_library_congress    | $\\beta_{24}$ | 290.9601  | 187.9808    | 386.3493  |\n",
       "| distance_railway             | $\\beta_{25}$ | 59.7765   | 21.0052     | 93.3419   |\n",
       "| distance_national_zoo        | $\\beta_{26}$ | 13.3101   | 5.8730      | 22.5079   |\n",
       "| distance_smithsonian         | $\\beta_{27}$ | 120.8231  | 57.3260     | 168.3926  |\n",
       "| distance_mcpherson           | $\\beta_{28}$ | -126.5842 | -157.5197   | -83.5537  |\n",
       "|                              |              |           |             |           |\n",
       "| **Metrics**                  | **Mean**     | **Lo**    | **Hi**      |           |\n",
       "| $\\sigma$                     | 159.4779     | 125.4998  | 188.5331    |           |\n",
       "| $R^2$                        | 0.4001       | 0.2983    | 0.5952      |           |"
      ],
      "text/plain": [
       "<models.ResultsWrapper at 0x25da5fa8fd0>"
      ]
     },
     "execution_count": 62,
     "metadata": {},
     "output_type": "execute_result"
    }
   ],
   "source": [
    "np.random.seed(1432897)\n",
    "model4 = (\"price ~ beds_sq + bedrooms_sq + bathroom_numbers_sq + log_minimum_nights + accommodates \\\n",
    "        + entire_home_apt_sq + hotel_room + private_room + response_time_within_a_day + instant_bookable_t \\\n",
    "        + number_of_reviews + review_scores_rating_sq + review_scores_cleanliness_sq + identity_verified_t \\\n",
    "        + review_scores_accuracy + host_response_rate_sq + host_acceptance_rate_sq \\\n",
    "        + review_scores_location_sq + log_days_since_last_review + superhost_t \\\n",
    "        + distance_white_house + distance_capitol + distance_nationals_park + distance_library_congress\\\n",
    "        + distance_railway + distance_national_zoo + distance_smithsonian + distance_mcpherson\")\n",
    "result4 = models.bootstrap_linear_regression(model4, data=vwListings)\n",
    "models.describe_bootstrap_lr(result4, sd=4)"
   ]
  },
  {
   "cell_type": "markdown",
   "metadata": {},
   "source": [
    "After removing some variables and add identity_verified_t in, the $R^2$ of the new model is 0.40, within a rounding error of the old $R^2$. The standard error is 159.48. This is an improvement from our previous model."
   ]
  },
  {
   "cell_type": "markdown",
   "metadata": {},
   "source": [
    "## Model Evaluation"
   ]
  },
  {
   "cell_type": "markdown",
   "metadata": {},
   "source": [
    "First, define helper functions to calculate the cross validation."
   ]
  },
  {
   "cell_type": "code",
   "execution_count": 37,
   "metadata": {},
   "outputs": [],
   "source": [
    "def chunk(xs, n):\n",
    "    k, m = divmod(len(xs), n)\n",
    "    return [xs[i * k + min(i, m):(i + 1) * k + min(i + 1, m)] for i in range(n)]"
   ]
  },
  {
   "cell_type": "code",
   "execution_count": 38,
   "metadata": {},
   "outputs": [],
   "source": [
    "def cross_validation(algorithm, formula, data, evaluate, fold_count=10, repetitions=3):\n",
    "    indices = list(range(len( data)))\n",
    "    metrics = []\n",
    "    for _ in range(repetitions):\n",
    "        random.shuffle(indices)\n",
    "        folds = chunk(indices, fold_count)\n",
    "        for fold in folds:\n",
    "            test_data = data.iloc[fold]\n",
    "            train_indices = [idx not in fold for idx in indices]\n",
    "            train_data = data.iloc[train_indices]\n",
    "            result = algorithm(formula, data=train_data)\n",
    "            model = result[\"model\"]\n",
    "            y, X = patsy.dmatrices(formula, test_data, return_type=\"matrix\")\n",
    "            # y = np.ravel( y) # might need for logistic regression\n",
    "            results = models.summarize(formula, X, y, model)\n",
    "            metric = evaluate(results)\n",
    "            metrics.append(metric)\n",
    "    return metrics"
   ]
  },
  {
   "cell_type": "markdown",
   "metadata": {},
   "source": [
    "We can now run `cross_validation` on our model and data:"
   ]
  },
  {
   "cell_type": "code",
   "execution_count": 42,
   "metadata": {},
   "outputs": [],
   "source": [
    "formula = \"price ~ beds_sq + bedrooms_sq + bathroom_numbers_sq + log_minimum_nights + accommodates \\\n",
    "        + entire_home_apt_sq + hotel_room + private_room + response_time_within_a_day + instant_bookable_t \\\n",
    "        + number_of_reviews + review_scores_rating_sq + review_scores_cleanliness_sq + identity_verified_t \\\n",
    "        + review_scores_accuracy + host_response_rate_sq + host_acceptance_rate_sq \\\n",
    "        + review_scores_location_sq + log_days_since_last_review + superhost_t \\\n",
    "        + distance_white_house + distance_capitol + distance_nationals_park + distance_library_congress\\\n",
    "        + distance_railway + distance_national_zoo + distance_smithsonian + distance_mcpherson + days_since_last_review\"\n",
    "result = cross_validation(models.linear_regression, formula, vwListings, lambda r: (r[\"sigma\"], r[\"r_squared\"]))"
   ]
  },
  {
   "cell_type": "markdown",
   "metadata": {},
   "source": [
    "After running cross validation, we can calculate the 95% Bootstrap estimates of the credible intervals for both."
   ]
  },
  {
   "cell_type": "code",
   "execution_count": 43,
   "metadata": {},
   "outputs": [
    {
     "name": "stdout",
     "output_type": "stream",
     "text": [
      "95% CI for sigma: [109.44363747 247.55733965]\n"
     ]
    }
   ],
   "source": [
    "print(r\"95% CI for sigma:\", stats.mstats.mquantiles([r[0] for r in result], [0.025, 0.975]))"
   ]
  },
  {
   "cell_type": "code",
   "execution_count": 44,
   "metadata": {},
   "outputs": [
    {
     "name": "stdout",
     "output_type": "stream",
     "text": [
      "95% CI for R^2: [0.1471512  0.78007275]\n"
     ]
    }
   ],
   "source": [
    "print(r\"95% CI for R^2:\", stats.mstats.mquantiles([r[1] for r in result], [0.025, 0.975]))"
   ]
  },
  {
   "cell_type": "markdown",
   "metadata": {},
   "source": [
    "Given these 95% credible intervals, it gives a 95% likelihood that the mean price of an Airbnb listing is between 109.44 and 247.557. Additionally, there is a 95% likelihood that the $R^2$ is between 0.147 and 0.78. These bounds, however, are not as tight as we would like. We can look at the mean values to tighten the bounds on the average  $\\sigma$ and $R^2$ are for our model."
   ]
  },
  {
   "cell_type": "code",
   "execution_count": 45,
   "metadata": {},
   "outputs": [],
   "source": [
    "sigmas = [r[0] for r in result]\n",
    "r_squareds = [r[1] for r in result]"
   ]
  },
  {
   "cell_type": "code",
   "execution_count": 46,
   "metadata": {},
   "outputs": [
    {
     "name": "stdout",
     "output_type": "stream",
     "text": [
      "mean sigma:  156.63465885651834\n",
      "mean R^2:  0.37745223548670015\n"
     ]
    }
   ],
   "source": [
    "print(\"mean sigma: \", np.mean(sigmas))\n",
    "print(\"mean R^2: \", np.mean(r_squareds))"
   ]
  },
  {
   "cell_type": "code",
   "execution_count": 48,
   "metadata": {},
   "outputs": [],
   "source": [
    "def resample(data):\n",
    "    n = len(data)\n",
    "    return [data[ i] for i in [stats.randint.rvs(0, n - 1) for _ in range( 0, n)]]"
   ]
  },
  {
   "cell_type": "code",
   "execution_count": 49,
   "metadata": {},
   "outputs": [],
   "source": [
    "bootstrap = {}\n",
    "bootstrap[\"sigma\"] = np.array([np.mean(s) for s in [resample(sigmas) for i in range( 0, 1000)]])\n",
    "bootstrap[\"r_squared\"] = np.array([np.mean(r) for r in [resample(r_squareds) for i in range( 0, 1000)]])"
   ]
  },
  {
   "cell_type": "code",
   "execution_count": 50,
   "metadata": {},
   "outputs": [
    {
     "name": "stdout",
     "output_type": "stream",
     "text": [
      "95% CI for *mean* sigma: [141.72059049 171.97164519]\n"
     ]
    }
   ],
   "source": [
    "print(r\"95% CI for *mean* sigma:\", stats.mstats.mquantiles(bootstrap[\"sigma\"], [0.025, 0.975]))"
   ]
  },
  {
   "cell_type": "code",
   "execution_count": 51,
   "metadata": {},
   "outputs": [
    {
     "name": "stdout",
     "output_type": "stream",
     "text": [
      "95% CI for *mean* R^2: [0.326149   0.43639372]\n"
     ]
    }
   ],
   "source": [
    "print(r\"95% CI for *mean* R^2:\", stats.mstats.mquantiles(bootstrap[\"r_squared\"], [0.025, 0.975]))"
   ]
  },
  {
   "cell_type": "markdown",
   "metadata": {},
   "source": [
    "Overall, this is a significant improvement for our credible intervals, we have fairly tight bounds on what we think the average $\\sigma$ and $R^2$ are for our model. It gives a 95% likelihood that the mean price of an Airbnb listing is between 141.72 and 171.97. Additionally, there is a 95% likelihood that the $R^2$ is between 0.326 and 0.436."
   ]
  },
  {
   "cell_type": "markdown",
   "metadata": {},
   "source": [
    "### Learning Curves"
   ]
  },
  {
   "cell_type": "markdown",
   "metadata": {},
   "source": [
    "We can leverage learning curves to determine if more data can improve the estimation of the model."
   ]
  },
  {
   "cell_type": "code",
   "execution_count": 52,
   "metadata": {},
   "outputs": [],
   "source": [
    "from collections import defaultdict"
   ]
  },
  {
   "cell_type": "code",
   "execution_count": 53,
   "metadata": {},
   "outputs": [],
   "source": [
    "def data_collection():\n",
    "    result = dict()\n",
    "    result[ \"train\"] = defaultdict( list)\n",
    "    result[ \"test\"] = defaultdict( list)\n",
    "    return result"
   ]
  },
  {
   "cell_type": "code",
   "execution_count": 54,
   "metadata": {},
   "outputs": [],
   "source": [
    "def learning_curves(algorithm, formula, data, evaluate, fold_count=10, repetitions=3, increment=1):\n",
    "    indices = list(range(len( data)))\n",
    "    results = data_collection()\n",
    "    for _ in range(repetitions):\n",
    "        random.shuffle(indices)\n",
    "        folds = chunk(indices, fold_count)\n",
    "        for fold in folds:\n",
    "            test_data = data.iloc[ fold]\n",
    "            train_indices = [idx for idx in indices if idx not in fold]\n",
    "            train_data = data.iloc[train_indices]\n",
    "            for i in list(range(increment, 100, increment)) + [100]: # ensures 100% is always picked.\n",
    "                # the indices are already shuffled so we only need to take ever increasing chunks\n",
    "                train_chunk_size = int( np.ceil((i/100)*len( train_indices)))\n",
    "                train_data_chunk = data.iloc[train_indices[0:train_chunk_size]]\n",
    "                # we calculate the model\n",
    "                result = algorithm(formula, data=train_data_chunk)\n",
    "                model = result[\"model\"]\n",
    "                # we calculate the results for the training data subset\n",
    "                y, X = patsy.dmatrices( formula, train_data_chunk, return_type=\"matrix\")\n",
    "                result = models.summarize(formula, X, y, model)\n",
    "                metric = evaluate(result)\n",
    "                results[\"train\"][i].append( metric)\n",
    "                \n",
    "                # we calculate the results for the test data.\n",
    "                y, X = patsy.dmatrices( formula, test_data, return_type=\"matrix\")\n",
    "                result = models.summarize(formula, X, y, model)\n",
    "                metric = evaluate(result)\n",
    "                results[\"test\"][i].append( metric)\n",
    "            #\n",
    "        #\n",
    "    # process results\n",
    "    # Rely on the CLT...\n",
    "    statistics = {}\n",
    "    for k, v in results[\"train\"].items():\n",
    "        statistics[ k] = (np.mean(v), np.std(v))\n",
    "    results[\"train\"] = statistics\n",
    "    statistics = {}\n",
    "    for k, v in results[\"test\"].items():\n",
    "        statistics[ k] = (np.mean(v), np.std(v))\n",
    "    results[\"test\"] = statistics\n",
    "    return results\n",
    "#"
   ]
  },
  {
   "cell_type": "code",
   "execution_count": 55,
   "metadata": {},
   "outputs": [],
   "source": [
    "def results_to_curves( curve, results):\n",
    "    all_statistics = results[ curve]\n",
    "    keys = list( all_statistics.keys())\n",
    "    keys.sort()\n",
    "    mean = []\n",
    "    upper = []\n",
    "    lower = []\n",
    "    for k in keys:\n",
    "        m, s = all_statistics[ k]\n",
    "        mean.append( m)\n",
    "        upper.append( m + 2 * s)\n",
    "        lower.append( m - 2 * s)\n",
    "    return keys, lower, mean, upper"
   ]
  },
  {
   "cell_type": "code",
   "execution_count": 56,
   "metadata": {},
   "outputs": [],
   "source": [
    "def plot_learning_curves( results, metric, zoom=False):\n",
    "    figure = plt.figure(figsize=(10,6))\n",
    "\n",
    "    axes = figure.add_subplot(1, 1, 1)\n",
    "\n",
    "    xs, train_lower, train_mean, train_upper = results_to_curves( \"train\", results)\n",
    "    _, test_lower, test_mean, test_upper = results_to_curves( \"test\", results)\n",
    "\n",
    "    axes.plot( xs, train_mean, color=\"steelblue\")\n",
    "    axes.fill_between( xs, train_upper, train_lower, color=\"steelblue\", alpha=0.25, label=\"train\")\n",
    "    axes.plot( xs, test_mean, color=\"firebrick\")\n",
    "    axes.fill_between( xs, test_upper, test_lower, color=\"firebrick\", alpha=0.25, label=\"test\")\n",
    "    axes.legend()\n",
    "    axes.set_xlabel( \"training set (%)\")\n",
    "    axes.set_ylabel( metric)\n",
    "    axes.set_title(\"Learning Curves\")\n",
    "\n",
    "    if zoom:\n",
    "        y_lower = int( 0.9 * np.amin([train_lower[-1], test_lower[-1]]))\n",
    "        y_upper = int( 1.1 * np.amax([train_upper[-1], test_upper[-1]]))\n",
    "        axes.set_ylim((y_lower, y_upper))\n",
    "\n",
    "    plt.show()\n",
    "    plt.close()\n",
    "#"
   ]
  },
  {
   "cell_type": "code",
   "execution_count": 57,
   "metadata": {},
   "outputs": [],
   "source": [
    "formula = \"price ~ beds_sq + bedrooms_sq + bathroom_numbers_sq + log_minimum_nights + accommodates \\\n",
    "        + entire_home_apt_sq + hotel_room + private_room + response_time_within_a_day + instant_bookable_t \\\n",
    "        + number_of_reviews + review_scores_rating_sq + review_scores_cleanliness_sq + identity_verified_t \\\n",
    "        + review_scores_accuracy + host_response_rate_sq + host_acceptance_rate_sq \\\n",
    "        + review_scores_location_sq + log_days_since_last_review + superhost_t \\\n",
    "        + distance_white_house + distance_capitol + distance_nationals_park + distance_library_congress\\\n",
    "        + distance_railway + distance_national_zoo + distance_smithsonian + distance_mcpherson\"\n",
    "result = learning_curves(models.linear_regression, formula, vwListings, lambda r: r[\"sigma\"])"
   ]
  },
  {
   "cell_type": "code",
   "execution_count": 58,
   "metadata": {
    "scrolled": true
   },
   "outputs": [
    {
     "data": {
      "image/png": "[encoded data removed]",
      "text/plain": [
       "<Figure size 1000x600 with 1 Axes>"
      ]
     },
     "metadata": {},
     "output_type": "display_data"
    }
   ],
   "source": [
    "plot_learning_curves(result, r\"$\\sigma$\")"
   ]
  },
  {
   "cell_type": "code",
   "execution_count": 59,
   "metadata": {},
   "outputs": [
    {
     "data": {
      "image/png": "[encoded data removed]",
      "text/plain": [
       "<Figure size 1000x600 with 1 Axes>"
      ]
     },
     "metadata": {},
     "output_type": "display_data"
    }
   ],
   "source": [
    "plot_learning_curves(result, r\"$\\sigma$\", zoom=True)"
   ]
  },
  {
   "cell_type": "markdown",
   "metadata": {},
   "source": [
    "Looking at the learning curves, both the training and test data seem to converge well when given more data. Overall, we can say that the error is negligable and it is a good model. Therefore, getting more data won't make the model better. "
   ]
  },
  {
   "cell_type": "markdown",
   "metadata": {},
   "source": [
    "### Predictions"
   ]
  },
  {
   "cell_type": "code",
   "execution_count": 38,
   "metadata": {},
   "outputs": [],
   "source": [
    "model = \"price ~ beds_sq + bedrooms_sq + bathroom_numbers_sq + log_minimum_nights + accommodates \\\n",
    "        + entire_home_apt_sq + hotel_room + private_room + response_time_within_a_day + instant_bookable_t \\\n",
    "        + number_of_reviews + review_scores_rating_sq + review_scores_cleanliness_sq + identity_verified_t \\\n",
    "        + review_scores_accuracy + host_response_rate_sq + host_acceptance_rate_sq \\\n",
    "        + review_scores_location_sq + log_days_since_last_review + superhost_t \\\n",
    "        + distance_white_house + distance_capitol + distance_nationals_park + distance_library_congress\\\n",
    "        + distance_railway + distance_national_zoo + distance_smithsonian + distance_mcpherson\""
   ]
  },
  {
   "cell_type": "code",
   "execution_count": 39,
   "metadata": {},
   "outputs": [
    {
     "data": {
      "text/plain": [
       "array([[304.24972083]])"
      ]
     },
     "execution_count": 39,
     "metadata": {},
     "output_type": "execute_result"
    }
   ],
   "source": [
    "prediction = result4[\"model\"].predict([[3, 3, 3.5, 3, 6,\n",
    "                                      1, 0, 0, 0, 1, \n",
    "                                      61, 5, 5, 1, \n",
    "                                      4.5, 100, 100,\n",
    "                                      4, 3, 1, \n",
    "                                      3.4, 10.6, 7.7, 9.4,\n",
    "                                      9.8, 4.9, 8.5, 7.6, 5]])\n",
    "prediction"
   ]
  },
  {
   "cell_type": "markdown",
   "metadata": {},
   "source": [
    "If the airbnb property has 3 beds, 3 bedrooms, 3.5 bathrooms, requires to stay at least 3 nights, able to fit 6 guests, entire own place, and the host with identity verified and also superhost does not response within a day (it can be response within an hour or few days), be able to book instantly, 61 reviews, the review score is 5, review for cleanliness is 5, review for accuracy is 4.5, review score for location is 4, 100% host response rate and 100% host acceptance rate, the distance to famous attractions ranges from 3.4 miles to 10.6 miles depending on the location, then the price is predicted 304 dollars per night."
   ]
  },
  {
   "cell_type": "code",
   "execution_count": 40,
   "metadata": {},
   "outputs": [
    {
     "data": {
      "text/plain": [
       "array([[134.23170792]])"
      ]
     },
     "execution_count": 40,
     "metadata": {},
     "output_type": "execute_result"
    }
   ],
   "source": [
    "prediction = result4[\"model\"].predict([[2, 2, 1.5, 1, 3,\n",
    "                                      1, 0, 0, 1, 0, \n",
    "                                      206, 4.7, 4.5, 1, \n",
    "                                      4.8, 98, 97, \n",
    "                                      4.7, 15, 1,\n",
    "                                      3.7, 10.6, 7.7, 9.4,\n",
    "                                      4.7, 7.6, 4.8, 7.9, 5]])\n",
    "prediction"
   ]
  },
  {
   "cell_type": "markdown",
   "metadata": {},
   "source": [
    "If the Airbnb listing has 2 beds, 2 bedrooms, 3.5 bathrooms and it requires to stay at least one night. Additionally it can accommodate 3 guests and can own the entire place. It has 206 reviews and a review score of 4.7 and is identity verified. The response rate is at 98% and 97% acceptance rate. It is 3.7 to 10.6 miles to various attractions. Given these inputs, the price is predicted to be 134 dollars per night. "
   ]
  },
  {
   "cell_type": "code",
   "execution_count": 41,
   "metadata": {},
   "outputs": [
    {
     "data": {
      "text/plain": [
       "array([[120.59138378]])"
      ]
     },
     "execution_count": 41,
     "metadata": {},
     "output_type": "execute_result"
    }
   ],
   "source": [
    "prediction = result4[\"model\"].predict([[1, 1, 1, 1, 2, 2,\n",
    "                                      0, 1, 0, 1, 1, \n",
    "                                      104, 4.2, 3, 1, \n",
    "                                      4, 100, 100, \n",
    "                                      22.4, 9, 0,\n",
    "                                      2.1, 3.45, 4.14, 2.5,\n",
    "                                      5.8, 7.5, 4.1, 2.5]])\n",
    "prediction"
   ]
  },
  {
   "cell_type": "markdown",
   "metadata": {},
   "source": [
    "If the Airbnb listing has 1 beds, 1 bedrooms, 1 bathrooms and it requires to stay at least one night. Additionally it can accommodate 2 guests and can own the entire place. It has 104 reviews and a review score of 4.2 and is identity verified. The response rate is at 100% and 100% acceptance rate. Given these inputs, the price is predicted to be 120 dollars per night."
   ]
  }
 ],
 "metadata": {
  "kernelspec": {
   "display_name": "Python 3 (ipykernel)",
   "language": "python",
   "name": "python3"
  },
  "language_info": {
   "codemirror_mode": {
    "name": "ipython",
    "version": 3
   },
   "file_extension": ".py",
   "mimetype": "text/x-python",
   "name": "python",
   "nbconvert_exporter": "python",
   "pygments_lexer": "ipython3",
   "version": "3.8.5"
  }
 },
 "nbformat": 4,
 "nbformat_minor": 2
}
