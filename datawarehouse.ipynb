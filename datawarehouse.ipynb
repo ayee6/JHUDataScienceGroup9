{
 "cells": [
  {
   "cell_type": "code",
   "execution_count": null,
   "metadata": {},
   "outputs": [],
   "source": [
    "import openpyxl\n",
    "import sqlite3"
   ]
  },
  {
   "cell_type": "code",
   "execution_count": null,
   "metadata": {},
   "outputs": [],
   "source": [
    "connection = sqlite3.connect('airbnb.db')\n",
    "cursor = connection.cursor()"
   ]
  },
  {
   "cell_type": "code",
   "execution_count": null,
   "metadata": {},
   "outputs": [],
   "source": [
    "neighborHoodWorkbook = openpyxl.load_workbook('datasets/neighbourhoods.xlsx')\n",
    "for row in list(neighborHoodWorkbook.active.values)[1:]:\n",
    "    cursor.execute('INSERT into neighborhoods(name) values(?)', (row[1],))"
   ]
  },
  {
   "cell_type": "code",
   "execution_count": null,
   "metadata": {},
   "outputs": [],
   "source": [
    "calendarWorkbook = openpyxl.load_workbook('datasets/calendar_3_2023.xlsx')\n",
    "for row in list(calendarWorkbook.active.values)[1:]:\n",
    "    cursor.execute('INSERT into calendar(source_name, listing_id, date, available, price,\\\n",
    "                   adjusted_price, minimum_nights, maximum_nights)\\\n",
    "                   values(?, ?, ?, ?, ?, ?, ?, ?)',\\\n",
    "                   (row[0],row[1], row[2], row[3], row[4], row[5], row[6], row[7]))\n",
    "    \n",
    "calendarWorkbook = openpyxl.load_workbook('datasets/calendar_6_2022.xlsx')\n",
    "for row in list(calendarWorkbook.active.values)[1:]:\n",
    "    cursor.execute('INSERT into calendar(source_name, listing_id, date, available, price,\\\n",
    "                   adjusted_price, minimum_nights, maximum_nights)\\\n",
    "                   values(?, ?, ?, ?, ?, ?, ?, ?)',\\\n",
    "                   (row[0],row[1], row[2], row[3], row[4], row[5], row[6], row[7]))\n",
    "    \n",
    "calendarWorkbook = openpyxl.load_workbook('datasets/calendar_9_2022.xlsx')\n",
    "for row in list(calendarWorkbook.active.values)[1:]:\n",
    "    cursor.execute('INSERT into calendar(source_name, listing_id, date, available, price,\\\n",
    "                   adjusted_price, minimum_nights, maximum_nights)\\\n",
    "                   values(?, ?, ?, ?, ?, ?, ?, ?)',\\\n",
    "                   (row[0],row[1], row[2], row[3], row[4], row[5], row[6], row[7]))\n",
    "    \n",
    "calendarWorkbook = openpyxl.load_workbook('datasets/calendar_12_2022.xlsx')\n",
    "for row in list(calendarWorkbook.active.values)[1:]:\n",
    "    cursor.execute('INSERT into calendar(source_name, listing_id, date, available, price,\\\n",
    "                   adjusted_price, minimum_nights, maximum_nights)\\\n",
    "                   values(?, ?, ?, ?, ?, ?, ?, ?)',\\\n",
    "                   (row[0],row[1], row[2], row[3], row[4], row[5], row[6], row[7]))"
   ]
  },
  {
   "cell_type": "code",
   "execution_count": null,
   "metadata": {},
   "outputs": [],
   "source": [
    "reviewsWorkbook = openpyxl.load_workbook('datasets/reviews_3_2023.xlsx')\n",
    "for row in list(reviewsWorkbook.active.values)[1:]:\n",
    "    cursor.execute('INSERT into reviews(source_name, id, listing_id, date, reviewer_name,\\\n",
    "                   reviewer_id, comments) values(?, ?, ?, ?, ?, ?, ?)',\\\n",
    "                   (row[0], row[2],row[1], row[3], row[5], row[4], row[6]))"
   ]
  },
  {
   "cell_type": "code",
   "execution_count": null,
   "metadata": {},
   "outputs": [],
   "source": [
    "reviewsWorkbook = openpyxl.load_workbook('datasets/reviews_6_2022.xlsx')\n",
    "for row in list(reviewsWorkbook.active.values)[1:]:\n",
    "    cursor.execute('INSERT into reviews(source_name, id, listing_id, date, reviewer_name,\\\n",
    "                   reviewer_id, comments) values(?, ?, ?, ?, ?, ?, ?)',\\\n",
    "                   (row[0], row[2],row[1], row[3], row[5], row[4], row[6]))"
   ]
  },
  {
   "cell_type": "code",
   "execution_count": null,
   "metadata": {},
   "outputs": [],
   "source": [
    "reviewsWorkbook = openpyxl.load_workbook('datasets/reviews_9_2022.xlsx')\n",
    "for row in list(reviewsWorkbook.active.values)[1:]:\n",
    "    cursor.execute('INSERT into reviews(source_name, id, listing_id, date, reviewer_name,\\\n",
    "                   reviewer_id, comments) values(?, ?, ?, ?, ?, ?, ?)',\\\n",
    "                   (row[0], row[2],row[1], row[3], row[5], row[4], row[6]))"
   ]
  },
  {
   "cell_type": "code",
   "execution_count": null,
   "metadata": {},
   "outputs": [],
   "source": [
    "reviewsWorkbook = openpyxl.load_workbook('datasets/reviews_12_2022.xlsx')\n",
    "for row in list(reviewsWorkbook.active.values)[1:]:\n",
    "    cursor.execute('INSERT into reviews(source_name, id, listing_id, date, reviewer_name,\\\n",
    "                   reviewer_id, comments) values(?, ?, ?, ?, ?, ?, ?)',\\\n",
    "                   (row[0], row[2],row[1], row[3], row[5], row[4], row[6]))"
   ]
  },
  {
   "cell_type": "code",
   "execution_count": null,
   "metadata": {},
   "outputs": [],
   "source": [
    "listingsWorkbook = openpyxl.load_workbook('datasets/listings_combine.xlsx')\n",
    "for row in list(listingsWorkbook.active.values)[1:]:\n",
    "    cursor.execute('INSERT into listings(source_name, id, listing_url, scrape_id,\\\n",
    "                   last_scraped, source, name, description,\\\n",
    "                   neighborhood_overview, picture_url, host_id, host_url,\\\n",
    "                   host_name, host_since, host_location, host_about,\\\n",
    "                   host_response_time, host_response_rate, host_acceptance_rate,\\\n",
    "                   host_is_superhost, host_thumbnail_url, host_picture_url,\\\n",
    "                   host_neighbourhood, host_listings_count,\\\n",
    "                   host_total_listings_count, host_verifications,\\\n",
    "                   host_has_profile_pic, host_identity_verified, neighbourhood,\\\n",
    "                   neighbourhood_cleansed, neighbourhood_group_cleansed,\\\n",
    "                   latitude, longitude, property_type, room_type, accommodates,\\\n",
    "                   bathrooms, bathrooms_text, bedrooms, beds, amenities, price,\\\n",
    "                   minimum_nights, maximum_nights, minimum_minimum_nights,\\\n",
    "                   maximum_minimum_nights, minimum_maximum_nights,\\\n",
    "                   maximum_maximum_nights, minimum_nights_avg_ntm,\\\n",
    "                   maximum_nights_avg_ntm, calendar_updated, has_availability,\\\n",
    "                   availability_30, availability_60, availability_90,\\\n",
    "                   availability_365, calendar_last_scraped, number_of_reviews,\\\n",
    "                   number_of_reviews_ltm, number_of_reviews_l30d, first_review,\\\n",
    "                   last_review, review_scores_rating, review_scores_accuracy,\\\n",
    "                   review_scores_cleanliness, review_scores_checkin,\\\n",
    "                   review_scores_communication, review_scores_location,\\\n",
    "                   review_scores_value, license, instant_bookable,\\\n",
    "                   calculated_host_listings_count,\\\n",
    "                   calculated_host_listings_count_entire_homes,\\\n",
    "                   calculated_host_listings_count_private_rooms,\\\n",
    "                   calculated_host_listings_count_shared_rooms, reviews_per_month, \\\n",
    "                   Distance_Smithsonian, Distance_Lincoln, Distance_Capitol,\\\n",
    "                   Distance_White_House, Distance_Library_Congress, Distance_National_Park,\\\n",
    "                   Distance_National_Zoo, Distance_Railway, Distance_Mcpherson)\\\n",
    "                   values(?, ?, ?, ?, ?, ?, ?, ?, ?, ?, ?, ?, ?, ?, ?, ?, ?, ?, ?,\\\n",
    "                   ?, ?, ?, ?, ?, ?, ?, ?, ?, ?, ?, ?, ?, ?, ?, ?, ?, ?, ?, ?, ?,\\\n",
    "                   ?, ?, ?, ?, ?, ?, ?, ?, ?, ?, ?, ?, ?, ?, ?, ?, ?, ?, ?, ?, ?,\\\n",
    "                   ?, ?, ?, ?, ?, ?, ?, ?, ?, ?, ?, ?, ?, ?, ?, ?, ?, ?, ?, ?, ?, ?, ?, ?)',\n",
    "                   (row[0],row[1], row[2], row[3], row[4], row[5], row[6], row[7],\\\n",
    "                    row[8], row[9], row[10],row[11], row[12], row[13], row[14],\\\n",
    "                    row[15], row[16], row[17], row[18], row[19], row[20],row[21],\\\n",
    "                    row[22], row[23], row[24], row[25], row[26], row[27], row[28],\\\n",
    "                    row[29], row[30], row[31], row[32], row[33], row[34], row[35],\\\n",
    "                    row[36], row[37], row[38], row[39], row[40], row[41], row[42],\\\n",
    "                    row[43], row[44], row[45], row[46], row[47], row[48], row[49],\\\n",
    "                    row[50], row[51], row[52], row[53], row[54], row[55], row[56],\\\n",
    "                    row[57], row[58], row[59], row[60], row[61], row[62], row[63],\\\n",
    "                    row[64], row[65], row[66], row[67], row[68], row[69], row[70],\\\n",
    "                    row[71], row[72], row[73], row[74], row[75], row[76], row[77],\\\n",
    "                    row[78], row[79], row[80], row[81], row[82], row[83], row[84]))"
   ]
  },
  {
   "cell_type": "code",
   "execution_count": null,
   "metadata": {},
   "outputs": [],
   "source": [
    "connection.commit()\n",
    "connection.close()"
   ]
  }
 ],
 "metadata": {
  "kernelspec": {
   "display_name": "Python 3 (ipykernel)",
   "language": "python",
   "name": "python3"
  },
  "language_info": {
   "codemirror_mode": {
    "name": "ipython",
    "version": 3
   },
   "file_extension": ".py",
   "mimetype": "text/x-python",
   "name": "python",
   "nbconvert_exporter": "python",
   "pygments_lexer": "ipython3",
   "version": "3.9.13"
  }
 },
 "nbformat": 4,
 "nbformat_minor": 2
}
